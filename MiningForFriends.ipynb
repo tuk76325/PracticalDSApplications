{
 "cells": [
  {
   "cell_type": "markdown",
   "metadata": {
    "deletable": false,
    "editable": false,
    "nbgrader": {
     "grade": false,
     "locked": true,
     "solution": false
    },
    "tags": [
     "notebook_header"
    ]
   },
   "source": [
    "# Midterm 1, Spring 2023: Mining for Friends #\n",
    "\n",
    "\n",
    "<a href=\"pmt1-28.html\" target=\"_blank\">Solution</a>  \n",
    "_Version history_\n",
    "* 1.2 Ex8: Rephrased note\n",
    "* 1.1 Ex3: Edited output requirements\n",
    "* 1.0 Initial release\n",
    "\n",
    "*All of the header information is important. Please read it.*\n",
    "\n",
    "**Topics, number of exercises:** This problem builds on your knowledge of basic Python data structures, nested data structures, and string manipulation. It has **10** exercises, numbered 0 to **9**. There are **18** available points. However, to earn 100% the threshold is **13** points. _(Therefore, once you hit **13** points, you can stop. There is no extra credit for exceeding this threshold.)_\n",
    "\n",
    "**Exercise ordering:** Each exercise builds logically on previous exercises, but you may solve them in any order. That is, if you can't solve an exercise, you can still move on and try the next one. Use this design to your advantage, as the exercises are **not** necessarily ordered in terms of difficulty. Higher point values generally indicate more difficult exercises. \n",
    "\n",
    "**Demo cells:** Code cells starting with the comment `### define demo inputs` load results from prior exercises applied to the entire data set and use those to build demo inputs. These cells must be run for subsequent demos to work properly, but they do not affect the test cells. The data loaded in these cells may be rather large (at least in terms of human readability). You are free to print or otherwise use Python to explore them, but we did not print them in the starter code.\n",
    "\n",
    "**Debugging you code:** Right before each exercise test cell, there is a block of text explaining the variables available to you for debugging. You may use these to test your code and can print/display them as needed (careful when printing large objects, you may want to print the head or chunks of rows at a time).\n",
    "\n",
    "**Exercise point breakdown:**\n",
    "\n",
    "- Exercise 0: **1** point\n",
    "- Exercise 1: **1** point\n",
    "- Exercise 2: **3** points\n",
    "- Exercise 3: **2** points\n",
    "- Exercise 4: **2** points\n",
    "- Exercise 5: **1** point\n",
    "- Exercise 6: **1** point\n",
    "- Exercise 7: **2** points\n",
    "- Exercise 8: **2** points\n",
    "- Exercise 9: **3** points\n",
    "\n",
    "**Final reminders:** \n",
    "\n",
    "- Submit after completing **every exercise**\n",
    "- Review the generated grade report after you submit to see what errors were returned\n",
    "- Stay calm, skip problems as needed, and take short breaks as needed"
   ]
  },
  {
   "cell_type": "markdown",
   "metadata": {
    "deletable": false,
    "editable": false,
    "nbgrader": {
     "grade": false,
     "locked": true,
     "solution": false
    },
    "tags": [
     "topic_intro"
    ]
   },
   "source": [
    "# Background: Mining for Friends #\n",
    "\n",
    "In this notebook, you will analyze social media data from Twitter and FourSquare. Your ultimate goal will be to help people find others with common interests.\n",
    "\n",
    "The (anonymized) data consists of the following:\n",
    "\n",
    "- A collection of places, or _points of interest_ (POIs), like restaurants, movie theaters, post offices, museums, and so on.\n",
    "- A database of cities.\n",
    "- A collection of _check-ins_, that is, the places that a specific person has visited.\n",
    "- Existing _connections_, that is, \"who follows whom\" type relationships.\n",
    "\n",
    "We will analyze this data and then, by the very last exercise, create a function that can, for a given person, recommend other people they might be compatible with based on their affinity for the same places.\n",
    "\n",
    "Start by running the next cell, which will set up some of the code and data you'll need later."
   ]
  },
  {
   "cell_type": "code",
   "execution_count": 1,
   "metadata": {
    "collapsed": true,
    "deletable": false,
    "editable": false,
    "nbgrader": {
     "grade": false,
     "locked": true,
     "solution": false
    },
    "tags": [
     "global_imports"
    ]
   },
   "outputs": [],
   "source": [
    "### Global Imports\n",
    "###\n",
    "### AUTOGRADER TEST - DO NOT REMOVE\n",
    "###\n",
    "\n",
    "# Some functionality needed by the notebook and demo cells:\n",
    "from pprint import pprint, pformat\n",
    "import math\n",
    "\n",
    "def status_msg(s, time=None):\n",
    "    from datetime import datetime\n",
    "    if time is None:\n",
    "        time = datetime.now()\n",
    "    print(f\"[{time}] {s}\")    \n",
    "\n",
    "def load_json(filename):\n",
    "    from json import load\n",
    "    with open(filename, \"rt\") as fp:\n",
    "        return load(fp)\n",
    "    return None\n",
    "\n",
    "def save_json(filename, obj):\n",
    "    from json import dump\n",
    "    with open(filename, \"w\") as fp:\n",
    "        dump(obj, fp, indent=2)\n",
    "\n",
    "def load_pickle(filename):\n",
    "    from pickle import load\n",
    "    with open(filename, \"rb\") as fp:\n",
    "        return load(fp)\n",
    "    return None\n",
    "\n",
    "def save_pickle(filename, obj):\n",
    "    from pickle import dump\n",
    "    with open(filename, \"wb\") as fp:\n",
    "        dump(obj, fp)\n",
    "\n",
    "def choose_ext(s, ext_map):\n",
    "    for ext in ext_map:\n",
    "        if s[-(len(ext)+1):] == f\".{ext}\":\n",
    "            return ext_map[ext]\n",
    "    return None\n",
    "\n",
    "def load_database(basename, tag=None, sample=None, pathname=\"resource/asnlib/publicdata/\"):\n",
    "    filename = pathname + basename\n",
    "    status_msg(f\"Loading {tag+' ' if tag is not None else ''}[{filename}] ...\")\n",
    "    loader = choose_ext(basename, {'pickle': load_pickle, 'json': load_json})\n",
    "    assert loader is not None, \"*** Unrecognized file extension. ***\"\n",
    "    database = loader(filename)\n",
    "    status_msg(\"... done!\")\n",
    "    print(f\"\\nThis data has {len(database):,} entries.\")\n",
    "    if sample is not None and isinstance(database, dict):\n",
    "        print(\"\\nHere is a sample:\\n\")\n",
    "        pprint({key: database[key] for key in sample})\n",
    "    return database\n",
    "\n",
    "def save_database(database, basename, tag=None, sample=None, pathname=\"resource/asnlib/publicdata/\"):\n",
    "    if sample is not None and isinstance(database, dict):\n",
    "        database = {key: database[key] for key in sample}\n",
    "    print(f\"This data has {len(database):,} entries.\")\n",
    "    filename = pathname + basename\n",
    "    status_msg(f\"\\nSaving {tag+' ' if tag is not None else ''}[{filename}] ...\")\n",
    "    saver = choose_ext(basename, {'pickle': save_pickle, 'json': save_json})\n",
    "    assert saver is not None, \"*** Unrecognized file extension. ***\"\n",
    "    saver(filename, database)\n",
    "    status_msg(\"... done!\")\n",
    "\n",
    "def sample_dict(d, k=1):\n",
    "    \"\"\"Extract a sample of at most `k` key-value pairs from the dictionary `d`.\"\"\"\n",
    "    assert k >= 0, f\"*** The number of samples must be nonnegative (k={k}). ***\"\n",
    "    from random import sample\n",
    "    keys = sample(d.keys(), min(k, len(list(d.keys()))))\n",
    "    return {k: d[k] for k in keys}\n",
    "\n",
    "def sample_safely(x, k):\n",
    "    \"\"\"Returns a set of at most `k` uniform-random samples from `x`.\"\"\"\n",
    "    from random import sample\n",
    "    return set(sample(x, min(k, len(x))))\n",
    "\n",
    "def subset_dict(d, ks):\n",
    "    \"\"\"Returns a subset of the dictionary `d` for the keys `ks`.\"\"\"\n",
    "    return {k: v for k, v in d.items() if k in ks}\n",
    "\n",
    "def enum_map(x):\n",
    "    map_dict = {e: k for k, e in enumerate(x)}\n",
    "    return lambda i: map_dict[i]\n",
    "\n",
    "def remap_dict(d, map_key=lambda k: k, map_val=lambda k: k):\n",
    "    \"\"\"Relabel the key-value pairs of a dictionary.\"\"\"\n",
    "    assert len(set(map_key(k) for k in d.keys())) == len(d.keys()), '*** `map_key` is not one to one ***'\n",
    "#    assert len(set(map_val(k) for k in d.values())) == len(d.values()), '*** `map_val` is not one to one ***'\n",
    "    return {map_key(k): map_val(v) for k, v in d.items()}\n",
    "\n",
    "def remap_set(s, map_fun=lambda e: e):\n",
    "    \"\"\"Relabel the elements of a set.\"\"\"\n",
    "    s_new = {map_fun(e) for e in s}\n",
    "    assert len(s_new) == len(s), \"*** `map_fun` is not one to one ***\"\n",
    "    return s_new"
   ]
  },
  {
   "cell_type": "markdown",
   "metadata": {
    "deletable": false,
    "editable": false,
    "nbgrader": {
     "grade": false,
     "locked": true,
     "solution": false
    }
   },
   "source": [
    "# Part A: Points-of-interest and cities #\n",
    "\n",
    "The first part of the dataset consists of **points-of-interest** or **POIs**. A POI is a place that a person can visit.\n",
    "\n",
    "Run this code cell to load the dataset of POIs."
   ]
  },
  {
   "cell_type": "code",
   "execution_count": 2,
   "metadata": {
    "deletable": false,
    "editable": false,
    "nbgrader": {
     "grade": false,
     "locked": true,
     "solution": false
    }
   },
   "outputs": [
    {
     "name": "stdout",
     "output_type": "stream",
     "text": [
      "[2024-11-07 02:11:10.125149] Loading points-of-interest (POIs) [resource/asnlib/publicdata/pois.pickle] ...\n",
      "[2024-11-07 02:11:10.983673] ... done!\n",
      "\n",
      "This data has 643,853 entries.\n",
      "\n",
      "Here is a sample:\n",
      "\n",
      "{'4d24cfc22ac6f04d13473845': {'country_code': 'BR',\n",
      "                              'lat': -22.733382,\n",
      "                              'long': -45.12249,\n",
      "                              'type': 'University'},\n",
      " '4d52b314d7eaa1434b90810f': {'country_code': 'TR',\n",
      "                              'lat': 41.022555,\n",
      "                              'long': 29.117048,\n",
      "                              'type': 'Automotive Shop'},\n",
      " '4f4f5309771648ea92a4bc21': {'country_code': 'TR',\n",
      "                              'lat': 36.972507,\n",
      "                              'long': 35.046473,\n",
      "                              'type': 'Turkish Restaurant'}}\n"
     ]
    }
   ],
   "source": [
    "pois = load_database('pois.pickle',\n",
    "                     tag=\"points-of-interest (POIs)\",\n",
    "                     sample=['4f4f5309771648ea92a4bc21', '4d52b314d7eaa1434b90810f', '4d24cfc22ac6f04d13473845'])"
   ]
  },
  {
   "cell_type": "markdown",
   "metadata": {
    "deletable": false,
    "editable": false,
    "nbgrader": {
     "grade": false,
     "locked": true,
     "solution": false
    }
   },
   "source": [
    "There are over half-a-million POIs. Each one is stored as a key-value pair where\n",
    "- the key is the **POI's ID**; and\n",
    "- the value holds the **POI's attributes**, stored as another Python dictionary.\n",
    "\n",
    "In the sample above, there are three POIs, each one with four attributes.\n",
    "- **`'country_code'`**: A two-letter country code indicating in which country the POI is located. In this example, one is in Brazil (`'BR'`) and two in Turkey (`'TR'`).\n",
    "- **`'lat'` and `'long'`**: The latitude and longitude coordinates of the POI.\n",
    "- **`'type'`**: The type of POI. We see three types in this example: a `'University'`, a `'Automotive Shop'`, and a `'Turkish Restaurant'`."
   ]
  },
  {
   "cell_type": "markdown",
   "metadata": {
    "deletable": false,
    "editable": false,
    "nbgrader": {
     "grade": false,
     "locked": true,
     "solution": false
    },
    "tags": [
     "exercise_text"
    ]
   },
   "source": [
    "## Exercise 0 (**1** point): `find_food_and_drink_types` ##\n",
    "\n",
    "To practice inspecting the POIs, suppose we want to find types of POIs that are associated with restaurants, bars, and the like. Implement the function,\n",
    "```python\n",
    "def find_food_and_drink_types(pois):\n",
    "    ...\n",
    "```\n",
    "to accomplish this task.\n",
    "\n",
    "**Inputs:** A collection of POIs as shown above, given as a Python dictionary of dictionaries.\n",
    "\n",
    "**Task:** For each POI type, which is a string, split the string into \"words\" using whitespace as a delimiter.\n",
    "\n",
    "Compare each word to the target list, below. Consider the word a \"match\" if it is exactly the same except for case. (So `'Food'` and `'FOOD'` match `'food'`, but `'foods'` and `'food'` do not match.)\n",
    "\n",
    "The target words are:\n",
    "```\n",
    "'bar', 'bars', 'beer', 'brewery', 'cafe', 'cafes', 'coffee',\n",
    "'cocktail', 'cocktails', 'drink', 'drinks', 'food',\n",
    "'restaurant', 'restaurants', 'sake', 'tea', 'wine',\n",
    "'whisky', 'whiskey'\n",
    "```\n",
    "\n",
    "**Outputs:** Return a Python set containing types whose words matched the target list. The case of the returned types should match the originals _exactly_, including case. (See the demo.)"
   ]
  },
  {
   "cell_type": "code",
   "execution_count": 3,
   "metadata": {
    "collapsed": true,
    "deletable": false,
    "editable": false,
    "nbgrader": {
     "grade": false,
     "locked": true,
     "solution": false
    },
    "tags": [
     "demo_data"
    ]
   },
   "outputs": [],
   "source": [
    "# Demo input:\n",
    "demo_pois_ex0 = {'4c0e251bb1b676b0f788e186': {\n",
    "                     'country_code': 'AT',\n",
    "                     'lat': 48.257386,\n",
    "                     'long': 16.400122,\n",
    "                     'type': 'Fast Food Restaurant'},\n",
    "                 '4c247550b012b713167d0893': {\n",
    "                     'country_code': 'HR',\n",
    "                     'lat': 45.347616,\n",
    "                     'long': 14.300922,\n",
    "                     'type': 'Pool'},                     \n",
    "                 '4fa3c7ade4b0f90206220bbf': {\n",
    "                     'country_code': 'KR',\n",
    "                     'lat': 37.545866,\n",
    "                     'long': 127.122266,\n",
    "                     'type': 'Bike Shop'}}"
   ]
  },
  {
   "cell_type": "markdown",
   "metadata": {
    "deletable": false,
    "editable": false,
    "nbgrader": {
     "grade": false,
     "locked": true,
     "solution": false
    },
    "tags": [
     "demo_output_md"
    ]
   },
   "source": [
    "<!-- Expected demo output text block -->\n",
    "If `demo_pois_ex0` (above) is the input, then `find_food_and_drink_types(demo_pois_ex0)` should produce:\n",
    "```\n",
    "{'Fast Food Restaurant'}\n",
    "```\n",
    "<!-- Include any shout outs here -->"
   ]
  },
  {
   "cell_type": "code",
   "execution_count": 4,
   "metadata": {
    "tags": [
     "exercise_solution"
    ]
   },
   "outputs": [
    {
     "data": {
      "text/plain": [
       "{'Fast Food Restaurant'}"
      ]
     },
     "execution_count": 4,
     "metadata": {},
     "output_type": "execute_result"
    }
   ],
   "source": [
    "### Exercise 0 solution\n",
    "def find_food_and_drink_types(pois):\n",
    "    ###\n",
    "    targetWords = {'bar', 'bars', 'beer', 'brewery', 'cafe', 'cafes', 'coffee',\n",
    "    'cocktail', 'cocktails', 'drink', 'drinks', 'food',\n",
    "    'restaurant', 'restaurants', 'sake', 'tea', 'wine',\n",
    "    'whisky', 'whiskey'}\n",
    "    finalSet = set()\n",
    "    \n",
    "    for key in pois:\n",
    "        splitted = pois[key]['type'].split(' ')\n",
    "        for i in splitted:\n",
    "            \n",
    "            for target in targetWords:\n",
    "                if i.lower() == target.lower():\n",
    "                    finalSet.add(pois[key]['type'])\n",
    "    return finalSet\n",
    "    ###\n",
    "    \n",
    "### demo function call\n",
    "find_food_and_drink_types(demo_pois_ex0)"
   ]
  },
  {
   "cell_type": "markdown",
   "metadata": {
    "deletable": false,
    "editable": false,
    "nbgrader": {
     "grade": false,
     "locked": true,
     "solution": false
    },
    "tags": [
     "test_data_boilerplate"
    ]
   },
   "source": [
    "<!-- Test Cell Boilerplate -->\n",
    "The cell below will test your solution for Exercise 0. The testing variables will be available for debugging under the following names in a dictionary format.\n",
    "- `input_vars` - Input variables for your solution. \n",
    "- `original_input_vars` - Copy of input variables from prior to running your solution. These _should_ be the same as `input_vars` - otherwise the inputs were modified by your solution.\n",
    "- `returned_output_vars` - Outputs returned by your solution.\n",
    "- `true_output_vars` - The expected output. This _should_ \"match\" `returned_output_vars` based on the question requirements - otherwise, your solution is not returning the correct output. "
   ]
  },
  {
   "cell_type": "code",
   "execution_count": 5,
   "metadata": {
    "deletable": false,
    "editable": false,
    "nbgrader": {
     "grade": true,
     "grade_id": "ex0",
     "locked": true,
     "points": "1",
     "solution": false
    },
    "tags": []
   },
   "outputs": [
    {
     "name": "stdout",
     "output_type": "stream",
     "text": [
      "Passed! Please submit.\n"
     ]
    }
   ],
   "source": [
    "### test_cell_ex0\n",
    "###\n",
    "### AUTOGRADER TEST - DO NOT REMOVE\n",
    "###\n",
    "from tester_fw.testers import Tester\n",
    "\n",
    "conf = {\n",
    "    'case_file':'tc_0', \n",
    "    'func': find_food_and_drink_types, # replace this with the function defined above\n",
    "    'inputs':{ # input config dict. keys are parameter names\n",
    "        'pois':{\n",
    "            'dtype':'dict', # data type of param.\n",
    "            'check_modified':True,\n",
    "        }\n",
    "    },\n",
    "    'outputs':{\n",
    "        'output_0':{\n",
    "            'index':0,\n",
    "            'dtype':'set',\n",
    "            'check_dtype': True,\n",
    "            'check_col_dtypes': True, # Ignored if dtype is not df\n",
    "            'check_col_order': True, # Ignored if dtype is not df\n",
    "            'check_row_order': True, # Ignored if dtype is not df\n",
    "            'check_column_type': True, # Ignored if dtype is not df\n",
    "            'float_tolerance': 10 ** (-6)\n",
    "        }\n",
    "    }\n",
    "}\n",
    "tester = Tester(conf, key=b'1ZePXzAcTR7lcNpmx1HRK0lT3v-Ikrg8mZ3n-wVFTBo=', path='resource/asnlib/publicdata/')\n",
    "for _ in range(70):\n",
    "    try:\n",
    "        tester.run_test()\n",
    "        (input_vars, original_input_vars, returned_output_vars, true_output_vars) = tester.get_test_vars()\n",
    "    except:\n",
    "        (input_vars, original_input_vars, returned_output_vars, true_output_vars) = tester.get_test_vars()\n",
    "        raise\n",
    "\n",
    "###\n",
    "### AUTOGRADER TEST - DO NOT REMOVE\n",
    "###\n",
    "print('Passed! Please submit.')"
   ]
  },
  {
   "cell_type": "markdown",
   "metadata": {
    "deletable": false,
    "editable": false,
    "nbgrader": {
     "grade": false,
     "locked": true,
     "solution": false
    }
   },
   "source": [
    "**RUN ME: Food and drink types:** If you had a correct solution, you could use it to determine the food and drink types. We have precomputed this list for you, and here are the results. **Run this cell whether or not you completed Exercise 0.**"
   ]
  },
  {
   "cell_type": "code",
   "execution_count": 6,
   "metadata": {
    "deletable": false,
    "editable": false,
    "nbgrader": {
     "grade": false,
     "locked": true,
     "solution": false
    }
   },
   "outputs": [
    {
     "name": "stdout",
     "output_type": "stream",
     "text": [
      "[2024-11-07 02:11:11.866530] Loading [resource/asnlib/publicdata/food_and_drink_types.pickle] ...\n",
      "[2024-11-07 02:11:11.875079] ... done!\n",
      "\n",
      "This data has 81 entries.\n",
      "\n",
      "There are 81 types that match the food and drink keywords. They are:\n",
      "{'Filipino Restaurant', 'Dive Bar', 'Sports Bar', 'Peruvian Restaurant', 'Brazilian Restaurant', 'Airport Food Court', 'Health Food Store', 'Mediterranean Restaurant', 'Mongolian Restaurant', 'Wine Shop', 'Tea Room', 'Gluten-free Restaurant', 'Gaming Cafe', 'Scandinavian Restaurant', 'Dumpling Restaurant', 'Greek Restaurant', 'Ethiopian Restaurant', 'Hookah Bar', 'Turkish Restaurant', 'Restaurant', 'Asian Restaurant', 'Southern / Soul Food Restaurant', 'Latin American Restaurant', 'Molecular Gastronomy Restaurant', 'Beer Garden', 'Arepa Restaurant', 'Vegetarian / Vegan Restaurant', 'Cuban Restaurant', 'Seafood Restaurant', 'Portuguese Restaurant', 'Swiss Restaurant', 'Eastern European Restaurant', 'Mexican Restaurant', 'Malaysian Restaurant', 'Argentinian Restaurant', 'Falafel Restaurant', 'Indonesian Restaurant', 'Gay Bar', 'Moroccan Restaurant', 'French Restaurant', 'Thai Restaurant', 'German Restaurant', 'New American Restaurant', 'Cafe', 'Spanish Restaurant', 'Cocktail Bar', 'African Restaurant', 'American Restaurant', 'Caribbean Restaurant', 'Food Court', 'Australian Restaurant', 'Piano Bar', 'Brewery', 'Food', 'Dim Sum Restaurant', 'Japanese Restaurant', 'Karaoke Bar', 'Food Truck', 'Food & Drink Shop', 'Hotel Bar', 'Afghan Restaurant', 'Middle Eastern Restaurant', 'Chinese Restaurant', 'Juice Bar', 'Sushi Restaurant', 'South American Restaurant', 'Internet Cafe', 'Korean Restaurant', 'Bar', 'Apres Ski Bar', 'Vietnamese Restaurant', 'Whisky Bar', 'Tapas Restaurant', 'Paella Restaurant', 'Indian Restaurant', 'Wine Bar', 'Fast Food Restaurant', 'Italian Restaurant', 'Sake Bar', 'Cajun / Creole Restaurant', 'Coffee Shop'}\n"
     ]
    }
   ],
   "source": [
    "food_and_drink_types = load_database('food_and_drink_types.pickle')\n",
    "print(f\"\\nThere are {len(food_and_drink_types):,} types that match the food and drink keywords. They are:\")\n",
    "print(food_and_drink_types)"
   ]
  },
  {
   "cell_type": "markdown",
   "metadata": {
    "deletable": false,
    "editable": false,
    "nbgrader": {
     "grade": false,
     "locked": true,
     "solution": false
    }
   },
   "source": [
    "# Part B: Cities #\n",
    "\n",
    "A second component of the dataset is a collection of **city records**. Run the following cell to load it."
   ]
  },
  {
   "cell_type": "code",
   "execution_count": 7,
   "metadata": {
    "deletable": false,
    "editable": false,
    "nbgrader": {
     "grade": false,
     "locked": true,
     "solution": false
    }
   },
   "outputs": [
    {
     "name": "stdout",
     "output_type": "stream",
     "text": [
      "[2024-11-07 02:11:11.948509] Loading cities [resource/asnlib/publicdata/cities.pickle] ...\n",
      "[2024-11-07 02:11:11.958289] ... done!\n",
      "\n",
      "This data has 415 entries.\n",
      "\n",
      "Here is a sample:\n",
      "\n",
      "{'Beijing, China': {'country_code': 'CN',\n",
      "                    'lat': 39.906189,\n",
      "                    'long': 116.388037,\n",
      "                    'type': 'National and provincial capital'},\n",
      " 'Hartford, United States': {'country_code': 'US',\n",
      "                             'lat': 41.76,\n",
      "                             'long': -72.702999,\n",
      "                             'type': 'Provincial capital'},\n",
      " 'Stockholm, Sweden': {'country_code': 'SE',\n",
      "                       'lat': 59.331168,\n",
      "                       'long': 17.991451,\n",
      "                       'type': 'National and provincial capital'}}\n"
     ]
    }
   ],
   "source": [
    "cities = load_database('cities.pickle',\n",
    "                       tag=\"cities\",\n",
    "                       sample = [\"Beijing, China\", \"Hartford, United States\", \"Stockholm, Sweden\"])"
   ]
  },
  {
   "cell_type": "markdown",
   "metadata": {
    "deletable": false,
    "editable": false,
    "nbgrader": {
     "grade": false,
     "locked": true,
     "solution": false
    }
   },
   "source": [
    "Each city record is a key-value pair. The key is the **city name**, and the value is a dictionary of **city attributes**. The attributes are a two-letter country code, the latitude and longitude coordinates of the city center, and the type of city.\n",
    "\n",
    "In this example, there are three cities: `'Beijing, China'`, `'Hartford, United States'`, and `'Stockholm, Sweden'`."
   ]
  },
  {
   "cell_type": "markdown",
   "metadata": {
    "deletable": false,
    "editable": false,
    "nbgrader": {
     "grade": false,
     "locked": true,
     "solution": false
    }
   },
   "source": [
    "**Important!** Both the POIs and the cities are dictionaries of dictionaries, where in both cases the _outer_ dictionary's key-value pairs define a record, and the inner dictionaries have the keys, `'country_code'`, `'lat'`, `'long'`, and `'type'`."
   ]
  },
  {
   "cell_type": "markdown",
   "metadata": {
    "deletable": false,
    "editable": false,
    "nbgrader": {
     "grade": false,
     "locked": true,
     "solution": false
    },
    "tags": [
     "exercise_text"
    ]
   },
   "source": [
    "## Exercise 1 (**1** point): `get_common_ccs` ##\n",
    "\n",
    "Suppose we wish to determine which countries exist in **both** the POIs data **and** the cities data. Implement the function,\n",
    "```python\n",
    "def get_common_ccs(pois, cities):\n",
    "    ...\n",
    "```\n",
    "to complete this task.\n",
    "\n",
    "**Inputs:**\n",
    "- `pois`: POIs, stored in a Python dictionary of dictionaries, mapping POI IDs keys to attribute values (like earlier examples)\n",
    "- `cities`: City records, stored in a Python dictionary of dictionaries, mapping city names to attribute values (like earlier examples)\n",
    "\n",
    "You may assume that the inner dictionaries have the same four keys: `'country_code'`, `'lat'`, `'long'`, and `'type'`.\n",
    "\n",
    "**Task:** Identify all country codes that exist in `pois` and in `cities`.\n",
    "\n",
    "**Outputs:** Return a new **Python set** consisting of the common country codes."
   ]
  },
  {
   "cell_type": "code",
   "execution_count": 8,
   "metadata": {
    "collapsed": true,
    "deletable": false,
    "editable": false,
    "nbgrader": {
     "grade": false,
     "locked": true,
     "solution": false
    },
    "tags": [
     "demo_data"
    ]
   },
   "outputs": [],
   "source": [
    "### DEMO INPUTS ###\n",
    "demo_pois_ex1 = \\\n",
    "    {'abc': {'country_code': 'US', 'lat': -5.2, 'long': 2.0, 'type': 'Restaurant'},\n",
    "     'def': {'country_code': 'US', 'lat': -2.3, 'long': 6.8, 'type': 'Golf Course'},\n",
    "     'ghi': {'country_code': 'PL', 'lat': 1.0, 'long': 6.5, 'type': 'Apartment'},\n",
    "     'jkl': {'country_code': 'VN', 'lat': 11.0, 'long': 1.5, 'type': 'Post Office'}}\n",
    "\n",
    "demo_cities_ex1 = \\\n",
    "    {'Seattle, United States': {'country_code': 'US', 'lat': -5.0, 'long': 3.0, 'type': 'Other'},\n",
    "     'Richmond, United States': {'country_code': 'US', 'lat': -2.0, 'long': 7.0, 'type': 'Other'},\n",
    "     'Hanoi, Vietnam': {'country_code': 'VN', 'lat': 10.0, 'long': 2.0, 'type': 'National and provincial capital'},\n",
    "     'Curitiba, Brazil': {'country_code': 'BR', 'lat': 0.0, 'long': 6.0, 'type': 'Provincial capital'}}"
   ]
  },
  {
   "cell_type": "markdown",
   "metadata": {
    "deletable": false,
    "editable": false,
    "nbgrader": {
     "grade": false,
     "locked": true,
     "solution": false
    },
    "tags": [
     "demo_output_md"
    ]
   },
   "source": [
    "<!-- Expected demo output text block -->\n",
    "When a correct implementation runs on the demo inputs, it should return\n",
    "```\n",
    "{'US', 'VN'}\n",
    "```\n",
    "<!-- Include any shout outs here -->\n",
    "The POI `'PL'` does **not** appear in the output since it exists in `pois` but **not** in `cities`."
   ]
  },
  {
   "cell_type": "code",
   "execution_count": 9,
   "metadata": {
    "tags": [
     "exercise_solution"
    ]
   },
   "outputs": [
    {
     "data": {
      "text/plain": [
       "{'US', 'VN'}"
      ]
     },
     "execution_count": 9,
     "metadata": {},
     "output_type": "execute_result"
    }
   ],
   "source": [
    "### Exercise 1 solution\n",
    "def get_common_ccs(pois, cities):\n",
    "    ###\n",
    "    set1 = set()\n",
    "    set2 = set()\n",
    "    \n",
    "    for code in pois:\n",
    "        set1.add(pois[code]['country_code'])\n",
    "\n",
    "    for code in cities:\n",
    "        set2.add(cities[code]['country_code'])\n",
    "    \n",
    "    finalSet = set1.intersection(set2)\n",
    "    \n",
    "    return finalSet\n",
    "    ###\n",
    "\n",
    "### demo function call\n",
    "get_common_ccs(demo_pois_ex1, demo_cities_ex1)"
   ]
  },
  {
   "cell_type": "markdown",
   "metadata": {
    "deletable": false,
    "editable": false,
    "nbgrader": {
     "grade": false,
     "locked": true,
     "solution": false
    },
    "tags": [
     "test_data_boilerplate"
    ]
   },
   "source": [
    "<!-- Test Cell Boilerplate -->\n",
    "The cell below will test your solution for Exercise 1. The testing variables will be available for debugging under the following names in a dictionary format.\n",
    "- `input_vars` - Input variables for your solution. \n",
    "- `original_input_vars` - Copy of input variables from prior to running your solution. These _should_ be the same as `input_vars` - otherwise the inputs were modified by your solution.\n",
    "- `returned_output_vars` - Outputs returned by your solution.\n",
    "- `true_output_vars` - The expected output. This _should_ \"match\" `returned_output_vars` based on the question requirements - otherwise, your solution is not returning the correct output. "
   ]
  },
  {
   "cell_type": "code",
   "execution_count": 10,
   "metadata": {
    "deletable": false,
    "editable": false,
    "nbgrader": {
     "grade": true,
     "grade_id": "ex1",
     "locked": true,
     "points": "1",
     "solution": false
    },
    "tags": []
   },
   "outputs": [
    {
     "name": "stdout",
     "output_type": "stream",
     "text": [
      "Passed! Please submit.\n"
     ]
    }
   ],
   "source": [
    "### test_cell_ex1\n",
    "###\n",
    "### AUTOGRADER TEST - DO NOT REMOVE\n",
    "###\n",
    "from tester_fw.testers import Tester\n",
    "\n",
    "conf = {\n",
    "    'case_file':'tc_1', \n",
    "    'func': get_common_ccs, # replace this with the function defined above\n",
    "    'inputs':{ # input config dict. keys are parameter names\n",
    "        'pois':{\n",
    "            'dtype':'dict', # data type of param.\n",
    "            'check_modified':True,\n",
    "        },\n",
    "        'cities':{\n",
    "            'dtype':'dict',\n",
    "            'check_modified':True,\n",
    "        },\n",
    "    },\n",
    "    'outputs':{\n",
    "        'output_0':{\n",
    "            'index':0,\n",
    "            'dtype':'set',\n",
    "            'check_dtype': True,\n",
    "            'check_col_dtypes': True, # Ignored if dtype is not df\n",
    "            'check_col_order': True, # Ignored if dtype is not df\n",
    "            'check_row_order': True, # Ignored if dtype is not df\n",
    "            'check_column_type': True, # Ignored if dtype is not df\n",
    "            'float_tolerance': 10 ** (-6)\n",
    "        }\n",
    "    }\n",
    "}\n",
    "tester = Tester(conf, key=b'1ZePXzAcTR7lcNpmx1HRK0lT3v-Ikrg8mZ3n-wVFTBo=', path='resource/asnlib/publicdata/')\n",
    "for _ in range(70):\n",
    "    try:\n",
    "        tester.run_test()\n",
    "        (input_vars, original_input_vars, returned_output_vars, true_output_vars) = tester.get_test_vars()\n",
    "    except:\n",
    "        (input_vars, original_input_vars, returned_output_vars, true_output_vars) = tester.get_test_vars()\n",
    "        raise\n",
    "\n",
    "###\n",
    "### AUTOGRADER TEST - DO NOT REMOVE\n",
    "###\n",
    "print('Passed! Please submit.')"
   ]
  },
  {
   "cell_type": "markdown",
   "metadata": {
    "deletable": false,
    "editable": false,
    "nbgrader": {
     "grade": false,
     "locked": true,
     "solution": false
    },
    "tags": [
     "exercise_text"
    ]
   },
   "source": [
    "## Exercise 2 (**3** points): `proximity_join` ##\n",
    "\n",
    "POI records only have lat-long coordinates. To make their locations more user-friendly, let's associate each POI with its closest city in the same country.\n",
    "\n",
    "Implement the function,\n",
    "```python\n",
    "def proxmity_join(pois, cities):\n",
    "    ...\n",
    "```\n",
    "to help accomplish this task, following the requirements below.\n",
    "\n",
    "**Inputs:**\n",
    "\n",
    "- `pois`: POIs, stored in a Python dictionary of dictionaries, mapping POI IDs keys to attribute values (like Exercise 1)\n",
    "- `cities`: City records, stored in a Python dictionary of dictionaries, mapping city names to attribute values (like Exercise 1)\n",
    "\n",
    "You may assume that the inner dictionaries of both have the same four keys: `'country_code'`, `'lat'`, `'long'`, and `'type'`.\n",
    "\n",
    "**Task:** For each POI record, determine which city is _closest_ to it. The closest city must be in the same country (the `'country_code'` values must match).\n",
    "\n",
    "To measure distance, use the _squared Euclidean distance_. That is, if a POI record has the lat-long coordinates $(h_p, v_p)$, and a city record has the lat-long coordinates $(h_c, v_c)$, then their squared Euclidean distance is\n",
    "\n",
    "$$(h_p - h_c)^2 + (v_p - v_c)^2.$$\n",
    "\n",
    "**Outputs:** Your function should return a **new Python dictionary of dictionaries**. The outer dictionary's keys should be the same POI IDs. The inner dictionary should have exactly two keys: `'type'`, which is the **POI type** (not the _city type_), and `'city'`, which is the name of the closest city. See the demo below.\n",
    "\n",
    "**Notes and hints:**\n",
    "1. Recall that the IEEE floating-point standard defines a special value that corresponds with infinity. This value is available in Python as `math.inf`, and it may be a helpful initializer as you search for the closest city to a given POI.\n",
    "2. We have provided a function, `dd_distance_squared`, that will compute the squared Euclidean distance given the attributes of a POI and the attributes of a city."
   ]
  },
  {
   "cell_type": "code",
   "execution_count": 11,
   "metadata": {
    "collapsed": true,
    "deletable": false,
    "editable": false,
    "nbgrader": {
     "grade": false,
     "locked": true,
     "solution": false
    },
    "tags": [
     "demo_data"
    ]
   },
   "outputs": [],
   "source": [
    "### DEMO INPUTS ###\n",
    "demo_pois_ex2 = \\\n",
    "    {'abc': {'country_code': 'US', 'lat': -5.2, 'long': 2.0, 'type': 'Restaurant'},\n",
    "     'def': {'country_code': 'US', 'lat': -2.3, 'long': 6.8, 'type': 'Golf Course'},\n",
    "     'ghi': {'country_code': 'PL', 'lat': 1.0, 'long': 6.5, 'type': 'Apartment'},\n",
    "     'jkl': {'country_code': 'VN', 'lat': 11.0, 'long': 1.5, 'type': 'Post Office'}}\n",
    "\n",
    "demo_cities_ex2 = \\\n",
    "    {'Seattle, United States': {'country_code': 'US', 'lat': -5.0, 'long': 3.0, 'type': 'Other'},\n",
    "     'Richmond, United States': {'country_code': 'US', 'lat': -2.0, 'long': 7.0, 'type': 'Other'},\n",
    "     'Hanoi, Vietnam': {'country_code': 'VN', 'lat': 10.0, 'long': 2.0, 'type': 'National and provincial capital'},\n",
    "     'Curitiba, Brazil': {'country_code': 'BR', 'lat': 0.0, 'long': 6.0, 'type': 'Provincial capital'}}"
   ]
  },
  {
   "cell_type": "markdown",
   "metadata": {
    "deletable": false,
    "editable": false,
    "nbgrader": {
     "grade": false,
     "locked": true,
     "solution": false
    },
    "tags": [
     "demo_output_md"
    ]
   },
   "source": [
    "<!-- Expected demo output text block -->\n",
    "The demo included in the solution cell below should display the following output:\n",
    "```\n",
    "{'abc': {'type': 'Restaurant', 'city': 'Seattle, United States'},\n",
    " 'def': {'type': 'Golf Course', 'city': 'Richmond, United States'},\n",
    " 'jkl': {'type': 'Post Office', 'city': 'Hanoi, Vietnam'}}\n",
    " ```\n",
    "<!-- Include any shout outs here -->\n",
    "\n",
    "Observe that the POI `'ghi'` does **not** appear in the output. That's because its country code, `'PL'`, does not match any country code of any city."
   ]
  },
  {
   "cell_type": "code",
   "execution_count": 12,
   "metadata": {
    "tags": [
     "exercise_solution"
    ]
   },
   "outputs": [
    {
     "data": {
      "text/plain": [
       "defaultdict(dict,\n",
       "            {'abc': {'type': 'Restaurant', 'city': 'Seattle, United States'},\n",
       "             'def': {'type': 'Golf Course', 'city': 'Richmond, United States'},\n",
       "             'jkl': {'type': 'Post Office', 'city': 'Hanoi, Vietnam'}})"
      ]
     },
     "execution_count": 12,
     "metadata": {},
     "output_type": "execute_result"
    }
   ],
   "source": [
    "### Exercise 2 solution\n",
    "from collections import defaultdict\n",
    "def proximity_join(pois, cities):\n",
    "    ###\n",
    "#     print(pois)\n",
    "#     print(\"------------------------------------------------------------------\")\n",
    "#     print(cities)\n",
    "    finalDict = defaultdict(dict)\n",
    "    trueFinalDict = defaultdict(dict)\n",
    "    \n",
    "    for key in pois:\n",
    "#         finalDict[key]\n",
    "#         finalDict[key]['type'] = pois[key]['type']\n",
    "        for cityKey in cities:\n",
    "            if pois[key]['country_code'] == cities[cityKey]['country_code'] and len(finalDict[key].keys())==3:\n",
    "                if dd_distance_squared(pois[key], cities[cityKey]) < finalDict[key]['SS Score']:\n",
    "                    finalDict[key]\n",
    "                    SS = dd_distance_squared(pois[key], cities[cityKey])\n",
    "                    finalDict[key]['type'] = pois[key]['type']\n",
    "                    finalDict[key]['city'] = cityKey\n",
    "                    finalDict[key]['SS Score'] = SS\n",
    "                    \n",
    "            elif pois[key]['country_code'] == cities[cityKey]['country_code']:\n",
    "                finalDict[key]\n",
    "                SS = dd_distance_squared(pois[key], cities[cityKey])\n",
    "                finalDict[key]['type'] = pois[key]['type']\n",
    "                finalDict[key]['city'] = cityKey\n",
    "                finalDict[key]['SS Score'] = SS\n",
    "    \n",
    "    for key in finalDict:\n",
    "        trueFinalDict[key]['type'] = finalDict[key]['type']\n",
    "        trueFinalDict[key]['city'] = finalDict[key]['city']\n",
    "        \n",
    "    return trueFinalDict\n",
    "    ###\n",
    "    \n",
    "# Handy function to calculate the distance between one POI and one city:\n",
    "def dd_distance_squared(poi_attr, city_attr):\n",
    "    p_lat, p_long = poi_attr['lat'], poi_attr['long']\n",
    "    c_lat, c_long = city_attr['lat'], city_attr['long']\n",
    "    return (p_lat - c_lat)**2 + (p_long - c_long)**2\n",
    "\n",
    "### demo function call\n",
    "proximity_join(demo_pois_ex2, demo_cities_ex2)"
   ]
  },
  {
   "cell_type": "markdown",
   "metadata": {
    "deletable": false,
    "editable": false,
    "nbgrader": {
     "grade": false,
     "locked": true,
     "solution": false
    },
    "tags": [
     "test_data_boilerplate"
    ]
   },
   "source": [
    "<!-- Test Cell Boilerplate -->\n",
    "The cell below will test your solution for Exercise 2. The testing variables will be available for debugging under the following names in a dictionary format.\n",
    "- `input_vars` - Input variables for your solution. \n",
    "- `original_input_vars` - Copy of input variables from prior to running your solution. These _should_ be the same as `input_vars` - otherwise the inputs were modified by your solution.\n",
    "- `returned_output_vars` - Outputs returned by your solution.\n",
    "- `true_output_vars` - The expected output. This _should_ \"match\" `returned_output_vars` based on the question requirements - otherwise, your solution is not returning the correct output. "
   ]
  },
  {
   "cell_type": "code",
   "execution_count": 13,
   "metadata": {
    "deletable": false,
    "editable": false,
    "nbgrader": {
     "grade": true,
     "grade_id": "ex2",
     "locked": true,
     "points": "3",
     "solution": false
    },
    "tags": []
   },
   "outputs": [
    {
     "name": "stdout",
     "output_type": "stream",
     "text": [
      "Passed! Please submit.\n"
     ]
    }
   ],
   "source": [
    "### test_cell_ex2\n",
    "###\n",
    "### AUTOGRADER TEST - DO NOT REMOVE\n",
    "###\n",
    "from tester_fw.testers import Tester\n",
    "\n",
    "conf = {\n",
    "    'case_file':'tc_2', \n",
    "    'func': proximity_join, # replace this with the function defined above\n",
    "    'inputs':{ # input config dict. keys are parameter names\n",
    "        'pois':{\n",
    "            'dtype':'dict', # data type of param.\n",
    "            'check_modified':True,\n",
    "        },\n",
    "        'cities':{\n",
    "            'dtype':'dict',\n",
    "            'check_modified':True,\n",
    "        },\n",
    "    },\n",
    "    'outputs':{\n",
    "        'output_0':{\n",
    "            'index':0,\n",
    "            'dtype':'dict',\n",
    "            'check_dtype': True,\n",
    "            'check_col_dtypes': True, # Ignored if dtype is not df\n",
    "            'check_col_order': True, # Ignored if dtype is not df\n",
    "            'check_row_order': True, # Ignored if dtype is not df\n",
    "            'check_column_type': True, # Ignored if dtype is not df\n",
    "            'float_tolerance': 10 ** (-6)\n",
    "        }\n",
    "    }\n",
    "}\n",
    "tester = Tester(conf, key=b'1ZePXzAcTR7lcNpmx1HRK0lT3v-Ikrg8mZ3n-wVFTBo=', path='resource/asnlib/publicdata/')\n",
    "for _ in range(70):\n",
    "    try:\n",
    "        tester.run_test()\n",
    "        (input_vars, original_input_vars, returned_output_vars, true_output_vars) = tester.get_test_vars()\n",
    "    except:\n",
    "        (input_vars, original_input_vars, returned_output_vars, true_output_vars) = tester.get_test_vars()\n",
    "        raise\n",
    "\n",
    "###\n",
    "### AUTOGRADER TEST - DO NOT REMOVE\n",
    "###\n",
    "print('Passed! Please submit.')"
   ]
  },
  {
   "cell_type": "markdown",
   "metadata": {
    "deletable": false,
    "editable": false,
    "nbgrader": {
     "grade": false,
     "locked": true,
     "solution": false
    }
   },
   "source": [
    "# Part C: Check-ins #\n",
    "\n",
    "The next part of the dataset consists of **check-in records**. Run the cell below to load this data."
   ]
  },
  {
   "cell_type": "code",
   "execution_count": 14,
   "metadata": {
    "deletable": false,
    "editable": false,
    "nbgrader": {
     "grade": false,
     "locked": true,
     "solution": false
    }
   },
   "outputs": [
    {
     "name": "stdout",
     "output_type": "stream",
     "text": [
      "[2024-11-07 02:11:12.505236] Loading check-in records [resource/asnlib/publicdata/checkins.pickle] ...\n",
      "[2024-11-07 02:11:14.453233] ... done!\n",
      "\n",
      "This data has 398,680 entries.\n",
      "\n",
      "Here is a sample:\n",
      "\n",
      "{119352: [{'date': 'Sat Apr 07 21:37:04 +0000 2012',\n",
      "           'poi': '4b8e7128f964a520e02233e3'},\n",
      "          {'date': 'Wed May 09 01:07:21 +0000 2012',\n",
      "           'poi': '40e0b100f964a5206b061fe3'}],\n",
      " 677020: [{'date': 'Sat Jul 14 05:42:40 +0000 2012',\n",
      "           'poi': '4c4eb3bfc1f5ef3b4a1e46ab'},\n",
      "          {'date': 'Sun Jun 17 16:57:38 +0000 2012',\n",
      "           'poi': '4e465895483b03d090de4bd3'}],\n",
      " 728580: [{'date': 'Sun May 13 02:17:54 +0000 2012',\n",
      "           'poi': '4bbcfcde593fef3b0ce90256'}]}\n"
     ]
    }
   ],
   "source": [
    "checkins = load_database('checkins.pickle',\n",
    "                         tag=\"check-in records\",\n",
    "                         sample=[119_352, 677_020, 728_580])"
   ]
  },
  {
   "cell_type": "markdown",
   "metadata": {
    "deletable": false,
    "editable": false,
    "nbgrader": {
     "grade": false,
     "locked": true,
     "solution": false
    }
   },
   "source": [
    "Each _check-in record_ (or just _check-in_) is a key-value pair, where\n",
    "- the key is a **user** ID, an _integer_; and\n",
    "- the value is a _Python list_ of one or more **visits**.\n",
    "\n",
    "Each **visit** is itself a Python dictionary with two key-value pairs:\n",
    "- `'poi'`: The POI that the user visited, represented by its string ID.\n",
    "- `'date'`: The date of that visit, stored as a string.\n",
    "\n",
    "In the preceding example, there are three users, `119352`, `677020`, and `728580`. They each visited four, seven, and one POI, respectively. User `728580` visited the one POI on Sunday, May 13, 2012. A user can visit the same POI on different dates; for example, user `119352` made two visits to POI `4ab4edf1f964a520ad7120e3`, once on April 16 and again on April 23."
   ]
  },
  {
   "cell_type": "markdown",
   "metadata": {
    "deletable": false,
    "editable": false,
    "nbgrader": {
     "grade": false,
     "locked": true,
     "solution": false
    },
    "tags": [
     "exercise_text"
    ]
   },
   "source": [
    "## Exercise 3 (**2** points): `count_visits_by_country` ##\n",
    "\n",
    "Suppose we wish to determine in which country the most visits have been recorded. Complete the function,\n",
    "```python\n",
    "def count_visits_by_country(checkins, pois):\n",
    "    ...\n",
    "```\n",
    "to help accomplish this task.\n",
    "\n",
    "**Inputs:**\n",
    "- `checkins`: Check-in records, a Python dictionary of lists of dictionaries, as in the preceding example.\n",
    "- `pois`: Points-of-interest, a Python dictionary of dictionaries, as in earlier exercises.\n",
    "\n",
    "**Task:** For each country code, count the number of visits that occurred there.\n",
    "\n",
    "**Outputs:** Return a **Python list** whose elements are tuples. Each tuple should be a pair, `(cc, n)`, where `cc` is a country code (a string) and `n` is the total number of visits made in that country (an integer). **Sort this list** in ascending order by country code.\n",
    "\n",
    "**Notes:**\n",
    "1. If there were no visits in a country, then its country code should **NOT** appear in the output.\n",
    "2. A visit may refer to a POI that does **NOT** exist in `pois`. In such cases, the visit should simply be ignored.\n",
    "3. When counting, consider every visit that is a known POI—even if it is visited multiple times by the same user or different users—as unique."
   ]
  },
  {
   "cell_type": "code",
   "execution_count": 15,
   "metadata": {
    "collapsed": true,
    "deletable": false,
    "editable": false,
    "nbgrader": {
     "grade": false,
     "locked": true,
     "solution": false
    },
    "tags": [
     "demo_data"
    ]
   },
   "outputs": [],
   "source": [
    "### Define demo inputs\n",
    "demo_checkins_ex3 = \\\n",
    "{ 259270: [ { 'date': 'Fri Apr 20 01:12:02 +0000 2012',\n",
    "              'poi': '4b155088f964a520beb023e3'}, # present in demo_pois_ex3\n",
    "            { 'date': 'Sat Apr 14 01:25:16 +0000 2012',\n",
    "              'poi': '4b155088f964a520beb023e3'}], # present in demo_pois_ex3\n",
    "  424689: [ { 'date': 'Tue Apr 10 00:49:14 +0000 2012',\n",
    "              'poi': '4b7a6d3bf964a5208b2c2fe3'}], # present in demo_pois_ex3\n",
    "  1402043: [ { 'date': 'Thu May 17 20:42:11 +0000 2012',\n",
    "               'poi': '4bb4d63ff1b976b023661f20'},\n",
    "             { 'date': 'Thu May 03 17:33:11 +0000 2012',\n",
    "               'poi': '4da9b4f36a2303012efb07c2'}],\n",
    "  1815705: [ { 'date': 'Tue Jun 12 20:59:11 +0000 2012',\n",
    "               'poi': '4f7ecdeae4b0ac821d08d00c'}]}\n",
    "\n",
    "demo_pois_ex3 = \\\n",
    "{ '4b155088f964a520beb023e3': { 'country_code': 'US',\n",
    "                                'lat': 47.591549,\n",
    "                                'long': -122.332592,\n",
    "                                'type': 'Baseball Stadium'},\n",
    "  '4b7a6d3bf964a5208b2c2fe3': { 'country_code': 'MY',\n",
    "                                'lat': 3.170318,\n",
    "                                'long': 101.708915,\n",
    "                                'type': 'Hospital'},\n",
    "  '4b9a3eaaf964a520fda635e3': { 'country_code': 'US',\n",
    "                                'lat': 39.43205,\n",
    "                                'long': -84.207813,\n",
    "                                'type': 'Train Station'}}"
   ]
  },
  {
   "cell_type": "markdown",
   "metadata": {
    "deletable": false,
    "editable": false,
    "nbgrader": {
     "grade": false,
     "locked": true,
     "solution": false
    },
    "tags": [
     "demo_output_md"
    ]
   },
   "source": [
    "<!-- Expected demo output text block -->\n",
    "Given the demo data above, a correct solution would produce:\n",
    "```\n",
    "[('MY', 1), ('US', 2)]\n",
    "```\n",
    "<!-- Include any shout outs here -->\n",
    "That's because of the four users in `demo_checkins_ex3`, only the first two (`259270` and `424689`) visited POIs that are present in `demo_pois_ex3`."
   ]
  },
  {
   "cell_type": "code",
   "execution_count": 16,
   "metadata": {
    "tags": [
     "exercise_solution"
    ]
   },
   "outputs": [
    {
     "name": "stdout",
     "output_type": "stream",
     "text": [
      "--------------------------------------------------------------------------\n",
      "defaultdict(<class 'dict'>, {'4c8e8cd458668cfaaef3d2ec': {'type': 'Cafe', 'city': 'Tekirdag, Turkey'}, '4e340ae4d4c0c083095238e5': {'type': 'Residential Building (Apartment / Condo)', 'city': \"'s-Hertogenbosch, Netherlands\"}, '4c2fe995a0ced13a4e72116e': {'type': 'Fast Food Restaurant', 'city': 'Melaka, Malaysia'}})\n",
      "--------------------------------------------------------------------------\n",
      "{'4c8e8cd458668cfaaef3d2ec': {'type': 'Cafe', 'city': 'Tekirdag, Turkey'}, '4e340ae4d4c0c083095238e5': {'type': 'Residential Building (Apartment / Condo)', 'city': \"'s-Hertogenbosch, Netherlands\"}, '4c2fe995a0ced13a4e72116e': {'type': 'Fast Food Restaurant', 'city': 'Melaka, Malaysia'}}\n"
     ]
    }
   ],
   "source": [
    "### Exercise 3 solution\n",
    "def count_visits_by_country(checkins, pois):\n",
    "    ###\n",
    "    poiLst = []\n",
    "    countryDict = defaultdict(int)\n",
    "    \n",
    "    for key in checkins:\n",
    "        for i in range(len(checkins[key])):\n",
    "            poiLst.append(checkins[key][i]['poi'])\n",
    "    for poi in poiLst:\n",
    "        for key in pois:\n",
    "            if poi == key:\n",
    "                countryDict[pois[poi]['country_code']] += 1\n",
    "\n",
    "                \n",
    "    sortedTuples = sorted(countryDict.items(), key=lambda x:x[0])\n",
    "\n",
    "    return sortedTuples    \n",
    "    ###\n",
    "    \n",
    "### demo function call\n",
    "count_visits_by_country(demo_checkins_ex3, demo_pois_ex3)\n",
    "print(\"--------------------------------------------------------------------------\")\n",
    "print(returned_output_vars['output_0'])\n",
    "print(\"--------------------------------------------------------------------------\")\n",
    "print(true_output_vars['output_0'])"
   ]
  },
  {
   "cell_type": "markdown",
   "metadata": {
    "deletable": false,
    "editable": false,
    "nbgrader": {
     "grade": false,
     "locked": true,
     "solution": false
    },
    "tags": [
     "test_data_boilerplate"
    ]
   },
   "source": [
    "<!-- Test Cell Boilerplate -->\n",
    "The cell below will test your solution for Exercise 3. The testing variables will be available for debugging under the following names in a dictionary format.\n",
    "- `input_vars` - Input variables for your solution. \n",
    "- `original_input_vars` - Copy of input variables from prior to running your solution. These _should_ be the same as `input_vars` - otherwise the inputs were modified by your solution.\n",
    "- `returned_output_vars` - Outputs returned by your solution.\n",
    "- `true_output_vars` - The expected output. This _should_ \"match\" `returned_output_vars` based on the question requirements - otherwise, your solution is not returning the correct output. "
   ]
  },
  {
   "cell_type": "code",
   "execution_count": 17,
   "metadata": {
    "deletable": false,
    "editable": false,
    "nbgrader": {
     "grade": true,
     "grade_id": "ex3",
     "locked": true,
     "points": "2",
     "solution": false
    },
    "tags": []
   },
   "outputs": [
    {
     "name": "stdout",
     "output_type": "stream",
     "text": [
      "Passed! Please submit.\n"
     ]
    }
   ],
   "source": [
    "### test_cell_ex3\n",
    "###\n",
    "### AUTOGRADER TEST - DO NOT REMOVE\n",
    "###\n",
    "from tester_fw.testers import Tester\n",
    "\n",
    "conf = {\n",
    "    'case_file':'tc_3', \n",
    "    'func': count_visits_by_country, # replace this with the function defined above\n",
    "    'inputs':{ # input config dict. keys are parameter names\n",
    "        'checkins':{\n",
    "            'dtype':'dict', # data type of param.\n",
    "            'check_modified':True,\n",
    "        },\n",
    "        'pois':{\n",
    "            'dtype':'dict', # data type of param.\n",
    "            'check_modified':True,\n",
    "        }\n",
    "    },\n",
    "    'outputs':{\n",
    "        'output_0':{\n",
    "            'index':0,\n",
    "            'dtype':'list',\n",
    "            'check_dtype': True,\n",
    "            'check_col_dtypes': True, # Ignored if dtype is not df\n",
    "            'check_col_order': True, # Ignored if dtype is not df\n",
    "            'check_row_order': True, # Ignored if dtype is not df\n",
    "            'check_column_type': True, # Ignored if dtype is not df\n",
    "            'float_tolerance': 10 ** (-6)\n",
    "        }\n",
    "    }\n",
    "}\n",
    "tester = Tester(conf, key=b'1ZePXzAcTR7lcNpmx1HRK0lT3v-Ikrg8mZ3n-wVFTBo=', path='resource/asnlib/publicdata/')\n",
    "for _ in range(70):\n",
    "    try:\n",
    "        tester.run_test()\n",
    "        (input_vars, original_input_vars, returned_output_vars, true_output_vars) = tester.get_test_vars()\n",
    "    except:\n",
    "        (input_vars, original_input_vars, returned_output_vars, true_output_vars) = tester.get_test_vars()\n",
    "        raise\n",
    "\n",
    "###\n",
    "### AUTOGRADER TEST - DO NOT REMOVE\n",
    "###\n",
    "print('Passed! Please submit.')"
   ]
  },
  {
   "cell_type": "markdown",
   "metadata": {
    "deletable": false,
    "editable": false,
    "nbgrader": {
     "grade": false,
     "locked": true,
     "solution": false
    }
   },
   "source": [
    "**RUN ME: Top countries:** If you had a correct solution, you could use it to determine, say, the top 10 countries with having the most visit data. We have precomputed this ranking for you and here are the results. **Run this cell whether or not you completed Exercise 3.**"
   ]
  },
  {
   "cell_type": "code",
   "execution_count": 18,
   "metadata": {
    "deletable": false,
    "editable": false,
    "nbgrader": {
     "grade": false,
     "locked": true,
     "solution": false
    }
   },
   "outputs": [
    {
     "name": "stdout",
     "output_type": "stream",
     "text": [
      "[2024-11-07 02:11:14.815922] Loading [resource/asnlib/publicdata/cc_visit_counts.pickle] ...\n",
      "[2024-11-07 02:11:14.823888] ... done!\n",
      "\n",
      "This data has 205 entries.\n",
      "\n",
      "The top 10 countries by recorded visit counts:\n",
      " 1. US: 202,675 visits\n",
      " 2. BR: 106,584 visits\n",
      " 3. ID: 97,188 visits\n",
      " 4. TR: 80,930 visits\n",
      " 5. JP: 59,560 visits\n",
      " 6. MY: 54,957 visits\n",
      " 7. RU: 47,355 visits\n",
      " 8. MX: 43,340 visits\n",
      " 9. TH: 33,918 visits\n",
      "10. CL: 33,149 visits\n"
     ]
    }
   ],
   "source": [
    "cc_visit_counts = load_database('cc_visit_counts.pickle')\n",
    "top_ccs_by_visits = sorted(cc_visit_counts, key=lambda e: e[1], reverse=True)[:10]\n",
    "print(\"\\nThe top 10 countries by recorded visit counts:\")\n",
    "for k, (cc, nn) in enumerate(top_ccs_by_visits):\n",
    "    print(f\"{' ' if k < 9 else ''}{k+1:d}. {cc}: {nn:,} visits\")"
   ]
  },
  {
   "cell_type": "markdown",
   "metadata": {
    "deletable": false,
    "editable": false,
    "nbgrader": {
     "grade": false,
     "locked": true,
     "solution": false
    }
   },
   "source": [
    "# Part D: Filtering #\n",
    "\n",
    "Many of the data structures so far have the same form: a dictionary of dictionaries. For example, here are some POI records.\n",
    "\n",
    "```\n",
    "{'4f2491a8e4b04f6e695eac41': {\n",
    "    'lat': 32.984154,\n",
    "    'long': -96.754765,\n",
    "    'type': 'Temple',\n",
    "    'country_code': 'US'},\n",
    " '4d6d12b5d5d937046513cbf9': {\n",
    "    'lat': -29.911862,\n",
    "    'long': -71.256914,\n",
    "    'type': 'Medical Center',\n",
    "    'country_code': 'CL'},\n",
    " '4f67d81de4b072f14537b19b': {\n",
    "    'lat': 10.077291,\n",
    "    'long': -69.280417,\n",
    "    'type': 'Residential Building (Apartment / Condo)',\n",
    "    'country_code': 'VE'},\n",
    " '4e88d624d3e39d6f4e7dded3': {\n",
    "    'lat': 49.276867,\n",
    "    'long': -123.111415,\n",
    "    'type': 'Soccer Stadium',\n",
    "    'country_code': 'CA'}}\n",
    "```\n",
    "\n",
    "The **outer** keys are the POI IDs, and the **inner** keys are `'lat'`, `'long'`, `'type'`, and `'country_code'`.\n",
    "\n",
    "Suppose you have a client who only wants to look at the POIs where a specific **inner** key has a value satisfying an **arbitrary** condition. For example, the client gives you the function,\n",
    "```python\n",
    "def is_positive(x):\n",
    "    return x > 0\n",
    "```\n",
    "which returns `True` only when `x` is positive. They then ask you to apply this function to all of the `'lat'` values and keep _only_ the POI records where `is_positive` on that inner value returns `True`. This query is an example of **filtering**. Filtering keeps only the records where the **predicate**, `is_positive`, holds."
   ]
  },
  {
   "cell_type": "markdown",
   "metadata": {
    "deletable": false,
    "editable": false,
    "nbgrader": {
     "grade": false,
     "locked": true,
     "solution": false
    },
    "tags": [
     "exercise_text"
    ]
   },
   "source": [
    "## Exercise 4 (**2** points): `filter_dd`\n",
    "\n",
    "Suppose we wish to write a function that can filter a dictionary-of-dictionaries by applying _any_ predicate to a specific **inner** key's value. Implement the function,\n",
    "```python\n",
    "def filter_dd(dd, inner_key, predicate):\n",
    "    ...\n",
    "```\n",
    "to perform this task according to the specification below.\n",
    "\n",
    "**Inputs:**\n",
    "- `dd`: A dictionary of dictionaries.\n",
    "- `inner_key`: The inner key whose values we wish to use for filtering.\n",
    "- `predicate`: A _function_ that, given the value of an inner key, returns `True` or `False`.\n",
    "\n",
    "**Task:** Scan all outer key-value pairs, applying `predicate` to the value of the target inner-key. Keep only the outer key-value pairs where the predicate returns `True`. Returning a new dictionary with the final results.\n",
    "\n",
    "**Outputs:** Return a new Python dictionary.\n",
    "\n",
    "**Notes:** You may assume that `inner_key` exists in all of the inner dictionaries."
   ]
  },
  {
   "cell_type": "code",
   "execution_count": 19,
   "metadata": {
    "collapsed": true,
    "deletable": false,
    "editable": false,
    "nbgrader": {
     "grade": false,
     "locked": true,
     "solution": false
    },
    "tags": [
     "demo_data"
    ]
   },
   "outputs": [],
   "source": [
    "### Define demo inputs\n",
    "demo_dd_ex4 = \\\n",
    " {'4f2491a8e4b04f6e695eac41': {'lat': 32.984154,\n",
    "  'long': -96.754765,\n",
    "  'type': 'Temple',\n",
    "  'country_code': 'US'},\n",
    " '4d6d12b5d5d937046513cbf9': {'lat': -29.911862,\n",
    "  'long': -71.256914,\n",
    "  'type': 'Medical Center',\n",
    "  'country_code': 'CL'},\n",
    " '4f67d81de4b072f14537b19b': {'lat': 10.077291,\n",
    "  'long': -69.280417,\n",
    "  'type': 'Residential Building (Apartment / Condo)',\n",
    "  'country_code': 'VE'},\n",
    " '4e88d624d3e39d6f4e7dded3': {'lat': 49.276867,\n",
    "  'long': -123.111415,\n",
    "  'type': 'Soccer Stadium',\n",
    "  'country_code': 'CA'}}\n",
    "\n",
    "demo_inner_key_ex4 = 'lat'\n",
    "\n",
    "def demo_predicate_ex4(x):\n",
    "    return x > 0"
   ]
  },
  {
   "cell_type": "markdown",
   "metadata": {
    "deletable": false,
    "editable": false,
    "nbgrader": {
     "grade": false,
     "locked": true,
     "solution": false
    },
    "tags": [
     "demo_output_md"
    ]
   },
   "source": [
    "<!-- Expected demo output text block -->\n",
    "Calling `filter_dd` on the above inputs, as done in the solution cell below, should return the dictionary,\n",
    "```\n",
    " {'4f2491a8e4b04f6e695eac41': {\n",
    "  'lat': 32.984154,\n",
    "  'long': -96.754765,\n",
    "  'type': 'Temple',\n",
    "  'country_code': 'US'},\n",
    " '4f67d81de4b072f14537b19b': {\n",
    "  'lat': 10.077291,\n",
    "  'long': -69.280417,\n",
    "  'type': 'Residential Building (Apartment / Condo)',\n",
    "  'country_code': 'VE'},\n",
    " '4e88d624d3e39d6f4e7dded3': {\n",
    "  'lat': 49.276867,\n",
    "  'long': -123.111415,\n",
    "  'type': 'Soccer Stadium',\n",
    "  'country_code': 'CA'}}\n",
    "```\n",
    "<!-- Include any shout outs here -->\n",
    "since these are the ones where the inner `'lat'` value is positive."
   ]
  },
  {
   "cell_type": "code",
   "execution_count": 20,
   "metadata": {
    "tags": [
     "exercise_solution"
    ]
   },
   "outputs": [
    {
     "data": {
      "text/plain": [
       "defaultdict(dict,\n",
       "            {'4f2491a8e4b04f6e695eac41': {'lat': 32.984154,\n",
       "              'long': -96.754765,\n",
       "              'type': 'Temple',\n",
       "              'country_code': 'US'},\n",
       "             '4f67d81de4b072f14537b19b': {'lat': 10.077291,\n",
       "              'long': -69.280417,\n",
       "              'type': 'Residential Building (Apartment / Condo)',\n",
       "              'country_code': 'VE'},\n",
       "             '4e88d624d3e39d6f4e7dded3': {'lat': 49.276867,\n",
       "              'long': -123.111415,\n",
       "              'type': 'Soccer Stadium',\n",
       "              'country_code': 'CA'}})"
      ]
     },
     "execution_count": 20,
     "metadata": {},
     "output_type": "execute_result"
    }
   ],
   "source": [
    "### Exercise 4 solution\n",
    "def filter_dd(dd, inner_key, predicate=lambda x: True):\n",
    "    ###\n",
    "    finalDict = defaultdict(dict)\n",
    "    for key in dd:\n",
    "        if predicate(dd[key][inner_key]):\n",
    "            finalDict[key] = dd[key]\n",
    "    return finalDict\n",
    "    ###\n",
    "    \n",
    "### demo function call\n",
    "filter_dd(demo_dd_ex4, demo_inner_key_ex4, predicate=demo_predicate_ex4)"
   ]
  },
  {
   "cell_type": "markdown",
   "metadata": {
    "deletable": false,
    "editable": false,
    "nbgrader": {
     "grade": false,
     "locked": true,
     "solution": false
    },
    "tags": [
     "test_data_boilerplate"
    ]
   },
   "source": [
    "<!-- Test Cell Boilerplate -->\n",
    "The cell below will test your solution for Exercise 4. The testing variables will be available for debugging under the following names in a dictionary format.\n",
    "- `input_vars` - Input variables for your solution. \n",
    "- `original_input_vars` - Copy of input variables from prior to running your solution. These _should_ be the same as `input_vars` - otherwise the inputs were modified by your solution.\n",
    "- `returned_output_vars` - Outputs returned by your solution.\n",
    "- `true_output_vars` - The expected output. This _should_ \"match\" `returned_output_vars` based on the question requirements - otherwise, your solution is not returning the correct output. "
   ]
  },
  {
   "cell_type": "code",
   "execution_count": 21,
   "metadata": {
    "deletable": false,
    "editable": false,
    "nbgrader": {
     "grade": true,
     "grade_id": "ex4",
     "locked": true,
     "points": "2",
     "solution": false
    },
    "tags": []
   },
   "outputs": [
    {
     "name": "stdout",
     "output_type": "stream",
     "text": [
      "Passed! Please submit.\n"
     ]
    }
   ],
   "source": [
    "### test_cell_ex4\n",
    "###\n",
    "### AUTOGRADER TEST - DO NOT REMOVE\n",
    "###\n",
    "from tester_fw.testers import Tester\n",
    "\n",
    "conf = {\n",
    "    'case_file':'tc_4', \n",
    "    'func': filter_dd, # replace this with the function defined above\n",
    "    'inputs':{ # input config dict. keys are parameter names\n",
    "        'dd':{\n",
    "            'dtype':'dict', # data type of param.\n",
    "            'check_modified':True,\n",
    "        },\n",
    "        'inner_key':{\n",
    "            'dtype':'str', # data type of param.\n",
    "            'check_modified':False,\n",
    "        },\n",
    "        'predicate':{\n",
    "            'dtype':'function', # data type of param.\n",
    "            'check_modified':True,\n",
    "        }\n",
    "    },\n",
    "    'outputs':{\n",
    "        'output_0':{\n",
    "            'index':0,\n",
    "            'dtype':'dict',\n",
    "            'check_dtype': True,\n",
    "            'check_col_dtypes': True, # Ignored if dtype is not df\n",
    "            'check_col_order': True, # Ignored if dtype is not df\n",
    "            'check_row_order': True, # Ignored if dtype is not df\n",
    "            'check_column_type': True, # Ignored if dtype is not df\n",
    "            'float_tolerance': 10 ** (-6)\n",
    "        }\n",
    "    }\n",
    "}\n",
    "tester = Tester(conf, key=b'1ZePXzAcTR7lcNpmx1HRK0lT3v-Ikrg8mZ3n-wVFTBo=', path='resource/asnlib/publicdata/')\n",
    "for _ in range(70):\n",
    "    try:\n",
    "        tester.run_test()\n",
    "        (input_vars, original_input_vars, returned_output_vars, true_output_vars) = tester.get_test_vars()\n",
    "    except:\n",
    "        (input_vars, original_input_vars, returned_output_vars, true_output_vars) = tester.get_test_vars()\n",
    "        raise\n",
    "\n",
    "###\n",
    "### AUTOGRADER TEST - DO NOT REMOVE\n",
    "###\n",
    "print('Passed! Please submit.')"
   ]
  },
  {
   "cell_type": "markdown",
   "metadata": {
    "deletable": false,
    "editable": false,
    "nbgrader": {
     "grade": false,
     "locked": true,
     "solution": false
    }
   },
   "source": [
    "**RUN ME: Filtered POIs:** If you had a correct solution, you could use it to filter the POIs by various criteria. We have done so to created a **filtered** POI, called `filtered_pois`, satisfying _two_ predicates:\n",
    "1. The POI is in one of the top 10 countries by total recorded visit data.\n",
    "2. The POI is one of the food and drink establishments.\n",
    "\n",
    "**Run this cell whether or not you completed Exercise 4** to make this filtered POI data available, in a dictionary of dictionaries called `filtered_pois`."
   ]
  },
  {
   "cell_type": "code",
   "execution_count": 22,
   "metadata": {
    "deletable": false,
    "editable": false,
    "nbgrader": {
     "grade": false,
     "locked": true,
     "solution": false
    }
   },
   "outputs": [
    {
     "name": "stdout",
     "output_type": "stream",
     "text": [
      "[2024-11-07 02:11:15.125767] Loading [resource/asnlib/publicdata/filtered_pois.pickle] ...\n",
      "[2024-11-07 02:11:15.519148] ... done!\n",
      "\n",
      "This data has 92,072 entries.\n",
      "\n",
      "There are 92,072 POI records (down from 643,853 originally).\n",
      "Top countries by visit: [('US', 202675), ('BR', 106584), ('ID', 97188), ('TR', 80930), ('JP', 59560), ('MY', 54957), ('RU', 47355), ('MX', 43340), ('TH', 33918), ('CL', 33149)]\n",
      "A sample of filtered POIs (by top countries and food/drink types):\n"
     ]
    },
    {
     "data": {
      "text/plain": [
       "{'4e950e468b81c7070999eefc': {'lat': 35.694766,\n",
       "  'long': 139.706256,\n",
       "  'type': 'Japanese Restaurant',\n",
       "  'country_code': 'JP'},\n",
       " '4ef455b88231b0d622ab1859': {'lat': 58.596803,\n",
       "  'long': 49.607563,\n",
       "  'type': 'Fast Food Restaurant',\n",
       "  'country_code': 'RU'},\n",
       " '5001ecdce4b0946791fa8e43': {'lat': 38.923487,\n",
       "  'long': -94.681082,\n",
       "  'type': 'Gaming Cafe',\n",
       "  'country_code': 'US'},\n",
       " '4b7bf864f964a5205b762fe3': {'lat': 42.023157,\n",
       "  'long': -93.615113,\n",
       "  'type': 'Cafe',\n",
       "  'country_code': 'US'},\n",
       " '4da74a1a43a102190d7eda3b': {'lat': 19.30432,\n",
       "  'long': -99.205053,\n",
       "  'type': 'Mexican Restaurant',\n",
       "  'country_code': 'MX'}}"
      ]
     },
     "execution_count": 22,
     "metadata": {},
     "output_type": "execute_result"
    }
   ],
   "source": [
    "filtered_pois = load_database('filtered_pois.pickle')\n",
    "print(f\"\\nThere are {len(filtered_pois):,} POI records (down from {len(pois):,} originally).\")\n",
    "print(f\"Top countries by visit: {top_ccs_by_visits}\")\n",
    "print(\"A sample of filtered POIs (by top countries and food/drink types):\")\n",
    "sample_dict(filtered_pois, 5)"
   ]
  },
  {
   "cell_type": "markdown",
   "metadata": {
    "deletable": false,
    "editable": false,
    "nbgrader": {
     "grade": false,
     "locked": true,
     "solution": false
    }
   },
   "source": [
    "# Part E: Connections #\n",
    "\n",
    "The last part of the dataset is the collection of **follower connections**. Run the cell below to load these data:"
   ]
  },
  {
   "cell_type": "code",
   "execution_count": 23,
   "metadata": {
    "deletable": false,
    "editable": false,
    "nbgrader": {
     "grade": false,
     "locked": true,
     "solution": false
    }
   },
   "outputs": [
    {
     "name": "stdout",
     "output_type": "stream",
     "text": [
      "[2024-11-07 02:11:15.531690] Loading [resource/asnlib/publicdata/connections.pickle] ...\n",
      "[2024-11-07 02:11:16.020754] ... done!\n",
      "\n",
      "This data has 607,333 entries.\n",
      "\n",
      "There are 607,333 connections (nonsymmetric).\n",
      "For instance, here are user 54's connections:\n"
     ]
    },
    {
     "data": {
      "text/plain": [
       "[(54, 528),\n",
       " (54, 1668),\n",
       " (54, 20369),\n",
       " (54, 29643),\n",
       " (54, 39628),\n",
       " (54, 43467),\n",
       " (54, 47439),\n",
       " (54, 88203),\n",
       " (54, 116696),\n",
       " (54, 132245),\n",
       " (54, 1012859)]"
      ]
     },
     "execution_count": 23,
     "metadata": {},
     "output_type": "execute_result"
    }
   ],
   "source": [
    "connections = load_database('connections.pickle')\n",
    "print(f\"\\nThere are {len(connections):,} connections (nonsymmetric).\")\n",
    "print(f\"For instance, here are user 54's connections:\")\n",
    "[x for x in connections if x[0] == 54]"
   ]
  },
  {
   "cell_type": "markdown",
   "metadata": {
    "deletable": false,
    "editable": false,
    "nbgrader": {
     "grade": false,
     "locked": true,
     "solution": false
    }
   },
   "source": [
    "The connections are stored as a Python list of pairs of user IDs. The example above shows people that user 54 is connected to on some social media site.\n",
    "\n",
    "**Important caveat:** The connections are stored nonsymmetrically. That is, while the pair `(54, 528)` appears, user `54` happens to not appear in the connections list of `528`:"
   ]
  },
  {
   "cell_type": "code",
   "execution_count": 24,
   "metadata": {
    "deletable": false,
    "editable": false,
    "nbgrader": {
     "grade": false,
     "locked": true,
     "solution": false
    }
   },
   "outputs": [
    {
     "data": {
      "text/plain": [
       "[(528, 4811),\n",
       " (528, 7199),\n",
       " (528, 10146),\n",
       " (528, 19943),\n",
       " (528, 22199),\n",
       " (528, 24572),\n",
       " (528, 31236),\n",
       " (528, 35561),\n",
       " (528, 42995),\n",
       " (528, 44337),\n",
       " (528, 47439),\n",
       " (528, 51869),\n",
       " (528, 52838),\n",
       " (528, 54747),\n",
       " (528, 67602),\n",
       " (528, 70190),\n",
       " (528, 75594),\n",
       " (528, 77404),\n",
       " (528, 89753),\n",
       " (528, 97959),\n",
       " (528, 114113),\n",
       " (528, 159646),\n",
       " (528, 245258),\n",
       " (528, 324029),\n",
       " (528, 485974),\n",
       " (528, 1458506),\n",
       " (528, 1711459)]"
      ]
     },
     "execution_count": 24,
     "metadata": {},
     "output_type": "execute_result"
    }
   ],
   "source": [
    "[x for x in connections if x[0] == 528]"
   ]
  },
  {
   "cell_type": "markdown",
   "metadata": {
    "deletable": false,
    "editable": false,
    "nbgrader": {
     "grade": false,
     "locked": true,
     "solution": false
    }
   },
   "source": [
    "This choice was made by the people who generated the data to save space. However, for our analysis, we will assume that if a pair `(a, b)` exists, it implies that **both** `a` is connected to `b` **and** `b` is connected to `a`."
   ]
  },
  {
   "cell_type": "markdown",
   "metadata": {
    "deletable": false,
    "editable": false,
    "nbgrader": {
     "grade": false,
     "locked": true,
     "solution": false
    },
    "tags": [
     "exercise_text"
    ]
   },
   "source": [
    "## Exercise 5 (**1** point): `get_active_users`\n",
    "\n",
    "Let's define an **active user** to be one who has _both_ connections _and_ check-in visits. Implement a function,\n",
    "```python\n",
    "def get_active_users(connections, checkins):\n",
    "    ...\n",
    "```\n",
    "to find and return all active users.\n",
    "\n",
    "**Inputs:**\n",
    "- `connections`: A Python list of pairs of user IDs (integers).\n",
    "- `checkins`: Check-in records, stored as a dictionary of lists of dictionaries (mapping user IDs to lists of visits; recall Part C, Exercise 3 or Part D, Exercise 4).\n",
    "\n",
    "**Task:** Determine which users have both connections (meaning they appear in the `connections` list) **and** check-ins (meaning they have at least one check-in visit).\n",
    "\n",
    "**Output:** Return a Python set of all active users. If there are no active users, this function should return an empty set.\n",
    "\n",
    "**Notes and hints:** Assume relationships are symmetric. That is, we say an active user `x` \"has connections\" if it appears in _either_ a pair `(x, y)` _or_ a pair `(y, x)`."
   ]
  },
  {
   "cell_type": "code",
   "execution_count": 25,
   "metadata": {
    "collapsed": true,
    "deletable": false,
    "editable": false,
    "nbgrader": {
     "grade": false,
     "locked": true,
     "solution": false
    },
    "tags": [
     "demo_data"
    ]
   },
   "outputs": [],
   "source": [
    "### Define demo inputs\n",
    "demo_connections_ex5 = \\\n",
    "[ (72049, 99545),\n",
    "  (99545, 822927),\n",
    "  (470311, 665256),\n",
    "  (470311, 846214),\n",
    "  (470311, 894292),\n",
    "  (470311, 1045011),\n",
    "  (502736, 921752),\n",
    "  (668626, 921752),\n",
    "  (686743, 921752),\n",
    "  (921752, 944779),\n",
    "  (921752, 972956),\n",
    "  (921752, 1076615)]\n",
    "\n",
    "demo_checkins_ex5 = \\\n",
    "{ 99545: [ { 'date': 'Thu Aug 16 22:55:43 +0000 2012',\n",
    "             'poi': '4b6ef8a8f964a520f2d32ce3'},\n",
    "           { 'date': 'Tue Aug 14 23:46:30 +0000 2012',\n",
    "             'poi': '4c66a5b1e1da1b8daf6e9bc3'},\n",
    "           { 'date': 'Thu Aug 09 18:45:08 +0000 2012',\n",
    "             'poi': '4ce575825fce548110bf5baa'}],\n",
    "  470311: [ { 'date': 'Sun Apr 08 08:53:52 +0000 2012',\n",
    "              'poi': '4cddd943db1254815fee2cce'},\n",
    "            { 'date': 'Sun Jun 03 00:01:22 +0000 2012',\n",
    "              'poi': '4cddd943db1254815fee2cce'}],\n",
    "  921752: [ { 'date': 'Sun Aug 19 13:35:29 +0000 2012',\n",
    "              'poi': '4b58539af964a520ea5228e3'},\n",
    "            { 'date': 'Sat May 05 10:24:08 +0000 2012',\n",
    "              'poi': '4b55a124f964a520b2e927e3'},\n",
    "            { 'date': 'Mon Aug 06 03:42:48 +0000 2012',\n",
    "              'poi': '4ed2ff869adf25445a084c63'},\n",
    "            { 'date': 'Thu Jul 05 11:01:38 +0000 2012',\n",
    "              'poi': '4b3dd6ddf964a520089725e3'}]}"
   ]
  },
  {
   "cell_type": "markdown",
   "metadata": {
    "deletable": false,
    "editable": false,
    "nbgrader": {
     "grade": false,
     "locked": true,
     "solution": false
    },
    "tags": [
     "demo_output_md"
    ]
   },
   "source": [
    "<!-- Expected demo output text block -->\n",
    "Given the preceding input, a correct solution would return the set of active users,\n",
    "```\n",
    "{921752, 99545, 470311}\n",
    "```\n",
    "<!-- Include any shout outs here -->\n",
    "These are the only user IDs in this input that have _both_ visits _and_ connections."
   ]
  },
  {
   "cell_type": "code",
   "execution_count": 26,
   "metadata": {
    "tags": [
     "exercise_solution"
    ]
   },
   "outputs": [
    {
     "data": {
      "text/plain": [
       "{99545, 470311, 921752}"
      ]
     },
     "execution_count": 26,
     "metadata": {},
     "output_type": "execute_result"
    }
   ],
   "source": [
    "### Exercise 5 solution\n",
    "def get_active_users(connections, checkins):\n",
    "    ###\n",
    "    idSet = set()\n",
    "    finalSet = set()\n",
    "    for i in connections:\n",
    "        idSet.add(i[0])\n",
    "        idSet.add(i[1])\n",
    "    for key in checkins:\n",
    "        for i in idSet:\n",
    "            if key == i and len(checkins[key]) > 0:\n",
    "                finalSet.add(key)\n",
    "                \n",
    "    return finalSet\n",
    "    ###\n",
    "    \n",
    "### demo function call\n",
    "get_active_users(demo_connections_ex5, demo_checkins_ex5)"
   ]
  },
  {
   "cell_type": "markdown",
   "metadata": {
    "deletable": false,
    "editable": false,
    "nbgrader": {
     "grade": false,
     "locked": true,
     "solution": false
    },
    "tags": [
     "test_data_boilerplate"
    ]
   },
   "source": [
    "<!-- Test Cell Boilerplate -->\n",
    "The cell below will test your solution for Exercise 5. The testing variables will be available for debugging under the following names in a dictionary format.\n",
    "- `input_vars` - Input variables for your solution. \n",
    "- `original_input_vars` - Copy of input variables from prior to running your solution. These _should_ be the same as `input_vars` - otherwise the inputs were modified by your solution.\n",
    "- `returned_output_vars` - Outputs returned by your solution.\n",
    "- `true_output_vars` - The expected output. This _should_ \"match\" `returned_output_vars` based on the question requirements - otherwise, your solution is not returning the correct output. "
   ]
  },
  {
   "cell_type": "code",
   "execution_count": 27,
   "metadata": {
    "deletable": false,
    "editable": false,
    "nbgrader": {
     "grade": true,
     "grade_id": "ex5",
     "locked": true,
     "points": "1",
     "solution": false
    },
    "scrolled": true,
    "tags": []
   },
   "outputs": [
    {
     "name": "stdout",
     "output_type": "stream",
     "text": [
      "Passed! Please submit.\n"
     ]
    }
   ],
   "source": [
    "### test_cell_ex5\n",
    "###\n",
    "### AUTOGRADER TEST - DO NOT REMOVE\n",
    "###\n",
    "from tester_fw.testers import Tester\n",
    "\n",
    "conf = {\n",
    "    'case_file':'tc_5', \n",
    "    'func': get_active_users, # replace this with the function defined above\n",
    "    'inputs':{ # input config dict. keys are parameter names\n",
    "        'connections':{\n",
    "            'dtype':'list', # data type of param.\n",
    "            'check_modified':True,\n",
    "        },\n",
    "        'checkins':{\n",
    "            'dtype':'dict', # data type of param.\n",
    "            'check_modified':True,\n",
    "        }\n",
    "    },\n",
    "    'outputs':{\n",
    "        'output_0':{\n",
    "            'index':0,\n",
    "            'dtype':'set',\n",
    "            'check_dtype': True,\n",
    "            'check_col_dtypes': True, # Ignored if dtype is not df\n",
    "            'check_col_order': True, # Ignored if dtype is not df\n",
    "            'check_row_order': True, # Ignored if dtype is not df\n",
    "            'check_column_type': True, # Ignored if dtype is not df\n",
    "            'float_tolerance': 10 ** (-6)\n",
    "        }\n",
    "    }\n",
    "}\n",
    "tester = Tester(conf, key=b'1ZePXzAcTR7lcNpmx1HRK0lT3v-Ikrg8mZ3n-wVFTBo=', path='resource/asnlib/publicdata/')\n",
    "for _ in range(70):\n",
    "    try:\n",
    "        tester.run_test()\n",
    "        (input_vars, original_input_vars, returned_output_vars, true_output_vars) = tester.get_test_vars()\n",
    "    except:\n",
    "        (input_vars, original_input_vars, returned_output_vars, true_output_vars) = tester.get_test_vars()\n",
    "        raise\n",
    "\n",
    "###\n",
    "### AUTOGRADER TEST - DO NOT REMOVE\n",
    "###\n",
    "print('Passed! Please submit.')"
   ]
  },
  {
   "cell_type": "markdown",
   "metadata": {
    "deletable": false,
    "editable": false,
    "nbgrader": {
     "grade": false,
     "locked": true,
     "solution": false
    }
   },
   "source": [
    "**RUN ME: Active users:** If you had a correct solution, you could use it to find all active users in the full dataset. We have done just that.\n",
    "\n",
    "**Run this cell whether or not you completed Exercise 5**. It will create a Python set of active users' IDs called `active_users`."
   ]
  },
  {
   "cell_type": "code",
   "execution_count": 28,
   "metadata": {
    "deletable": false,
    "editable": false,
    "nbgrader": {
     "grade": false,
     "locked": true,
     "solution": false
    }
   },
   "outputs": [
    {
     "name": "stdout",
     "output_type": "stream",
     "text": [
      "[2024-11-07 02:11:16.380560] Loading [resource/asnlib/publicdata/active_users.pickle] ...\n",
      "[2024-11-07 02:11:16.500086] ... done!\n",
      "\n",
      "This data has 82,792 entries.\n",
      "\n",
      "There are 82,792 active users.\n",
      "Here are a few of them: 1310720 786436 786439 524295 2097164 ...\n"
     ]
    }
   ],
   "source": [
    "active_users = load_database('active_users.pickle')\n",
    "print(f\"\\nThere are {len(active_users):,} active users.\")\n",
    "print(\"Here are a few of them:\", *list(active_users)[:5], \"...\")"
   ]
  },
  {
   "cell_type": "markdown",
   "metadata": {
    "deletable": false,
    "editable": false,
    "nbgrader": {
     "grade": false,
     "locked": true,
     "solution": false
    },
    "tags": [
     "exercise_text"
    ]
   },
   "source": [
    "## Exercise 6 (**1** point): `form_connection_vectors` ##\n",
    "\n",
    "Given some user, `a`, the **connection vector** of `a` is a Python set consisting of all other users connected to `a`. Implement the function,\n",
    "```python\n",
    "def form_connection_vectors(connections):\n",
    "    ...\n",
    "```\n",
    "to construct connection vectors for all users.\n",
    "\n",
    "**Input:**\n",
    "- `connections`: A Python list of user ID-pairs, `(a, b)`, signifying a mutual connection between user `a` and user `b`. By \"mutual connection,\" we mean that `a` is connected to `b` **and** `b` is connected to `a`. Therefore, if there is a pair `(a, b)`, then `b` should be in the connection vector of `a` and `a` should be in the connection vector of `b`.\n",
    "\n",
    "**Task:** Sweep through the connections and construct connection vectors for all users.\n",
    "\n",
    "**Outputs:** Return a Python dictionary of Python sets. The dictionary keys are user IDs; their values are the connection vectors (Python sets)."
   ]
  },
  {
   "cell_type": "code",
   "execution_count": 29,
   "metadata": {
    "collapsed": true,
    "deletable": false,
    "editable": false,
    "nbgrader": {
     "grade": false,
     "locked": true,
     "solution": false
    },
    "tags": [
     "demo_data"
    ]
   },
   "outputs": [],
   "source": [
    "### Define demo inputs\n",
    "demo_connections_ex6 = [(2, 10), (6, 7), (7, 0), (7, 9), (11, 10), (12, 10), (13, 10)]"
   ]
  },
  {
   "cell_type": "markdown",
   "metadata": {
    "deletable": false,
    "editable": false,
    "nbgrader": {
     "grade": false,
     "locked": true,
     "solution": false
    },
    "tags": [
     "demo_output_md"
    ]
   },
   "source": [
    "<!-- Expected demo output text block -->\n",
    "Suppose the input connections are given by `demo_connections_ex6`. Then a correct solution to this problem would produce the following output:\n",
    "```\n",
    "{ 0: {7},\n",
    "  2: {10},\n",
    "  6: {7},\n",
    "  7: {0, 9, 6},\n",
    "  9: {7},\n",
    "  10: {2, 11, 12, 13},\n",
    "  11: {10},\n",
    "  12: {10},\n",
    "  13: {10}}\n",
    "```\n",
    "<!-- Include any shout outs here -->\n",
    "Observe that `0` only appears in the pair `(7, 0)`; therefore, the connection vector of `0` is the singleton set `{7}`. By contrast, `7` appears in the pairs `(6, 7)`, `(7, 0)`, and `(7, 9)`; therefore, the connection vector of `7` is the set `{0, 6, 9}`. (Recall that sets are equal regardless of element order.)"
   ]
  },
  {
   "cell_type": "code",
   "execution_count": 30,
   "metadata": {
    "tags": [
     "exercise_solution"
    ]
   },
   "outputs": [
    {
     "data": {
      "text/plain": [
       "{0: {7},\n",
       " 2: {10},\n",
       " 6: {7},\n",
       " 7: {0, 6, 9},\n",
       " 9: {7},\n",
       " 10: {2, 11, 12, 13},\n",
       " 11: {10},\n",
       " 12: {10},\n",
       " 13: {10}}"
      ]
     },
     "execution_count": 30,
     "metadata": {},
     "output_type": "execute_result"
    }
   ],
   "source": [
    "### Exercise 6 solution\n",
    "def form_connection_vectors(connections):\n",
    "    ###\n",
    "    finalDict = defaultdict(set)\n",
    "    for i in connections:\n",
    "        finalDict[i[0]]\n",
    "        finalDict[i[1]]\n",
    "    for i in connections:\n",
    "        for value in finalDict:\n",
    "            if i[0] == value:\n",
    "                finalDict[value].add(i[1])\n",
    "            elif i[1] == value:\n",
    "                finalDict[value].add(i[0])\n",
    "    \n",
    "    return dict(sorted(finalDict.items()))\n",
    "                \n",
    "    ###\n",
    "    \n",
    "### demo function call\n",
    "form_connection_vectors(demo_connections_ex6)"
   ]
  },
  {
   "cell_type": "markdown",
   "metadata": {
    "deletable": false,
    "editable": false,
    "nbgrader": {
     "grade": false,
     "locked": true,
     "solution": false
    },
    "tags": [
     "test_data_boilerplate"
    ]
   },
   "source": [
    "<!-- Test Cell Boilerplate -->\n",
    "The cell below will test your solution for Exercise 6. The testing variables will be available for debugging under the following names in a dictionary format.\n",
    "- `input_vars` - Input variables for your solution. \n",
    "- `original_input_vars` - Copy of input variables from prior to running your solution. These _should_ be the same as `input_vars` - otherwise the inputs were modified by your solution.\n",
    "- `returned_output_vars` - Outputs returned by your solution.\n",
    "- `true_output_vars` - The expected output. This _should_ \"match\" `returned_output_vars` based on the question requirements - otherwise, your solution is not returning the correct output. "
   ]
  },
  {
   "cell_type": "code",
   "execution_count": 31,
   "metadata": {
    "deletable": false,
    "editable": false,
    "nbgrader": {
     "grade": true,
     "grade_id": "ex6",
     "locked": true,
     "points": "1",
     "solution": false
    },
    "tags": []
   },
   "outputs": [
    {
     "name": "stdout",
     "output_type": "stream",
     "text": [
      "Passed! Please submit.\n"
     ]
    }
   ],
   "source": [
    "### test_cell_ex6\n",
    "###\n",
    "### AUTOGRADER TEST - DO NOT REMOVE\n",
    "###\n",
    "from tester_fw.testers import Tester\n",
    "\n",
    "conf = {\n",
    "    'case_file':'tc_6', \n",
    "    'func': form_connection_vectors, # replace this with the function defined above\n",
    "    'inputs':{ # input config dict. keys are parameter names\n",
    "        'connections':{\n",
    "            'dtype':'list', # data type of param.\n",
    "            'check_modified':True,\n",
    "        }\n",
    "    },\n",
    "    'outputs':{\n",
    "        'output_0':{\n",
    "            'index':0,\n",
    "            'dtype':'dict',\n",
    "            'check_dtype': True,\n",
    "            'check_col_dtypes': True, # Ignored if dtype is not df\n",
    "            'check_col_order': True, # Ignored if dtype is not df\n",
    "            'check_row_order': True, # Ignored if dtype is not df\n",
    "            'check_column_type': True, # Ignored if dtype is not df\n",
    "            'float_tolerance': 10 ** (-6)\n",
    "        }\n",
    "    }\n",
    "}\n",
    "tester = Tester(conf, key=b'1ZePXzAcTR7lcNpmx1HRK0lT3v-Ikrg8mZ3n-wVFTBo=', path='resource/asnlib/publicdata/')\n",
    "for _ in range(70):\n",
    "    try:\n",
    "        tester.run_test()\n",
    "        (input_vars, original_input_vars, returned_output_vars, true_output_vars) = tester.get_test_vars()\n",
    "    except:\n",
    "        (input_vars, original_input_vars, returned_output_vars, true_output_vars) = tester.get_test_vars()\n",
    "        raise\n",
    "\n",
    "###\n",
    "### AUTOGRADER TEST - DO NOT REMOVE\n",
    "###\n",
    "print('Passed! Please submit.')"
   ]
  },
  {
   "cell_type": "markdown",
   "metadata": {
    "deletable": false,
    "editable": false,
    "nbgrader": {
     "grade": false,
     "locked": true,
     "solution": false
    }
   },
   "source": [
    "**RUN ME: Connection vectors:** If you had a correct solution, you could use it to calculate all connection vectors of the full dataset. We have done just that for you.\n",
    "\n",
    "**Run this cell whether or not you completed Exercise 6**. It will create a Python set of connection vectors called `connection_vectors`."
   ]
  },
  {
   "cell_type": "code",
   "execution_count": 32,
   "metadata": {
    "deletable": false,
    "editable": false,
    "nbgrader": {
     "grade": false,
     "locked": true,
     "solution": false
    }
   },
   "outputs": [
    {
     "name": "stdout",
     "output_type": "stream",
     "text": [
      "[2024-11-07 02:11:16.752535] Loading [resource/asnlib/publicdata/connection_vectors.pickle] ...\n",
      "[2024-11-07 02:11:17.515655] ... done!\n",
      "\n",
      "This data has 114,324 entries.\n",
      "\n",
      "There are 114,324 connection vectors.\n",
      "Here are a few of them:\n"
     ]
    },
    {
     "data": {
      "text/plain": [
       "{447872: {190560},\n",
       " 639028: {331237, 503811, 1209604, 1439037},\n",
       " 1950367: {374234, 414618, 544222, 777464, 795036}}"
      ]
     },
     "execution_count": 32,
     "metadata": {},
     "output_type": "execute_result"
    }
   ],
   "source": [
    "connection_vectors = load_database('connection_vectors.pickle')\n",
    "print(f\"\\nThere are {len(connection_vectors):,} connection vectors.\")\n",
    "print(\"Here are a few of them:\")\n",
    "sample_dict(connection_vectors, 3)"
   ]
  },
  {
   "cell_type": "markdown",
   "metadata": {
    "deletable": false,
    "editable": false,
    "nbgrader": {
     "grade": false,
     "locked": true,
     "solution": false
    }
   },
   "source": [
    "# Part F: Similarity #\n",
    "\n",
    "To measure the \"friend potential\" of two users, we need a way to measure whether they have anything in common. Let's measure similarity based on whether two users visit the same places.\n",
    "\n",
    "**Visit vectors.** Consider a hypothetical check-in record for user `123`:\n",
    "```python\n",
    "{ ...,\n",
    "    123: [{'poi': 'abc', 'date:' 'Mon May 07...'},\n",
    "          {'poi': 'def', 'date:' 'Fri May 25...'},\n",
    "          {'poi': 'abc', 'date': 'Thu May 17...'},\n",
    "          {'poi': 'abc', 'date': 'Sun Apr 15...'},\n",
    "          {'poi': 'xyz', 'date': 'Wed Apr 11...'}\n",
    "         ],\n",
    "}\n",
    "```\n",
    "This user visited `'abc'` three times and `'def'` and `'xyz'` once each.\n",
    "\n",
    "Define the **visit vector** for this user to be the distinct POIs that they visited. In this instance, the visit vector of `123` would be the set:\n",
    "```python\n",
    "{'abc', 'def', 'xyz'}\n",
    "```\n",
    "\n",
    "Next, define the **similarity** of two users to be the number of POIs they have in common. For instance, for these two visit vectors,\n",
    "```python\n",
    "v = {'abc', 'def', 'xyz'}\n",
    "w = {'abc', 'xyz', 'lmn'}\n",
    "```\n",
    "the similarity equals 2, since visit vectors `v` and `w` share `abc` and `xyz` in common.\n",
    "\n",
    "In the next two exercises, you'll calculate similarities for the full dataset."
   ]
  },
  {
   "cell_type": "markdown",
   "metadata": {
    "deletable": false,
    "editable": false,
    "nbgrader": {
     "grade": false,
     "locked": true,
     "solution": false
    },
    "tags": [
     "exercise_text"
    ]
   },
   "source": [
    "## Exercise 7 (**2** points): `form_visit_vectors` ##\n",
    "\n",
    "Write some code to calculate all of the visit vectors for a given set of users, by completing the function,\n",
    "```python\n",
    "def form_visit_vectors(users, checkins, pois):\n",
    "    ...\n",
    "```\n",
    "according to the following specifications.\n",
    "\n",
    "**Inputs:**\n",
    "- `users`: User IDs to process, given as a Python set\n",
    "- `checkins`: Check-in records, stored as a dictionary of lists of visit dictionaries (see Part C, Exercise 3)\n",
    "- `pois`: POIs, stored as a dictionary of dictionaries\n",
    "\n",
    "**Task:** For each user in `users`, determine which of their visits in `checkins` has a known POI (meaning it appears in `pois`). The visit vector of that user will be those POIs.\n",
    "\n",
    "**Outputs:** Return a Python dictionary of Python sets. The keys are user IDs, and the values are the visit vectors.\n",
    "\n",
    "**Notes:**\n",
    "1. The output should only contain visit vectors for users who are in `users` and `checkins`.\n",
    "2. Furthermore, the output should only include visits for POIs that are in `pois`.\n",
    "3. Empty inputs and outputs are possible."
   ]
  },
  {
   "cell_type": "code",
   "execution_count": 33,
   "metadata": {
    "collapsed": true,
    "deletable": false,
    "editable": false,
    "nbgrader": {
     "grade": false,
     "locked": true,
     "solution": false
    },
    "tags": [
     "demo_data"
    ]
   },
   "outputs": [],
   "source": [
    "### Define demo inputs\n",
    "demo_users_ex7 = {1290304, 880634, 1972270}\n",
    "\n",
    "demo_checkins_ex7 = \\\n",
    "{491496: [{'date': 'Fri Aug 10 10:01:04 +0000 2012',\n",
    "           'poi': '4f0549d249013460824fbf09'},\n",
    "          {'date': 'Mon Jul 30 13:28:34 +0000 2012',\n",
    "           'poi': '4dd259ade4cd7f7178c663d3'},\n",
    "          {'date': 'Sun Jul 29 01:19:14 +0000 2012',\n",
    "           'poi': '4e17035018388d0d26847618'},\n",
    "          {'date': 'Mon Aug 13 05:42:51 +0000 2012',\n",
    "           'poi': '4d26846a342d6dcbf78ce4ca'}],\n",
    " 880634: [{'date': 'Sun Jul 29 14:23:05 +0000 2012',\n",
    "           'poi': '4ef48cec29c24e3536a28b45'}],\n",
    " 1290304: [{'date': 'Wed Jul 11 07:21:59 +0000 2012',\n",
    "            'poi': '4f64e3f0e4b03a7ce161c360'},\n",
    "           {'date': 'Thu Jul 26 22:23:05 +0000 2012',\n",
    "            'poi': '5009a022e4b058692f5cb2c9'},\n",
    "           {'date': 'Mon Jul 09 06:40:29 +0000 2012',\n",
    "            'poi': '4f64e3f0e4b03a7ce161c360'}],\n",
    " 1972270: [{'date': 'Tue May 15 12:15:40 +0000 2012',\n",
    "            'poi': '4be81fd588ed2d7f3d74cb1d'},\n",
    "           {'date': 'Sat Apr 28 08:35:22 +0000 2012',\n",
    "            'poi': '4c270706b012b713a7fd0893'},\n",
    "           {'date': 'Sat May 19 06:38:19 +0000 2012',\n",
    "            'poi': '4e6b107baeb7c31e43571420'}]}\n",
    "\n",
    "demo_pois_ex7 = \\\n",
    "{'4be81fd588ed2d7f3d74cb1d': {'country_code': 'MY',\n",
    "                              'lat': 1.524932,\n",
    "                              'long': 110.336895,\n",
    "                              'type': 'Fast Food Restaurant'},\n",
    " '4c270706b012b713a7fd0893': {'country_code': 'MY',\n",
    "                              'lat': 1.45373,\n",
    "                              'long': 110.458474,\n",
    "                              'type': 'Malaysian Restaurant'},\n",
    " '4e6b107baeb7c31e43571420': {'country_code': 'MY',\n",
    "                              'lat': 1.456737,\n",
    "                              'long': 110.441649,\n",
    "                              'type': 'Malaysian Restaurant'},\n",
    " '4ef48cec29c24e3536a28b45': {'country_code': 'MY',\n",
    "                              'lat': 2.213388,\n",
    "                              'long': 102.246559,\n",
    "                              'type': 'Coffee Shop'}}"
   ]
  },
  {
   "cell_type": "markdown",
   "metadata": {
    "deletable": false,
    "editable": false,
    "nbgrader": {
     "grade": false,
     "locked": true,
     "solution": false
    },
    "tags": [
     "demo_output_md"
    ]
   },
   "source": [
    "<!-- Expected demo output text block -->\n",
    "Although the demo input above indicates _four_ possible users—three in `demo_users_ex7` and a fourth in `demo_checkins_ex7`—a correct solution applied to the demo inputs above should produce only _two_ visit vectors,\n",
    "```\n",
    "{ 880634: {'4ef48cec29c24e3536a28b45'},\n",
    "  1972270: { '4be81fd588ed2d7f3d74cb1d',\n",
    "             '4c270706b012b713a7fd0893',\n",
    "             '4e6b107baeb7c31e43571420'}}\n",
    "```\n",
    "<!-- Include any shout outs here -->\n",
    "for users `880634` and `1972270`. User `491496` does not have a visit vector because they are not in `demo_users_ex7`. User `1290304` does not appear because none of their check-ins appears in `demo_pois_ex7`."
   ]
  },
  {
   "cell_type": "code",
   "execution_count": 34,
   "metadata": {
    "tags": [
     "exercise_solution"
    ]
   },
   "outputs": [
    {
     "name": "stdout",
     "output_type": "stream",
     "text": [
      "defaultdict(<class 'set'>,\n",
      "            { 880634: {'4ef48cec29c24e3536a28b45'},\n",
      "              1972270: { '4be81fd588ed2d7f3d74cb1d',\n",
      "                         '4c270706b012b713a7fd0893',\n",
      "                         '4e6b107baeb7c31e43571420'}})\n"
     ]
    }
   ],
   "source": [
    "### Exercise 7 solution\n",
    "def form_visit_vectors(users, checkins, pois):\n",
    "    ###\n",
    "    idSet = set()\n",
    "    userSet = set()\n",
    "    finalDict = defaultdict(set)\n",
    "        \n",
    "    for user in users:\n",
    "        userSet.add(user)\n",
    "    for key in checkins:\n",
    "        idSet.add(key)\n",
    "        \n",
    "    sameSet = userSet.intersection(idSet)\n",
    "    \n",
    "    for i in sameSet:\n",
    "        for j in range(len(checkins[i])):\n",
    "            for key in pois:\n",
    "                if checkins[i][j]['poi'] == key:\n",
    "                    finalDict[i].add(key)\n",
    "                    \n",
    "    return finalDict\n",
    "    ###\n",
    "    \n",
    "### demo function call\n",
    "pprint(form_visit_vectors(demo_users_ex7, demo_checkins_ex7, demo_pois_ex7), indent=2)"
   ]
  },
  {
   "cell_type": "markdown",
   "metadata": {
    "deletable": false,
    "editable": false,
    "nbgrader": {
     "grade": false,
     "locked": true,
     "solution": false
    },
    "tags": [
     "test_data_boilerplate"
    ]
   },
   "source": [
    "<!-- Test Cell Boilerplate -->\n",
    "The cell below will test your solution for Exercise 7. The testing variables will be available for debugging under the following names in a dictionary format.\n",
    "- `input_vars` - Input variables for your solution. \n",
    "- `original_input_vars` - Copy of input variables from prior to running your solution. These _should_ be the same as `input_vars` - otherwise the inputs were modified by your solution.\n",
    "- `returned_output_vars` - Outputs returned by your solution.\n",
    "- `true_output_vars` - The expected output. This _should_ \"match\" `returned_output_vars` based on the question requirements - otherwise, your solution is not returning the correct output. "
   ]
  },
  {
   "cell_type": "code",
   "execution_count": 35,
   "metadata": {
    "deletable": false,
    "editable": false,
    "nbgrader": {
     "grade": true,
     "grade_id": "ex7",
     "locked": true,
     "points": "2",
     "solution": false
    },
    "tags": []
   },
   "outputs": [
    {
     "name": "stdout",
     "output_type": "stream",
     "text": [
      "Passed! Please submit.\n"
     ]
    }
   ],
   "source": [
    "### test_cell_ex7\n",
    "###\n",
    "### AUTOGRADER TEST - DO NOT REMOVE\n",
    "###\n",
    "from tester_fw.testers import Tester\n",
    "\n",
    "conf = {\n",
    "    'case_file':'tc_7', \n",
    "    'func': form_visit_vectors, # replace this with the function defined above\n",
    "    'inputs':{ # input config dict. keys are parameter names\n",
    "        'users':{\n",
    "            'dtype':'set', # data type of param.\n",
    "            'check_modified':True,\n",
    "        },\n",
    "        'checkins':{\n",
    "            'dtype':'dict', # data type of param.\n",
    "            'check_modified':True,\n",
    "        },\n",
    "        'pois':{\n",
    "            'dtype':'dict', # data type of param.\n",
    "            'check_modified':True,\n",
    "        }\n",
    "    },\n",
    "    'outputs':{\n",
    "        'output_0':{\n",
    "            'index':0,\n",
    "            'dtype':'dict',\n",
    "            'check_dtype': True,\n",
    "            'check_col_dtypes': True, # Ignored if dtype is not df\n",
    "            'check_col_order': True, # Ignored if dtype is not df\n",
    "            'check_row_order': True, # Ignored if dtype is not df\n",
    "            'check_column_type': True, # Ignored if dtype is not df\n",
    "            'float_tolerance': 10 ** (-6)\n",
    "        }\n",
    "    }\n",
    "}\n",
    "tester = Tester(conf, key=b'1ZePXzAcTR7lcNpmx1HRK0lT3v-Ikrg8mZ3n-wVFTBo=', path='resource/asnlib/publicdata/')\n",
    "for _ in range(70):\n",
    "    try:\n",
    "        tester.run_test()\n",
    "        (input_vars, original_input_vars, returned_output_vars, true_output_vars) = tester.get_test_vars()\n",
    "    except:\n",
    "        (input_vars, original_input_vars, returned_output_vars, true_output_vars) = tester.get_test_vars()\n",
    "        raise\n",
    "\n",
    "###\n",
    "### AUTOGRADER TEST - DO NOT REMOVE\n",
    "###\n",
    "print('Passed! Please submit.')"
   ]
  },
  {
   "cell_type": "markdown",
   "metadata": {
    "deletable": false,
    "editable": false,
    "nbgrader": {
     "grade": false,
     "locked": true,
     "solution": false
    }
   },
   "source": [
    "**RUN ME: Visit vectors:** If you had a correct solution, you could use it to calculate all visit vectors of the real dataset. We have done just that for you.\n",
    "\n",
    "**Run this cell whether or not you completed Exercise 7**. It will create a Python dictionary of visit vectors called `visit_vectors`."
   ]
  },
  {
   "cell_type": "code",
   "execution_count": 36,
   "metadata": {
    "deletable": false,
    "editable": false,
    "nbgrader": {
     "grade": false,
     "locked": true,
     "solution": false
    }
   },
   "outputs": [
    {
     "name": "stdout",
     "output_type": "stream",
     "text": [
      "[2024-11-07 02:11:17.759952] Loading [resource/asnlib/publicdata/visit_vectors.pickle] ...\n",
      "[2024-11-07 02:11:17.983304] ... done!\n",
      "\n",
      "This data has 27,865 entries.\n",
      "\n",
      "There are 27,865 visit vectors.\n",
      "Here are a few of them:\n"
     ]
    },
    {
     "data": {
      "text/plain": [
       "{7484: {'4b50fbaaf964a520dd3b27e3'},\n",
       " 1010201: {'4b4d132cf964a5200eca26e3'},\n",
       " 1704275: {'4f34a125e4b03d9aaa5dc147'}}"
      ]
     },
     "execution_count": 36,
     "metadata": {},
     "output_type": "execute_result"
    }
   ],
   "source": [
    "visit_vectors = load_database('visit_vectors.pickle')\n",
    "print(f\"\\nThere are {len(visit_vectors):,} visit vectors.\")\n",
    "print(\"Here are a few of them:\")\n",
    "sample_dict(visit_vectors, 3)"
   ]
  },
  {
   "cell_type": "markdown",
   "metadata": {
    "deletable": false,
    "editable": false,
    "nbgrader": {
     "grade": false,
     "locked": true,
     "solution": false
    },
    "tags": [
     "exercise_text"
    ]
   },
   "source": [
    "## Exercise 8 (**2** points): `calc_similarities` ##\n",
    "\n",
    "This exercise asks you to measure how similar connected users are to one another using connection vectors and visit vectors.\n",
    "\n",
    "**Similarity:** Recall that the similarity of two users is the number of common POIs between their visit vectors. For instance, if `v` and `w` are two visit vectors,\n",
    "```python\n",
    "v = {'abc', 'def', 'xyz'}\n",
    "w = {'abc', 'xyz', 'lmn'}\n",
    "```\n",
    "then their similiarity equals two, due to `'abc'` and `'xyz'` being common.\n",
    "\n",
    "Complete the function,\n",
    "```python\n",
    "def calc_similarities(visit_vectors, connection_vectors):\n",
    "    ...\n",
    "```\n",
    "so that it calculates similarities per the following requirements.\n",
    "\n",
    "**Inputs:**\n",
    "- `visit_vectors`: A dictionary of sets, where each key is a user and the value is the visit vector, that is, the set of POIs they visited.\n",
    "- `connection_vectors`: A dictionary of sets, where each key is a user and the value is the connections, that is, the set of users they are connected to.\n",
    "\n",
    "**Task:** For every pair `(u, v)` of _connected_ users `u` and `v`, measure their similarity. If either is missing a visit vector, then their similarity is 0.\n",
    "\n",
    "**Outputs:** Return a Python dictionary of tuples. The key is a user. The tuple should have these three components in this order:\n",
    "* Component 0: The length of the user's visit vector.\n",
    "* Component 1: The length of the user's connection vector (i.e., the number of their connections).\n",
    "* Component 2: The maximum similarity between the user and any of their connections.\n",
    "\n",
    "> **Note:** You may assume the connections vectors are \"complete.\" That is, take the connections as given in the data structure. Do **not** try to add or otherwise \"symmetrize\" these connections."
   ]
  },
  {
   "cell_type": "code",
   "execution_count": 37,
   "metadata": {
    "collapsed": true,
    "deletable": false,
    "editable": false,
    "nbgrader": {
     "grade": false,
     "locked": true,
     "solution": false
    },
    "tags": [
     "demo_data"
    ]
   },
   "outputs": [],
   "source": [
    "### Define demo inputs\n",
    "demo_connection_vectors_ex8 = \\\n",
    "{ 100: {101, 102, 103},\n",
    "  101: {104, 100, 103},\n",
    "  103: {101},\n",
    "  104: {107, 100, 101, 103},\n",
    "  105: {100},\n",
    "  106: {107, 103}}\n",
    "\n",
    "demo_visit_vectors_ex8 = \\\n",
    "{ 100: {'344274', 'e3832a'},\n",
    "  101: {'344274', 'e5495e', '9ae1fe', 'e3832a'},\n",
    "  102: {'e5495e'},\n",
    "  103: {'344274', '9ae1fe', 'e5495e', 'e3832a'},\n",
    "  105: {'344274'},\n",
    "  106: {'9ae1fe', 'e5495e', 'e3832a'},\n",
    "  107: {'e3832a'}}"
   ]
  },
  {
   "cell_type": "markdown",
   "metadata": {
    "deletable": false,
    "editable": false,
    "nbgrader": {
     "grade": false,
     "locked": true,
     "solution": false
    },
    "tags": [
     "demo_output_md"
    ]
   },
   "source": [
    "<!-- Expected demo output text block -->\n",
    "A correct function should produce the following result:\n",
    "```\n",
    "{100: (2, 3, 2),\n",
    " 101: (4, 3, 4),\n",
    " 103: (4, 1, 4),\n",
    " 104: (0, 4, 0),\n",
    " 105: (1, 1, 1),\n",
    " 106: (3, 2, 3)}\n",
    "```\n",
    "<!-- Include any shout outs here -->\n",
    "Some quick observations:\n",
    "- This example has 8 possible user IDs (`100` through `107`).\n",
    "- Users `102` and `107` do not appear in the output because they are missing from `demo_connection_vectors_ex8`—there are no connection pairs to enumerate.\n",
    "- User `104` appears in the output. However, since it has no visits (does not appear in `demo_visit_vectors_ex8`, it has a maximum similarity of 0 with all of its neighbors."
   ]
  },
  {
   "cell_type": "code",
   "execution_count": 39,
   "metadata": {
    "tags": [
     "exercise_solution"
    ]
   },
   "outputs": [
    {
     "name": "stdout",
     "output_type": "stream",
     "text": [
      "{100: (2, 3, 2),\n",
      " 101: (4, 3, 4),\n",
      " 103: (4, 1, 4),\n",
      " 104: (0, 4, 0),\n",
      " 105: (1, 1, 1),\n",
      " 106: (3, 2, 3)}\n"
     ]
    }
   ],
   "source": [
    "### Exercise 8 solution\n",
    "def calc_similarities(visit_vectors, connection_vectors):\n",
    "    ###\n",
    "    EMPTY_SET = set()\n",
    "    sims = {}\n",
    "    for u, u_conns in connection_vectors.items():\n",
    "        u_visits = visit_vectors.get(u, EMPTY_SET)\n",
    "        sim_max = 0\n",
    "        for v in u_conns:\n",
    "            v_visits = visit_vectors.get(v, EMPTY_SET)\n",
    "            sim_uv = len(u_visits & v_visits)\n",
    "            sim_max = max(sim_max, sim_uv)\n",
    "        sims[u] = (len(u_visits), len(u_conns), sim_max)\n",
    "    return sims\n",
    "    ###\n",
    "    \n",
    "### demo function call\n",
    "pprint(calc_similarities(demo_visit_vectors_ex8, demo_connection_vectors_ex8))"
   ]
  },
  {
   "cell_type": "markdown",
   "metadata": {
    "deletable": false,
    "editable": false,
    "nbgrader": {
     "grade": false,
     "locked": true,
     "solution": false
    },
    "tags": [
     "test_data_boilerplate"
    ]
   },
   "source": [
    "<!-- Test Cell Boilerplate -->\n",
    "The cell below will test your solution for Exercise 7. The testing variables will be available for debugging under the following names in a dictionary format.\n",
    "- `input_vars` - Input variables for your solution. \n",
    "- `original_input_vars` - Copy of input variables from prior to running your solution. These _should_ be the same as `input_vars` - otherwise the inputs were modified by your solution.\n",
    "- `returned_output_vars` - Outputs returned by your solution.\n",
    "- `true_output_vars` - The expected output. This _should_ \"match\" `returned_output_vars` based on the question requirements - otherwise, your solution is not returning the correct output. "
   ]
  },
  {
   "cell_type": "code",
   "execution_count": 40,
   "metadata": {
    "deletable": false,
    "editable": false,
    "nbgrader": {
     "grade": true,
     "grade_id": "ex8",
     "locked": true,
     "points": "2",
     "solution": false
    },
    "tags": []
   },
   "outputs": [
    {
     "name": "stdout",
     "output_type": "stream",
     "text": [
      "Passed! Please submit.\n"
     ]
    }
   ],
   "source": [
    "### test_cell_ex8\n",
    "###\n",
    "### AUTOGRADER TEST - DO NOT REMOVE\n",
    "###\n",
    "from tester_fw.testers import Tester\n",
    "\n",
    "conf = {\n",
    "    'case_file':'tc_8', \n",
    "    'func': calc_similarities, # replace this with the function defined above\n",
    "    'inputs':{ # input config dict. keys are parameter names\n",
    "        'visit_vectors':{\n",
    "            'dtype':'dict', # data type of param.\n",
    "            'check_modified':True,\n",
    "        },\n",
    "        'connection_vectors':{\n",
    "            'dtype':'dict', # data type of param.\n",
    "            'check_modified':True,\n",
    "        },\n",
    "    },\n",
    "    'outputs':{\n",
    "        'output_0':{\n",
    "            'index':0,\n",
    "            'dtype':'dict',\n",
    "            'check_dtype': True,\n",
    "            'check_col_dtypes': True, # Ignored if dtype is not df\n",
    "            'check_col_order': True, # Ignored if dtype is not df\n",
    "            'check_row_order': True, # Ignored if dtype is not df\n",
    "            'check_column_type': True, # Ignored if dtype is not df\n",
    "            'float_tolerance': 10 ** (-6)\n",
    "        }\n",
    "    }\n",
    "}\n",
    "tester = Tester(conf, key=b'1ZePXzAcTR7lcNpmx1HRK0lT3v-Ikrg8mZ3n-wVFTBo=', path='resource/asnlib/publicdata/')\n",
    "for _ in range(70):\n",
    "    try:\n",
    "        tester.run_test()\n",
    "        (input_vars, original_input_vars, returned_output_vars, true_output_vars) = tester.get_test_vars()\n",
    "    except:\n",
    "        (input_vars, original_input_vars, returned_output_vars, true_output_vars) = tester.get_test_vars()\n",
    "        raise\n",
    "\n",
    "###\n",
    "### AUTOGRADER TEST - DO NOT REMOVE\n",
    "###\n",
    "print('Passed! Please submit.')"
   ]
  },
  {
   "cell_type": "markdown",
   "metadata": {
    "deletable": false,
    "editable": false,
    "nbgrader": {
     "grade": false,
     "locked": true,
     "solution": false
    }
   },
   "source": [
    "**RUN ME: Similarity analysis:** If you had a correct solution, you could use it to calculate all similarity scores for all users. We have done just that for you.\n",
    "\n",
    "The code cell below plots the results. One conclusion is that a user's connections do not seem to reflect their interests, as assessed by check-ins behavior. _(In this analysis, recall that the only check-ins considered are those pertaining to food and drink, which is at least one kind of social interest.)_\n",
    "\n",
    "**Run this cell whether or not you completed Exercise 8** to see the results. It will create a plot for your edification."
   ]
  },
  {
   "cell_type": "code",
   "execution_count": 41,
   "metadata": {
    "deletable": false,
    "editable": false,
    "nbgrader": {
     "grade": false,
     "locked": true,
     "solution": false
    }
   },
   "outputs": [
    {
     "name": "stdout",
     "output_type": "stream",
     "text": [
      "[2024-11-07 02:12:06.755575] Loading [resource/asnlib/publicdata/sims.pickle] ...\n",
      "[2024-11-07 02:12:06.937135] ... done!\n",
      "\n",
      "This data has 114,324 entries.\n",
      "[(88.94472361809045, 0), (4.0201005025125625, 5), (4.522613065326634, 10), (1.0050251256281406, 15), (0.5025125628140703, 20), (0.5025125628140703, 25), (0.5025125628140703, 30), (0.0, 35), (0.0, 40), (0.0, 45), (0.0, 50), (0.0, 55), (0.0, 60), (0.0, 65), (0.0, 70), (0.0, 75), (0.0, 80), (0.0, 85), (0.0, 90), (0.0, 95)]\n"
     ]
    },
    {
     "name": "stderr",
     "output_type": "stream",
     "text": [
      "Matplotlib is building the font cache; this may take a moment.\n"
     ]
    },
    {
     "data": {
      "image/png": "[encoded data removed]",
      "text/plain": [
       "<Figure size 720x405 with 1 Axes>"
      ]
     },
     "metadata": {
      "needs_background": "light"
     },
     "output_type": "display_data"
    }
   ],
   "source": [
    "sims = load_database('sims.pickle')\n",
    "\n",
    "def make_sims_histogram(sims=sims):\n",
    "    from numpy import histogram\n",
    "    VISITS_THRESHOLD = 5\n",
    "    CONNS_THRESHOLD = 5\n",
    "    percent_in_common = [common/total*100 for num_conns, total, common in sims.values()\n",
    "                         if total >= VISITS_THRESHOLD and num_conns >= CONNS_THRESHOLD]\n",
    "    counts_in_common, bins_in_common = histogram(percent_in_common, bins=list(range(0, 105, 5)))\n",
    "    print(list((c/len(percent_in_common)*100, b) for c, b in zip(counts_in_common, bins_in_common)))\n",
    "\n",
    "    from matplotlib.pyplot import figure, hist, title, xlabel, ylabel\n",
    "    figure(figsize=(10, 5.625))\n",
    "    hist(bins_in_common[:-1], bins_in_common,\n",
    "         weights=[c/len(percent_in_common)*100 for c in counts_in_common])\n",
    "    title(f'Check-ins similarity (for the {len(percent_in_common):,} users that have at least {VISITS_THRESHOLD:,} check-ins and {CONNS_THRESHOLD:,} connections.)',\n",
    "          loc='left')\n",
    "    xlabel('% of check-ins that overlap with connections')\n",
    "    ylabel('% of users', rotation=0, horizontalalignment='right')\n",
    "    pass\n",
    "\n",
    "make_sims_histogram()"
   ]
  },
  {
   "cell_type": "markdown",
   "metadata": {
    "deletable": false,
    "editable": false,
    "nbgrader": {
     "grade": false,
     "locked": true,
     "solution": false
    }
   },
   "source": [
    "# Part G: Recommending new connections #\n",
    "\n",
    "The check-ins data allows us to do something interesting: we can try to suggest **new** connections based on similar visit behavior!"
   ]
  },
  {
   "cell_type": "markdown",
   "metadata": {
    "deletable": false,
    "editable": false,
    "nbgrader": {
     "grade": false,
     "locked": true,
     "solution": false
    },
    "tags": [
     "exercise_text"
    ]
   },
   "source": [
    "## Exercise 9 (**3** points): `suggest_friends` ##\n",
    "\n",
    "Complete the function,\n",
    "```python\n",
    "def suggest_friends(user_id, visit_vectors, connection_vectors):\n",
    "    ...\n",
    "```\n",
    "so that it **suggests new friends** for a given user. Here are the requirements:\n",
    "\n",
    "**Inputs:**\n",
    "- `user_id`: A user ID, given as an integer.\n",
    "- `visit_vectors`: The collection of visit vectors for all users (see Part F, Exercise 7).\n",
    "- `connection_vectors`: The collection of connection vectors for all users (see Part E, Exercise 6).\n",
    "\n",
    "**Task:** Compare the visit vector for `user_id` against the visit vectors of all other users who have a visit vector but are **not** _already_ connected to that user. Return the top matches.\n",
    "\n",
    "**Outputs:** Return the top 3 most similar candidates as a Python list of pairs. The first element of the pair is the suggested user ID and the second is the similarity measure. The output must be sorted in _descending_ order from most matches to fewest matches. Break ties using the user ID in _ascending_ order. If there are fewer than 3 matches, return them all.\n",
    "\n",
    "**Notes:**\n",
    "1. If user `user_id` does not have a visit vector, return an empty list.\n",
    "2. The top \"matches\" (excluding existing connections) might have a similarity score of 0."
   ]
  },
  {
   "cell_type": "code",
   "execution_count": 42,
   "metadata": {
    "collapsed": true,
    "deletable": false,
    "editable": false,
    "nbgrader": {
     "grade": false,
     "locked": true,
     "solution": false
    },
    "tags": [
     "demo_data"
    ]
   },
   "outputs": [],
   "source": [
    "### Define demo inputs\n",
    "demo_user_id_ex9 = 101\n",
    "\n",
    "demo_visit_vectors_ex9 = \\\n",
    "{100: {'e3832a', '344274'},\n",
    " 101: {'9ae1fe', 'e3832a', 'e5495e', '344274'},\n",
    " 102: {'e5495e'},\n",
    " 103: {'e5495e', 'e3832a', '9ae1fe', '344274'},\n",
    " 105: {'344274'},\n",
    " 106: {'e5495e', 'e3832a', '9ae1fe'},\n",
    " 107: {'e3832a'}}\n",
    "\n",
    "demo_connection_vectors_ex9 = { \\\n",
    "  100: {101, 102, 103},\n",
    "  101: {104, 100, 103},\n",
    "  103: {101},\n",
    "  104: {107, 100, 101, 103},\n",
    "  105: {100},\n",
    "  106: {107, 103}}"
   ]
  },
  {
   "cell_type": "markdown",
   "metadata": {
    "deletable": false,
    "editable": false,
    "nbgrader": {
     "grade": false,
     "locked": true,
     "solution": false
    },
    "tags": [
     "demo_output_md"
    ]
   },
   "source": [
    "<!-- Expected demo output text block -->\n",
    "A correct implementation should produce the following result on the demo inputs above:\n",
    "```\n",
    "[(106, 3), (102, 1), (105, 1)]\n",
    "```\n",
    "<!-- Include any shout outs here -->"
   ]
  },
  {
   "cell_type": "code",
   "execution_count": 43,
   "metadata": {
    "tags": [
     "exercise_solution"
    ]
   },
   "outputs": [
    {
     "name": "stdout",
     "output_type": "stream",
     "text": [
      "[(106, 3), (102, 1), (105, 1)]\n"
     ]
    }
   ],
   "source": [
    "### Exercise 9 solution\n",
    "def suggest_friends(user_id, visit_vectors, connection_vectors):\n",
    "    ###\n",
    "    EMPTY_SET = set()\n",
    "    TOP = 3\n",
    "    if user_id not in visit_vectors:\n",
    "        return []\n",
    "    user_visits = visit_vectors[user_id]\n",
    "    user_conns = connection_vectors.get(user_id, EMPTY_SET)\n",
    "    non_conns = set(visit_vectors.keys()) - {user_id} - user_conns\n",
    "    candidates = [(candidate, len(user_visits & visit_vectors.get(candidate, EMPTY_SET)))\n",
    "                  for candidate in non_conns]\n",
    "    ordered_candidates = sorted(candidates, key=lambda c: (c[1], -c[0]), reverse=True)[:TOP]\n",
    "    return ordered_candidates\n",
    "    ###\n",
    "    \n",
    "### demo function call\n",
    "pprint(suggest_friends(demo_user_id_ex9, demo_visit_vectors_ex9, demo_connection_vectors_ex9))"
   ]
  },
  {
   "cell_type": "markdown",
   "metadata": {
    "deletable": false,
    "editable": false,
    "nbgrader": {
     "grade": false,
     "locked": true,
     "solution": false
    },
    "tags": [
     "test_data_boilerplate"
    ]
   },
   "source": [
    "<!-- Test Cell Boilerplate -->\n",
    "The cell below will test your solution for Exercise 9. The testing variables will be available for debugging under the following names in a dictionary format.\n",
    "- `input_vars` - Input variables for your solution. \n",
    "- `original_input_vars` - Copy of input variables from prior to running your solution. These _should_ be the same as `input_vars` - otherwise the inputs were modified by your solution.\n",
    "- `returned_output_vars` - Outputs returned by your solution.\n",
    "- `true_output_vars` - The expected output. This _should_ \"match\" `returned_output_vars` based on the question requirements - otherwise, your solution is not returning the correct output. "
   ]
  },
  {
   "cell_type": "code",
   "execution_count": 44,
   "metadata": {
    "deletable": false,
    "editable": false,
    "nbgrader": {
     "grade": true,
     "grade_id": "ex9",
     "locked": true,
     "points": "3",
     "solution": false
    },
    "tags": []
   },
   "outputs": [
    {
     "name": "stdout",
     "output_type": "stream",
     "text": [
      "Passed! Please submit.\n"
     ]
    }
   ],
   "source": [
    "### test_cell_ex9\n",
    "###\n",
    "### AUTOGRADER TEST - DO NOT REMOVE\n",
    "###\n",
    "from tester_fw.testers import Tester\n",
    "\n",
    "conf = {\n",
    "    'case_file':'tc_9', \n",
    "    'func': suggest_friends, # replace this with the function defined above\n",
    "    'inputs':{ # input config dict. keys are parameter names\n",
    "        'user_id':{\n",
    "            'dtype':'int', # data type of param.\n",
    "            'check_modified':True,\n",
    "        },\n",
    "        'visit_vectors':{\n",
    "            'dtype':'dict', # data type of param.\n",
    "            'check_modified':True,\n",
    "        },\n",
    "        'connection_vectors':{\n",
    "            'dtype':'dict', # data type of param.\n",
    "            'check_modified':True,\n",
    "        }\n",
    "    },\n",
    "    'outputs':{\n",
    "        'output_0':{\n",
    "            'index':0,\n",
    "            'dtype':'list',\n",
    "            'check_dtype': True,\n",
    "            'check_col_dtypes': True, # Ignored if dtype is not df\n",
    "            'check_col_order': True, # Ignored if dtype is not df\n",
    "            'check_row_order': True, # Ignored if dtype is not df\n",
    "            'check_column_type': True, # Ignored if dtype is not df\n",
    "            'float_tolerance': 10 ** (-6)\n",
    "        }\n",
    "    }\n",
    "}\n",
    "tester = Tester(conf, key=b'1ZePXzAcTR7lcNpmx1HRK0lT3v-Ikrg8mZ3n-wVFTBo=', path='resource/asnlib/publicdata/')\n",
    "for _ in range(70):\n",
    "    try:\n",
    "        tester.run_test()\n",
    "        (input_vars, original_input_vars, returned_output_vars, true_output_vars) = tester.get_test_vars()\n",
    "    except:\n",
    "        (input_vars, original_input_vars, returned_output_vars, true_output_vars) = tester.get_test_vars()\n",
    "        raise\n",
    "\n",
    "###\n",
    "### AUTOGRADER TEST - DO NOT REMOVE\n",
    "###\n",
    "print('Passed! Please submit.')"
   ]
  },
  {
   "cell_type": "markdown",
   "metadata": {
    "deletable": false,
    "editable": false,
    "nbgrader": {
     "grade": false,
     "locked": true,
     "solution": false
    },
    "tags": [
     "fin"
    ]
   },
   "source": [
    "# Fin: Submit your work! #\n",
    "\n",
    "If you have made it this far, congratulations on completing the exam. **Don't forget to submit!**\n",
    "\n",
    "If you are interested in exploring this topic after the exam is over, run the friend suggester on other users and see how the distribution of candidate matches compares to existing matches. Is there an improvement? Can you come up with a better method?"
   ]
  }
 ],
 "metadata": {
  "interpreter": {
   "hash": "f2b38b6e01547e8f771d473ea2b8718fd0728eea782e4c924ed8783f739d4a6c"
  },
  "kernelspec": {
   "display_name": "Python 3.8",
   "language": "python",
   "name": "python38"
  },
  "language_info": {
   "codemirror_mode": {
    "name": "ipython",
    "version": 3
   },
   "file_extension": ".py",
   "mimetype": "text/x-python",
   "name": "python",
   "nbconvert_exporter": "python",
   "pygments_lexer": "ipython3",
   "version": "3.8.7"
  },
  "toc": {
   "base_numbering": 1,
   "nav_menu": [],
   "number_sections": true,
   "sideBar": true,
   "skip_h1_title": false,
   "title_cell": "Table of Contents",
   "title_sidebar": "Contents",
   "toc_cell": false,
   "toc_position": {
    "height": "790px",
    "left": "241px",
    "top": "67.1333px",
    "width": "384px"
   },
   "toc_section_display": true,
   "toc_window_display": false
  }
 },
 "nbformat": 4,
 "nbformat_minor": 5
}
