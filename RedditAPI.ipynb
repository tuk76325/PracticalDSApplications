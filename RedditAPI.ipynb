{
 "cells": [
  {
   "cell_type": "markdown",
   "metadata": {
    "deletable": false,
    "editable": false,
    "nbgrader": {
     "grade": false,
     "locked": true,
     "solution": false
    },
    "tags": [
     "notebook_header"
    ]
   },
   "source": [
    "# `Midterm 1`, `Fall 2022`: `Reddit API Data`\n",
    "\n",
    "[solution](resource/asnlib/publicdata/mt1-fa22-soln.html)  \n",
    "_Version 1.0.2_  \n",
    "\n",
    "Version History  \n",
    "  \n",
    "1.0.2 - 2022/10/03 - Increase trials in test cells 3a and 8.  \n",
    "1.0.1 - 2022-10-01 - Increase trials in test cell 3b.  \n",
    "1.0.0 - 2022-09-30 - Initial release.  \n",
    "  \n",
    "\n",
    "*All of the header information is important. Please read it..*\n",
    "\n",
    "**Topics, number of exercises:** This problem builds on your knowledge of string operations, base Python data structures, and implementing mathematics. It has **9** exercises, numbered 0 to **8**. There are **18** available points. However, to earn 100% the threshold is **14** points. (Therefore, once you hit **14** points, you can stop. There is no extra credit for exceeding this threshold.)\n",
    "\n",
    "**Exercise ordering:** Each exercise builds logically on previous exercises, but you may solve them in any order. That is, if you can't solve an exercise, you can still move on and try the next one. Use this to your advantage, as the exercises are **not** necessarily ordered in terms of difficulty. Higher point values generally indicate more difficult exercises. \n",
    "\n",
    "**Demo cells:** Code cells starting with the comment `### define demo inputs` load results from prior exercises applied to the entire data set and use those to build demo inputs. These must be run for subsequent demos to work properly, but they do not affect the test cells. The data loaded in these cells may be rather large (at least in terms of human readability). You are free to print or otherwise use Python to explore them, but we did not print them in the starter code.\n",
    "\n",
    "**Debugging your code:** Right before each exercise test cell, there is a block of text explaining the variables available to you for debugging. You may use these to test your code and can print/display them as needed (careful when printing large objects, you may want to print the head or chunks of rows at a time).\n",
    "\n",
    "**Exercise point breakdown:**\n",
    "\n",
    "- Exercise 0: **1** point(s)\n",
    "- Exercise 1: **2** point(s)\n",
    "- Exercise 2: **1** point(s)\n",
    "- Exercise 3: **5** point(s) - Contains 2 independent parts - 3a: **3** points; 3b: **2** points\n",
    "- Exercise 4: **1** point(s)\n",
    "- Exercise 5: **2** point(s)\n",
    "- Exercise 6: **2** point(s)\n",
    "- Exercise 7: **1** point(s)\n",
    "- Exercise 8: **2** point(s)\n",
    "\n",
    "**Final reminders:** \n",
    "\n",
    "- Submit after **every exercise**\n",
    "- If you have questions check the [exam guide](https://cse6040.gatech.edu/fa22/exam_guide.html)  \n",
    "- Review the generated grade report after you submit to see what errors were returned\n",
    "- Stay calm, skip problems as needed, and take short breaks at your leisure\n"
   ]
  },
  {
   "cell_type": "markdown",
   "metadata": {
    "deletable": false,
    "editable": false,
    "nbgrader": {
     "grade": false,
     "locked": true,
     "solution": false
    },
    "tags": [
     "topic_intro"
    ]
   },
   "source": [
    "## Topic Introduction\n",
    "\n",
    "Reddit is a popular online discussion board where users make hundreds of millions of posts and billions of comments annually. Discussion topics run the gamut from Spongebob Squarepants memes to advanced science and literature. The posts on the more active topics (called \"sub-reddits\") are a veritable treasure trove of information on the \"pulse\" of that topic. Additionally, all of this information is freely and publicly accessible via a [REST API](https://www.reddit.com/dev/api/). \n",
    "\n",
    "In this course we are interested in learning Python. There's a sub-reddit for that! ([r/learnpython](https://www.reddit.com/r/learnpython/)). For this problem we used the REST API to pull the \"all-time\" top 800 posts from this sub-reddit (as of summer 2022) for analysis.\n",
    "\n",
    "In this notebook you will handle the paginated JSON responses from the API and perform two simple but meaningful analyses to extract insights from the data."
   ]
  },
  {
   "cell_type": "code",
   "execution_count": 1,
   "metadata": {
    "collapsed": true,
    "deletable": false,
    "editable": false,
    "nbgrader": {
     "grade": false,
     "locked": true,
     "solution": false
    },
    "tags": [
     "global_imports"
    ]
   },
   "outputs": [],
   "source": [
    "### Global Imports\n",
    "import json\n",
    "import re\n",
    "from collections import defaultdict\n",
    "\n",
    "# Don't worry about this hidden test. It's not actually testing anything, just starting some validation tools.\n",
    "###\n",
    "### AUTOGRADER TEST - DO NOT REMOVE\n",
    "###\n"
   ]
  },
  {
   "cell_type": "markdown",
   "metadata": {
    "deletable": false,
    "editable": false,
    "nbgrader": {
     "grade": false,
     "locked": true,
     "solution": false
    },
    "tags": [
     "exercise_text"
    ]
   },
   "source": [
    "## Exercise 0 - (**1** Points): \n",
    "\n",
    "**This one's a freebie!**\n",
    "\n",
    "To start things off we will load the result of the requests we made against the API into the notebook by reading a JSON file. "
   ]
  },
  {
   "cell_type": "code",
   "execution_count": 2,
   "metadata": {
    "collapsed": true,
    "tags": [
     "exercise_solution"
    ]
   },
   "outputs": [],
   "source": [
    "### Exercise 0 solution\n",
    "# Load data - 1 pt freebie!\n",
    "with open('resource/asnlib/publicdata/learnpython_top_800_all.json') as f:\n",
    "    raw_reddit_data = json.load(f)\n",
    "with open('resource/asnlib/publicdata/stopwords.json') as f:\n",
    "    stopwords = set([s.replace(\"'\", \"\") for s in json.load(f)])"
   ]
  },
  {
   "cell_type": "markdown",
   "metadata": {
    "deletable": false,
    "editable": false,
    "nbgrader": {
     "grade": false,
     "locked": true,
     "solution": false
    },
    "tags": [
     "test_data_boilerplate"
    ]
   },
   "source": [
    "<!-- Test Cell Boilerplate -->\n",
    "The cell below will verify that the data is loaded into the notebook."
   ]
  },
  {
   "cell_type": "code",
   "execution_count": 3,
   "metadata": {
    "deletable": false,
    "editable": false,
    "nbgrader": {
     "grade": true,
     "grade_id": "ex0",
     "locked": true,
     "points": "1",
     "solution": false
    },
    "tags": []
   },
   "outputs": [
    {
     "name": "stdout",
     "output_type": "stream",
     "text": [
      "Passed! Please submit.\n"
     ]
    }
   ],
   "source": [
    "### test_cell_ex0### test_cell_ex0\n",
    "assert isinstance(raw_reddit_data, list), \"Make sure you ran the solution cell for this exercise!\"\n",
    "assert isinstance(stopwords, set), \"Make sure you ran the solution cell for this exercise!\"\n",
    "print('Passed! Please submit.')"
   ]
  },
  {
   "cell_type": "markdown",
   "metadata": {
    "deletable": false,
    "editable": false,
    "nbgrader": {
     "grade": false,
     "locked": true,
     "solution": false
    },
    "tags": [
     "exercise_text"
    ]
   },
   "source": [
    "## Exercise 1 - (**2** Points): \n",
    "\n",
    "**Motivation (don't dwell on this)**  \n",
    "\n",
    "Now that the data's loaded, we have to make sense of it. Here's a printout of the first 1000 characters of the JSON we just loaded... (just take a glance, it's not worth spending time trying to visually parse this.)\n",
    "\n",
    "```\n",
    "[{'kind': 'Listing', 'data': {'after': 't3_lra4l2', 'dist': 100, 'modhash': '', 'geo_filter': '', 'children': [{'kind': 't3', 'data': {'approved_at_utc': None, 'subreddit': 'learnpython', 'selftext': 'Hi all, \\n\\nFirstly this is going to be a long post to hopefully help people genuinely looking to commit to becoming a developer by sharing my story of how I went from absolutely zero knowledge of programming (as you can see by my post history) to landing my first python developer role.\\n\\nLocation: UK\\n\\nTo kick things off about a year ago I wasnt happy with the job(s) I was doing, long hours, very low pay, so I came across python by chance. Yes I admit the money was what attracted me alone to start off with as I am quite a money motivated person. Ofcourse I knew and still know it will be a long journey to reach the salaries offered but I have managed to finally get my first step on the ladder by landing a job as a python developer. Enough of the story, lets get on with it.\\n\\nI will lis\n",
    "```\n",
    "\n",
    "Even though this is technically human readable, there are too many levels and too much text to make sense of this visually. We know that since it's a JSON everything is stored in a nested structure of `lists` and `dict`s. We can programmatically analyze the structure!\n",
    "\n",
    "**Requirements**\n",
    "\n",
    "Define the function `analyze_structure(some_object)`. The input `some_object` will either be a `list` or a `dict`. \n",
    "\n",
    "- For a `list` input the function should return a `dict` with the following keys: `{'type', 'len', `**`'value_type'}`**. \n",
    "\n",
    "- For a `dict` input the function should return a `dict` with the following keys: `{'type', 'keys', `**`'value_types'}`**.\n",
    "\n",
    "See the charts below for more information on the key/value pairs:\n",
    "\n",
    "**If the input is a `list`** your result should have these key/value pairs.\n",
    "\n",
    "|key|value|type of value|examples (comma separated)|  \n",
    "|---|---|---|---|  \n",
    "|\"type\"|\"list\"|`str`|The string `\"list\"` is the only acceptable value|  \n",
    "|\"len\"|length of `some_object`|`int`|`1`, `4`, `500`|  \n",
    "|\"value_type\"|The type of the first element of `some_object` (cast to a `str`)|`str`|`\"<class 'str'>\"`, `\"<class 'dict'>\"`|  \n",
    "\n",
    "**If the input is a `dict`** your result should have these key/value pairs.\n",
    "\n",
    "|key|value|type of value|examples (comma separated)|  \n",
    "|---|---|---|---|  \n",
    "|\"type\"|\"dict\"|`str`|The string `\"dict\"` is the only acceptable value|  \n",
    "|\"keys\"|set of `some_object`'s keys|`set`|`{'data', 'kind'}`|  \n",
    "|\"value_types\"|`dict` mapping each of `some_object`'s keys to the type (cast to `str`) of the value associated with it.|`dict` mapping `str` keys to `str` values|`{'kind': \"<class 'str'>\", 'data': \"<class 'dict'>\"}`|  \n",
    "\n",
    "** Note:** Don't forget to cast the `'value_type'` for `list`s and values of `'value_types'` for `dict`s  to strings!   \n",
    "\n",
    "**Note:** You can use `str(type(x))` to cast the `type` of `x` to a `str`."
   ]
  },
  {
   "cell_type": "markdown",
   "metadata": {
    "deletable": false,
    "editable": false,
    "nbgrader": {
     "grade": false,
     "locked": true,
     "solution": false
    },
    "tags": [
     "demo_output_md"
    ]
   },
   "source": [
    "<!-- Expected demo output text block -->\n",
    "The demo included in the solution cell below should display the following output:\n",
    "```\n",
    "{'type': 'list', 'len': 8, 'value_type': \"<class 'dict'>\"}\n",
    "\n",
    "{'type': 'dict', 'keys': {'kind', 'data'}, 'value_types': {'kind': \"<class 'str'>\", 'data': \"<class 'dict'>\"}}\n",
    "\n",
    "{'type': 'dict', 'keys': {'geo_filter', 'before', 'modhash', 'after', 'dist', 'children'}, 'value_types': {'after': \"<class 'str'>\", 'dist': \"<class 'int'>\", 'modhash': \"<class 'str'>\", 'geo_filter': \"<class 'str'>\", 'children': \"<class 'list'>\", 'before': \"<class 'NoneType'>\"}}\n",
    "\n",
    "{'type': 'list', 'len': 100, 'value_type': \"<class 'dict'>\"}\n",
    "\n",
    "{'type': 'dict', 'keys': {'kind', 'data'}, 'value_types': {'kind': \"<class 'str'>\", 'data': \"<class 'dict'>\"}}\n",
    "```\n",
    "<!-- Include any shout outs here -->\n",
    "\n",
    "**Note** this demo will run your solution **5** times, diving level by level into the raw data. Each individual run's output is separated by a blank line."
   ]
  },
  {
   "cell_type": "code",
   "execution_count": 4,
   "metadata": {
    "tags": [
     "exercise_solution"
    ]
   },
   "outputs": [
    {
     "name": "stdout",
     "output_type": "stream",
     "text": [
      "{'type': 'list', 'len': 8, 'value_type': \"<class 'dict'>\"}\n",
      "\n",
      "{'type': 'dict', 'keys': {'data', 'kind'}, 'value_types': {'kind': \"<class 'str'>\", 'data': \"<class 'dict'>\"}}\n",
      "\n",
      "{'type': 'dict', 'keys': {'dist', 'children', 'geo_filter', 'after', 'modhash', 'before'}, 'value_types': {'after': \"<class 'str'>\", 'dist': \"<class 'int'>\", 'modhash': \"<class 'str'>\", 'geo_filter': \"<class 'str'>\", 'children': \"<class 'list'>\", 'before': \"<class 'NoneType'>\"}}\n",
      "\n",
      "{'type': 'list', 'len': 100, 'value_type': \"<class 'dict'>\"}\n",
      "\n",
      "{'type': 'dict', 'keys': {'data', 'kind'}, 'value_types': {'kind': \"<class 'str'>\", 'data': \"<class 'dict'>\"}}\n"
     ]
    }
   ],
   "source": [
    "### Exercise 1 solution\n",
    "from collections import defaultdict\n",
    "def analyze_structure(some_object):\n",
    "    assert isinstance(some_object, (list, dict)), f'argument must be `list` or `dict`, {type(some_object)} was given.'\n",
    "    if isinstance(some_object, list):\n",
    "        # Handle the `list` case\n",
    "        ###\n",
    "        if type(some_object) == list:\n",
    "            finaldict = {'type': 'list', 'len': len(some_object), 'value_type': str(type(some_object[0]))}\n",
    "            return finaldict\n",
    "        ###\n",
    "    elif isinstance(some_object, dict):\n",
    "        # Handle the `dict` case\n",
    "        ###\n",
    "        finaldict = defaultdict()\n",
    "        keysSet = set()\n",
    "        valueTypeDict = defaultdict()\n",
    "        \n",
    "        if type(some_object) == dict: # first dict value      \n",
    "            for keys in some_object:\n",
    "                keysSet.add(keys)\n",
    "\n",
    "            for keys in some_object:\n",
    "                valueTypeDict[keys] = str(type(some_object[keys]))\n",
    "\n",
    "            finaldict = {'type': 'dict', 'keys': keysSet, 'value_types': dict(valueTypeDict)}\n",
    "        return finaldict\n",
    "        ###\n",
    "    else:\n",
    "        assert False # This code will never execute\n",
    "    \n",
    "### demo function calls\n",
    "print(analyze_structure(raw_reddit_data))\n",
    "print()\n",
    "print(analyze_structure(raw_reddit_data[0]))\n",
    "print()\n",
    "print(analyze_structure(raw_reddit_data[0]['data']))\n",
    "print()\n",
    "print(analyze_structure(raw_reddit_data[0]['data']['children']))\n",
    "print()\n",
    "print(analyze_structure(raw_reddit_data[0]['data']['children'][0]))\n",
    "# print(\"--------------------------------------------------------------------------\")\n",
    "# print(returned_output_vars['output_0'])\n",
    "# print(\"--------------------------------------------------------------------------\")\n",
    "# print(true_output_vars['output_0'])"
   ]
  },
  {
   "cell_type": "markdown",
   "metadata": {
    "deletable": false,
    "editable": false,
    "nbgrader": {
     "grade": false,
     "locked": true,
     "solution": false
    },
    "tags": [
     "test_data_boilerplate"
    ]
   },
   "source": [
    "<!-- Test Cell Boilerplate -->\n",
    "The cell below will test your solution for Exercise 1. The testing variables will be available for debugging under the following names in a dictionary format.\n",
    "- `input_vars` - Input variables for your solution. \n",
    "- `original_input_vars` - Copy of input variables from prior to running your solution. These _should_ be the same as `input_vars` - otherwise the inputs were modified by your solution.\n",
    "- `returned_output_vars` - Outputs returned by your solution.\n",
    "- `true_output_vars` - The expected output. This _should_ \"match\" `returned_output_vars` based on the question requirements - otherwise, your solution is not returning the correct output. "
   ]
  },
  {
   "cell_type": "code",
   "execution_count": 5,
   "metadata": {
    "deletable": false,
    "editable": false,
    "nbgrader": {
     "grade": true,
     "grade_id": "ex1",
     "locked": true,
     "points": "2",
     "solution": false
    },
    "tags": []
   },
   "outputs": [
    {
     "name": "stdout",
     "output_type": "stream",
     "text": [
      "Passed! Please submit.\n"
     ]
    }
   ],
   "source": [
    "### test_cell_ex1\n",
    "###\n",
    "### AUTOGRADER TEST - DO NOT REMOVE\n",
    "###\n",
    "from tester_fw.testers import Tester\n",
    "\n",
    "conf = {\n",
    "    'case_file':'tc_1', \n",
    "    'func': analyze_structure, # replace this with the function defined above\n",
    "    'inputs':{ # input config dict. keys are parameter names\n",
    "        'some_object':{\n",
    "            'dtype':'dict', # data type of param.\n",
    "            'check_modified':True,\n",
    "        }\n",
    "    },\n",
    "    'outputs':{\n",
    "        'output_0':{\n",
    "            'index':0,\n",
    "            'dtype':'dict',\n",
    "            'check_dtype': True,\n",
    "            'check_col_dtypes': True, # Ignored if dtype is not df\n",
    "            'check_col_order': True, # Ignored if dtype is not df\n",
    "            'check_row_order': True, # Ignored if dtype is not df\n",
    "            'check_column_type': True, # Ignored if dtype is not df\n",
    "            'float_tolerance': 10 ** (-6)\n",
    "        }\n",
    "    }\n",
    "}\n",
    "tester = Tester(conf, key=b'S90rT5WLPFy08a82F6SXyiKoyeTi33DOHh7bxXASQw0=', path='resource/asnlib/publicdata/')\n",
    "for _ in range(20):\n",
    "    try:\n",
    "        tester.run_test()\n",
    "        (input_vars, original_input_vars, returned_output_vars, true_output_vars) = tester.get_test_vars()\n",
    "    except:\n",
    "        (input_vars, original_input_vars, returned_output_vars, true_output_vars) = tester.get_test_vars()\n",
    "        raise\n",
    "\n",
    "###\n",
    "### AUTOGRADER TEST - DO NOT REMOVE\n",
    "###\n",
    "print('Passed! Please submit.')"
   ]
  },
  {
   "cell_type": "markdown",
   "metadata": {
    "deletable": false,
    "editable": false,
    "nbgrader": {
     "grade": false,
     "locked": true,
     "solution": false
    },
    "tags": [
     "exercise_text"
    ]
   },
   "source": [
    "## Exercise 2 - (**1** Points): \n",
    "**Motivation (don't dwell on this)**\n",
    "\n",
    "In order to maintain server performance and keep response sizes reasonable, the Reddit API paginates results (i.e. it only gives back a slice of the full result). `raw_reddit_data` is actually a `list` of those slices (each slice is a `dict`). Based on the analysis we were able to do with `analyze_structure` in the previous exercise, we can tell that `raw_reddit_data[i]['data']['children']` contains a `list` of all the post data from \"page\" `i`. We need to combine all of these `lists` into a single `list` to remove some unnecessary complexity from later analysis tasks.\n",
    "\n",
    "**Requirements**\n",
    "\n",
    "Define the function `combine_children(raw_reddit_data)`. \n",
    "\n",
    "The input `raw_reddit_data` is a `list` of `dict`s such that for any `i` between `0` and `len(raw_reddit_data) - 1`, there will exist a **`list`** `raw_reddit_data[i]['data']['children']`. \n",
    "\n",
    "The output should be a *single new* `list` which contains all of the elements of each \"children\" list *with the order preserved*."
   ]
  },
  {
   "cell_type": "code",
   "execution_count": 6,
   "metadata": {
    "collapsed": true,
    "deletable": false,
    "editable": false,
    "nbgrader": {
     "grade": false,
     "locked": true,
     "solution": false
    },
    "tags": [
     "demo_data"
    ]
   },
   "outputs": [],
   "source": [
    "### Define demo inputs\n",
    "\n",
    "# child_i_j indicates the j-th element in \"list of children\" i\n",
    "demo_raw_reddit_data_ex2 = [\n",
    "    {'data':{'children':['child_0_0', 'child_0_1']}},\n",
    "    {'data':{'children':['child_1_0', 'child_1_1']}},\n",
    "    {'data':{'children':['child_2_0', 'child_2_1']}}\n",
    "]"
   ]
  },
  {
   "cell_type": "markdown",
   "metadata": {
    "deletable": false,
    "editable": false,
    "nbgrader": {
     "grade": false,
     "locked": true,
     "solution": false
    },
    "tags": [
     "demo_output_md"
    ]
   },
   "source": [
    "<!-- Expected demo output text block -->\n",
    "The demo included in the solution cell below should display the following output:\n",
    "```\n",
    "['child_0_0', 'child_0_1', 'child_1_0', 'child_1_1', 'child_2_0', 'child_2_1']\n",
    "```\n",
    "<!-- Include any shout outs here -->\n",
    "**Note** - the \"lists of children\" in this example are *greatly simplified* to illustrate the top-level structure of `raw_reddit_data`, the output structure, and the ordering requirement."
   ]
  },
  {
   "cell_type": "code",
   "execution_count": 7,
   "metadata": {
    "tags": [
     "exercise_solution"
    ]
   },
   "outputs": [
    {
     "data": {
      "text/plain": [
       "['child_0_0', 'child_0_1', 'child_1_0', 'child_1_1', 'child_2_0', 'child_2_1']"
      ]
     },
     "execution_count": 7,
     "metadata": {},
     "output_type": "execute_result"
    }
   ],
   "source": [
    "### Exercise 2 solution\n",
    "def combine_child_data(raw_reddit_data):\n",
    "    ###\n",
    "    finalLst = []\n",
    "    for i in range(len(raw_reddit_data)):\n",
    "        for j in raw_reddit_data[i]['data']['children']:\n",
    "            finalLst.append(j)\n",
    "    return finalLst\n",
    "    ###\n",
    "    \n",
    "### demo function call\n",
    "combine_child_data(demo_raw_reddit_data_ex2)"
   ]
  },
  {
   "cell_type": "markdown",
   "metadata": {
    "deletable": false,
    "editable": false,
    "nbgrader": {
     "grade": false,
     "locked": true,
     "solution": false
    },
    "tags": [
     "test_data_boilerplate"
    ]
   },
   "source": [
    "<!-- Test Cell Boilerplate -->\n",
    "The cell below will test your solution for Exercise 2. The testing variables will be available for debugging under the following names in a dictionary format.\n",
    "- `input_vars` - Input variables for your solution. \n",
    "- `original_input_vars` - Copy of input variables from prior to running your solution. These _should_ be the same as `input_vars` - otherwise the inputs were modified by your solution.\n",
    "- `returned_output_vars` - Outputs returned by your solution.\n",
    "- `true_output_vars` - The expected output. This _should_ \"match\" `returned_output_vars` based on the question requirements - otherwise, your solution is not returning the correct output. "
   ]
  },
  {
   "cell_type": "code",
   "execution_count": 8,
   "metadata": {
    "deletable": false,
    "editable": false,
    "nbgrader": {
     "grade": true,
     "grade_id": "ex2",
     "locked": true,
     "points": "1",
     "solution": false
    },
    "tags": []
   },
   "outputs": [
    {
     "name": "stdout",
     "output_type": "stream",
     "text": [
      "Passed! Please submit.\n"
     ]
    }
   ],
   "source": [
    "### test_cell_ex2\n",
    "###\n",
    "### AUTOGRADER TEST - DO NOT REMOVE\n",
    "###\n",
    "from tester_fw.testers import Tester\n",
    "\n",
    "conf = {\n",
    "    'case_file':'tc_2', \n",
    "    'func': combine_child_data, # replace this with the function defined above\n",
    "    'inputs':{ # input config dict. keys are parameter names\n",
    "        'raw_reddit_data':{\n",
    "            'dtype':'list', # data type of param.\n",
    "            'check_modified':True,\n",
    "        }\n",
    "    },\n",
    "    'outputs':{\n",
    "        'output_0':{\n",
    "            'index':0,\n",
    "            'dtype':'list',\n",
    "            'check_dtype': True,\n",
    "            'check_col_dtypes': True, # Ignored if dtype is not df\n",
    "            'check_col_order': True, # Ignored if dtype is not df\n",
    "            'check_row_order': True, # Ignored if dtype is not df\n",
    "            'check_column_type': True, # Ignored if dtype is not df\n",
    "            'float_tolerance': 10 ** (-6)\n",
    "        }\n",
    "    }\n",
    "}\n",
    "tester = Tester(conf, key=b'S90rT5WLPFy08a82F6SXyiKoyeTi33DOHh7bxXASQw0=', path='resource/asnlib/publicdata/')\n",
    "for _ in range(20):\n",
    "    try:\n",
    "        tester.run_test()\n",
    "        (input_vars, original_input_vars, returned_output_vars, true_output_vars) = tester.get_test_vars()\n",
    "    except:\n",
    "        (input_vars, original_input_vars, returned_output_vars, true_output_vars) = tester.get_test_vars()\n",
    "        raise\n",
    "\n",
    "###\n",
    "### AUTOGRADER TEST - DO NOT REMOVE\n",
    "###\n",
    "print('Passed! Please submit.')"
   ]
  },
  {
   "cell_type": "markdown",
   "metadata": {
    "deletable": false,
    "editable": false,
    "nbgrader": {
     "grade": false,
     "locked": true,
     "solution": false
    }
   },
   "source": [
    "We ran the following code to combine the post data for the entire data set and stored the result in `resource/asnlib/publicdata/children.json`. \n",
    "\n",
    "\n",
    "```\n",
    "children = combine_child_data(raw_reddit_data)\n",
    "with open('resource/asnlib/publicdata/children.json', 'w') as f:\n",
    "    json.dump(children, f)\n",
    "\n",
    "```"
   ]
  },
  {
   "cell_type": "markdown",
   "metadata": {
    "deletable": false,
    "editable": false,
    "nbgrader": {
     "grade": false,
     "locked": true,
     "solution": false
    }
   },
   "source": [
    "## Helper Function `clean_unicode`\n",
    "\n",
    "Reddit posts allow for unicode special characters and html special characters (letters with accents, emojis, etc.). These characters will cause problems with our analysis. We have provided `clean_unicode(text)` which takes a string input, `text` and returns that string with any such characters replaced with an empty string `''`. You will have to use it in the solution to the next exercise (or figure out a way to strip them out yourself...)"
   ]
  },
  {
   "cell_type": "code",
   "execution_count": 9,
   "metadata": {
    "collapsed": true,
    "deletable": false,
    "editable": false,
    "nbgrader": {
     "grade": false,
     "locked": true,
     "solution": false
    }
   },
   "outputs": [],
   "source": [
    "def clean_unicode(text):\n",
    "    text = re.sub(r'&.*?;', '', text)\n",
    "    encoded = text.encode('unicode_escape')\n",
    "    return re.sub(br\"\\\\u....|\\\\U........|\\\\x..\", b\"\", encoded).decode(\"unicode-escape\")"
   ]
  },
  {
   "cell_type": "markdown",
   "metadata": {
    "deletable": false,
    "editable": false,
    "nbgrader": {
     "grade": false,
     "locked": true,
     "solution": false
    },
    "tags": [
     "exercise_text"
    ]
   },
   "source": [
    "## Exercise 3a - (**3** Points): \n",
    "**Motivation (don't dwell on this)**\n",
    "\n",
    "The text in a Reddit post can contain a lot of characters and formatting which are not useful to our analysis. We need to clean up the text and standardize it.\n",
    "\n",
    "There's a lot of cleaning to be done, so we will be taking care of it in **two phases**. This is the **first phase**.\n",
    "\n",
    "**Requirements**  \n",
    "\n",
    "Define the function `clean_text_phase_0(text)` which takes an inputs `text`, a `str` to be cleaned. All of the following transformations must be performed on `text` and the end result returned as a `str`. Some transformations may conflict with others, but using the order provided will give the correct result.\n",
    "\n",
    "|step number|what to transform|how to identify|transformation|recommendation|  \n",
    "|---|---|---|---|---|  \n",
    "|0|all letters|NA|convert to lower case|use `str` methods|  \n",
    "|1|special unicode characters|handled by `clean_unicode`|Use `clean_unicode`|use provided helper function|  \n",
    "|2|urls|the sequence '`http`' followed by at least one **non-space character**, i.e. `'the http module'` does not contain a url, but `http://cse6040.gatech.edu` is a url.|remove|use `re` - remove pattern matches|  \n",
    "|3|space indicators|**space character**, `-`, `+` , or `=`|replace with `' '`|use `re` - replace pattern matches with a single space.|   \n",
    "|4|posessive ending|`\"'s\"` (does not have to occur at the end of a **word**)|remove|use `re` - remove pattern matches|  \n",
    "|5|symbols|`*`, `_`, `:`, `#`, `.`, `,`(the \"comma\" character), `~`, `?`, `!`, `$`, `%`, `;`, `(`, `)`, `[`, `]`, `/`, `\\`, `{`, `}`, `'`, `<`, `>`, `&`, `` ` ``, `\"`|remove|use `re` - remove pattern matches. **All symbbols are in demo sample data**.|  \n",
    "|6|consecutive spaces|consecutive spaces. ex: `'     '`|replace with single space|use `str` methods to split into \"list of words\", re-combine with `str` methods  \n",
    "\n",
    "The term \"**space character**\" should be taken to mean any character which matches the regex pattern `'\\s'`. This includes *but is not limited* to spaces, newlines, and tabs. The term \"**non-space character**\" should be taken to mean all other characters.\n",
    "\n",
    "The term \"**word**\" should be taken to mean a series of non-space characters which are either wrapped by either space characters or the start or end of a string. We would interpret the string `'these are all words'` to have 4 words."
   ]
  },
  {
   "cell_type": "code",
   "execution_count": 10,
   "metadata": {
    "deletable": false,
    "editable": false,
    "nbgrader": {
     "grade": false,
     "locked": true,
     "solution": false
    },
    "tags": [
     "demo_data"
    ]
   },
   "outputs": [
    {
     "data": {
      "text/plain": [
       "'\\n😀 I just love #Python. You will learn to love it, too!!! (Just as much as I do). \\n\\n\\nCheck out my site at https://cse6040.gatech.edu. It\\'s not much ~~ but I think it\\'s gr8!\\n        \\t       It\\'s really cool & fun! The \"bee\\'s knees\" if you will. 🐝\\n\\nThe request module\\'s functionality really makes HTTP requests a breeze!\\nallon*_:#.,~?!$%;()\\\\[\\\\]\\'/{}\\\\\\'<>&`\"eword\\n\\n\"within\" should remain, but \"it\" should not\\n'"
      ]
     },
     "execution_count": 10,
     "metadata": {},
     "output_type": "execute_result"
    }
   ],
   "source": [
    "### Define demo inputs\n",
    "with open('resource/asnlib/publicdata/children.json') as f:\n",
    "    children = json.load(f)\n",
    "\n",
    "demo_text_ex3a = '''\n",
    "😀 I just love #Python. You will learn to love it, too!!! (Just as much as I do). \n",
    "\n",
    "\n",
    "Check out my site at https://cse6040.gatech.edu. It's not much ~~ but I think it's gr8!\n",
    "        \t       It's really cool & fun! The \"bee's knees\" if you will. 🐝\n",
    "\n",
    "The request module's functionality really makes HTTP requests a breeze!\n",
    "allon*_:#.,~?!$%;()\\[\\]\\'/{}\\\\\\'<>&`\"eword\n",
    "\n",
    "\"within\" should remain, but \"it\" should not\n",
    "'''\n",
    "demo_text_ex3a"
   ]
  },
  {
   "cell_type": "markdown",
   "metadata": {
    "deletable": false,
    "editable": false,
    "nbgrader": {
     "grade": false,
     "locked": true,
     "solution": false
    },
    "tags": [
     "demo_output_md"
    ]
   },
   "source": [
    "<!-- Expected demo output text block -->\n",
    "The demo included in the solution cell below should display the following output:\n",
    "```\n",
    "'i just love python you will learn to love it too just as much as i do check out my site at it not much but i think it gr8 it really cool fun the bee knees if you will the request module functionality really makes http requests a breeze alloneword within should remain but it should not'\n",
    "```\n",
    "<!-- Include any shout outs here -->\n",
    "\n",
    "**Note** This is a simplified example which admittedly includes some nonsense. It checks most **but not all** requirements. If you need help comparing your output and the expected output you can use <https://text-compare.com/>."
   ]
  },
  {
   "cell_type": "code",
   "execution_count": 12,
   "metadata": {
    "tags": [
     "exercise_solution"
    ]
   },
   "outputs": [
    {
     "data": {
      "text/plain": [
       "'i just love python you will learn to love it too just as much as i do check out my site at it not much but i think it gr8 it really cool fun the bee knees if you will the request module functionality really makes http requests a breeze alloneword within should remain but it should not'"
      ]
     },
     "execution_count": 12,
     "metadata": {},
     "output_type": "execute_result"
    }
   ],
   "source": [
    "### Exercise 3a solution\n",
    "def clean_text_phase_0(text):\n",
    "    ###\n",
    "    clean = text.lower() # Convert to lowercase\n",
    "    clean = clean_unicode(clean)\n",
    "    clean = re.sub(r'http[^\\s]+', '', clean) # Remove urls\n",
    "    clean = re.sub(r'[\\s\\-+=]', ' ', clean) # Replace any space character or dash with ' '\n",
    "    clean = re.sub(r'\\'s', '', clean) # Remove \"'s\"\n",
    "    clean = re.sub(r'[*_:#.,~?!$%;()\\[\\]\\'/{}\\\\\\'<>&`\"]', '', clean) # Remove punctuation and grouping symbols \n",
    "    clean = ' '.join(clean.split())\n",
    "    return clean \n",
    "    ###\n",
    "    \n",
    "### demo function call\n",
    "clean_text_phase_0(demo_text_ex3a)"
   ]
  },
  {
   "cell_type": "markdown",
   "metadata": {
    "deletable": false,
    "editable": false,
    "nbgrader": {
     "grade": false,
     "locked": true,
     "solution": false
    },
    "tags": [
     "test_data_boilerplate"
    ]
   },
   "source": [
    "<!-- Test Cell Boilerplate -->\n",
    "The cell below will test your solution for Exercise 3. The testing variables will be available for debugging under the following names in a dictionary format.\n",
    "- `input_vars` - Input variables for your solution. \n",
    "- `original_input_vars` - Copy of input variables from prior to running your solution. These _should_ be the same as `input_vars` - otherwise the inputs were modified by your solution.\n",
    "- `returned_output_vars` - Outputs returned by your solution.\n",
    "- `true_output_vars` - The expected output. This _should_ \"match\" `returned_output_vars` based on the question requirements - otherwise, your solution is not returning the correct output. \n",
    "\n",
    "Depending on the test cases drawn in this cell, a `DepricationWarning` may be raised. **This is nothing to be concerned about**. It indicates that a feature we are using *may* be disabled in a *future* release, but it **will work** for now."
   ]
  },
  {
   "cell_type": "code",
   "execution_count": 13,
   "metadata": {
    "deletable": false,
    "editable": false,
    "nbgrader": {
     "grade": true,
     "grade_id": "ex3a",
     "locked": true,
     "points": "3",
     "solution": false
    },
    "tags": []
   },
   "outputs": [
    {
     "name": "stdout",
     "output_type": "stream",
     "text": [
      "Passed! Please submit.\n"
     ]
    }
   ],
   "source": [
    "### test_cell_ex3a\n",
    "###\n",
    "### AUTOGRADER TEST - DO NOT REMOVE\n",
    "###\n",
    "from tester_fw.testers import Tester\n",
    "\n",
    "conf = {\n",
    "    'case_file':'tc_3a', \n",
    "    'func': clean_text_phase_0, # replace this with the function defined above\n",
    "    'inputs':{ # input config dict. keys are parameter names\n",
    "        'text':{\n",
    "            'dtype':'str', # data type of param.\n",
    "            'check_modified':True,\n",
    "        },\n",
    "    },\n",
    "    'outputs':{\n",
    "        'output_0':{\n",
    "            'index':0,\n",
    "            'dtype':'str',\n",
    "            'check_dtype': True,\n",
    "            'check_col_dtypes': True, # Ignored if dtype is not df\n",
    "            'check_col_order': True, # Ignored if dtype is not df\n",
    "            'check_row_order': True, # Ignored if dtype is not df\n",
    "            'check_column_type': True, # Ignored if dtype is not df\n",
    "            'float_tolerance': 10 ** (-6)\n",
    "        }\n",
    "    }\n",
    "}\n",
    "tester = Tester(conf, key=b'S90rT5WLPFy08a82F6SXyiKoyeTi33DOHh7bxXASQw0=', path='resource/asnlib/publicdata/')\n",
    "for _ in range(100):\n",
    "    try:\n",
    "        tester.run_test()\n",
    "        (input_vars, original_input_vars, returned_output_vars, true_output_vars) = tester.get_test_vars()\n",
    "    except:\n",
    "        (input_vars, original_input_vars, returned_output_vars, true_output_vars) = tester.get_test_vars()\n",
    "        raise\n",
    "\n",
    "###\n",
    "### AUTOGRADER TEST - DO NOT REMOVE\n",
    "###\n",
    "print('Passed! Please submit.')"
   ]
  },
  {
   "cell_type": "markdown",
   "metadata": {
    "deletable": false,
    "editable": false,
    "nbgrader": {
     "grade": false,
     "locked": true,
     "solution": false
    }
   },
   "source": [
    "We ran the code below to do the following:\n",
    "\n",
    "- Clean the text for all posts.\n",
    "- Store the cleaned texts in a dictionary mapping the post id to the cleaned text.\n",
    "- Store this dictionary in `resource/asnlib/publicdata/clean_children_phase_0.json`\n",
    "\n",
    "\n",
    "```\n",
    "clean_children_phase_0 = {child['data']['id']: clean_text_phase_0(child['data']['selftext']) for child in children}\n",
    "with open('resource/asnlib/publicdata/clean_children_phase_0.json', 'w') as f:\n",
    "    json.dump(clean_children_phase_0, f, indent=4)\n",
    "\n",
    "```"
   ]
  },
  {
   "cell_type": "markdown",
   "metadata": {
    "deletable": false,
    "editable": false,
    "nbgrader": {
     "grade": false,
     "locked": true,
     "solution": false
    },
    "tags": [
     "exercise_text"
    ]
   },
   "source": [
    "## Exercise 3b - (**2** Points): \n",
    "**Motivation (don't dwell on this)**\n",
    "\n",
    "The text in a Reddit post can contain a lot of characters and formatting which are not useful to our analysis. We need to clean up the text and standardize it.\n",
    "\n",
    "There's a lot of cleaning to be done, so we will be taking care of it in **two phases**. This is the **second phase**.\n",
    "\n",
    "**Requirements**  \n",
    "\n",
    "Define the function `clean_text_phase_1(text, stopwords)` which takes two inputs `text`, a `str` to be cleaned, and `stopwords`, a `set` of `str` which should not be included in the final result. All of the following transformations must be performed on `text` and the end result returned as a `str`. **Word** removals should be done before dealing with the spaces. (Or you can take care of all 4 requirements in a clever one-liner!)\n",
    "\n",
    "- Remove any **word** which contains a number.\n",
    "- Remove any **word** which is a member of the `set` `stopwords`.\n",
    "- Replace any consecutive spaces with a single space. \n",
    "- Remove leading or trailing spaces from the end result. I.e. the end result should start and end with a **non-space character**.\n",
    "\n",
    "The term \"**space character**\" should be taken to mean any character which matches the regex pattern `'\\s'`. This includes *but is not limited* to spaces, newlines, and tabs. The term \"**non-space character**\" should be taken to mean all other characters.\n",
    "\n",
    "The term \"**word**\" should be taken to mean a series of non-space characters which are either wrapped by either space characters or the start or end of a string. We would interpret the string `'these are all words'` to have 4 words."
   ]
  },
  {
   "cell_type": "code",
   "execution_count": 14,
   "metadata": {
    "deletable": false,
    "editable": false,
    "nbgrader": {
     "grade": false,
     "locked": true,
     "solution": false
    },
    "tags": [
     "demo_data"
    ]
   },
   "outputs": [
    {
     "data": {
      "text/plain": [
       "'i just love python you will learn to love it too just as much as i do check out my site at it not much but i think it gr8 it really cool fun the bee knees if you will the request module functionality really makes http requests a breeze alloneword within should remain but it should not'"
      ]
     },
     "execution_count": 14,
     "metadata": {},
     "output_type": "execute_result"
    }
   ],
   "source": [
    "### Define demo inputs\n",
    "with open('resource/asnlib/publicdata/children.json') as f:\n",
    "    children = json.load(f)\n",
    "demo_stopwords_ex3b = {'as', 'it', 'i', 'the'}\n",
    "demo_text_ex3b = 'i just love python you will learn to love it too just as ' + \\\n",
    "    'much as i do check out my site at it not much but i think it gr8 it really ' + \\\n",
    "    'cool fun the bee knees if you will the request module functionality really ' + \\\n",
    "    'makes http requests a breeze alloneword within should remain but it should not'\n",
    "demo_text_ex3b"
   ]
  },
  {
   "cell_type": "markdown",
   "metadata": {
    "deletable": false,
    "editable": false,
    "nbgrader": {
     "grade": false,
     "locked": true,
     "solution": false
    },
    "tags": [
     "demo_output_md"
    ]
   },
   "source": [
    "<!-- Expected demo output text block -->\n",
    "The demo included in the solution cell below should display the following output:\n",
    "```\n",
    "'just love python you will learn to love too just much do check out my site at not much but think really cool fun bee knees if you will request module functionality really makes http requests a breeze alloneword within should remain but should not'\n",
    "```\n",
    "<!-- Include any shout outs here -->\n",
    "\n",
    "**Note** This is a simplified example which admittedly includes some nonsense. It checks most **but not all** requirements. If you need help comparing your output and the expected output you can use <https://text-compare.com/>."
   ]
  },
  {
   "cell_type": "code",
   "execution_count": 15,
   "metadata": {
    "tags": [
     "exercise_solution"
    ]
   },
   "outputs": [
    {
     "name": "stdout",
     "output_type": "stream",
     "text": [
      "{'it', 'i', 'as', 'the'}\n",
      "just love python you will learn to love too just much do check out my site at not much but think really cool fun bee knees if you will request module functionality really makes http requests a breeze alloneword within should remain but should not\n"
     ]
    },
    {
     "data": {
      "text/plain": [
       "'just love python you will learn to love too just much do check out my site at not much but think really cool fun bee knees if you will request module functionality really makes http requests a breeze alloneword within should remain but should not'"
      ]
     },
     "execution_count": 15,
     "metadata": {},
     "output_type": "execute_result"
    }
   ],
   "source": [
    "### Exercise 3b solution\n",
    "def clean_text_phase_1(text, stopwords):\n",
    "    ###\n",
    "    text = re.sub(\"\\S*\\d\\S*\", '', text)\n",
    "    print(stopwords)\n",
    "    for word in stopwords:\n",
    "        text = re.sub(r\"\\b{}\\b\".format(word), '', text)\n",
    "    text = re.sub(\"\\s{2,}\", ' ', text)\n",
    "    text = re.sub(\"^\\s\", '', text)\n",
    "    text = re.sub('\\s$', '', text)\n",
    "    print(text)\n",
    "    return text\n",
    "    ###\n",
    "    \n",
    "### demo function call\n",
    "clean_text_phase_1(demo_text_ex3b, demo_stopwords_ex3b)\n",
    "# print(\"--------------------------------------------------------------------------\")\n",
    "# print(returned_output_vars['output_0'])\n",
    "# print(\"--------------------------------------------------------------------------\")\n",
    "# print(true_output_vars['output_0'])"
   ]
  },
  {
   "cell_type": "markdown",
   "metadata": {
    "deletable": false,
    "editable": false,
    "nbgrader": {
     "grade": false,
     "locked": true,
     "solution": false
    },
    "tags": [
     "test_data_boilerplate"
    ]
   },
   "source": [
    "<!-- Test Cell Boilerplate -->\n",
    "The cell below will test your solution for Exercise 3. The testing variables will be available for debugging under the following names in a dictionary format.\n",
    "- `input_vars` - Input variables for your solution. \n",
    "- `original_input_vars` - Copy of input variables from prior to running your solution. These _should_ be the same as `input_vars` - otherwise the inputs were modified by your solution.\n",
    "- `returned_output_vars` - Outputs returned by your solution.\n",
    "- `true_output_vars` - The expected output. This _should_ \"match\" `returned_output_vars` based on the question requirements - otherwise, your solution is not returning the correct output. \n",
    "\n",
    "Depending on the test cases drawn in this cell, a `DepricationWarning` may be raised. **This is nothing to be concerned about**. It indicates that a feature we are using *may* be disabled in a *future* release, but it **will work** for now."
   ]
  },
  {
   "cell_type": "code",
   "execution_count": 16,
   "metadata": {
    "deletable": false,
    "editable": false,
    "nbgrader": {
     "grade": true,
     "grade_id": "ex3b",
     "locked": true,
     "points": "2",
     "solution": false
    },
    "tags": []
   },
   "outputs": [
    {
     "name": "stdout",
     "output_type": "stream",
     "text": [
      "{'once', 'its', 'no', 'couldn', 'after', 'he', 'didn', 'about', 'each', 'but', 've', 'don', 'itself', 'shouldve', 'did', 'should', 'm', 'while', 'werent', 'do', 'if', 'does', 'has', 'wouldnt', 'mightn', 'both', 'myself', 'until', 'youve', 'couldnt', 'against', 'over', 'as', 'them', 'an', 'then', 'above', 'most', 'hasnt', 'can', 's', 'up', 'mustn', 'my', 'aren', 'weren', 'were', 'here', 'just', 't', 'shouldn', 'shes', 'be', 'before', 'hadnt', 'arent', 'off', 'wouldn', 'll', 'that', 'again', 'have', 'shan', 'there', 'theirs', 'down', 'into', 'on', 'shant', 'our', 'how', 'all', 'herself', 'wasnt', 'these', 'with', 'own'}\n",
      "i am a beginner at coding python so i am curious learning what small programs or projects you created i am hoping to develop skills using python so i figured looking at actual code for various programs would greatly help please include a short description of what the program and the code in the comments below thank you\n",
      "{'once', 'wasn', 'yours', 'you', 'couldn', 'again', 'havent', 'd', 'from', 'those', 'doesn', 'through', 'by', 'was', 'didn', 'during', 'neednt', 'there', 'down', 'haven', 'not', 'into', 'on', 'needn', 'didnt', 'both', 'for', 'where', 'youll', 'each', 'what', 'her', 'this', 'youve', 'shouldnt', 'here', 'just', 'whom', 'shouldn', 'isn', 'hadn', 'which', 'when', 'any', 'she', 'as', 'll', 'themselves', 'we', 'same', 'with', 'shouldve', 'and', 'did', 'them', 'such', 'his', 'hadnt', 'then', 'while', 'a', 'most', 'himself', 'werent', 'mustnt', 'if', 'ain', 'yourselves', 'now', 'wouldn', 'won', 'isnt', 'ours', 'can'}\n",
      "so the best way to learn is to code solve real problems were looking new apartment in paris to basically get our daughter own room offers are numerous but is so is the demand so went the rental owners route using well known website think craigslist but tailored apartment rentals in france still couldnt get one because replying fast enough to listings so i decided to build myself bot that would scrape data private individuals apartment listing website papfr store the results in spreadsheet gsheets run automatically via cron job text me back the results so could react to offers asap i used callr disclaimer i had started working the last part it successful i decided to share it the company blog read it libs used requests http requests html scrapping pygsheets google sheets handling pyshorteners url shortening the fly callr sdk to send texts the code is available github i dont have lot of experience writing technical ish content the crowds so im eager to get your feedback im thinking right it too long little hard to read follow\n",
      "{'its', 'will', 'are', 'yours', 's', 'so', 'again', 'you', 'is', 'mightn', 'me', 'or', 'shan', 'very', 'was', 'aren', 'didn', 'neednt', 'theirs', 'under', 'were', 'into', 'needn', 'further', 'each', 'for', 'your', 'why', 'dont', 'what', 'wont', 'who', 'our', 'other', 'how', 'just', 't', 'whom', 'hadn', 'when', 'any', 'their', 'itself', 'they', 'doesnt', 'o', 'with', 'll', 'themselves', 'same', 'at', 'did', 'hers', 'before', 'doing', 'them', 'such', 'his', 'hadnt', 'then', 'm', 'a', 'because', 'been', 'arent', 'most', 'am', 'mustnt', 'do', 'below', 'yourselves', 'now', 'has', 'it', 'can'}\n",
      "ive part of this comunity couple weeks give take month and fare this place actualy helped grow quickly and i wanted to say thanks nice to be part of something positive like this and i look forward to the day where my knowlidge aand experience help on journey give up on guys\n",
      "{'yourself', 'wasn', 'its', 'too', 'no', 'that', 'i', 'again', 'couldn', 'havent', 'is', 'have', 'after', 'he', 'through', 'my', 'shan', 'very', 'was', 'during', 'under', 'neednt', 'theirs', 'there', 'youd', 'mightnt', 'haven', 'down', 'ourselves', 'into', 'about', 'than', 'both', 'shant', 'where', 'but', 'youll', 'why', 'for', 'what', 'until', 'in', 'our', 'shouldnt', 'just', 'shouldn', 'which', 'when', 'more', 'the', 'couldnt', 'don', 'be', 'she', 'o', 'these', 'doesnt', 'had', 'with', 'themselves', 'same', 'did', 'and', 'of', 'such', 'hadnt', 'then', 'while', 'because', 'arent', 'most', 'werent', 'below', 'now', 'ours', 'wont'}\n",
      "they will walk you basic simple application something practice activity by comparison not only insanely difficult you wouldnt know how to do it given has been taught so far cant they give activities are at or around level difficulty they teach want to learn how to walk before learning how to run\n",
      "{'its', 'are', 'no', 'so', 'couldn', 'i', 'he', 'was', 'didn', 've', 'isn', 'only', 'don', 'itself', 'to', 'should', 'being', 'himself', 'am', 'do', 'if', 'does', 'isnt', 'wouldnt', 'yourself', 'yours', 'didnt', 'myself', 'until', 'couldnt', 'they', 'thatll', 'same', 'we', 'them', 'an', 'his', 'then', 'most', 's', 'up', 'mustn', 'my', 'between', 'weren', 'were', 'needn', 'than', 'nor', 'her', 'out', 'just', 't', 'shouldn', 'shes', 'she', 'before', 'hadnt', 'arent', 'below', 'it', 'again', 'have', 'through', 'or', 'me', 'youd', 'not', 'on', 'ma', 'him', 'whom', 'herself', 'when', 'more', 'wasnt', 'mustnt', 'yourselves', 'hasn'}\n",
      "for example someone put python their resume what sort of things would you ask determine what actually know at least instill some confidence in you edit well looks like some responses go and lots learn lmao\n",
      "{'once', 'its', 'no', 'couldn', 'after', 'he', 'didn', 'about', 'each', 'but', 've', 'don', 'itself', 'shouldve', 'did', 'should', 'm', 'while', 'werent', 'do', 'if', 'does', 'has', 'wouldnt', 'mightn', 'both', 'myself', 'until', 'youve', 'couldnt', 'against', 'over', 'as', 'them', 'an', 'then', 'above', 'most', 'hasnt', 'can', 's', 'up', 'mustn', 'my', 'aren', 'weren', 'were', 'here', 'just', 't', 'shouldn', 'shes', 'be', 'before', 'hadnt', 'arent', 'off', 'wouldn', 'll', 'that', 'again', 'have', 'shan', 'there', 'theirs', 'down', 'into', 'on', 'shant', 'our', 'how', 'all', 'herself', 'wasnt', 'these', 'with', 'own'}\n",
      "i am a beginner at coding python so i am curious learning what small programs or projects you created i am hoping to develop skills using python so i figured looking at actual code for various programs would greatly help please include a short description of what the program and the code in the comments below thank you\n",
      "{'once', 'some', 'i', 'after', 'by', 'having', 'was', 'further', 've', 'who', 'isn', 'their', 'doesnt', 'themselves', 'to', 'of', 'should', 'because', 'while', 'am', 'do', 'if', 'wouldnt', 'is', 'neednt', 'dont', 'what', 'youve', 'the', 'couldnt', 'against', 'over', 'same', 'we', 'them', 'an', 'his', 'then', 'above', 'most', 'during', 'ours', 'hasnt', 'weren', 'needn', 'for', 'out', 'here', 'shouldn', 'shes', 'she', 'before', 'such', 'below', 'wouldn', 're', 'll', 'd', 'doesn', 'or', 'shan', 'there', 'down', 'not', 'mightnt', 'youd', 'shant', 'ma', 'our', 'him', 'all', 'which', 'wasnt', 'o', 'these', 'with', 'a'}\n",
      "hi everyone learning python few months already thought that will never be good make discord bot but just in hours learning and coding finally did it you can test it you can message me discord link using repl it database make make everything work cause confusion you can see in my code that printed debug something and had really sure when have use and in general that my first time using that code mainpy import discord import os import random import time from replit import db from functions import starterencouragements commandlist jokelist getquote stoplearnword client discordclient def return norepeat learnwordlist def deletefromnorepeatdelre norepeat norepeatremovedelre def botlearnwordlearnword learnwordlist x in learnword xisdigit printdebug digit else print end learnwordlistappendlearnword lenlearnwordlist learnwordtxt openlearnwordtxttxt r x in learnwordlist learnwordtxtwritex learnwordtxtclose def updateencouragementsencouragingmessage encouragements in dbkeys encouragements dbencouragements printnorepeat encouragingmessage in norepeat printdebug repeat else encouragementsappendencouragingmessage norepeatappendencouragingmessage dbencouragements encouragements else dbencouragements encouragingmessage def deleteencuragementindex encouragements dbencouragements lenencouragements index del encouragementsindex dbencouragements encouragements @clientevent async def onready in gameformatclient @clientevent async def onmessagemessage messageauthor clientuser return messagecontentstartswithbothelp await messagechannelsendcommandlist messagecontentstartswithbotinspire inspirequote getquote await messagechannelsendinspirequote messagecontentstartswithbotjoke joke randomchoicejokelist await messagechannelsendjoke await messagechannelsenda new joke will be added every day options starterencouragements encouragements in dbkeys options options dbencouragements messagecontentstartswithbotuserenc await messagechannelsendrandomchoiceoptions messagecontentstartswithbotnewenc encouragingmessage messagecontentsplitbotnewenc updateencouragementsencouragingmessage await messagechannelsendthe encouragements list had been updated thank you messagecontentstartswithbotdelenc encouragements encouragements in dbkeys index intmessagecontentsplitbotdelenc deleteencuragementindex encouragements dbencouragements await messagechannelsendencouragements await messagechannelsendtype botdelnr delete number from list than just press any button continue messagecontentstartswithbotdelnr delre intmessagecontentsplitbotdelnr deletefromnorepeatdelre norepeat else messagecontentstartswithbotlearn learnword messagecontentsplitbotlearn learnword learnwordlower learnword in learnwordlist printdebug repeat await messagechannelsendmilk already knows this word in learnword printdebug empty space await messagechannelsendplease type only one word x in learnword x in stoplearnword printdebug caracters await messagechannelsendplease use only caracters else print end botlearnwordlearnword learnwordlist clientrunosgetenvdiscordtoken messagecontentstartswithbotlearn learnword messagecontentsplitbotlearn learnword learnwordlower learnword in learnwordlist printdebug repeat await messagechannelsendmilk already knows this word in learnword printdebug empty space await messagechannelsendplease type only one word x in learnword x in stoplearnword printdebug caracters await messagechannelsendplease use only caracters else print end botlearnwordlearnword learnwordlist clientrunosgetenvdiscordtoken functionspy import random import requests functionspy import random import requests import json x def pxx printx jokelist difference between us capitol and mordornone does simply walk into mordor commandlist commends botinspire botjoke botuserenc botnewenc botlearn commend type bothelp stoplearnword ^ starterencouragements you can it added uraspberry cheer you added uraspberry def getquote response requestsget jsondata jsonloadsresponsetext quote returnquote\n",
      "{'its', 'that', 'are', 'yours', 'couldn', 'you', 'hasn', 'is', 'have', 'those', 'by', 'me', 'having', 'shan', 'very', 'under', 'aren', 'didn', 'during', 'mightnt', 'not', 'about', 'into', 'needn', 'didnt', 'where', 'but', 'your', 'youll', 'why', 'what', 'wont', 've', 'other', 'our', 'youve', 'how', 'here', 'just', 't', 'isn', 'only', 'when', 'wouldn', 'more', 'the', 'any', 'their', 'against', 'shes', 'she', 'doesnt', 'o', 'these', 'to', 'of', 'doing', 'should', 'hadnt', 'own', 'being', 'm', 'while', 'a', 'because', 'arent', 'himself', 'mustnt', 'do', 'below', 'ain', 'now', 'does', 'isnt', 'hasnt', 'll'}\n",
      "hello im looking learn programming language for fun and been learning python via python crash course edition been smooth ride so far currently im learning dictionaries i wanted get an opinon from coders if using python itself make programs looking at web stuff or machine learning good idea i learn another language if i want play with or python offer excuse my ignorance edit wow thank much for all responses i really appreciate it i think it safe say sticking with python way go like some said maybe i will get something else down road maybe\n",
      "{'its', 'are', 'no', 'so', 'couldn', 'i', 'he', 'was', 'didn', 've', 'isn', 'only', 'don', 'itself', 'to', 'should', 'being', 'himself', 'am', 'do', 'if', 'does', 'isnt', 'wouldnt', 'yourself', 'yours', 'didnt', 'myself', 'until', 'couldnt', 'they', 'thatll', 'same', 'we', 'them', 'an', 'his', 'then', 'most', 's', 'up', 'mustn', 'my', 'between', 'weren', 'were', 'needn', 'than', 'nor', 'her', 'out', 'just', 't', 'shouldn', 'shes', 'she', 'before', 'hadnt', 'arent', 'below', 'it', 'again', 'have', 'through', 'or', 'me', 'youd', 'not', 'on', 'ma', 'him', 'whom', 'herself', 'when', 'more', 'wasnt', 'mustnt', 'yourselves', 'hasn'}\n",
      "for example someone put python their resume what sort of things would you ask determine what actually know at least instill some confidence in you edit well looks like some responses go and lots learn lmao\n",
      "{'its', 'some', 'are', 'i', 'from', 'by', 'under', 'about', 'isn', 'only', 'don', 'doesnt', 'themselves', 'to', 'shouldve', 'doing', 'm', 'while', 'do', 'does', 'yours', 'is', 'few', 'myself', 'dont', 'until', 'shouldnt', 'hadn', 'the', 'against', 'over', 'as', 'same', 'them', 'an', 'most', 'ours', 'too', 'up', 'havent', 'mustn', 'my', 'very', 'weren', 'haven', 'ourselves', 'needn', 'than', 'in', 'here', 'just', 'shouldn', 'shes', 'such', 'hadnt', 'below', 'now', 'wasn', 'that', 'shan', 'theirs', 'youd', 'mightnt', 'on', 'ma', 'this', 'other', 'him', 'whom', 'more', 'any', 'o', 'these', 'with', 'own', 'mustnt', 'yourselves', 'hasn'}\n",
      "have a habit of googling every problem after trying it but it for concepts and get logic not copy paste what your experience how tackle problems coding if youre stuck it\n",
      "{'yourself', 'wasn', 'its', 'some', 'no', 'i', 'yours', 'hasn', 'have', 'those', 'from', 'doesn', 'by', 'me', 'having', 'my', 'was', 'didn', 'under', 'neednt', 'down', 'not', 'into', 'than', 'didnt', 'each', 'for', 'dont', 'what', 'youve', 'shouldnt', 'how', 'all', 't', 'shouldn', 'isn', 'only', 'which', 'when', 'more', 'the', 'couldnt', 'wasnt', 'their', 'against', 'shes', 'itself', 'be', 'they', 'doesnt', 'over', 'with', 'same', 'to', 'shouldve', 'did', 'before', 'doing', 'an', 'such', 'them', 'own', 'then', 'a', 'arent', 'been', 'off', 'if', 'ain', 'yourselves', 'during', 'ours', 'hasnt', 'can'}\n",
      "tried going on youtube but explain it well\n",
      "{'wouldnt', 'yourself', 'wasn', 'will', 'some', 'that', 'couldn', 'you', 'up', 'havent', 'd', 'those', 'after', 'he', 'doesn', 'through', 'mustn', 'having', 'my', 'few', 'was', 'aren', 'under', 'it', 'ourselves', 'into', 'than', 'both', 'shant', 'where', 'but', 'youll', 'didnt', 'dont', 'what', 'until', 'nor', 'out', 've', 'in', 'our', 'shouldnt', 'how', 'all', 'here', 'isn', 'more', 'couldnt', 'against', 'shes', 'doesnt', 'thatll', 'had', 'as', 'themselves', 'shouldve', 'and', 'before', 'doing', 'an', 'his', 'own', 'm', 'being', 'above', 'most', 'am', 'mustnt', 'below', 'if', 'off', 'now', 're', 'hasnt'}\n",
      "im self taught python able to write programs work i still feel like i know im can i learn about program structuredesign i usually just start coding one thing leads to another pretty soon im done i cant shake the feeling a professional programmer would look at code laugh at haphazard inefficient is any pointers or suggestions or are we just supposed to figure for\n",
      "{'wasn', 'some', 'will', 'are', 'no', 'y', 's', 'so', 'that', 'couldn', 'd', 'yours', 'those', 'havent', 'after', 'mightn', 'doesn', 'through', 'by', 'shan', 'me', 'few', 'my', 'aren', 'neednt', 'theirs', 'weren', 'were', 'mightnt', 'haven', 'ourselves', 'than', 'shant', 'for', 'youll', 'dont', 'what', 'until', 'this', 'in', 'out', 'shouldnt', 'just', 'herself', 'when', 'don', 'itself', 'shes', 'be', 'doesnt', 'o', 'these', 'thatll', 'had', 'with', 'themselves', 'we', 'to', 'at', 'did', 'before', 'should', 'while', 'because', 'above', 'most', 'himself', 'werent', 'below', 'if', 'now', 're', 'ours', 'hasnt', 'll'}\n",
      "hey guys im done school months and id like go deeper python learning during time since didnt touch libraries all i feel like it could a good thing look into as the title says which ones i go an try learn myself and there good resources learn them i know going moving other languages next semester but id like think i can use python properly too thanks advance edit wow thanks all the answers i have a lots of stuff check probably more months allow too lol\n",
      "{'some', 'will', 'couldn', 'y', 'from', 'after', 'was', 'about', 'further', 'but', 'who', 'only', 'themselves', 'should', 'm', 'because', 'being', 'himself', 'werent', 'does', 'has', 'isnt', 'yours', 'you', 'mightn', 'few', 'neednt', 'didnt', 'dont', 'shouldnt', 'hadn', 'the', 'they', 'thatll', 'over', 'same', 'an', 'during', 'ours', 'hasnt', 's', 'havent', 'mustn', 'my', 'weren', 'haven', 'ourselves', 'for', 'where', 'in', 'here', 't', 'shes', 'before', 'hadnt', 're', 'me', 'or', 'shan', 'there', 'youd', 'not', 'into', 'shant', 'ma', 'this', 'him', 'all', 'which', 'more', 'any', 'o', 'these', 'own', 'a', 'yourselves', 'hasn'}\n",
      "found really interesting organization called edx and it aims to provide online courses universities like harvard mit etc im currently enrolled course python data scienceand it covers structure and processes of using python to gather data sources clean up data like remove duplicate entries and assign close enough values to null entries create machine model and test accuracy then analyze data and present appropriate visual chart with results i really enjoyed automate boring stuff if anyone wants extra free quality lessons try edx and search python\n",
      "{'some', 'will', 'no', 'couldn', 'from', 'he', 'was', 'didn', 'youre', 'further', 'who', 'isn', 'don', 'their', 'doesnt', 'did', 'hers', 'of', 'being', 'am', 'do', 'if', 'does', 'has', 'wouldnt', 'yourself', 'few', 'both', 'dont', 'until', 'the', 'they', 'over', 'had', 'same', 'them', 'his', 'then', 'above', 'during', 'very', 'between', 'weren', 'were', 'haven', 'needn', 'than', 'for', 'nor', 'out', 'here', 'just', 'shouldn', 'shes', 'before', 'such', 'arent', 'below', 'off', 'won', 'it', 'wasn', 'again', 'have', 'doesn', 'shan', 'theirs', 'down', 'on', 'shant', 'whom', 'which', 'more', 'o', 'at', 'hasn', 'been'}\n",
      "this is my first finished project after self learning several months its called time your life generates a year calendar to represent your life and shows you all weeks you lived to date you can also add life events important landmarksmilestones as a graduation or birthdeath a loved one and be displayed your calendar its completely free to use i only ask that you give me feedback current features are not too extensive but id like to develop according to what youd like to see i hope you find useful you id appreciate you shared with someone built with python django and light javascript source happy to answer any questions about what ive learned so far edit thank you all feedback i nervous to share my first build but positive response made my evening i really appreciate\n",
      "{'its', 'will', 'are', 'no', 'couldn', 'after', 'he', 'under', 'was', 'youre', 'further', 'who', 'isn', 'only', 'their', 'itself', 'doesnt', 'should', 'himself', 'does', 'yours', 'both', 'dont', 'what', 'youve', 'against', 'they', 'thatll', 'had', 'as', 'same', 'we', 'them', 'his', 'then', 'above', 'during', 'can', 'too', 's', 'very', 'weren', 'were', 'haven', 'ourselves', 'needn', 'than', 'for', 'nor', 'out', 'in', 'here', 'just', 'be', 'she', 'before', 'such', 'off', 'now', 're', 'll', 'd', 'through', 'or', 'shan', 'me', 'there', 'theirs', 'not', 'mightnt', 'on', 'our', 'him', 'when', 'wasnt', 'any', 'with', 'own'}\n",
      "i made several of the chapters of the book into articles my blog so you get a preview of the content the book drawing shapes images python and pillow drawing text images pillow and python getting gps exif data python this book you learn about the following opening and saving images extracting image metadata working colors applying image filters cropping rotating and resizing enhancing images combining images drawing pillow imagechops integration gui toolkits you order the ebook versions leanpub gumroad you purchase either of these websites you receive a pdf epub and mobi version of the book the paperback and kindle versions available amazon the paperback version of the book is full color that is why it more expensive of my other books to purchase\n",
      "{'once', 'yourself', 'wasn', 'will', 'its', 'are', 'so', 'that', 'up', 'y', 'you', 'is', 'have', 'hasn', 'he', 'wouldnt', 'shan', 'between', 'aren', 'didn', 'weren', 'under', 'mightnt', 'into', 'needn', 'further', 'shant', 'ma', 'but', 'why', 'her', 'wont', 'who', 'youve', 'just', 'all', 't', 'shouldn', 'herself', 'which', 'don', 'any', 'itself', 'shes', 'she', 'over', 'these', 'with', 'll', 'same', 'shouldve', 'and', 'hers', 'should', 'an', 'them', 'his', 'own', 'because', 'being', 'arent', 'most', 'himself', 'am', 'do', 'if', 'yourselves', 'now', 'does', 're', 'has', 'ours', 'hasnt', 'been'}\n",
      "ive a part of this comunity for a couple weeks give or take a month fare this place actualy helped me grow quickly i wanted to say thanks it nice to be a part of something positive like this i look forward to the day where my knowlidge aand experience can help on their journey dont give on guys can it\n",
      "{'once', 'yourself', 'some', 'will', 'no', 'that', 'y', 'couldn', 'i', 'yours', 'you', 'havent', 'those', 'after', 'doesn', 'my', 'wouldnt', 'between', 'didn', 'neednt', 'there', 'were', 'mightnt', 'haven', 'than', 'both', 'each', 'further', 'but', 'your', 'youll', 'didnt', 'until', 've', 'other', 'youve', 'him', 'shouldnt', 'all', 'here', 'when', 'more', 'the', 'wasnt', 'don', 'their', 'against', 'shes', 'any', 'they', 'o', 'over', 'these', 'had', 'as', 'at', 'did', 'and', 'hers', 'of', 'should', 'them', 'hadnt', 'while', 'being', 're', 'because', 'above', 'do', 'below', 'if', 'now', 'won', 'has', 'wont'}\n",
      "am sorry have not been able to this before without messing part up having to google it again feels so good one to share it with thanks\n",
      "{'its', 'that', 'are', 'yours', 'couldn', 'you', 'hasn', 'is', 'have', 'those', 'by', 'me', 'having', 'shan', 'very', 'under', 'aren', 'didn', 'during', 'mightnt', 'not', 'about', 'into', 'needn', 'didnt', 'where', 'but', 'your', 'youll', 'why', 'what', 'wont', 've', 'other', 'our', 'youve', 'how', 'here', 'just', 't', 'isn', 'only', 'when', 'wouldn', 'more', 'the', 'any', 'their', 'against', 'shes', 'she', 'doesnt', 'o', 'these', 'to', 'of', 'doing', 'should', 'hadnt', 'own', 'being', 'm', 'while', 'a', 'because', 'arent', 'himself', 'mustnt', 'do', 'below', 'ain', 'now', 'does', 'isnt', 'hasnt', 'll'}\n",
      "hello im looking learn programming language for fun and been learning python via python crash course edition been smooth ride so far currently im learning dictionaries i wanted get an opinon from coders if using python itself make programs looking at web stuff or machine learning good idea i learn another language if i want play with or python offer excuse my ignorance edit wow thank much for all responses i really appreciate it i think it safe say sticking with python way go like some said maybe i will get something else down road maybe\n",
      "{'once', 'its', 'will', 'y', 'after', 'having', 'under', 'was', 'youre', 'about', 'further', 'each', 'only', 'don', 'their', 'to', 'did', 'hers', 'and', 'of', 'because', 'werent', 'do', 'has', 'yourself', 'you', 'neednt', 'both', 'hadn', 'the', 'couldnt', 'over', 'as', 'same', 'an', 'his', 'most', 'ain', 'can', 'too', 'havent', 'were', 'haven', 'ourselves', 'youll', 'why', 'nor', 'in', 'just', 't', 'shes', 'she', 'such', 'hadnt', 'off', 'now', 'wouldn', 're', 'it', 'wasn', 'again', 'have', 'doesn', 'me', 'shan', 'not', 'into', 'ma', 'how', 'all', 'whom', 'which', 'more', 'these', 'with', 'mustnt', 'yourselves', 'hasn'}\n",
      "i recently came across a website where are presented a challenge writeedit a piece code are able see other took challenge i cant remember name website wondering if anyone knew similar websites\n",
      "{'wouldnt', 'yourself', 'wasn', 'will', 'are', 'some', 'y', 'couldn', 'up', 'again', 'yours', 'is', 'have', 'hasn', 'from', 'after', 'mightn', 'through', 'or', 'me', 'very', 'between', 'theirs', 'youd', 'mightnt', 'haven', 'not', 'ourselves', 'on', 'than', 'both', 'shant', 'for', 'but', 'your', 'why', 'didnt', 'out', 'who', 'youve', 'him', 'just', 'shouldn', 'herself', 'only', 'which', 'any', 'their', 'against', 'itself', 'they', 'be', 'o', 'over', 'these', 'thatll', 'had', 'as', 'we', 'at', 'and', 'should', 'doing', 'an', 'his', 'own', 'while', 'because', 'arent', 'werent', 'mustnt', 'does', 're', 'ours', 'hasnt', 'been'}\n",
      "so i finished my python script to monitor the price of my target gadget this holiday its going to heavily discounted soon it go to the fastest finger ive written a python script with beautifulsoup ive also set email sms alerts in the script was wondering if theres other person this black friday fastest finger deals update long overdue thought i add that i got the phone\n",
      "{'once', 'wouldnt', 'that', 'too', 'are', 'couldn', 'hasn', 'up', 'again', 'havent', 'those', 'after', 'mightn', 'by', 'through', 'or', 'mustn', 'few', 'was', 'weren', 'there', 'were', 'not', 'youd', 'on', 'than', 'didnt', 'myself', 'but', 'nor', 'her', 'until', 'this', 've', 'shouldnt', 'how', 'just', 'whom', 'which', 'when', 'the', 'wasnt', 'any', 'against', 'shes', 'they', 'be', 'doesnt', 'had', 'as', 'll', 'themselves', 'we', 'at', 'did', 'and', 'should', 'doing', 'an', 'them', 'his', 'own', 'm', 'being', 'arent', 'been', 'am', 'mustnt', 'below', 'off', 'now', 'does', 're', 'ours', 'hasnt', 'can'}\n",
      "so some background im econs student who came to sg for my master in applied econs graduated back in june tbh i exactly sure what i wanted to do i got internship offer from crypto fund of funds based in london quantitative investment side intern i figured ill roll with it well it helped pay bills would a good learning experience while i look for work in sg around months later ive automated all data collection management work for all our funds using python set multiple scripts to do bunch of fund market monitoring tasks while also setting scripts to generate dynamic quant templates bunch of financial metrics pertaining to our fund needs eventually got offered a starting role investment analyst i only intern who could code while i have a full fledged finance background per se all other interns finance majors my python skills albeit quite basic lol helped me separate add some unique value to firm it a startup so a smaller team no one else in company work with pythonr i wanted to thank subreddit tbh i dont post often i lurk around alot i know it start for everyone who starting to get into python stick with it it might take a while you actually do actual project useful for your needs youll finally start feeling your hard work is worth it\n",
      "{'wouldnt', 'some', 'will', 'are', 'i', 'y', 's', 'up', 'so', 'yours', 'is', 'those', 'mightn', 'by', 'mustn', 'me', 'he', 'between', 'under', 'down', 'mightnt', 'youre', 'about', 'into', 'needn', 'than', 'both', 'myself', 'shant', 'youll', 'why', 'this', 've', 'who', 'in', 'out', 'him', 'how', 'shouldn', 'herself', 'only', 'the', 'don', 'their', 'be', 'o', 'thatll', 'as', 'same', 'to', 'at', 'and', 'hers', 'before', 'of', 'should', 'an', 'his', 'hadnt', 'own', 'a', 'above', 'most', 'himself', 'am', 'off', 'does', 're', 'has', 'isnt', 'ours', 'can'}\n",
      "link automatically redirect you latest discount code you also click link or manually enter code promo code works until cant extend it past that sometimes it takes hour or for code become active just after create it if it doesnt work go ahead try again while later ill change it three days udemy changed coupon policies im now allowed make coupon codes each month with several restrictions hence each code lasts days wont able make codes after period but making free codes next month meanwhile first course videos free on youtube you also purchase course discount using my code or clicking redirect latest discount code have manually renew each month until get that automation script done cheapest offer course meanwhile lets udemy undercut my discount offering it for dont get credit for referral signups blerg frequently asked questions read posting questions course for beginners assumes no previous programming experience but second half useful for experienced programmers want learn various third party python modules if you dont have time take course now that fine signing gives you lifetime access you work on it your pace udemy course covers roughly content edition book book little bit more but all basics covered online course which you read for free online edition automate boring stuff with python free online do plan on updating udemy course for second edition but itll take while because have other book projects im working on expect that update happen mid if you sign for udemy course get updated content automatically once finish it it wont separate course it totally fine start on first edition then read second edition later ill writing blog post guide first edition readers parts second edition they read wrote blog post cover what new second edition not too old learn code you dont need good math good coding signing first step actually finishing course next there several ways getstay motivated suggest getting gym buddy learn with\n",
      "{'once', 'too', 'that', 'are', 'yours', 'y', 's', 'up', 'so', 'havent', 'hasn', 'mightn', 'through', 'or', 'mustn', 'very', 'between', 'weren', 'theirs', 'down', 'mightnt', 'haven', 'about', 'ourselves', 'into', 'than', 'didnt', 'shant', 'where', 'youll', 'for', 'nor', 'dont', 'until', 'out', 've', 'who', 'other', 'youve', 'shouldnt', 'in', 'all', 'here', 'shouldn', 'hadn', 'when', 'wasnt', 'any', 'their', 'against', 'itself', 'they', 'over', 'at', 'did', 'and', 'before', 'should', 'doing', 'his', 'hadnt', 'm', 'while', 'arent', 'above', 'most', 'werent', 'mustnt', 'off', 'yourselves', 'wouldn', 'won', 'ours', 'hasnt', 'can'}\n",
      "after multiple attempts several years to get python i finally it i built a function is clean useful my job python you find it a gh repo i recognize it super basic the fact i was able to write a program does something just feels good this sub has been incredibly helpful process along with atbs by our lord savior al sweigart just remember if youre stuck find the simplest thing like reorganizing thousands of files work you will quickly open the door to python magic also please feel free to make suggestions to this program i recognize it basic but the spirit of learning i would love suggestions to make it more clean efficient even bigger tasks ps wow reddit gold a first me you supportive wonderful i love this community keep it yall\n",
      "{'are', 'so', 'couldn', 'y', 'he', 'was', 'didn', 'about', 've', 'who', 'itself', 'shouldve', 'hers', 'of', 'should', 'm', 'because', 'being', 'werent', 'wouldnt', 'yourself', 'yours', 'you', 'is', 'mightn', 'neednt', 'didnt', 'until', 'youve', 'thatll', 'over', 'as', 'we', 'an', 'above', 'most', 'ours', 'hasnt', 's', 'havent', 'my', 'aren', 'haven', 'needn', 'where', 'youll', 'in', 'here', 'shouldn', 'shes', 'be', 'before', 'below', 'off', 're', 'it', 'wasn', 'd', 'have', 'or', 'shan', 'theirs', 'youd', 'not', 'mightnt', 'on', 'shant', 'ma', 'our', 'how', 'herself', 'when', 'more', 'any', 'o', 'these', 'at', 'own', 'mustnt'}\n",
      "i know the title a bit confusing but i this problem code i need to login to stmp server that a bot can send email to the user code put github friends and a few other people can see this a part the code that relevant serveremail thisemaildoesntexist@gmailcom serverpassword thisisaplaceholderpassword def sendmailserveremail serverpassword recievingemail msg code for sending email if code open source can i make that the people looking the code cant see the password i cant store a hash if i do i wont able to revert back to the original password i could also store and put input serveremail thisemaildoesntexist@gmailcom serverpassword inputenter password if bcryptcheckpwserverpassword password code for sending email however that work i cant admin typing a password everytime a bot needs to send email to users could i make that the bot able to send the emails without the source code actually showing the password\n",
      "{'some', 'no', 'yours', 's', 'so', 'you', 'havent', 'd', 'have', 'from', 'doesn', 'me', 'having', 'shan', 'between', 'under', 'neednt', 'theirs', 'weren', 'down', 'mightnt', 'not', 'were', 'about', 'needn', 'than', 'didnt', 'but', 'dont', 'what', 'until', 'wont', 'out', 've', 'him', 'shouldnt', 'all', 'just', 'whom', 'shouldn', 'more', 'couldnt', 'wasnt', 'don', 'their', 'itself', 'shes', 'they', 'be', 'thatll', 'over', 'had', 'as', 'at', 'of', 'them', 'such', 'then', 'while', 'a', 'because', 'above', 'most', 'himself', 'am', 'mustnt', 'below', 'off', 'does', 're', 'has', 'isnt', 'hasn', 'll'}\n",
      "im looking for job backend developer ive read python crash course and django for beginners ive developed few projects instagram like app blog app hangman rock paper scissors tick tack toe else should i learn\n",
      "{'its', 'will', 'no', 'from', 'after', 'youre', 'further', 'each', 've', 'who', 'isn', 'don', 'doesnt', 'shouldve', 'hers', 'and', 'being', 'himself', 'werent', 'am', 'has', 'wouldnt', 'is', 'mightn', 'myself', 'dont', 'what', 'couldnt', 'against', 'they', 'over', 'had', 'as', 'them', 'an', 'his', 'then', 'above', 'most', 'ours', 'wont', 'too', 'havent', 'my', 'between', 'aren', 'weren', 'were', 'ourselves', 'needn', 'than', 'for', 'where', 'youll', 'nor', 'her', 'just', 't', 'shouldn', 'before', 'such', 'won', 'wasn', 'd', 'those', 'or', 'theirs', 'not', 'on', 'shant', 'ma', 'your', 'him', 'all', 'when', 'more', 'with', 'at', 'a'}\n",
      "so i guess in python everyone should choose it comes to strings you have to be consistent which one yours why\n",
      "{'once', 'wasn', 'yourself', 'its', 'yours', 'too', 'y', 'again', 'is', 'have', 'those', 'after', 'mightn', 'doesn', 'by', 'or', 'shan', 'he', 'few', 'between', 'was', 'very', 'neednt', 'under', 'youd', 'not', 'it', 'about', 'ourselves', 'needn', 'on', 'than', 'myself', 'ma', 'where', 'why', 'nor', 'dont', 'her', 'wont', 've', 'here', 'all', 't', 'shouldn', 'isn', 'herself', 'when', 'the', 'wasnt', 'against', 'shes', 'itself', 'she', 'thatll', 'over', 'these', 'had', 'did', 'before', 'doing', 'such', 'his', 'own', 'm', 'a', 'mustnt', 'below', 'off', 'now', 'does', 'won', 'has', 'hasnt', 'been'}\n",
      "i recently came across website you are presented challenge to writeedit piece of code and you are able to see how other took to challenge i cant remember name of website and wondering if anyone knew similar websites\n",
      "{'once', 'some', 'are', 'y', 'from', 'after', 'he', 'didn', 'youre', 've', 'who', 'their', 'itself', 'doesnt', 'themselves', 'did', 'and', 'while', 'werent', 'am', 'if', 'yourself', 'you', 'is', 'didnt', 'myself', 'what', 'shouldnt', 'hadn', 'against', 'over', 'as', 'same', 'them', 'his', 'above', 'most', 'can', 'too', 'mustn', 'very', 'aren', 'haven', 'for', 'where', 'why', 'her', 'out', 'here', 'just', 't', 'shouldn', 'hadnt', 'arent', 'wouldn', 'won', 'that', 'again', 'd', 'have', 'those', 'doesn', 'through', 'youd', 'on', 'shant', 'our', 'which', 'wasnt', 'o', 'these', 'at', 'own', 'mustnt', 'yourselves', 'hasn', 'been'}\n",
      "i know the title a bit confusing but i this problem so in my code i need to login to an stmp server so a bot send an email to the user my code put github my friends a few other people see this a part of the code relevant serveremail thisemaildoesntexist@gmailcom serverpassword thisisaplaceholderpassword def sendmailserveremail serverpassword recievingemail msg code sending email my code open source how i make it so the people looking the code cant see the password i cant store it a hash because i do i wont be able to revert it back to the original password i could also not store it put an input serveremail thisemaildoesntexist@gmailcom serverpassword inputenter password bcryptcheckpwserverpassword password code sending email however wouldnt work because i cant an admin typing in a password everytime a bot needs to send an email to users how could i make it so the bot able to send the emails without the source code actually showing the password\n",
      "{'wouldnt', 'its', 'too', 'no', 'yours', 's', 'couldn', 'hasn', 'd', 'those', 'mightn', 'by', 'me', 'or', 'he', 'few', 'between', 'didn', 'under', 'neednt', 'there', 'down', 'haven', 'not', 'youre', 'ourselves', 'needn', 'both', 'where', 'youll', 'nor', 'dont', 'until', 've', 'who', 'other', 'him', 'just', 'shouldnt', 'all', 't', 'here', 'isn', 'herself', 'hadn', 'when', 'more', 'their', 'be', 'she', 'o', 'these', 'had', 'as', 'themselves', 'to', 'shouldve', 'hers', 'before', 'should', 'an', 'such', 'them', 'then', 'm', 'being', 'while', 'his', 'most', 'himself', 'werent', 'if', 'now', 'won', 'hasnt', 'been'}\n",
      "i know is active community of current students compare notes somewhere currently im on day\n",
      "{'once', 'some', 'are', 'y', 'from', 'after', 'he', 'didn', 'youre', 've', 'who', 'their', 'itself', 'doesnt', 'themselves', 'did', 'and', 'while', 'werent', 'am', 'if', 'yourself', 'you', 'is', 'didnt', 'myself', 'what', 'shouldnt', 'hadn', 'against', 'over', 'as', 'same', 'them', 'his', 'above', 'most', 'can', 'too', 'mustn', 'very', 'aren', 'haven', 'for', 'where', 'why', 'her', 'out', 'here', 'just', 't', 'shouldn', 'hadnt', 'arent', 'wouldn', 'won', 'that', 'again', 'd', 'have', 'those', 'doesn', 'through', 'youd', 'on', 'shant', 'our', 'which', 'wasnt', 'o', 'these', 'at', 'own', 'mustnt', 'yourselves', 'hasn', 'been'}\n",
      "i know the title a bit confusing but i this problem so in my code i need to login to an stmp server so a bot send an email to the user my code put github my friends a few other people see this a part of the code relevant serveremail thisemaildoesntexist@gmailcom serverpassword thisisaplaceholderpassword def sendmailserveremail serverpassword recievingemail msg code sending email my code open source how i make it so the people looking the code cant see the password i cant store it a hash because i do i wont be able to revert it back to the original password i could also not store it put an input serveremail thisemaildoesntexist@gmailcom serverpassword inputenter password bcryptcheckpwserverpassword password code sending email however wouldnt work because i cant an admin typing in a password everytime a bot needs to send an email to users how could i make it so the bot able to send the emails without the source code actually showing the password\n",
      "{'too', 'some', 'no', 'i', 'y', 'yours', 'up', 'again', 'd', 'is', 'have', 'those', 'after', 'mightn', 'mustn', 'between', 'was', 'neednt', 'theirs', 'weren', 'down', 'mightnt', 'haven', 'youre', 'into', 'on', 'both', 'each', 'youll', 'your', 'nor', 'dont', 'her', 'wont', 'out', 'other', 'our', 'him', 't', 'whom', 'isn', 'herself', 'hadn', 'when', 'couldnt', 'wasnt', 'any', 'against', 'shes', 'itself', 'be', 'these', 'had', 'with', 'll', 'themselves', 'to', 'at', 'did', 'of', 'should', 'an', 'them', 'then', 'being', 'am', 'mustnt', 'do', 'below', 'if', 'ain', 'wouldn', 're', 'hasn', 'been'}\n",
      "practice python posted in this sub over a year ago asking for help translations but figured it probably worth posting now that there lots quality python challenges as this post edit thanks for the gold stranger\n",
      "{'once', 'some', 'are', 'y', 'from', 'after', 'he', 'didn', 'youre', 've', 'who', 'their', 'itself', 'doesnt', 'themselves', 'did', 'and', 'while', 'werent', 'am', 'if', 'yourself', 'you', 'is', 'didnt', 'myself', 'what', 'shouldnt', 'hadn', 'against', 'over', 'as', 'same', 'them', 'his', 'above', 'most', 'can', 'too', 'mustn', 'very', 'aren', 'haven', 'for', 'where', 'why', 'her', 'out', 'here', 'just', 't', 'shouldn', 'hadnt', 'arent', 'wouldn', 'won', 'that', 'again', 'd', 'have', 'those', 'doesn', 'through', 'youd', 'on', 'shant', 'our', 'which', 'wasnt', 'o', 'these', 'at', 'own', 'mustnt', 'yourselves', 'hasn', 'been'}\n",
      "i know the title a bit confusing but i this problem so in my code i need to login to an stmp server so a bot send an email to the user my code put github my friends a few other people see this a part of the code relevant serveremail thisemaildoesntexist@gmailcom serverpassword thisisaplaceholderpassword def sendmailserveremail serverpassword recievingemail msg code sending email my code open source how i make it so the people looking the code cant see the password i cant store it a hash because i do i wont be able to revert it back to the original password i could also not store it put an input serveremail thisemaildoesntexist@gmailcom serverpassword inputenter password bcryptcheckpwserverpassword password code sending email however wouldnt work because i cant an admin typing in a password everytime a bot needs to send an email to users how could i make it so the bot able to send the emails without the source code actually showing the password\n",
      "{'wouldnt', 'wasn', 'too', 'will', 'i', 'you', 'y', 'couldn', 'from', 'after', 'mightn', 'he', 'through', 'me', 'having', 'very', 'between', 'aren', 'was', 'weren', 'under', 'were', 'haven', 'youre', 'ourselves', 'into', 'on', 'didnt', 'both', 'ma', 'where', 'nor', 'dont', 'her', 'wont', 'out', 'other', 'youve', 'here', 'how', 'all', 'whom', 'isn', 'only', 'hadn', 'which', 'couldnt', 'don', 'itself', 'they', 'be', 'thatll', 'these', 'with', 'll', 'themselves', 'at', 'did', 'before', 'of', 'doing', 'an', 'such', 'his', 'hadnt', 'then', 'been', 'werent', 'off', 'if', 'does', 'has', 'isnt', 'it', 'can'}\n",
      "wanted to share something that meant a lot to hope that ok work as a lab assistant for a huge company ive there for over a year and ive felt like my life is going nowhere for some time in order to give myself a boost decided to take up learning python ive sat a computer since a kid so felt like a natural choice started following this video lesson a blast and go back to work monday evening sat just hours around work get idea decide to give myself some homework something think should able to do what ive learned so far but still tricky for a beginner like myself decide to make a little keypad program outline my idea a piece paper what hope to make do and rough ideas come home and go to bed wake up start pycharm my brand new laptop and im stuck completely have no idea what to do so decide to write something anything to get going print a simple message for the user standing in front a door a keypad need the correct digit code to unlock slowly starts rolling statements while loop elif user inputs else im feeling fire this point constantly three steps forward two steps back sometimes everything breaks and im downing coffee like the last day earth but a few hours there is the last thing do is add a break the user successfully enters the right numbers in the right order print a final message to the user this is the adventure begins are ready super cheesey know im cloud had idea outlined started worked the problems finished might not pretty but works get now get addicting is and tonight when im work bet come up another piece homework to myself thank so much are amazing\n",
      "{'its', 'some', 'by', 'having', 'didn', 'youre', 'further', 've', 'their', 'doesnt', 'themselves', 'to', 'did', 'and', 'should', 'while', 'yourself', 'is', 'mightn', 'neednt', 'didnt', 'dont', 'what', 'youve', 'hadn', 'the', 'against', 'over', 'had', 'same', 'we', 'them', 'then', 'above', 'ain', 'during', 'hasnt', 'can', 's', 'up', 'havent', 'aren', 'weren', 'were', 'haven', 'ourselves', 'than', 'nor', 'her', 'in', 'here', 't', 'be', 'before', 'below', 'now', 'won', 'll', 'wasn', 'd', 'through', 'or', 'down', 'not', 'mightnt', 'into', 'ma', 'your', 'which', 'wasnt', 'any', 'o', 'these', 'at', 'own', 'a', 'hasn'}\n",
      "ive noticed that whenever i write code i lot of time need lots of if elif statements selfchoice inputnumber if selfchoice selfwhatever elif selfchoice elif selfchoice else printtry again an example of how id do my code i feel there much more efficient way do this though\n",
      "{'once', 'yourself', 'wasn', 'some', 'are', 'no', 'so', 'that', 'up', 'yours', 'd', 'is', 'havent', 'too', 'mightn', 'doesn', 'by', 'my', 'shan', 'few', 'was', 'aren', 'didn', 'neednt', 'weren', 'haven', 'not', 'youre', 'ourselves', 'into', 'each', 'ma', 'but', 'your', 'why', 'dont', 'her', 'nor', 'out', 've', 'who', 'other', 'in', 'shouldnt', 'just', 'shouldn', 'only', 'more', 'couldnt', 'don', 'their', 'be', 'thatll', 'with', 'themselves', 'same', 'of', 'should', 'such', 'own', 'm', 'a', 're', 'most', 'himself', 'werent', 'am', 'mustnt', 'ain', 'now', 'does', 'won', 'has', 'ours', 'wont'}\n",
      "i have been on this group for awhile and have can say frequently posted suggested solutions when i see people struggle coding problems or need advice what i understand they deleting the original post they have got solutions i see this symptom happened pretty often especially newcomers trying to rude or anything when we helped someone problem i thought it because we want our solution to seen others members can learn from people mistakes and problems can someone explaining the reason behind this i deleting post since i have got answer symptom\n",
      "{'its', 'some', 'no', 'y', 'by', 'under', 'youre', 'about', 'further', 'each', 've', 'their', 'doesnt', 'to', 'did', 'hers', 'of', 'doing', 'himself', 'werent', 'do', 'if', 'isnt', 'wouldnt', 'yourself', 'yours', 'mightn', 'both', 'myself', 'dont', 'what', 'the', 'had', 'as', 'same', 'we', 'above', 'most', 'ain', 'ours', 'too', 's', 'were', 'ourselves', 'where', 'youll', 'why', 'her', 'out', 'in', 'just', 'shes', 'be', 'she', 'such', 'arent', 'below', 'll', 'wasn', 'again', 'd', 'those', 'through', 'or', 'theirs', 'not', 'into', 'on', 'shant', 'ma', 'our', 'which', 'when', 'more', 'o', 'these', 'yourselves'}\n",
      "class number def intself selfvalue selfeven true numberinstance number printnumberinstancevalue printnumberinstanceeven false i keep getting syntaxerrorkeywordcantbeanexpression error first print statement edit is question write a class named number with one attribute called value defaults and another attribute called even defaults true next create an instance this class and assign it a variable called numberinstance then set value attribute and even attribute false edit thank you all for support i figured issue after minutes posting it i was losing my mind i want thank callmelucky being champion for newbies\n",
      "{'its', 'some', 'y', 'from', 'by', 'didn', 'youre', 'but', 've', 'who', 'itself', 'doesnt', 'and', 'of', 'm', 'because', 'being', 'am', 'has', 'yourself', 'you', 'neednt', 'myself', 'dont', 'what', 'the', 'couldnt', 'against', 'they', 'over', 'as', 'them', 'his', 'then', 'above', 'most', 'during', 'ours', 'havent', 'mustn', 'between', 'than', 'why', 'nor', 'in', 'just', 'she', 'such', 'arent', 'now', 'wouldn', 'it', 'wasn', 'again', 'd', 'doesn', 'through', 'or', 'shan', 'me', 'there', 'theirs', 'not', 'mightnt', 'into', 'shant', 'ma', 'this', 'our', 'how', 'all', 'herself', 'which', 'when', 'wasnt', 'any', 'these', 'at', 'own', 'yourselves', 'been'}\n",
      "nbsp tldr follow up my post a year ago asking to present automation to my cto he shits front people he feels i made big security oversitesattackedinsecuredidnt have time i decide to move to a tech start up i get a raise i asked for gave my new company people with my skills ie python are typically on i drop key takeaways my learning nbsp long version nbsp so about a year ago i made post explaining that i had made a script to automate part my job potentially saving my business about hours a year sorry took so long to follow up here story nbsp i presented script to my cto start i got bad vibes atmosphere was a bit tense were a lot people on call my cto is america along with rest dev team im uk meaning i had no relationship with anyone nbsp i showed off my script course i started having connection issues meaning my screen share was cutting out took up about minutes hour i can see my cto was getting pissed off eventually i got script running went well worked perfectly nbsp cto didnt say anything for a while whilst other devs asked basic questions language is long have coding packages did use whilst also saying that were impressed that i had built script a short time cto finally spoke up said so those files were uploading data output looks like real names to have got company data on your personal laptop barring mind i install python on my work laptop i had used data company like an idiot hadnt made dummy data nbsp i quickly apologised he took opportunity to go on he completely undressed call front everyone taking time to explain to having company data on my laptop was so bad told to delete every single piece company data i had whilst share screened front people barring mind data was only first name first initial email address hardly credit card details he asked if my username password to access my company website was stored my script plain text i said yes were he could clearly see that he spent another minutes raising voice explaining lamenting dangerous that was my packages could be stealing that data barring mind i used pandas numpy selenium xlsx writer very known packages nbsp time meeting was essentially i was massively deflated my boss supported said that will speak to my cto right way he spoke to front everyone after my boss spoke to cto he agreed to review script i sent to ultimately i needed their help hosting script on company website after weeks hearing anything i chased simply messaged back sorry we capacity to work on project right nbsp i was pissed off id spent probably hours on script point working obsessively i decided to start searching for a new job nbsp i put my python experience on my cv a modified version my script on github started applying for new jobs tech startups where i felt innovation automation would be appreciated i started getting loads feedback interviews interviews i felt were honestly outside my pay bracket grade python script gave confidence skills something to talk about interviewers companies really really value a self starter is going to work smarter harder nbsp end i managed to get an operations analyst role with a tech start up getting a massive pay rise so crazy happened to my manager told i got job asked much money i was looking for i said said well actually i want to bring on that much people with your skills company are paid like that is insane shows much value python skills i had picked up meant creating a script means your interviewers really believe that can invest will go out your way to learn new skills to push my role to limits nbsp for anyone looking to do automate a task work here are my key takeaways nbsp do even if company implement your automation i learnt so much more working on my project i did watching tutorials coding books cant beat real life problems motivation to solve problem is really matters able to put on your cv is worth weight gold too comes to negotiating wages nbsp look to automate something that is completely self efficient ultimately i had embarrassed my cto automating something he team should have done years ago so course he wanted to block my script fact my automation needed to be host on company websiteintranet means he could easily block saying team too much work to do work on things that control completely make hard for to say no nbsp always use dummy data be stupid like put company data on your work laptop if do comes round to showing your script pls use dummy data delete data nbsp get your hopes up i was so deflated rejection harsh treatment my cto have to understand that devs managers often have massive egos seeing an upstart come write code that potentially makes look bad means that will block your initiative out spite jealousy trust be prepared for rejection have adequate responses for reasons think would dismiss project nbsp if your business value your automation look to move to a tech start up tech startups love automation will give access need to make a change enable rather block moving to a tech startup is best move ive ever made i see working for a massive corporate entity ever nbsp put your username password plain text your script massively tripped up i had no response to my cto he called out on use something like python keyring library to encrypt your login password so no one can catch out caught nbsp attach a dollar value to time saved meant that my direct line manager manager ignore could see value instantly\n",
      "{'yourself', 'wasn', 'i', 'yours', 'y', 'is', 'have', 'mightn', 'doesn', 'by', 'me', 'shan', 'he', 'few', 'between', 'was', 'very', 'weren', 'theirs', 'having', 'down', 'haven', 'were', 'it', 'about', 'on', 'than', 'both', 'myself', 'shant', 'but', 'your', 'nor', 'ma', 'until', 'each', 've', 'other', 'our', 'how', 'just', 't', 'shouldn', 'isn', 'herself', 'only', 'hadn', 'when', 'wasnt', 'further', 'shes', 'they', 'she', 'had', 'to', 'shouldve', 'and', 'did', 'an', 'such', 'them', 'a', 'his', 'being', 'because', 'above', 'am', 'do', 'below', 'if', 'now', 'wouldn', 're', 'has', 'ours', 'hasnt'}\n",
      "stumbled across this subreddit months ago chance since then been pretty active here posting almost daily trying mostly succeeding hope help people solve their python related problems im no means expert programming hobby work in unrelated field want share some of my experiences in the hope someone may find useful anyway during this time noticed reoccurring questions that get posted times week xyz bookcourse good way learn python know the basics get better what projects can personally think from what ive seen many people agree the probably most efficient fastest way of learning python my opinion get the basics then find project problem based learning think what specific coursebook you use learn the basic building blocks of python isnt even all that important though there are certainly better worse options choose from while this method solid support base the question of what project work seems throw off many aspiring even intermediate programmers the best choice obviously find project of personal relevance apply one skills always more motivating work something that useful oneself however those projects are actually not always readily available or maybe too largecomplex be suitable as first project for complete novice the hand writing program for the heck of without anyone ever using far from motivating what find curious though that these people looking for projects are actually sitting treasure trove of real world programming problems waiting be solved dont seem even notice namely this sub since found this sub ive been doing nothing else opening posts trying solve the problems of people oftentimes vague or no clear idea solve these problems however think of different approaches possible solutions googling researching once find solution post the idea similar rubber duck debugging you want learn something try explain someone else you cant explain you dont actually understand fully this way in the past months ive learned more also more diverse things in the whole last year combined win win situation the person asking the question gets help get free real world exercises more programming experience as plus there are many people this sub who different from actually are experts so you get various creative approaches you can refer compare approaches what equally important you get feedback solutions you are lucky in the form of comments telling you what goodbad approach sadly though votes without actual explanation are more prevalent still better nothing you lack confidence in skills solve the problem for first then wait for people reply compare the approaches see you can improve answer side note really wish people would give more feedback posted solutions like any field programming not skill you ever master completely you get more proficient there always more learn in order learn you need know what where improve feedback essential in learning anything vote fine please say what wrong with the answer thanks before wrap this up this already longer planned want give short example of my learning curve that might encourage motivate some people recently posted solution pandas related problem which garnered bit of attention mostly got lucky implemented useful method which many people up then apparently didnt know people called smart or expert which found rather funny actually embarrassing so far from the truth after all one month ago my knowledge of pandas limited reading in csv file that after trying solve people pandas problems regular basis for month rather naturally learned my way around the library this super useful method used well found hour prior in the pandas docs while looking solve this problem putting in the effort learn didnt help apparently also many others my point solving all these problems made learn way faster more relevant things any tutorial book or course ever could while calling pandas expert certainly much over exaggerated my proficiency still rose exponentially made similar progress in many different areas over the last months eg took deep dive into python standard library real treasure trove helping people thus can encourage everyone take part work problems even though you may not know the answer initially take as opportunity become better programmer while getting karma as bonus hope someone found my ramblings useful nice day everyone kudos this awesome community since highly doubt that people will actually read this wall of text tldr fastest way learn programming doing projects you dont project try solving the problems this subreddit as exercises free real world problems feedback the possibility compare approaches those of people who know their stuff also youre good person helping people plus you get karma sum up help helping others everybody wins\n",
      "{'some', 'will', 'no', 'i', 'after', 'he', 'having', 'was', 'about', 'further', 'isn', 'don', 'their', 'itself', 'doesnt', 'themselves', 'and', 'should', 'doing', 'm', 'because', 'being', 'while', 'himself', 'werent', 'am', 'if', 'yourself', 'you', 'is', 'neednt', 'myself', 'dont', 'until', 'they', 'had', 'we', 'an', 'his', 'above', 'ours', 'hasnt', 'wont', 's', 'up', 'havent', 'very', 'between', 'haven', 'needn', 'than', 'her', 'out', 'she', 'before', 'such', 'arent', 'off', 're', 'll', 'wasn', 'that', 'have', 'those', 'through', 'or', 'shan', 'there', 'down', 'not', 'your', 'all', 'herself', 'which', 'more', 'wasnt', 'any', 'these', 'at', 'own', 'mustnt', 'been'}\n",
      "chose a course on youtube yesterday by mosh followed to the receiving inputs lesson got tired now today felt like lost interest way to lose interest to continue learning python also the best free python course can use\n",
      "{'once', 'its', 'wasn', 'that', 'wouldnt', 'couldn', 'after', 'he', 'doesn', 'my', 'or', 'shan', 'under', 'neednt', 'theirs', 'weren', 'were', 'mightnt', 'haven', 'youre', 'ourselves', 'on', 'than', 'further', 'shant', 'ma', 'where', 'each', 'didnt', 'what', 'until', 'wont', 've', 'other', 'youve', 'shouldnt', 'just', 'all', 't', 'only', 'hadn', 'which', 'don', 'they', 'be', 'doesnt', 'o', 'thatll', 'had', 'as', 'll', 'themselves', 'we', 'same', 'with', 'shouldve', 'and', 'at', 'should', 'such', 'own', 'while', 'a', 'been', 'most', 'himself', 'werent', 'do', 'off', 'yourselves', 'during', 'does', 'has', 'ours', 'hasn', 'can'}\n",
      "x posting from rpython i am doing psa please extra careful when you see kite the program auto completor app this app is atrociously bad for performance it spreads to of your system i mean of your system the developers intentionally made it hard for you to remove it i made the mistake of installing it when i was trying out spyder ide i realize this app installed itself across of editors including neovim i started noticing neovim would get several seconds of hiccup when i was running python repl never happened before soon linux system started experiencing severe hiccup well then i did some profiling found out kite was making background process calls without consent the worst part yet is made it nearly impossible for you uninstall it not unless you download their shady app manager make curl call to completely unknown api server to uninstall apps your computer i dont even want to know kind of personal information data stealing from computer i fail to see how kite is different from virus please use extra caution when going through ide setup something like kite easily creep in contaminate your whole system like to the developers of spyder vscode ides please take active step in banning an app like kite severely infringes upon the privacy right of their users by promoting this app an extension you are potentially endangering millions of your users\n",
      "{'some', 'that', 'are', 'i', 'so', 'yours', 'again', 'hasn', 'have', 'from', 'he', 'by', 'having', 'shan', 'very', 'neednt', 'youd', 'haven', 'not', 'were', 'about', 'into', 'than', 'both', 'shant', 'each', 'didnt', 'why', 'nor', 'dont', 'what', 'out', 'other', 'how', 'all', 'just', 't', 'isn', 'which', 'the', 'couldnt', 'wasnt', 'any', 'they', 'be', 'she', 'thatll', 'over', 'these', 'doesnt', 'as', 'themselves', 'we', 'same', 'hers', 'before', 'of', 'doing', 'an', 'a', 'arent', 'most', 'werent', 'do', 'below', 'if', 'wouldn', 'isnt', 'ours', 'hasnt', 'can'}\n",
      "hello seem to encounter lot documentation and tutorials use format method instead f string literals personally printi cant seem to someone formatthink reason would prefer this versus easily easily sentence sentence this this printfa much more easily readable sentence such this f string literal is always much easier to decipher and thus avoid errors perhaps there benefit format im unaware googling brought up much on debate cheers\n",
      "{'once', 'its', 'will', 'i', 'so', 'couldn', 'didn', 'youre', 'further', 've', 'who', 'their', 'itself', 'themselves', 'did', 'hers', 'of', 'doing', 'should', 'm', 'because', 'werent', 'has', 'isnt', 'wouldnt', 'yourself', 'you', 'is', 'few', 'dont', 'what', 'youve', 'hadn', 'the', 'couldnt', 'they', 'over', 'had', 'his', 'then', 'most', 'can', 'wont', 's', 'my', 'between', 'weren', 'were', 'ourselves', 'needn', 'where', 'why', 'her', 'here', 't', 'shes', 'before', 'such', 'hadnt', 'arent', 'off', 'now', 'it', 'wasn', 'again', 'theirs', 'down', 'mightnt', 'youd', 'into', 'shant', 'him', 'whom', 'when', 'wasnt', 'o', 'these', 'at', 'own', 'a', 'yourselves'}\n",
      "recently there have been rumor man deletes friend chrome history after friend dead decided to make script that be buddy buddy clean chrome history and private files which added paths being very beginner on python more or less think achieved this project add directories and set time on every startup see your date on screen for secs time comes and if havent set extra time on program delete your browser history and paths added also hide this paths too using windows superhiding method link ps as said consider myself as beginner if have any opinions and arrangements on code would be glad to hear them also convert this to an exe file share on same link\n",
      "{'some', 'no', 'yours', 's', 'so', 'you', 'havent', 'd', 'have', 'from', 'doesn', 'me', 'having', 'shan', 'between', 'under', 'neednt', 'theirs', 'weren', 'down', 'mightnt', 'not', 'were', 'about', 'needn', 'than', 'didnt', 'but', 'dont', 'what', 'until', 'wont', 'out', 've', 'him', 'shouldnt', 'all', 'just', 'whom', 'shouldn', 'more', 'couldnt', 'wasnt', 'don', 'their', 'itself', 'shes', 'they', 'be', 'thatll', 'over', 'had', 'as', 'at', 'of', 'them', 'such', 'then', 'while', 'a', 'because', 'above', 'most', 'himself', 'am', 'mustnt', 'below', 'off', 'does', 're', 'has', 'isnt', 'hasn', 'll'}\n",
      "im looking for job backend developer ive read python crash course and django for beginners ive developed few projects instagram like app blog app hangman rock paper scissors tick tack toe else should i learn\n",
      "{'once', 'yourself', 'wasn', 'some', 'are', 'no', 'so', 'that', 'up', 'yours', 'd', 'is', 'havent', 'too', 'mightn', 'doesn', 'by', 'my', 'shan', 'few', 'was', 'aren', 'didn', 'neednt', 'weren', 'haven', 'not', 'youre', 'ourselves', 'into', 'each', 'ma', 'but', 'your', 'why', 'dont', 'her', 'nor', 'out', 've', 'who', 'other', 'in', 'shouldnt', 'just', 'shouldn', 'only', 'more', 'couldnt', 'don', 'their', 'be', 'thatll', 'with', 'themselves', 'same', 'of', 'should', 'such', 'own', 'm', 'a', 're', 'most', 'himself', 'werent', 'am', 'mustnt', 'ain', 'now', 'does', 'won', 'has', 'ours', 'wont'}\n",
      "i have been on this group for awhile and have can say frequently posted suggested solutions when i see people struggle coding problems or need advice what i understand they deleting the original post they have got solutions i see this symptom happened pretty often especially newcomers trying to rude or anything when we helped someone problem i thought it because we want our solution to seen others members can learn from people mistakes and problems can someone explaining the reason behind this i deleting post since i have got answer symptom\n",
      "{'yourself', 'wasn', 'i', 'yours', 'y', 'is', 'have', 'mightn', 'doesn', 'by', 'me', 'shan', 'he', 'few', 'between', 'was', 'very', 'weren', 'theirs', 'having', 'down', 'haven', 'were', 'it', 'about', 'on', 'than', 'both', 'myself', 'shant', 'but', 'your', 'nor', 'ma', 'until', 'each', 've', 'other', 'our', 'how', 'just', 't', 'shouldn', 'isn', 'herself', 'only', 'hadn', 'when', 'wasnt', 'further', 'shes', 'they', 'she', 'had', 'to', 'shouldve', 'and', 'did', 'an', 'such', 'them', 'a', 'his', 'being', 'because', 'above', 'am', 'do', 'below', 'if', 'now', 'wouldn', 're', 'has', 'ours', 'hasnt'}\n",
      "stumbled across this subreddit months ago chance since then been pretty active here posting almost daily trying mostly succeeding hope help people solve their python related problems im no means expert programming hobby work in unrelated field want share some of my experiences in the hope someone may find useful anyway during this time noticed reoccurring questions that get posted times week xyz bookcourse good way learn python know the basics get better what projects can personally think from what ive seen many people agree the probably most efficient fastest way of learning python my opinion get the basics then find project problem based learning think what specific coursebook you use learn the basic building blocks of python isnt even all that important though there are certainly better worse options choose from while this method solid support base the question of what project work seems throw off many aspiring even intermediate programmers the best choice obviously find project of personal relevance apply one skills always more motivating work something that useful oneself however those projects are actually not always readily available or maybe too largecomplex be suitable as first project for complete novice the hand writing program for the heck of without anyone ever using far from motivating what find curious though that these people looking for projects are actually sitting treasure trove of real world programming problems waiting be solved dont seem even notice namely this sub since found this sub ive been doing nothing else opening posts trying solve the problems of people oftentimes vague or no clear idea solve these problems however think of different approaches possible solutions googling researching once find solution post the idea similar rubber duck debugging you want learn something try explain someone else you cant explain you dont actually understand fully this way in the past months ive learned more also more diverse things in the whole last year combined win win situation the person asking the question gets help get free real world exercises more programming experience as plus there are many people this sub who different from actually are experts so you get various creative approaches you can refer compare approaches what equally important you get feedback solutions you are lucky in the form of comments telling you what goodbad approach sadly though votes without actual explanation are more prevalent still better nothing you lack confidence in skills solve the problem for first then wait for people reply compare the approaches see you can improve answer side note really wish people would give more feedback posted solutions like any field programming not skill you ever master completely you get more proficient there always more learn in order learn you need know what where improve feedback essential in learning anything vote fine please say what wrong with the answer thanks before wrap this up this already longer planned want give short example of my learning curve that might encourage motivate some people recently posted solution pandas related problem which garnered bit of attention mostly got lucky implemented useful method which many people up then apparently didnt know people called smart or expert which found rather funny actually embarrassing so far from the truth after all one month ago my knowledge of pandas limited reading in csv file that after trying solve people pandas problems regular basis for month rather naturally learned my way around the library this super useful method used well found hour prior in the pandas docs while looking solve this problem putting in the effort learn didnt help apparently also many others my point solving all these problems made learn way faster more relevant things any tutorial book or course ever could while calling pandas expert certainly much over exaggerated my proficiency still rose exponentially made similar progress in many different areas over the last months eg took deep dive into python standard library real treasure trove helping people thus can encourage everyone take part work problems even though you may not know the answer initially take as opportunity become better programmer while getting karma as bonus hope someone found my ramblings useful nice day everyone kudos this awesome community since highly doubt that people will actually read this wall of text tldr fastest way learn programming doing projects you dont project try solving the problems this subreddit as exercises free real world problems feedback the possibility compare approaches those of people who know their stuff also youre good person helping people plus you get karma sum up help helping others everybody wins\n",
      "{'yourself', 'wasn', 'its', 'too', 'no', 'that', 'i', 'again', 'couldn', 'havent', 'is', 'have', 'after', 'he', 'through', 'my', 'shan', 'very', 'was', 'during', 'under', 'neednt', 'theirs', 'there', 'youd', 'mightnt', 'haven', 'down', 'ourselves', 'into', 'about', 'than', 'both', 'shant', 'where', 'but', 'youll', 'why', 'for', 'what', 'until', 'in', 'our', 'shouldnt', 'just', 'shouldn', 'which', 'when', 'more', 'the', 'couldnt', 'don', 'be', 'she', 'o', 'these', 'doesnt', 'had', 'with', 'themselves', 'same', 'did', 'and', 'of', 'such', 'hadnt', 'then', 'while', 'because', 'arent', 'most', 'werent', 'below', 'now', 'ours', 'wont'}\n",
      "they will walk you basic simple application something practice activity by comparison not only insanely difficult you wouldnt know how to do it given has been taught so far cant they give activities are at or around level difficulty they teach want to learn how to walk before learning how to run\n",
      "{'once', 'wasn', 'yourself', 'its', 'yours', 'too', 'y', 'again', 'is', 'have', 'those', 'after', 'mightn', 'doesn', 'by', 'or', 'shan', 'he', 'few', 'between', 'was', 'very', 'neednt', 'under', 'youd', 'not', 'it', 'about', 'ourselves', 'needn', 'on', 'than', 'myself', 'ma', 'where', 'why', 'nor', 'dont', 'her', 'wont', 've', 'here', 'all', 't', 'shouldn', 'isn', 'herself', 'when', 'the', 'wasnt', 'against', 'shes', 'itself', 'she', 'thatll', 'over', 'these', 'had', 'did', 'before', 'doing', 'such', 'his', 'own', 'm', 'a', 'mustnt', 'below', 'off', 'now', 'does', 'won', 'has', 'hasnt', 'been'}\n",
      "i recently came across website you are presented challenge to writeedit piece of code and you are able to see how other took to challenge i cant remember name of website and wondering if anyone knew similar websites\n",
      "{'once', 'yourself', 'wasn', 'some', 'are', 'no', 'so', 'that', 'up', 'yours', 'd', 'is', 'havent', 'too', 'mightn', 'doesn', 'by', 'my', 'shan', 'few', 'was', 'aren', 'didn', 'neednt', 'weren', 'haven', 'not', 'youre', 'ourselves', 'into', 'each', 'ma', 'but', 'your', 'why', 'dont', 'her', 'nor', 'out', 've', 'who', 'other', 'in', 'shouldnt', 'just', 'shouldn', 'only', 'more', 'couldnt', 'don', 'their', 'be', 'thatll', 'with', 'themselves', 'same', 'of', 'should', 'such', 'own', 'm', 'a', 're', 'most', 'himself', 'werent', 'am', 'mustnt', 'ain', 'now', 'does', 'won', 'has', 'ours', 'wont'}\n",
      "i have been on this group for awhile and have can say frequently posted suggested solutions when i see people struggle coding problems or need advice what i understand they deleting the original post they have got solutions i see this symptom happened pretty often especially newcomers trying to rude or anything when we helped someone problem i thought it because we want our solution to seen others members can learn from people mistakes and problems can someone explaining the reason behind this i deleting post since i have got answer symptom\n",
      "{'once', 'wasn', 'wouldnt', 'are', 'no', 'y', 's', 'up', 'so', 'again', 'couldn', 'yours', 'after', 'doesn', 'mustn', 'or', 'by', 'shan', 'few', 'between', 'very', 'didn', 'neednt', 'theirs', 'there', 'down', 'not', 'were', 'youre', 'it', 'into', 'didnt', 'both', 'for', 'where', 'but', 'your', 'what', 'wont', 'this', 'who', 'other', 'how', 'all', 'just', 'whom', 'only', 'hadn', 'when', 'more', 'the', 'couldnt', 'any', 'their', 'against', 'itself', 'they', 'she', 'over', 'had', 'with', 'we', 'to', 'of', 'them', 'under', 'own', 'm', 'a', 'because', 'himself', 'am', 'yourselves', 'hasn', 'can'}\n",
      "finished guided part course another days you get line descriptions project and you supposed do on pros angela is good instructor reason has many students you coding every day around halfway point ramps lot and number video lectures drops correspondingly i liked personally while listening lectures gets boring scaling project difficulty and amount guidance you receive is well done must have put lot time and thought somehow remains challenging entire time you never feel like completely beyond current capabilities exposed multiple frameworks and projects pretty diverse think is good people like me dont have specific direction want go programming yet on flipside does mean you end course without having gone in depth on really cons relatively speaking isnt much focus on oop at i dont feel like i have good grasp on at in practical sense and that im going focus on now claims made on youll learn section ridiculous i assume you need make these bold claims attract students come on be able program in python professionally yeah ok lol create portfolio python projects apply developer jobs i claim be an expert in good practice developer portfolios seems like terrible idea put beginner shitter projects on master python programming language building projects days think obvious you cant master in days last days non guided projects is fine since is definitely enough content justify price without i highly doubt id be able finish in day and definitely in hours says each day should last in intro video conclusion if you think as course learn basic fundamentals python great i much preferred python everybody which i used on my previous attempt learn years ago part that fun is making stuff yourself that actually takes effort opening code editor and filling in missing lines project structure is great in that sense be weary claims hireable youll be afterward\n",
      "{'its', 'some', 'are', 'i', 'from', 'by', 'under', 'about', 'isn', 'only', 'don', 'doesnt', 'themselves', 'to', 'shouldve', 'doing', 'm', 'while', 'do', 'does', 'yours', 'is', 'few', 'myself', 'dont', 'until', 'shouldnt', 'hadn', 'the', 'against', 'over', 'as', 'same', 'them', 'an', 'most', 'ours', 'too', 'up', 'havent', 'mustn', 'my', 'very', 'weren', 'haven', 'ourselves', 'needn', 'than', 'in', 'here', 'just', 'shouldn', 'shes', 'such', 'hadnt', 'below', 'now', 'wasn', 'that', 'shan', 'theirs', 'youd', 'mightnt', 'on', 'ma', 'this', 'other', 'him', 'whom', 'more', 'any', 'o', 'these', 'with', 'own', 'mustnt', 'yourselves', 'hasn'}\n",
      "have a habit of googling every problem after trying it but it for concepts and get logic not copy paste what your experience how tackle problems coding if youre stuck it\n",
      "{'wouldnt', 'yourself', 'too', 'will', 'are', 'couldn', 'havent', 'd', 'from', 'after', 'mightn', 'doesn', 'he', 'having', 'shan', 'my', 'was', 'didn', 'during', 'neednt', 'there', 'down', 'mightnt', 'not', 'ourselves', 'into', 'on', 'needn', 'shant', 'where', 'for', 'why', 'nor', 'what', 'this', 'in', 'who', 'our', 'out', 'shouldnt', 'how', 'whom', 'only', 'hadn', 'which', 'more', 'couldnt', 'wasnt', 'don', 'their', 'against', 'they', 'be', 'she', 'thatll', 'these', 'had', 'as', 'themselves', 'we', 'shouldve', 'did', 'before', 'm', 'a', 'being', 'because', 'arent', 'above', 'werent', 'mustnt', 'off', 'now', 'does', 'won', 'isnt'}\n",
      "so i started learning python about week ago and everything going well and i understood everything except loops can someone explain them to me like im\n",
      "{'its', 'will', 'are', 'no', 'couldn', 'after', 'he', 'under', 'was', 'youre', 'further', 'who', 'isn', 'only', 'their', 'itself', 'doesnt', 'should', 'himself', 'does', 'yours', 'both', 'dont', 'what', 'youve', 'against', 'they', 'thatll', 'had', 'as', 'same', 'we', 'them', 'his', 'then', 'above', 'during', 'can', 'too', 's', 'very', 'weren', 'were', 'haven', 'ourselves', 'needn', 'than', 'for', 'nor', 'out', 'in', 'here', 'just', 'be', 'she', 'before', 'such', 'off', 'now', 're', 'll', 'd', 'through', 'or', 'shan', 'me', 'there', 'theirs', 'not', 'mightnt', 'on', 'our', 'him', 'when', 'wasnt', 'any', 'with', 'own'}\n",
      "i made several of the chapters of the book into articles my blog so you get a preview of the content the book drawing shapes images python and pillow drawing text images pillow and python getting gps exif data python this book you learn about the following opening and saving images extracting image metadata working colors applying image filters cropping rotating and resizing enhancing images combining images drawing pillow imagechops integration gui toolkits you order the ebook versions leanpub gumroad you purchase either of these websites you receive a pdf epub and mobi version of the book the paperback and kindle versions available amazon the paperback version of the book is full color that is why it more expensive of my other books to purchase\n",
      "{'once', 'some', 'are', 'i', 'from', 'under', 'was', 'about', 'each', 'who', 'isn', 'itself', 'hers', 'doing', 'while', 'am', 'do', 'if', 'has', 'yourself', 'you', 'is', 'neednt', 'myself', 'youve', 'shouldnt', 'hadn', 'against', 'thatll', 'we', 'them', 'an', 'his', 'ain', 'during', 'wont', 'can', 'havent', 'mustn', 'very', 'aren', 'weren', 'for', 'where', 'youll', 'why', 'nor', 't', 'shouldn', 'shes', 'be', 'she', 'hadnt', 'arent', 'off', 'won', 'it', 'll', 'that', 'again', 'have', 'shan', 'not', 'mightnt', 'shant', 'ma', 'your', 'how', 'all', 'whom', 'herself', 'which', 'when', 'o', 'with', 'mustnt', 'hasn', 'been'}\n",
      "finished automate the boring stuff and learnt pygame via yt but dont know to proceedi made a modified game using pygame and solved beginner problems online practice being said able to solve questions and others no matter what never able to solve and after reading the solution think couldnt think so simplethis happened far too many times code wars seems to a time wasted as able to solve many questions need to learn more proceed to data structures and algorithm or practice a different source just dont know to take the next step would really appreciate advice edit thank everyone such overwhelming response\n",
      "{'its', 'no', 'couldn', 'from', 'by', 'under', 'didn', 've', 'isn', 'only', 'don', 'itself', 'doesnt', 'and', 'doing', 'being', 'himself', 'do', 'if', 'does', 'isnt', 'wouldnt', 'yours', 'you', 'is', 'both', 'youve', 'shouldnt', 'hadn', 'the', 'against', 'they', 'thatll', 'over', 'an', 'most', 'during', 'ours', 'too', 'weren', 'were', 'than', 'where', 'why', 'nor', 'her', 'out', 'just', 'shes', 'be', 'she', 'before', 'below', 'off', 'won', 're', 'it', 'll', 'have', 'me', 'or', 'there', 'theirs', 'into', 'on', 'shant', 'ma', 'your', 'this', 'our', 'other', 'him', 'all', 'when', 'more', 'o', 'these', 'with', 'at'}\n",
      "hi im helping a friend learn pythonto code in general has some coding background knows syntax has taken a few cs courses but never understood oop recently started learning python asked to explain self not how to use but like what mean i gave best explanation i could but my first time really teaching anyone i feel like a youtube video could probably a lot better i could im really scared of saying one thing slightly introducing a misconception that lasts forever emphasizing wrong thing etc im also looking for something that goes oop concepts in general like inheritancepolymorphismabstractionencapsulation we care would cool that was same video because that would about exactly tone im looking for anyone any suggestions tldr looking for yt video that explains classesoopwhat self mean in python for a friend thanks\n",
      "{'once', 'its', 'are', 'i', 'y', 'from', 'after', 'about', 'further', 'but', 've', 'who', 'isn', 'only', 'their', 'itself', 'doesnt', 'themselves', 'and', 'of', 'doing', 'because', 'himself', 'werent', 'am', 'do', 'does', 'is', 'mightn', 'few', 'neednt', 'didnt', 'myself', 'until', 'hadn', 'they', 'as', 'above', 'ain', 'wont', 'very', 'ourselves', 'needn', 'than', 'for', 'where', 'youll', 'why', 'nor', 'her', 'here', 'shouldn', 'she', 'before', 'such', 'hadnt', 'arent', 'below', 'off', 'that', 'again', 'd', 'have', 'those', 'through', 'me', 'youd', 'mightnt', 'on', 'shant', 'ma', 'other', 'him', 'whom', 'when', 'more', 'wasnt', 'with', 'at', 'hasn'}\n",
      "tried to post this in rpython said it appropriate sub so heres my question python jobs taking the self taught route im just wondering else has done what jobs youve been able to work im not too interested in becoming a data scientist or engineer not focused machine learning what python jobs available what some things helped you land jobs my eventual goal to become a full stack software engineer would like to learn javascript becoming comfortable in python thanks in advance any all help\n",
      "{'once', 'some', 'will', 'i', 'couldn', 'under', 'was', 'youre', 'each', 've', 'who', 'only', 'their', 'to', 'of', 'should', 'm', 'while', 'do', 'few', 'neednt', 'both', 'youve', 'shouldnt', 'hadn', 'couldnt', 'they', 'over', 'we', 'them', 'ain', 'during', 'can', 'too', 's', 'up', 'havent', 'my', 'weren', 'than', 'for', 'where', 'why', 'out', 'just', 'shouldn', 'shes', 'hadnt', 'arent', 'below', 'off', 'wouldn', 'it', 'wasn', 'that', 'have', 'doesn', 'or', 'there', 'theirs', 'down', 'mightnt', 'on', 'shant', 'ma', 'this', 'our', 'him', 'how', 'whom', 'when', 'more', 'any', 'o', 'these', 'at', 'own', 'been'}\n",
      "im chapter but learned a lot im able create little programs such as a calorie calculator small adventure game dice simulator etc im having a lot fun and im really excited the future learning htmlcssjs thought what programming never enjoyed and hard me learn python and atbs has sparked something inside me makes me feel fuzzy feeling again yipee really wanted share with someone edit spelling\n",
      "{'once', 'its', 'so', 'after', 'he', 'further', 'each', 'but', 've', 'isn', 'don', 'their', 'doesnt', 'shouldve', 'of', 'because', 'while', 'werent', 'am', 'do', 'if', 'isnt', 'yourself', 'few', 'neednt', 'myself', 'dont', 'hadn', 'the', 'against', 'thatll', 'same', 'we', 'above', 'most', 'ain', 'during', 'ours', 'hasnt', 'can', 'wont', 'too', 'my', 'very', 'between', 'aren', 'haven', 'needn', 'where', 'why', 't', 'shouldn', 'shes', 'be', 'she', 'hadnt', 'below', 'wouldn', 're', 'won', 'it', 'have', 'through', 'there', 'theirs', 'down', 'mightnt', 'into', 'shant', 'your', 'this', 'other', 'him', 'all', 'whom', 'herself', 'when', 'any', 'o', 'these', 'at', 'own'}\n",
      "example today i learned about git and github and felt incredible\n",
      "{'once', 'some', 'i', 'so', 'couldn', 'y', 'having', 'under', 'didn', 'was', 'youre', 'but', 've', 'who', 'isn', 'only', 'don', 'their', 'itself', 'shouldve', 'and', 'because', 'while', 'werent', 'do', 'does', 'has', 'isnt', 'yourself', 'you', 'is', 'didnt', 'until', 'youve', 'hadn', 'they', 'thatll', 'as', 'same', 'we', 'his', 'most', 'hasnt', 'wont', 'can', 'too', 's', 'mustn', 'between', 'needn', 'than', 'her', 'out', 'shes', 'be', 'arent', 'now', 'wouldn', 'won', 're', 'it', 'll', 'that', 'again', 'those', 'through', 'down', 'into', 'your', 'this', 'whom', 'when', 'more', 'wasnt', 'o', 'these', 'with', 'own', 'mustnt'}\n",
      "or for example if someone put python on resume what sort of things would ask to determine what actually know or at least instill confidence in edit well then looks like have responses to go lots to learn lmao\n",
      "{'once', 'its', 'will', 'y', 'after', 'having', 'under', 'was', 'youre', 'about', 'further', 'each', 'only', 'don', 'their', 'to', 'did', 'hers', 'and', 'of', 'because', 'werent', 'do', 'has', 'yourself', 'you', 'neednt', 'both', 'hadn', 'the', 'couldnt', 'over', 'as', 'same', 'an', 'his', 'most', 'ain', 'can', 'too', 'havent', 'were', 'haven', 'ourselves', 'youll', 'why', 'nor', 'in', 'just', 't', 'shes', 'she', 'such', 'hadnt', 'off', 'now', 'wouldn', 're', 'it', 'wasn', 'again', 'have', 'doesn', 'me', 'shan', 'not', 'into', 'ma', 'how', 'all', 'whom', 'which', 'more', 'these', 'with', 'mustnt', 'yourselves', 'hasn'}\n",
      "i recently came across a website where are presented a challenge writeedit a piece code are able see other took challenge i cant remember name website wondering if anyone knew similar websites\n",
      "{'wasn', 'no', 'yours', 's', 'so', 'again', 'is', 'have', 'from', 'after', 'mightn', 'by', 'through', 'he', 'shan', 'very', 'between', 'aren', 'under', 'weren', 'neednt', 'theirs', 'there', 'down', 'were', 'youre', 'didnt', 'shant', 'ma', 'but', 'where', 'for', 'her', 'until', 'this', 've', 'who', 'youve', 'out', 'shouldnt', 't', 'isn', 'only', 'wouldn', 'more', 'the', 'their', 'itself', 'shes', 'she', 'doesnt', 'o', 'over', 'these', 'with', 'we', 'same', 'to', 'did', 'and', 'before', 'should', 'his', 'because', 'most', 'werent', 'do', 'during', 'does', 're', 'ours', 'll'}\n",
      "i started learning python quarantine i learned c as a teenager years ago i had a bit of a running start since i had much time pretty quickly i spotted an opportunity a new product that i took conception deployment in months public launch went awesome our clients love it today two weeks launch they formally promoted me programming full time gave me a raise woohoo thanks all help along way\n",
      "{'some', 'no', 'i', 'couldn', 'y', 'he', 'under', 'didn', 'who', 'don', 'to', 'and', 'of', 'm', 'while', 'do', 'if', 'yourself', 'yours', 'you', 'is', 'mightn', 'few', 'youve', 'shouldnt', 'hadn', 'couldnt', 'against', 'they', 'thatll', 'over', 'as', 'an', 'then', 'ain', 'can', 'wont', 'up', 'my', 'very', 'between', 'aren', 'weren', 'ourselves', 'for', 'where', 'nor', 'in', 't', 'shouldn', 'shes', 'she', 'before', 'such', 'hadnt', 'below', 'now', 'wouldn', 'won', 're', 'it', 'that', 'd', 'have', 'doesn', 'shan', 'mightnt', 'other', 'him', 'herself', 'which', 'wasnt', 'any', 'o', 'these', 'own', 'mustnt', 'hasn'}\n",
      "idk needs see this out their but youre struggling find the motivation keep learning python or programming general dont give what worked me finding a project would challenge me set aside time every dayor however often just struggle through once make through one the most rewarding feelings ever every hurdle jump the learning process one less until meet your goal spent hours yesterday struggling learn canvas api finally got work perfectly know so much more about requests headers responses more ill continue keep struggling learning until ive met goals move onto whatever next good luck out there believe\n",
      "{'its', 'are', 'y', 'he', 'was', 'about', 'who', 'isn', 'only', 'to', 'shouldve', 'hers', 'of', 'doing', 'm', 'because', 'werent', 'does', 'isnt', 'yourself', 'mightn', 'few', 'neednt', 'didnt', 'until', 'what', 'youve', 'hadn', 'against', 'over', 'his', 'then', 'ours', 'can', 'mustn', 'very', 'between', 'weren', 'were', 'haven', 'than', 'for', 'where', 'youll', 'why', 'her', 'here', 'shouldn', 'shes', 'she', 'such', 'below', 'off', 'now', 'won', 're', 'wasn', 'that', 'again', 'd', 'have', 'theirs', 'down', 'not', 'youd', 'shant', 'this', 'our', 'other', 'him', 'how', 'herself', 'more', 'at', 'a', 'hasn', 'been'}\n",
      "i make python videos on youtube and get lot questions every day i found these mistakes be common problems especially those learning python hope some you find helpful video cheers\n",
      "{'are', 'no', 'y', 'hasn', 'again', 'havent', 'd', 'is', 'have', 'from', 'after', 'by', 'me', 'didn', 'there', 'youd', 'mightnt', 'not', 'youre', 'ourselves', 'into', 'on', 'about', 'than', 'further', 'shant', 'ma', 'youll', 'why', 'each', 'nor', 'what', 'needn', 'in', 'other', 'our', 'how', 'just', 't', 'whom', 'isn', 'only', 'which', 'couldnt', 'wasnt', 'against', 'shes', 'she', 'o', 'thatll', 'had', 'll', 'to', 'did', 'doing', 'an', 'such', 'them', 'hadnt', 'own', 'being', 'then', 'a', 'above', 'himself', 'werent', 'mustnt', 'off', 'if', 'ain', 'yourselves', 'won', 'isnt', 'hasnt', 'been'}\n",
      "i am beginner at coding with python so i am curious learning small programs or projects you all created i am hoping develop my skills using python so i figured looking at actual code for various programs would greatly help please include short description of the program does and the code itself the comments below thank you\n",
      "{'some', 'will', 'no', 'i', 'y', 'after', 'by', 'further', 'each', 'but', 'who', 'themselves', 'shouldve', 'and', 'm', 'while', 'himself', 'am', 'does', 'has', 'wouldnt', 'yours', 'you', 'is', 'mightn', 'neednt', 'didnt', 'myself', 'youve', 'hadn', 'against', 'over', 'them', 'an', 'his', 'most', 'during', 'ours', 'can', 's', 'up', 'mustn', 'my', 'between', 'aren', 'were', 'ourselves', 'needn', 'than', 'for', 'where', 'why', 'her', 'here', 'shouldn', 'shes', 'before', 'arent', 'below', 'wouldn', 'won', 'again', 'd', 'doesn', 'or', 'shan', 'there', 'down', 'our', 'him', 'how', 'all', 'whom', 'herself', 'which', 'when', 'more', 'wasnt', 'these', 'with', 'at', 'a', 'mustnt'}\n",
      "to keep things simple figured out way to map bunch of files to excel files create excel file that imported back into main software the help of of guys wrote this from pathlib import path import glob basedir pathrcfolder files f in files printf newname target basedir fnewnamevideo frenametarget what happens this script basically grabs whatever name convention video file shrinks it to digit number that then be mapped to excel file using macro also created we apparently paying company like grand year to do this the whole premise of this export data from software do stuff to it import it back into software to have it mapped directly to the video file director was so surprised actually pulled this off that he wants to find every competitor of this specific company sell this process he doesnt know what goes into it yet just knows it works just wanted to tell someone first big real achievement python me big shoutout to uireadyourmedrecord company owes money lol update be asking raise soon since just crossed yearly this job possibly bonus as well one access to this code since it live in jupyter notebook isnt automated yet on any local computer\n",
      "{'wasn', 'no', 'yours', 's', 'so', 'again', 'is', 'have', 'from', 'after', 'mightn', 'by', 'through', 'he', 'shan', 'very', 'between', 'aren', 'under', 'weren', 'neednt', 'theirs', 'there', 'down', 'were', 'youre', 'didnt', 'shant', 'ma', 'but', 'where', 'for', 'her', 'until', 'this', 've', 'who', 'youve', 'out', 'shouldnt', 't', 'isn', 'only', 'wouldn', 'more', 'the', 'their', 'itself', 'shes', 'she', 'doesnt', 'o', 'over', 'these', 'with', 'we', 'same', 'to', 'did', 'and', 'before', 'should', 'his', 'because', 'most', 'werent', 'do', 'during', 'does', 're', 'ours', 'll'}\n",
      "i started learning python quarantine i learned c as a teenager years ago i had a bit of a running start since i had much time pretty quickly i spotted an opportunity a new product that i took conception deployment in months public launch went awesome our clients love it today two weeks launch they formally promoted me programming full time gave me a raise woohoo thanks all help along way\n",
      "{'yourself', 'too', 'some', 'are', 'that', 'so', 'i', 'again', 'yours', 'have', 'after', 'shan', 'few', 'didn', 'weren', 'theirs', 'it', 'about', 'ourselves', 'than', 'further', 'shant', 'for', 'but', 'youll', 'didnt', 'nor', 'what', 'until', 'out', 've', 'who', 'other', 'him', 'how', 'shouldnt', 'all', 't', 'shouldn', 'hadn', 'which', 'wouldn', 'wasnt', 'their', 'itself', 'doesnt', 'o', 'thatll', 'with', 'we', 'same', 'at', 'did', 'and', 'hers', 'before', 'them', 'his', 'hadnt', 'm', 'a', 'because', 'been', 'above', 'werent', 'am', 'do', 'below', 'off', 'yourselves', 'does', 'has', 'hasnt', 'can'}\n",
      "each time learn progress the last time then create the programs need was why started to learn python in the first place once the program no use python forget everything this is repeating cycle now need another program highly customized there is nothing there use the learning starts wonder where would be now python wise if had persisted the first time anyway feel free to join me re learning python the n th time edit thanks the replies ive using the very excellent automate the boring stuff book free online ive using this book in addition to the author book cracking codes python the past years as starting point the project working on to logistics my friend wants to start small logistics company in asia countries in asia very fragmented logistics ecosystems he wants to know the best route in terms of costspeed to send parcels from one asian citytown to another asian citytown the parcels will travel by train plane boat courier etc example to send parcel from hanoi in vietnam to manilla in the philippines he will use different companies each stage of the journey of the parcel each company will priceroutedistance info on website in excel spreadsheets word documents send the info via email text message etc basically he to pull the information by scraping websites scanning emailstext messagesspreadsheetstext documents etc give the cheapeastquickest route every stage of the journey there things my program needs to dont the time or inclination to type previously ive able to use python to scrape websites parse excel spreadsheetsword documents email dont think parsing text message will be difficult python twilio library setting up twilio account seems simple cheap my python editor of choice always microsoft visual studio not visual studio code currently using microsoft visual studio community from me thanks the awards badges\n",
      "{'wouldnt', 'yourself', 'wasn', 'will', 'some', 'that', 'couldn', 'you', 'up', 'havent', 'd', 'those', 'after', 'he', 'doesn', 'through', 'mustn', 'having', 'my', 'few', 'was', 'aren', 'under', 'it', 'ourselves', 'into', 'than', 'both', 'shant', 'where', 'but', 'youll', 'didnt', 'dont', 'what', 'until', 'nor', 'out', 've', 'in', 'our', 'shouldnt', 'how', 'all', 'here', 'isn', 'more', 'couldnt', 'against', 'shes', 'doesnt', 'thatll', 'had', 'as', 'themselves', 'shouldve', 'and', 'before', 'doing', 'an', 'his', 'own', 'm', 'being', 'above', 'most', 'am', 'mustnt', 'below', 'if', 'off', 'now', 're', 'hasnt'}\n",
      "im self taught python able to write programs work i still feel like i know im can i learn about program structuredesign i usually just start coding one thing leads to another pretty soon im done i cant shake the feeling a professional programmer would look at code laugh at haphazard inefficient is any pointers or suggestions or are we just supposed to figure for\n",
      "{'yourself', 'its', 'will', 'that', 'i', 'you', 'again', 'havent', 'd', 'from', 'after', 'he', 'by', 'mustn', 'or', 'shan', 'few', 'very', 'didn', 'neednt', 'weren', 'there', 'were', 'mightnt', 'into', 'on', 'both', 'shant', 'for', 'but', 'ma', 'where', 'each', 'her', 'dont', 'this', 've', 'in', 'other', 'youve', 'here', 'how', 't', 'herself', 'only', 'hadn', 'which', 'the', 'itself', 'be', 'she', 'o', 'over', 'doesnt', 'had', 'themselves', 'we', 'same', 'at', 'hers', 'before', 'of', 'an', 'them', 'then', 'a', 'being', 'been', 'mustnt', 'off', 'if', 'during', 'does', 'it', 'can'}\n",
      "hi have just finished my bachelors and am looking to learn basic python start my masters months ive seen many youtube videosseries and know theyre all probably similar just wondering anyone has any suggestions ones they have used and liked similarly any websites found useful while learning thanks advance\n",
      "{'its', 'no', 'couldn', 'from', 'by', 'under', 'didn', 've', 'isn', 'only', 'don', 'itself', 'doesnt', 'and', 'doing', 'being', 'himself', 'do', 'if', 'does', 'isnt', 'wouldnt', 'yours', 'you', 'is', 'both', 'youve', 'shouldnt', 'hadn', 'the', 'against', 'they', 'thatll', 'over', 'an', 'most', 'during', 'ours', 'too', 'weren', 'were', 'than', 'where', 'why', 'nor', 'her', 'out', 'just', 'shes', 'be', 'she', 'before', 'below', 'off', 'won', 're', 'it', 'll', 'have', 'me', 'or', 'there', 'theirs', 'into', 'on', 'shant', 'ma', 'your', 'this', 'our', 'other', 'him', 'all', 'when', 'more', 'o', 'these', 'with', 'at'}\n",
      "hi im helping a friend learn pythonto code in general has some coding background knows syntax has taken a few cs courses but never understood oop recently started learning python asked to explain self not how to use but like what mean i gave best explanation i could but my first time really teaching anyone i feel like a youtube video could probably a lot better i could im really scared of saying one thing slightly introducing a misconception that lasts forever emphasizing wrong thing etc im also looking for something that goes oop concepts in general like inheritancepolymorphismabstractionencapsulation we care would cool that was same video because that would about exactly tone im looking for anyone any suggestions tldr looking for yt video that explains classesoopwhat self mean in python for a friend thanks\n",
      "{'once', 'will', 'no', 'i', 'couldn', 'y', 'after', 'he', 'having', 'under', 'youre', 'don', 'their', 'to', 'shouldve', 'should', 'doing', 'm', 'because', 'being', 'while', 'himself', 'do', 'you', 'mightn', 'neednt', 'both', 'myself', 'what', 'shouldnt', 'hadn', 'the', 'they', 'thatll', 'had', 'as', 'same', 'them', 'his', 'ain', 'ours', 'hasnt', 'wont', 'can', 'havent', 'were', 'haven', 'needn', 'for', 'youll', 'why', 'out', 'be', 'she', 'before', 'such', 'hadnt', 'below', 'off', 're', 'it', 'll', 'again', 'have', 'those', 'or', 'youd', 'shant', 'your', 'our', 'how', 'whom', 'more', 'wasnt', 'o', 'hasn', 'been'}\n",
      "hi im looking upskill at moment spare time of working from home im a devops engineer with a lot of experience with bash and some very minimal experience using python pretty much just updated a few lambda functions and added on probably badly existing code code anyone recommend an online course that could take learn python from beginner level thanks\n",
      "{'yourself', 'wasn', 'i', 'yours', 'y', 'is', 'have', 'mightn', 'doesn', 'by', 'me', 'shan', 'he', 'few', 'between', 'was', 'very', 'weren', 'theirs', 'having', 'down', 'haven', 'were', 'it', 'about', 'on', 'than', 'both', 'myself', 'shant', 'but', 'your', 'nor', 'ma', 'until', 'each', 've', 'other', 'our', 'how', 'just', 't', 'shouldn', 'isn', 'herself', 'only', 'hadn', 'when', 'wasnt', 'further', 'shes', 'they', 'she', 'had', 'to', 'shouldve', 'and', 'did', 'an', 'such', 'them', 'a', 'his', 'being', 'because', 'above', 'am', 'do', 'below', 'if', 'now', 'wouldn', 're', 'has', 'ours', 'hasnt'}\n",
      "stumbled across this subreddit months ago chance since then been pretty active here posting almost daily trying mostly succeeding hope help people solve their python related problems im no means expert programming hobby work in unrelated field want share some of my experiences in the hope someone may find useful anyway during this time noticed reoccurring questions that get posted times week xyz bookcourse good way learn python know the basics get better what projects can personally think from what ive seen many people agree the probably most efficient fastest way of learning python my opinion get the basics then find project problem based learning think what specific coursebook you use learn the basic building blocks of python isnt even all that important though there are certainly better worse options choose from while this method solid support base the question of what project work seems throw off many aspiring even intermediate programmers the best choice obviously find project of personal relevance apply one skills always more motivating work something that useful oneself however those projects are actually not always readily available or maybe too largecomplex be suitable as first project for complete novice the hand writing program for the heck of without anyone ever using far from motivating what find curious though that these people looking for projects are actually sitting treasure trove of real world programming problems waiting be solved dont seem even notice namely this sub since found this sub ive been doing nothing else opening posts trying solve the problems of people oftentimes vague or no clear idea solve these problems however think of different approaches possible solutions googling researching once find solution post the idea similar rubber duck debugging you want learn something try explain someone else you cant explain you dont actually understand fully this way in the past months ive learned more also more diverse things in the whole last year combined win win situation the person asking the question gets help get free real world exercises more programming experience as plus there are many people this sub who different from actually are experts so you get various creative approaches you can refer compare approaches what equally important you get feedback solutions you are lucky in the form of comments telling you what goodbad approach sadly though votes without actual explanation are more prevalent still better nothing you lack confidence in skills solve the problem for first then wait for people reply compare the approaches see you can improve answer side note really wish people would give more feedback posted solutions like any field programming not skill you ever master completely you get more proficient there always more learn in order learn you need know what where improve feedback essential in learning anything vote fine please say what wrong with the answer thanks before wrap this up this already longer planned want give short example of my learning curve that might encourage motivate some people recently posted solution pandas related problem which garnered bit of attention mostly got lucky implemented useful method which many people up then apparently didnt know people called smart or expert which found rather funny actually embarrassing so far from the truth after all one month ago my knowledge of pandas limited reading in csv file that after trying solve people pandas problems regular basis for month rather naturally learned my way around the library this super useful method used well found hour prior in the pandas docs while looking solve this problem putting in the effort learn didnt help apparently also many others my point solving all these problems made learn way faster more relevant things any tutorial book or course ever could while calling pandas expert certainly much over exaggerated my proficiency still rose exponentially made similar progress in many different areas over the last months eg took deep dive into python standard library real treasure trove helping people thus can encourage everyone take part work problems even though you may not know the answer initially take as opportunity become better programmer while getting karma as bonus hope someone found my ramblings useful nice day everyone kudos this awesome community since highly doubt that people will actually read this wall of text tldr fastest way learn programming doing projects you dont project try solving the problems this subreddit as exercises free real world problems feedback the possibility compare approaches those of people who know their stuff also youre good person helping people plus you get karma sum up help helping others everybody wins\n",
      "{'wouldnt', 'yourself', 'wasn', 'will', 'are', 'some', 'y', 'couldn', 'up', 'again', 'yours', 'is', 'have', 'hasn', 'from', 'after', 'mightn', 'through', 'or', 'me', 'very', 'between', 'theirs', 'youd', 'mightnt', 'haven', 'not', 'ourselves', 'on', 'than', 'both', 'shant', 'for', 'but', 'your', 'why', 'didnt', 'out', 'who', 'youve', 'him', 'just', 'shouldn', 'herself', 'only', 'which', 'any', 'their', 'against', 'itself', 'they', 'be', 'o', 'over', 'these', 'thatll', 'had', 'as', 'we', 'at', 'and', 'should', 'doing', 'an', 'his', 'own', 'while', 'because', 'arent', 'werent', 'mustnt', 'does', 're', 'ours', 'hasnt', 'been'}\n",
      "so i finished my python script to monitor the price of my target gadget this holiday its going to heavily discounted soon it go to the fastest finger ive written a python script with beautifulsoup ive also set email sms alerts in the script was wondering if theres other person this black friday fastest finger deals update long overdue thought i add that i got the phone\n",
      "{'once', 'some', 'i', 'so', 'couldn', 'y', 'having', 'under', 'didn', 'was', 'youre', 'but', 've', 'who', 'isn', 'only', 'don', 'their', 'itself', 'shouldve', 'and', 'because', 'while', 'werent', 'do', 'does', 'has', 'isnt', 'yourself', 'you', 'is', 'didnt', 'until', 'youve', 'hadn', 'they', 'thatll', 'as', 'same', 'we', 'his', 'most', 'hasnt', 'wont', 'can', 'too', 's', 'mustn', 'between', 'needn', 'than', 'her', 'out', 'shes', 'be', 'arent', 'now', 'wouldn', 'won', 're', 'it', 'll', 'that', 'again', 'those', 'through', 'down', 'into', 'your', 'this', 'whom', 'when', 'more', 'wasnt', 'o', 'these', 'with', 'own', 'mustnt'}\n",
      "or for example if someone put python on resume what sort of things would ask to determine what actually know or at least instill confidence in edit well then looks like have responses to go lots to learn lmao\n",
      "{'yourself', 'some', 'yours', 's', 'couldn', 'up', 'hasn', 'from', 'after', 'doesn', 'through', 'by', 'me', 'my', 'few', 'between', 'was', 'very', 'weren', 'didn', 'during', 'down', 'haven', 'not', 'youre', 'it', 'needn', 'on', 'about', 'didnt', 'youd', 'shant', 'where', 'youll', 'your', 'why', 'each', 'wont', 'this', 'who', 'youve', 'how', 'just', 'only', 'hadn', 'the', 'couldnt', 'any', 'their', 'doesnt', 'o', 'with', 'to', 'did', 'and', 'hers', 'should', 'doing', 'such', 'his', 'then', 'arent', 're', 'most', 'am', 'do', 'below', 'now', 'wouldn', 'won', 'has', 'ours', 'hasnt', 'been'}\n",
      "i have an ok familiarity pandas numpy regular expressions i need practice using web scraping apis ive written python code in a jupiter notebook so i also need practice using editorsides as well is a doable project i begin\n",
      "{'wasn', 'will', 'yours', 'you', 's', 'so', 'again', 'd', 'is', 'from', 'doesn', 'having', 'few', 'under', 'there', 'down', 'mightnt', 'it', 'youre', 'than', 'both', 'for', 'didnt', 'youll', 'her', 'this', 've', 'who', 'other', 'our', 'youve', 'how', 'all', 'shouldn', 'isn', 'herself', 'only', 'when', 'couldnt', 'don', 'they', 'these', 'as', 'll', 'themselves', 'we', 'same', 'before', 'of', 'should', 'an', 'such', 'hadnt', 'own', 'm', 'because', 'arent', 'most', 'werent', 'mustnt', 'off', 'if', 'wouldn', 'won', 'ours', 'hasn', 'been'}\n",
      "the following code would return true a b a b true but the following would return false a b a b false why that what happening the hood i know the switch happens at which seems odd at first sight why not edit never mind i found the answer those interested python caches small integers which are integers between and numbers are used frequently that its better performance to already have objects available integers be assigned at startup then each time refer to one be referring to object that already exists\n",
      "{'once', 'its', 'will', 'are', 'no', 'couldn', 'from', 'he', 'by', 'having', 'didn', 'about', 'who', 'don', 'their', 'itself', 'themselves', 'did', 'hers', 'and', 'of', 'because', 'himself', 'if', 'does', 'has', 'yourself', 'yours', 'mightn', 'youve', 'shouldnt', 'hadn', 'the', 'against', 'over', 'had', 'as', 'an', 'his', 'most', 'during', 'ours', 'hasnt', 'can', 'wont', 'havent', 'my', 'for', 'where', 'her', 'in', 'just', 'shouldn', 'shes', 'such', 'below', 'off', 'that', 'have', 'those', 'doesn', 'or', 'shan', 'down', 'not', 'youd', 'ma', 'your', 'other', 'him', 'herself', 'which', 'more', 'any', 'o', 'a', 'yourselves'}\n",
      "ok so please dont send hate this i know experienced programmers probably know this but still ive been programming python years i learned try pass except pass so short this try what indented after try at point there is error then it do except\n",
      "{'its', 'will', 'are', 'no', 'couldn', 'after', 'he', 'under', 'was', 'youre', 'further', 'who', 'isn', 'only', 'their', 'itself', 'doesnt', 'should', 'himself', 'does', 'yours', 'both', 'dont', 'what', 'youve', 'against', 'they', 'thatll', 'had', 'as', 'same', 'we', 'them', 'his', 'then', 'above', 'during', 'can', 'too', 's', 'very', 'weren', 'were', 'haven', 'ourselves', 'needn', 'than', 'for', 'nor', 'out', 'in', 'here', 'just', 'be', 'she', 'before', 'such', 'off', 'now', 're', 'll', 'd', 'through', 'or', 'shan', 'me', 'there', 'theirs', 'not', 'mightnt', 'on', 'our', 'him', 'when', 'wasnt', 'any', 'with', 'own'}\n",
      "i made several of the chapters of the book into articles my blog so you get a preview of the content the book drawing shapes images python and pillow drawing text images pillow and python getting gps exif data python this book you learn about the following opening and saving images extracting image metadata working colors applying image filters cropping rotating and resizing enhancing images combining images drawing pillow imagechops integration gui toolkits you order the ebook versions leanpub gumroad you purchase either of these websites you receive a pdf epub and mobi version of the book the paperback and kindle versions available amazon the paperback version of the book is full color that is why it more expensive of my other books to purchase\n",
      "{'yourself', 'too', 'some', 'are', 'that', 'so', 'i', 'again', 'yours', 'have', 'after', 'shan', 'few', 'didn', 'weren', 'theirs', 'it', 'about', 'ourselves', 'than', 'further', 'shant', 'for', 'but', 'youll', 'didnt', 'nor', 'what', 'until', 'out', 've', 'who', 'other', 'him', 'how', 'shouldnt', 'all', 't', 'shouldn', 'hadn', 'which', 'wouldn', 'wasnt', 'their', 'itself', 'doesnt', 'o', 'thatll', 'with', 'we', 'same', 'at', 'did', 'and', 'hers', 'before', 'them', 'his', 'hadnt', 'm', 'a', 'because', 'been', 'above', 'werent', 'am', 'do', 'below', 'off', 'yourselves', 'does', 'has', 'hasnt', 'can'}\n",
      "each time learn progress the last time then create the programs need was why started to learn python in the first place once the program no use python forget everything this is repeating cycle now need another program highly customized there is nothing there use the learning starts wonder where would be now python wise if had persisted the first time anyway feel free to join me re learning python the n th time edit thanks the replies ive using the very excellent automate the boring stuff book free online ive using this book in addition to the author book cracking codes python the past years as starting point the project working on to logistics my friend wants to start small logistics company in asia countries in asia very fragmented logistics ecosystems he wants to know the best route in terms of costspeed to send parcels from one asian citytown to another asian citytown the parcels will travel by train plane boat courier etc example to send parcel from hanoi in vietnam to manilla in the philippines he will use different companies each stage of the journey of the parcel each company will priceroutedistance info on website in excel spreadsheets word documents send the info via email text message etc basically he to pull the information by scraping websites scanning emailstext messagesspreadsheetstext documents etc give the cheapeastquickest route every stage of the journey there things my program needs to dont the time or inclination to type previously ive able to use python to scrape websites parse excel spreadsheetsword documents email dont think parsing text message will be difficult python twilio library setting up twilio account seems simple cheap my python editor of choice always microsoft visual studio not visual studio code currently using microsoft visual studio community from me thanks the awards badges\n",
      "{'once', 'its', 'will', 'y', 'after', 'having', 'under', 'was', 'youre', 'about', 'further', 'each', 'only', 'don', 'their', 'to', 'did', 'hers', 'and', 'of', 'because', 'werent', 'do', 'has', 'yourself', 'you', 'neednt', 'both', 'hadn', 'the', 'couldnt', 'over', 'as', 'same', 'an', 'his', 'most', 'ain', 'can', 'too', 'havent', 'were', 'haven', 'ourselves', 'youll', 'why', 'nor', 'in', 'just', 't', 'shes', 'she', 'such', 'hadnt', 'off', 'now', 'wouldn', 're', 'it', 'wasn', 'again', 'have', 'doesn', 'me', 'shan', 'not', 'into', 'ma', 'how', 'all', 'whom', 'which', 'more', 'these', 'with', 'mustnt', 'yourselves', 'hasn'}\n",
      "i recently came across a website where are presented a challenge writeedit a piece code are able see other took challenge i cant remember name website wondering if anyone knew similar websites\n",
      "{'its', 'some', 'are', 'so', 'y', 'from', 'after', 'by', 'under', 'further', 've', 'isn', 'their', 'itself', 'doesnt', 'themselves', 'to', 'of', 'doing', 'should', 'm', 'werent', 'wouldnt', 'yourself', 'mightn', 'didnt', 'both', 'dont', 'the', 'against', 'they', 'thatll', 'as', 'same', 'we', 'an', 'his', 'then', 'most', 'ours', 'can', 's', 'up', 'my', 'very', 'haven', 'ourselves', 'than', 'for', 'youll', 'in', 'here', 't', 'be', 'she', 'before', 'such', 'off', 'now', 'wouldn', 'won', 'it', 'wasn', 'that', 'd', 'those', 'me', 'or', 'down', 'into', 'on', 'this', 'our', 'all', 'whom', 'herself', 'more', 'at', 'own', 'mustnt'}\n",
      "i wrote a program opened chrome web browser went googlecom typed hentai porn search bar submitted search opened first video i may not get a lot upvotes program but ive never laughed hard while programming if anyone wants code i will gladly share ps css selector has word child if i could change internet remove i would no one will go jail running code is not loli stuff edit popular demand is code selenium import webdriver driver webdriverchromercjordaonedrivedesktopchromedriverexe optional argument if not specified will search path driverget let user actually see something elem driverfindelementbycssselectortsf gt divnth gt gt divrnnxgb gt div gt gt input elemclick elemsendkeyshentai porn elemsubmit elems driverfindelementbycssselectorrso gt div gt div gt divnth gt div gt div gt divs gt div gt div gt anth elemsclick driverfindelementbycssselectorbody gt divnth gt divcontent gt divblock video gt divvideo holder gt divvideo info gt div gt divinfo buttons gt divrating container gt arate like gt i\n",
      "{'once', 'will', 'are', 'from', 'after', 'he', 'by', 'having', 'under', 'didn', 'was', 'about', 'who', 'don', 'their', 'itself', 'themselves', 'to', 'of', 'doing', 'should', 'm', 'being', 'himself', 'has', 'isnt', 'mightn', 'few', 'both', 'dont', 'until', 'shouldnt', 'hadn', 'the', 'couldnt', 'against', 'over', 'as', 'same', 'then', 'most', 'ain', 'ours', 'aren', 'weren', 'for', 'where', 'youll', 'nor', 'here', 't', 'shes', 'she', 'hadnt', 'off', 'it', 'll', 'those', 'doesn', 'through', 'me', 'there', 'theirs', 'not', 'into', 'on', 'ma', 'this', 'him', 'all', 'more', 'any', 'with', 'a', 'mustnt', 'hasn', 'been'}\n",
      "im really proud myself im sure that cool at anyone else but is months studying python every day hour what some cool things i can add what easier or alternative ways do import random def robbery total lootlist lootposs watch computerdiamond attempts intinputpick number times counter watchtotal computertotal diamondtotal game sentence printf printn start game n nums in rangeattempts outcome if outcome in stolen total total stolen counter counter printf printfnnumber counter attempt successful printf printfyou stole stolen dollars printfyou have stolen total dollars so far printfyou have stolen watchtotal watch computertotal computer and diamondtotal diamond so far elif outcome in loot randomchoicelootposs if loot watch watchtotal watchtotal elif loot computer computertotal computertotal else diamondtotal diamondtotal lootlistappendloot counter counter printf printfnnumber counter attempt successful printf printfyou stole loot printfyou have stolen total dollars so far printfyou have stolen watchtotal watch computertotal computer and diamondtotal diamond so far else counter counter game printfn printfnnumber counter attempt you were caught n printfyou robbed counter times stole total dollars printfyou took watchtotal watch computertotal computer and diamondtotal diamond printfyou went prison sentence years break if game printfn printfnnumber counter attempt you were never caught n n printfyou robbed counter times stole total dollars printfyou took watchtotal watch computertotal computer and diamondtotal diamond\n",
      "{'yourself', 'wasn', 'will', 'its', 'you', 'too', 'again', 'd', 'from', 'those', 'mightn', 'by', 'me', 'he', 'shan', 'few', 'very', 'aren', 'during', 'neednt', 'there', 'under', 'youd', 'mightnt', 'not', 'on', 'why', 'nor', 'her', 'until', 'wont', 'this', 'in', 'who', 'youve', 'him', 'how', 'just', 'all', 't', 'whom', 'here', 'isn', 'only', 'the', 'couldnt', 'wasnt', 'don', 'any', 'over', 'with', 'themselves', 'shouldve', 'before', 'of', 'them', 'such', 'his', 'own', 'then', 'being', 'arent', 'a', 'been', 'himself', 'werent', 'am', 'if', 'ain', 'now', 'wouldn', 're', 'hasn', 'can'}\n",
      "howdy yall im years old and for past six years ive dedicated my life to retail i do enjoy working but at point i cant see id be able to continue living making year since i was kid i was always into computers but i never really took time to actually learn about last month i signed up for three coding classes at local community college which are set to start february i dont know exactly what career path i want to follow yet but anyone has general tips for id appreciate it anything yall learned along way that wish knew sooner i know are many resources online and that i may necessarily need to take online courses but for i need that extra push to get started ive wanting to go back to school for while and is perfect opportunity thanks\n",
      "{'once', 'its', 'are', 'i', 'y', 'from', 'after', 'about', 'further', 'but', 've', 'who', 'isn', 'only', 'their', 'itself', 'doesnt', 'themselves', 'and', 'of', 'doing', 'because', 'himself', 'werent', 'am', 'do', 'does', 'is', 'mightn', 'few', 'neednt', 'didnt', 'myself', 'until', 'hadn', 'they', 'as', 'above', 'ain', 'wont', 'very', 'ourselves', 'needn', 'than', 'for', 'where', 'youll', 'why', 'nor', 'her', 'here', 'shouldn', 'she', 'before', 'such', 'hadnt', 'arent', 'below', 'off', 'that', 'again', 'd', 'have', 'those', 'through', 'me', 'youd', 'mightnt', 'on', 'shant', 'ma', 'other', 'him', 'whom', 'when', 'more', 'wasnt', 'with', 'at', 'hasn'}\n",
      "tried to post this in rpython said it appropriate sub so heres my question python jobs taking the self taught route im just wondering else has done what jobs youve been able to work im not too interested in becoming a data scientist or engineer not focused machine learning what python jobs available what some things helped you land jobs my eventual goal to become a full stack software engineer would like to learn javascript becoming comfortable in python thanks in advance any all help\n",
      "{'once', 'yourself', 'that', 'will', 'yours', 'you', 'y', 'so', 'too', 'is', 'from', 'mustn', 'me', 'having', 'few', 'under', 'were', 'mightnt', 'haven', 'not', 'ourselves', 'about', 'needn', 'than', 'both', 'for', 'ma', 'further', 'didnt', 'dont', 'what', 'her', 'out', 've', 'who', 'our', 'in', 'him', 'here', 'all', 'just', 't', 'shouldn', 'isn', 'only', 'hadn', 'more', 'the', 'against', 'itself', 'they', 'these', 'had', 'should', 'doing', 'an', 'such', 'them', 'm', 'while', 'most', 'himself', 'werent', 'below', 'off', 'during', 'wouldn', 'won', 'has', 'isnt', 'ours', 'been'}\n",
      "this my first finished project after self learning over several months its called time of your life it generates a year calendar to represent your life and shows weeks have lived to date can also add life events important landmarksmilestones as a graduation or birthdeath of a loved one and be displayed on your calendar its completely free to use i ask give feedback current features are extensive but id like to develop it according to youd like to see i hope find it useful if do id appreciate it if shared it with someone built with python django and some light javascript source happy to answer any questions ive learned far edit thank feedback i was very nervous to share my first build but positive response made my evening i really appreciate it\n",
      "{'once', 'some', 'are', 'y', 'from', 'after', 'he', 'didn', 'youre', 've', 'who', 'their', 'itself', 'doesnt', 'themselves', 'did', 'and', 'while', 'werent', 'am', 'if', 'yourself', 'you', 'is', 'didnt', 'myself', 'what', 'shouldnt', 'hadn', 'against', 'over', 'as', 'same', 'them', 'his', 'above', 'most', 'can', 'too', 'mustn', 'very', 'aren', 'haven', 'for', 'where', 'why', 'her', 'out', 'here', 'just', 't', 'shouldn', 'hadnt', 'arent', 'wouldn', 'won', 'that', 'again', 'd', 'have', 'those', 'doesn', 'through', 'youd', 'on', 'shant', 'our', 'which', 'wasnt', 'o', 'these', 'at', 'own', 'mustnt', 'yourselves', 'hasn', 'been'}\n",
      "i know the title a bit confusing but i this problem so in my code i need to login to an stmp server so a bot send an email to the user my code put github my friends a few other people see this a part of the code relevant serveremail thisemaildoesntexist@gmailcom serverpassword thisisaplaceholderpassword def sendmailserveremail serverpassword recievingemail msg code sending email my code open source how i make it so the people looking the code cant see the password i cant store it a hash because i do i wont be able to revert it back to the original password i could also not store it put an input serveremail thisemaildoesntexist@gmailcom serverpassword inputenter password bcryptcheckpwserverpassword password code sending email however wouldnt work because i cant an admin typing in a password everytime a bot needs to send an email to users how could i make it so the bot able to send the emails without the source code actually showing the password\n",
      "{'too', 'some', 'no', 'i', 'y', 'yours', 'up', 'again', 'd', 'is', 'have', 'those', 'after', 'mightn', 'mustn', 'between', 'was', 'neednt', 'theirs', 'weren', 'down', 'mightnt', 'haven', 'youre', 'into', 'on', 'both', 'each', 'youll', 'your', 'nor', 'dont', 'her', 'wont', 'out', 'other', 'our', 'him', 't', 'whom', 'isn', 'herself', 'hadn', 'when', 'couldnt', 'wasnt', 'any', 'against', 'shes', 'itself', 'be', 'these', 'had', 'with', 'll', 'themselves', 'to', 'at', 'did', 'of', 'should', 'an', 'them', 'then', 'being', 'am', 'mustnt', 'do', 'below', 'if', 'ain', 'wouldn', 're', 'hasn', 'been'}\n",
      "practice python posted in this sub over a year ago asking for help translations but figured it probably worth posting now that there lots quality python challenges as this post edit thanks for the gold stranger\n",
      "{'wouldnt', 'yourself', 'wasn', 'will', 'are', 'some', 'y', 'couldn', 'up', 'again', 'yours', 'is', 'have', 'hasn', 'from', 'after', 'mightn', 'through', 'or', 'me', 'very', 'between', 'theirs', 'youd', 'mightnt', 'haven', 'not', 'ourselves', 'on', 'than', 'both', 'shant', 'for', 'but', 'your', 'why', 'didnt', 'out', 'who', 'youve', 'him', 'just', 'shouldn', 'herself', 'only', 'which', 'any', 'their', 'against', 'itself', 'they', 'be', 'o', 'over', 'these', 'thatll', 'had', 'as', 'we', 'at', 'and', 'should', 'doing', 'an', 'his', 'own', 'while', 'because', 'arent', 'werent', 'mustnt', 'does', 're', 'ours', 'hasnt', 'been'}\n",
      "so i finished my python script to monitor the price of my target gadget this holiday its going to heavily discounted soon it go to the fastest finger ive written a python script with beautifulsoup ive also set email sms alerts in the script was wondering if theres other person this black friday fastest finger deals update long overdue thought i add that i got the phone\n",
      "{'wouldnt', 'yourself', 'wasn', 'will', 'some', 'that', 'couldn', 'you', 'up', 'havent', 'd', 'those', 'after', 'he', 'doesn', 'through', 'mustn', 'having', 'my', 'few', 'was', 'aren', 'under', 'it', 'ourselves', 'into', 'than', 'both', 'shant', 'where', 'but', 'youll', 'didnt', 'dont', 'what', 'until', 'nor', 'out', 've', 'in', 'our', 'shouldnt', 'how', 'all', 'here', 'isn', 'more', 'couldnt', 'against', 'shes', 'doesnt', 'thatll', 'had', 'as', 'themselves', 'shouldve', 'and', 'before', 'doing', 'an', 'his', 'own', 'm', 'being', 'above', 'most', 'am', 'mustnt', 'below', 'if', 'off', 'now', 're', 'hasnt'}\n",
      "im self taught python able to write programs work i still feel like i know im can i learn about program structuredesign i usually just start coding one thing leads to another pretty soon im done i cant shake the feeling a professional programmer would look at code laugh at haphazard inefficient is any pointers or suggestions or are we just supposed to figure for\n",
      "{'once', 'wasn', 'yourself', 'its', 'yours', 'too', 'y', 'again', 'is', 'have', 'those', 'after', 'mightn', 'doesn', 'by', 'or', 'shan', 'he', 'few', 'between', 'was', 'very', 'neednt', 'under', 'youd', 'not', 'it', 'about', 'ourselves', 'needn', 'on', 'than', 'myself', 'ma', 'where', 'why', 'nor', 'dont', 'her', 'wont', 've', 'here', 'all', 't', 'shouldn', 'isn', 'herself', 'when', 'the', 'wasnt', 'against', 'shes', 'itself', 'she', 'thatll', 'over', 'these', 'had', 'did', 'before', 'doing', 'such', 'his', 'own', 'm', 'a', 'mustnt', 'below', 'off', 'now', 'does', 'won', 'has', 'hasnt', 'been'}\n",
      "i recently came across website you are presented challenge to writeedit piece of code and you are able to see how other took to challenge i cant remember name of website and wondering if anyone knew similar websites\n",
      "{'once', 'some', 'i', 'so', 'couldn', 'y', 'having', 'under', 'didn', 'was', 'youre', 'but', 've', 'who', 'isn', 'only', 'don', 'their', 'itself', 'shouldve', 'and', 'because', 'while', 'werent', 'do', 'does', 'has', 'isnt', 'yourself', 'you', 'is', 'didnt', 'until', 'youve', 'hadn', 'they', 'thatll', 'as', 'same', 'we', 'his', 'most', 'hasnt', 'wont', 'can', 'too', 's', 'mustn', 'between', 'needn', 'than', 'her', 'out', 'shes', 'be', 'arent', 'now', 'wouldn', 'won', 're', 'it', 'll', 'that', 'again', 'those', 'through', 'down', 'into', 'your', 'this', 'whom', 'when', 'more', 'wasnt', 'o', 'these', 'with', 'own', 'mustnt'}\n",
      "or for example if someone put python on resume what sort of things would ask to determine what actually know or at least instill confidence in edit well then looks like have responses to go lots to learn lmao\n",
      "{'once', 'wasn', 'yourself', 'its', 'yours', 'too', 'y', 'again', 'is', 'have', 'those', 'after', 'mightn', 'doesn', 'by', 'or', 'shan', 'he', 'few', 'between', 'was', 'very', 'neednt', 'under', 'youd', 'not', 'it', 'about', 'ourselves', 'needn', 'on', 'than', 'myself', 'ma', 'where', 'why', 'nor', 'dont', 'her', 'wont', 've', 'here', 'all', 't', 'shouldn', 'isn', 'herself', 'when', 'the', 'wasnt', 'against', 'shes', 'itself', 'she', 'thatll', 'over', 'these', 'had', 'did', 'before', 'doing', 'such', 'his', 'own', 'm', 'a', 'mustnt', 'below', 'off', 'now', 'does', 'won', 'has', 'hasnt', 'been'}\n",
      "i recently came across website you are presented challenge to writeedit piece of code and you are able to see how other took to challenge i cant remember name of website and wondering if anyone knew similar websites\n",
      "{'yourself', 'too', 'some', 'are', 'that', 'so', 'i', 'again', 'yours', 'have', 'after', 'shan', 'few', 'didn', 'weren', 'theirs', 'it', 'about', 'ourselves', 'than', 'further', 'shant', 'for', 'but', 'youll', 'didnt', 'nor', 'what', 'until', 'out', 've', 'who', 'other', 'him', 'how', 'shouldnt', 'all', 't', 'shouldn', 'hadn', 'which', 'wouldn', 'wasnt', 'their', 'itself', 'doesnt', 'o', 'thatll', 'with', 'we', 'same', 'at', 'did', 'and', 'hers', 'before', 'them', 'his', 'hadnt', 'm', 'a', 'because', 'been', 'above', 'werent', 'am', 'do', 'below', 'off', 'yourselves', 'does', 'has', 'hasnt', 'can'}\n",
      "each time learn progress the last time then create the programs need was why started to learn python in the first place once the program no use python forget everything this is repeating cycle now need another program highly customized there is nothing there use the learning starts wonder where would be now python wise if had persisted the first time anyway feel free to join me re learning python the n th time edit thanks the replies ive using the very excellent automate the boring stuff book free online ive using this book in addition to the author book cracking codes python the past years as starting point the project working on to logistics my friend wants to start small logistics company in asia countries in asia very fragmented logistics ecosystems he wants to know the best route in terms of costspeed to send parcels from one asian citytown to another asian citytown the parcels will travel by train plane boat courier etc example to send parcel from hanoi in vietnam to manilla in the philippines he will use different companies each stage of the journey of the parcel each company will priceroutedistance info on website in excel spreadsheets word documents send the info via email text message etc basically he to pull the information by scraping websites scanning emailstext messagesspreadsheetstext documents etc give the cheapeastquickest route every stage of the journey there things my program needs to dont the time or inclination to type previously ive able to use python to scrape websites parse excel spreadsheetsword documents email dont think parsing text message will be difficult python twilio library setting up twilio account seems simple cheap my python editor of choice always microsoft visual studio not visual studio code currently using microsoft visual studio community from me thanks the awards badges\n",
      "{'once', 'its', 'wasn', 'that', 'wouldnt', 'couldn', 'after', 'he', 'doesn', 'my', 'or', 'shan', 'under', 'neednt', 'theirs', 'weren', 'were', 'mightnt', 'haven', 'youre', 'ourselves', 'on', 'than', 'further', 'shant', 'ma', 'where', 'each', 'didnt', 'what', 'until', 'wont', 've', 'other', 'youve', 'shouldnt', 'just', 'all', 't', 'only', 'hadn', 'which', 'don', 'they', 'be', 'doesnt', 'o', 'thatll', 'had', 'as', 'll', 'themselves', 'we', 'same', 'with', 'shouldve', 'and', 'at', 'should', 'such', 'own', 'while', 'a', 'been', 'most', 'himself', 'werent', 'do', 'off', 'yourselves', 'during', 'does', 'has', 'ours', 'hasn', 'can'}\n",
      "x posting from rpython i am doing psa please extra careful when you see kite the program auto completor app this app is atrociously bad for performance it spreads to of your system i mean of your system the developers intentionally made it hard for you to remove it i made the mistake of installing it when i was trying out spyder ide i realize this app installed itself across of editors including neovim i started noticing neovim would get several seconds of hiccup when i was running python repl never happened before soon linux system started experiencing severe hiccup well then i did some profiling found out kite was making background process calls without consent the worst part yet is made it nearly impossible for you uninstall it not unless you download their shady app manager make curl call to completely unknown api server to uninstall apps your computer i dont even want to know kind of personal information data stealing from computer i fail to see how kite is different from virus please use extra caution when going through ide setup something like kite easily creep in contaminate your whole system like to the developers of spyder vscode ides please take active step in banning an app like kite severely infringes upon the privacy right of their users by promoting this app an extension you are potentially endangering millions of your users\n",
      "{'once', 'yourself', 'some', 'will', 'no', 'that', 'y', 'couldn', 'i', 'yours', 'you', 'havent', 'those', 'after', 'doesn', 'my', 'wouldnt', 'between', 'didn', 'neednt', 'there', 'were', 'mightnt', 'haven', 'than', 'both', 'each', 'further', 'but', 'your', 'youll', 'didnt', 'until', 've', 'other', 'youve', 'him', 'shouldnt', 'all', 'here', 'when', 'more', 'the', 'wasnt', 'don', 'their', 'against', 'shes', 'any', 'they', 'o', 'over', 'these', 'had', 'as', 'at', 'did', 'and', 'hers', 'of', 'should', 'them', 'hadnt', 'while', 'being', 're', 'because', 'above', 'do', 'below', 'if', 'now', 'won', 'has', 'wont'}\n",
      "am sorry have not been able to this before without messing part up having to google it again feels so good one to share it with thanks\n",
      "{'once', 'too', 'that', 'are', 'yours', 'y', 's', 'up', 'so', 'havent', 'hasn', 'mightn', 'through', 'or', 'mustn', 'very', 'between', 'weren', 'theirs', 'down', 'mightnt', 'haven', 'about', 'ourselves', 'into', 'than', 'didnt', 'shant', 'where', 'youll', 'for', 'nor', 'dont', 'until', 'out', 've', 'who', 'other', 'youve', 'shouldnt', 'in', 'all', 'here', 'shouldn', 'hadn', 'when', 'wasnt', 'any', 'their', 'against', 'itself', 'they', 'over', 'at', 'did', 'and', 'before', 'should', 'doing', 'his', 'hadnt', 'm', 'while', 'arent', 'above', 'most', 'werent', 'mustnt', 'off', 'yourselves', 'wouldn', 'won', 'ours', 'hasnt', 'can'}\n",
      "after multiple attempts several years to get python i finally it i built a function is clean useful my job python you find it a gh repo i recognize it super basic the fact i was able to write a program does something just feels good this sub has been incredibly helpful process along with atbs by our lord savior al sweigart just remember if youre stuck find the simplest thing like reorganizing thousands of files work you will quickly open the door to python magic also please feel free to make suggestions to this program i recognize it basic but the spirit of learning i would love suggestions to make it more clean efficient even bigger tasks ps wow reddit gold a first me you supportive wonderful i love this community keep it yall\n",
      "{'yourself', 'wasn', 'its', 'some', 'no', 'i', 'yours', 'hasn', 'have', 'those', 'from', 'doesn', 'by', 'me', 'having', 'my', 'was', 'didn', 'under', 'neednt', 'down', 'not', 'into', 'than', 'didnt', 'each', 'for', 'dont', 'what', 'youve', 'shouldnt', 'how', 'all', 't', 'shouldn', 'isn', 'only', 'which', 'when', 'more', 'the', 'couldnt', 'wasnt', 'their', 'against', 'shes', 'itself', 'be', 'they', 'doesnt', 'over', 'with', 'same', 'to', 'shouldve', 'did', 'before', 'doing', 'an', 'such', 'them', 'own', 'then', 'a', 'arent', 'been', 'off', 'if', 'ain', 'yourselves', 'during', 'ours', 'hasnt', 'can'}\n",
      "tried going on youtube but explain it well\n",
      "{'its', 'no', 'couldn', 'from', 'by', 'under', 'didn', 've', 'isn', 'only', 'don', 'itself', 'doesnt', 'and', 'doing', 'being', 'himself', 'do', 'if', 'does', 'isnt', 'wouldnt', 'yours', 'you', 'is', 'both', 'youve', 'shouldnt', 'hadn', 'the', 'against', 'they', 'thatll', 'over', 'an', 'most', 'during', 'ours', 'too', 'weren', 'were', 'than', 'where', 'why', 'nor', 'her', 'out', 'just', 'shes', 'be', 'she', 'before', 'below', 'off', 'won', 're', 'it', 'll', 'have', 'me', 'or', 'there', 'theirs', 'into', 'on', 'shant', 'ma', 'your', 'this', 'our', 'other', 'him', 'all', 'when', 'more', 'o', 'these', 'with', 'at'}\n",
      "hi im helping a friend learn pythonto code in general has some coding background knows syntax has taken a few cs courses but never understood oop recently started learning python asked to explain self not how to use but like what mean i gave best explanation i could but my first time really teaching anyone i feel like a youtube video could probably a lot better i could im really scared of saying one thing slightly introducing a misconception that lasts forever emphasizing wrong thing etc im also looking for something that goes oop concepts in general like inheritancepolymorphismabstractionencapsulation we care would cool that was same video because that would about exactly tone im looking for anyone any suggestions tldr looking for yt video that explains classesoopwhat self mean in python for a friend thanks\n",
      "{'its', 'will', 'are', 'no', 'couldn', 'after', 'he', 'under', 'was', 'youre', 'further', 'who', 'isn', 'only', 'their', 'itself', 'doesnt', 'should', 'himself', 'does', 'yours', 'both', 'dont', 'what', 'youve', 'against', 'they', 'thatll', 'had', 'as', 'same', 'we', 'them', 'his', 'then', 'above', 'during', 'can', 'too', 's', 'very', 'weren', 'were', 'haven', 'ourselves', 'needn', 'than', 'for', 'nor', 'out', 'in', 'here', 'just', 'be', 'she', 'before', 'such', 'off', 'now', 're', 'll', 'd', 'through', 'or', 'shan', 'me', 'there', 'theirs', 'not', 'mightnt', 'on', 'our', 'him', 'when', 'wasnt', 'any', 'with', 'own'}\n",
      "i made several of the chapters of the book into articles my blog so you get a preview of the content the book drawing shapes images python and pillow drawing text images pillow and python getting gps exif data python this book you learn about the following opening and saving images extracting image metadata working colors applying image filters cropping rotating and resizing enhancing images combining images drawing pillow imagechops integration gui toolkits you order the ebook versions leanpub gumroad you purchase either of these websites you receive a pdf epub and mobi version of the book the paperback and kindle versions available amazon the paperback version of the book is full color that is why it more expensive of my other books to purchase\n",
      "{'yourself', 'wasn', 'that', 'no', 'i', 's', 'couldn', 'up', 'again', 'you', 'those', 'too', 'after', 'mightn', 'mustn', 'having', 'my', 'was', 'aren', 'down', 'mightnt', 'haven', 'youre', 'ourselves', 'about', 'youd', 'than', 'didnt', 'shant', 'but', 'nor', 'her', 'this', 'out', 'youve', 'him', 'just', 't', 'shouldn', 'herself', 'when', 'wouldn', 'more', 'the', 'any', 'their', 'be', 'she', 'doesnt', 'these', 'thatll', 'had', 'as', 'themselves', 'to', 'did', 'and', 'hers', 'of', 'such', 'hadnt', 'while', 'because', 'himself', 'off', 'if', 'ain', 'does', 'isnt'}\n",
      "hi guys so like most people in sub im trying learn python however there something ive been wondering ive heard juniors interns usually get assigned simple tasks at beginning imagine are tasks need churned dont require much conceptual work however havent been able find examples tasks assume leetcode creating personal projects from scratch are both very different from kind tasks could assigned a member a team is coding for a large scale project have experience working for a company yet have idea what tasks could could anyone give me some examples from personal experience shed some light on issue edit im so happy thread took thank everyone for your detailed responses im sure all us newbies will learn a lot from them\n",
      "Passed! Please submit.\n"
     ]
    }
   ],
   "source": [
    "### test_cell_ex3b\n",
    "###\n",
    "### AUTOGRADER TEST - DO NOT REMOVE\n",
    "###\n",
    "from tester_fw.testers import Tester\n",
    "\n",
    "conf = {\n",
    "    'case_file':'tc_3b', \n",
    "    'func': clean_text_phase_1, # replace this with the function defined above\n",
    "    'inputs':{ # input config dict. keys are parameter names\n",
    "        'text':{\n",
    "            'dtype':'str', # data type of param.\n",
    "            'check_modified':True,\n",
    "        },\n",
    "        'stopwords':{\n",
    "            'dtype':'set',\n",
    "            'check_modified':True,\n",
    "        }\n",
    "    },\n",
    "    'outputs':{\n",
    "        'output_0':{\n",
    "            'index':0,\n",
    "            'dtype':'str',\n",
    "            'check_dtype': True,\n",
    "            'check_col_dtypes': True, # Ignored if dtype is not df\n",
    "            'check_col_order': True, # Ignored if dtype is not df\n",
    "            'check_row_order': True, # Ignored if dtype is not df\n",
    "            'check_column_type': True, # Ignored if dtype is not df\n",
    "            'float_tolerance': 10 ** (-6)\n",
    "        }\n",
    "    }\n",
    "}\n",
    "tester = Tester(conf, key=b'S90rT5WLPFy08a82F6SXyiKoyeTi33DOHh7bxXASQw0=', path='resource/asnlib/publicdata/')\n",
    "for _ in range(100):\n",
    "    try:\n",
    "        tester.run_test()\n",
    "        (input_vars, original_input_vars, returned_output_vars, true_output_vars) = tester.get_test_vars()\n",
    "    except:\n",
    "        (input_vars, original_input_vars, returned_output_vars, true_output_vars) = tester.get_test_vars()\n",
    "        raise\n",
    "\n",
    "###\n",
    "### AUTOGRADER TEST - DO NOT REMOVE\n",
    "###\n",
    "print('Passed! Please submit.')"
   ]
  },
  {
   "cell_type": "markdown",
   "metadata": {
    "deletable": false,
    "editable": false,
    "nbgrader": {
     "grade": false,
     "locked": true,
     "solution": false
    }
   },
   "source": [
    "We ran the code below to apply the second phase of cleaning to `clean_children_phase_0` and stored the result in `resource/asnlib/publicdata/clean_children.json`  \n",
    "\n",
    "```\n",
    "clean_children = {id:clean_text_phase_1(text, stopwords) for id, text in clean_children_phase_0.items()}\n",
    "with open('resource/asnlib/publicdata/clean_children.json', 'w') as f:\n",
    "    json.dump(clean_children, f, indent=4)\n",
    "\n",
    "```"
   ]
  },
  {
   "cell_type": "markdown",
   "metadata": {
    "deletable": false,
    "editable": false,
    "nbgrader": {
     "grade": false,
     "locked": true,
     "solution": false
    },
    "tags": [
     "exercise_text"
    ]
   },
   "source": [
    "## Exercise 4 - (**1** Points): \n",
    "\n",
    "**Motivation (don't dwell on this)**\n",
    "\n",
    "We are eventually going to perform analysis to determine how similar posts are to one another based on the text. In order to perform this analysis we have to vectorize the text. (Don't worry, the only math involved is counting.)\n",
    "\n",
    "**Requirements**\n",
    "\n",
    "Define the function `vectorize_text(text)`. The input `text` is the cleaned text from a single post. The output should be a `dict` mapping each unique word (consecutive non-space characters separated by spaces) to the number of times that word occurs in `text`. \n",
    "\n",
    "**Note** any *instance* of `dict` will be suitable for an output. In other words `defaultdict` is acceptable."
   ]
  },
  {
   "cell_type": "code",
   "execution_count": 17,
   "metadata": {
    "collapsed": true,
    "deletable": false,
    "editable": false,
    "nbgrader": {
     "grade": false,
     "locked": true,
     "solution": false
    },
    "tags": [
     "demo_data"
    ]
   },
   "outputs": [],
   "source": [
    "### Define demo inputs\n",
    "\n",
    "with open('resource/asnlib/publicdata/clean_children.json') as f:\n",
    "    clean_children = json.load(f)\n",
    "\n",
    "demo_text_ex4 = 'foo bar baz baz tux foo tux foo tux bar kat'"
   ]
  },
  {
   "cell_type": "markdown",
   "metadata": {
    "deletable": false,
    "editable": false,
    "nbgrader": {
     "grade": false,
     "locked": true,
     "solution": false
    },
    "tags": [
     "demo_output_md"
    ]
   },
   "source": [
    "<!-- Expected demo output text block -->\n",
    "The demo included in the solution cell below should display the following output:\n",
    "```\n",
    "{'foo': 3, 'bar': 2, 'baz': 2, 'tux': 3, 'kat': 1}\n",
    "```\n",
    "<!-- Include any shout outs here -->\n",
    "**Note** This is a simplified example to demonstrate the structure of the input and output. \n",
    "\n",
    "**Note** If using something besides a base `dict` you may see something slightly different. You can use `isinstance(demo_output_ex4, dict)` to check if you are returning an instance of `dict`. (It should return `True`.)"
   ]
  },
  {
   "cell_type": "code",
   "execution_count": 18,
   "metadata": {
    "tags": [
     "exercise_solution"
    ]
   },
   "outputs": [
    {
     "name": "stdout",
     "output_type": "stream",
     "text": [
      "--------------------------------------------------------------------------\n",
      "hi guys so like most people in sub im trying learn python however there something ive been wondering ive heard juniors interns usually get assigned simple tasks at beginning imagine are tasks need churned dont require much conceptual work however havent been able find examples tasks assume leetcode creating personal projects from scratch are both very different from kind tasks could assigned a member a team is coding for a large scale project have experience working for a company yet have idea what tasks could could anyone give me some examples from personal experience shed some light on issue edit im so happy thread took thank everyone for your detailed responses im sure all us newbies will learn a lot from them\n",
      "--------------------------------------------------------------------------\n",
      "hi guys so like most people in sub im trying learn python however there something ive been wondering ive heard juniors interns usually get assigned simple tasks at beginning imagine are tasks need churned dont require much conceptual work however havent been able find examples tasks assume leetcode creating personal projects from scratch are both very different from kind tasks could assigned a member a team is coding for a large scale project have experience working for a company yet have idea what tasks could could anyone give me some examples from personal experience shed some light on issue edit im so happy thread took thank everyone for your detailed responses im sure all us newbies will learn a lot from them\n"
     ]
    }
   ],
   "source": [
    "### Exercise 4 solution\n",
    "def vectorize_text(text):\n",
    "    ###\n",
    "    finaldict = defaultdict(int)\n",
    "    text = text.split(' ')\n",
    "    for word in text:\n",
    "        if word == '':\n",
    "            break\n",
    "        finaldict[word]+=1\n",
    "    return finaldict\n",
    "    ###\n",
    "    \n",
    "### demo function call\n",
    "demo_output_ex4 = vectorize_text(demo_text_ex4)\n",
    "demo_output_ex4\n",
    "print(\"--------------------------------------------------------------------------\")\n",
    "print(returned_output_vars['output_0'])\n",
    "print(\"--------------------------------------------------------------------------\")\n",
    "print(true_output_vars['output_0'])"
   ]
  },
  {
   "cell_type": "markdown",
   "metadata": {
    "deletable": false,
    "editable": false,
    "nbgrader": {
     "grade": false,
     "locked": true,
     "solution": false
    },
    "tags": [
     "test_data_boilerplate"
    ]
   },
   "source": [
    "<!-- Test Cell Boilerplate -->\n",
    "The cell below will test your solution for Exercise 4. The testing variables will be available for debugging under the following names in a dictionary format.\n",
    "- `input_vars` - Input variables for your solution. \n",
    "- `original_input_vars` - Copy of input variables from prior to running your solution. These _should_ be the same as `input_vars` - otherwise the inputs were modified by your solution.\n",
    "- `returned_output_vars` - Outputs returned by your solution.\n",
    "- `true_output_vars` - The expected output. This _should_ \"match\" `returned_output_vars` based on the question requirements - otherwise, your solution is not returning the correct output. "
   ]
  },
  {
   "cell_type": "code",
   "execution_count": 19,
   "metadata": {
    "deletable": false,
    "editable": false,
    "nbgrader": {
     "grade": true,
     "grade_id": "ex4",
     "locked": true,
     "points": "1",
     "solution": false
    },
    "tags": []
   },
   "outputs": [
    {
     "name": "stdout",
     "output_type": "stream",
     "text": [
      "Passed! Please submit.\n"
     ]
    }
   ],
   "source": [
    "### test_cell_ex4\n",
    "###\n",
    "### AUTOGRADER TEST - DO NOT REMOVE\n",
    "###\n",
    "from tester_fw.testers import Tester\n",
    "\n",
    "conf = {\n",
    "    'case_file':'tc_4', \n",
    "    'func': vectorize_text, # replace this with the function defined above\n",
    "    'inputs':{ # input config dict. keys are parameter names\n",
    "        'text':{\n",
    "            'dtype':'str', # data type of param.\n",
    "            'check_modified':True,\n",
    "        }\n",
    "    },\n",
    "    'outputs':{\n",
    "        'output_0':{\n",
    "            'index':0,\n",
    "            'dtype':'dict',\n",
    "            'check_dtype': True,\n",
    "            'check_col_dtypes': True, # Ignored if dtype is not df\n",
    "            'check_col_order': True, # Ignored if dtype is not df\n",
    "            'check_row_order': True, # Ignored if dtype is not df\n",
    "            'check_column_type': True, # Ignored if dtype is not df\n",
    "            'float_tolerance': 10 ** (-6)\n",
    "        }\n",
    "    }\n",
    "}\n",
    "tester = Tester(conf, key=b'S90rT5WLPFy08a82F6SXyiKoyeTi33DOHh7bxXASQw0=', path='resource/asnlib/publicdata/')\n",
    "for _ in range(20):\n",
    "    try:\n",
    "        tester.run_test()\n",
    "        (input_vars, original_input_vars, returned_output_vars, true_output_vars) = tester.get_test_vars()\n",
    "    except:\n",
    "        (input_vars, original_input_vars, returned_output_vars, true_output_vars) = tester.get_test_vars()\n",
    "        raise\n",
    "\n",
    "###\n",
    "### AUTOGRADER TEST - DO NOT REMOVE\n",
    "###\n",
    "print('Passed! Please submit.')"
   ]
  },
  {
   "cell_type": "markdown",
   "metadata": {
    "deletable": false,
    "editable": false,
    "nbgrader": {
     "grade": false,
     "locked": true,
     "solution": false
    }
   },
   "source": [
    "We ran the following code to do the following:\n",
    "\n",
    "- Vectorize the text for all posts.\n",
    "- Store the vectors in a dictionary mapping the post id to the associated vector.\n",
    "- Store this dictionary in `resource/asnlib/publicdata/vectorized_children.json`\n",
    "\n",
    "\n",
    "```\n",
    "vectorized_children = {id: vectorize_text(text) for id, text in clean_children.items()}\n",
    "with open('resource/asnlib/publicdata/vectorized_children.json', 'w') as f:\n",
    "    json.dump(vectorized_children, f, indent=4)\n",
    "\n",
    "```"
   ]
  },
  {
   "cell_type": "markdown",
   "metadata": {
    "deletable": false,
    "editable": false,
    "nbgrader": {
     "grade": false,
     "locked": true,
     "solution": false
    },
    "tags": [
     "exercise_text"
    ]
   },
   "source": [
    "## Exercise 5 - (**2** Points): \n",
    "**Motivation (don't dwell on this)**\n",
    "\n",
    "One metric concerning the Reddit post which may be useful is the fraction of posts a certain keyword appears in. For `r/learnpython` this metric would give insight into trending topics in the Python space. Other developers have used similar metrics enhanced with sentiment analysis as part of profitable (and un-profitable) stock trading strategies.\n",
    "\n",
    "**Requirements**\n",
    "\n",
    "Define the function `keyword_usage(vectors, keyword)`. The input `vectors` is a dictionary mapping post ids (`str`) to vectors (`dict` mapping words (`str`) to counts (`int`)). The structure of each vector will be the same as the output to exercise 4. The input `keyword` is a `str` representing the keyword we are interested in.\n",
    "\n",
    "The function should return a `str` matching this format:\n",
    "> `'The keyword <keyword> occurs in <pct>% of posts in the sample.'`  \n",
    "- `<keyword>` is the `keyword` parameter.\n",
    "- `<pct>` is the percentage of posts which contain at least one instance of `keyword`. `<pct>` must be rounded to 2 decimal places and include 2 decimal places. (i.e. `15.00` is acceptable but `15`, `15.0`, and `15.000` are not.)\n",
    "  - Use this formula for calculating `<pct>`\n",
    "  - > $\\text{<pct>} = 100\\times\\frac{\\text{\\# of posts containing keyword}}{\\text{\\# of posts}}$\n",
    "  \n",
    "**Note:** Format strings are a great tool for accomplishing this task."
   ]
  },
  {
   "cell_type": "code",
   "execution_count": 20,
   "metadata": {
    "collapsed": true,
    "deletable": false,
    "editable": false,
    "nbgrader": {
     "grade": false,
     "locked": true,
     "solution": false
    },
    "tags": [
     "demo_data"
    ]
   },
   "outputs": [],
   "source": [
    "### Define demo inputs\n",
    "with open('resource/asnlib/publicdata/vectorized_children.json') as f:\n",
    "    vectorized_children = json.load(f)\n",
    "\n",
    "demo_vectors_ex5 = {\n",
    "    'post_0': {'pycharm':1, 'python':3, 'ide': 2, 'jupyter': 3},\n",
    "    'post_1': {'python':1, 'ide': 2, 'jupyter': 3},\n",
    "    'post_2': {'python':3, 'jupyter': 5},\n",
    "    'post_3': {'jupyter': 2}\n",
    "}\n",
    "\n",
    "demo_keyword_0_ex5 = 'python'\n",
    "demo_keyword_1_ex5 = 'jupyter'\n",
    "demo_keyword_2_ex5 = 'ide'\n",
    "demo_keyword_3_ex5 = 'pycharm'"
   ]
  },
  {
   "cell_type": "markdown",
   "metadata": {
    "deletable": false,
    "editable": false,
    "nbgrader": {
     "grade": false,
     "locked": true,
     "solution": false
    },
    "tags": [
     "demo_output_md"
    ]
   },
   "source": [
    "<!-- Expected demo output text block -->\n",
    "The demo included in the solution cell below should display the following output:\n",
    "```\n",
    "The keyword \"python\" occurs in 75.00% of posts in the sample.\n",
    "The keyword \"jupyter\" occurs in 100.00% of posts in the sample.\n",
    "The keyword \"ide\" occurs in 50.00% of posts in the sample.\n",
    "The keyword \"pycharm\" occurs in 25.00% of posts in the sample.\n",
    "```\n",
    "**Note** This is a simplified example to demonstrate the structure of the inputs and outputs.\n",
    "\n",
    "**Note** The demo calls `keyword_usage` four times. Each line of output comes from a single function call."
   ]
  },
  {
   "cell_type": "code",
   "execution_count": 21,
   "metadata": {
    "tags": [
     "exercise_solution"
    ]
   },
   "outputs": [
    {
     "name": "stdout",
     "output_type": "stream",
     "text": [
      "The keyword \"python\" occurs in 75.00% of posts in the sample.\n",
      "The keyword \"jupyter\" occurs in 100.00% of posts in the sample.\n",
      "The keyword \"ide\" occurs in 50.00% of posts in the sample.\n",
      "The keyword \"pycharm\" occurs in 25.00% of posts in the sample.\n"
     ]
    }
   ],
   "source": [
    "### Exercise 5 solution\n",
    "def keyword_usage(vectors, keyword):\n",
    "    ###\n",
    "    keywordDict = defaultdict(int)\n",
    "    numposts = 0\n",
    "    for keys in vectors:\n",
    "        numposts+=1\n",
    "        for secondKey in vectors[keys]:\n",
    "            if keyword == secondKey:\n",
    "                   keywordDict[keyword]+=1\n",
    "    percent = 100*(float(keywordDict.get(keyword))/numposts)\n",
    "    finalpercent = '{:.2f}'.format(round(percent, 2))\n",
    "    return ('The keyword \"{}\" occurs in {}% of posts in the sample.'.format(keyword, finalpercent))\n",
    "    ###\n",
    "    \n",
    "print(keyword_usage(demo_vectors_ex5, demo_keyword_0_ex5))\n",
    "print(keyword_usage(demo_vectors_ex5, demo_keyword_1_ex5))\n",
    "print(keyword_usage(demo_vectors_ex5, demo_keyword_2_ex5))\n",
    "print(keyword_usage(demo_vectors_ex5, demo_keyword_3_ex5))\n",
    "# print(\"--------------------------------------------------------------------------\")\n",
    "# print(returned_output_vars['output_0'])\n",
    "# print(\"--------------------------------------------------------------------------\")\n",
    "# print(true_output_vars['output_0'])"
   ]
  },
  {
   "cell_type": "markdown",
   "metadata": {
    "deletable": false,
    "editable": false,
    "nbgrader": {
     "grade": false,
     "locked": true,
     "solution": false
    },
    "tags": [
     "test_data_boilerplate"
    ]
   },
   "source": [
    "<!-- Test Cell Boilerplate -->\n",
    "The cell below will test your solution for Exercise 5. The testing variables will be available for debugging under the following names in a dictionary format.\n",
    "- `input_vars` - Input variables for your solution. \n",
    "- `original_input_vars` - Copy of input variables from prior to running your solution. These _should_ be the same as `input_vars` - otherwise the inputs were modified by your solution.\n",
    "- `returned_output_vars` - Outputs returned by your solution.\n",
    "- `true_output_vars` - The expected output. This _should_ \"match\" `returned_output_vars` based on the question requirements - otherwise, your solution is not returning the correct output. "
   ]
  },
  {
   "cell_type": "code",
   "execution_count": 22,
   "metadata": {
    "deletable": false,
    "editable": false,
    "nbgrader": {
     "grade": true,
     "grade_id": "ex5",
     "locked": true,
     "points": "2",
     "solution": false
    },
    "tags": []
   },
   "outputs": [
    {
     "name": "stdout",
     "output_type": "stream",
     "text": [
      "Passed! Please submit.\n"
     ]
    }
   ],
   "source": [
    "### test_cell_ex5\n",
    "###\n",
    "### AUTOGRADER TEST - DO NOT REMOVE\n",
    "###\n",
    "from tester_fw.testers import Tester\n",
    "\n",
    "conf = {\n",
    "    'case_file':'tc_5', \n",
    "    'func': keyword_usage, # replace this with the function defined above\n",
    "    'inputs':{ # input config dict. keys are parameter names\n",
    "        'vectors':{\n",
    "            'dtype':'dict', # data type of param.\n",
    "            'check_modified':True,\n",
    "        },\n",
    "        'keyword':{\n",
    "            'dtype':'str', # data type of param.\n",
    "            'check_modified':True,\n",
    "        }\n",
    "    },\n",
    "    'outputs':{\n",
    "        'output_0':{\n",
    "            'index':0,\n",
    "            'dtype':'',\n",
    "            'check_dtype': True,\n",
    "            'check_col_dtypes': True, # Ignored if dtype is not df\n",
    "            'check_col_order': True, # Ignored if dtype is not df\n",
    "            'check_row_order': True, # Ignored if dtype is not df\n",
    "            'check_column_type': True, # Ignored if dtype is not df\n",
    "            'float_tolerance': 10 ** (-6)\n",
    "        }\n",
    "    }\n",
    "}\n",
    "tester = Tester(conf, key=b'S90rT5WLPFy08a82F6SXyiKoyeTi33DOHh7bxXASQw0=', path='resource/asnlib/publicdata/')\n",
    "for _ in range(20):\n",
    "    try:\n",
    "        tester.run_test()\n",
    "        (input_vars, original_input_vars, returned_output_vars, true_output_vars) = tester.get_test_vars()\n",
    "    except:\n",
    "        (input_vars, original_input_vars, returned_output_vars, true_output_vars) = tester.get_test_vars()\n",
    "        raise\n",
    "\n",
    "###\n",
    "### AUTOGRADER TEST - DO NOT REMOVE\n",
    "###\n",
    "print('Passed! Please submit.')"
   ]
  },
  {
   "cell_type": "markdown",
   "metadata": {
    "deletable": false,
    "editable": false,
    "nbgrader": {
     "grade": false,
     "locked": true,
     "solution": false
    }
   },
   "source": [
    "## Cosine Similarity\n",
    "**Read this if you want more information on how we are calculating similarity. All formulas will be given in the exercises where they are used.**\n",
    "\n",
    "The dictionaries we created for each post's text in the earlier exercises can also be thought of as vectors in a high dimensional space. In this context we can say that there is an angle $\\theta \\in [0, \\pi/2]$ between any two of these vectors $v_0$ and $v_1$. The more similar the two posts are, the smaller the angle will be, thus the larger $\\cos\\theta$ will be. We can calculate $\\cos\\theta$ with the following formula.  \n",
    "$$\\cos\\theta = \\frac{v_0 \\cdot v_1}{\\|v_0\\|\\|v_1\\|}$$\n",
    "Let's denote the *unit vectors* with the same direction as $v_0$ and $v_1$ by $\\hat{v_0}$ and $\\hat{v_1}$ respectively. Then the formula becomes simpler.  \n",
    "  \n",
    "$$\\cos\\theta = \\hat{v_0} \\cdot \\hat{v_1}$$\n",
    "We can calculate any unit vector $\\hat{v_i} \\in \\mathcal{R}^n$ with the following:\n",
    "$$\\hat{v_i} = \\frac{v_i}{\\|v_i\\|}$$\n",
    "where\n",
    "$$\\|v_i\\| = \\sqrt{\\sum_{j = 0}^{n-1}{v_{i,j}^2}}$$\n"
   ]
  },
  {
   "cell_type": "markdown",
   "metadata": {
    "deletable": false,
    "editable": false,
    "nbgrader": {
     "grade": false,
     "locked": true,
     "solution": false
    },
    "tags": [
     "exercise_text"
    ]
   },
   "source": [
    "## Exercise 6 - (**2** Points): \n",
    "**Motivation (don't dwell on this)**\n",
    "\n",
    "Normalizing the vectors (making them all unit length) before using them for calculation will make the next step easier. We are effectively performing the $\\hat{v_i}$ calculation from the *Cosine Similarity* section.\n",
    "\n",
    "$$\\hat{v_i} = \\frac{v_i}{\\|v_i\\|}$$\n",
    "where\n",
    "$$\\|v_i\\| = \\sqrt{\\sum_{j = 0}^{n-1}{v_{i,j}^2}}$$\n",
    "\n",
    "**Requirements**\n",
    "\n",
    "Define the function `normalize_vector(vector)`. The input `vector` ($v_i$ from the math above) will be a `dict` mapping words (`str`) to `int`. Perform the following calculations and return `ret_vec`.\n",
    "\n",
    "- `SS` = sum of the *squares* of each *value* in `vector`; i.e - $\\sum_{j = 0}^{n-1}{v_{i,j}^2}$ from the math above.\n",
    "- `magnitude` = $\\sqrt{\\text{SS}}$; i.e - $\\|v_i\\|$ from the math above.\n",
    "- `ret_vec` = dictionary mapping each key in `vector` to the value associated with that key in `vector` divided by `magnitude`; i.e - $\\hat{v_i}$ from the math above.\n",
    "- For example if `vector['python']` = `5` and `magnitude` = `50` then `ret_vec['python']` should be `0.1`."
   ]
  },
  {
   "cell_type": "code",
   "execution_count": 23,
   "metadata": {
    "collapsed": true,
    "deletable": false,
    "editable": false,
    "nbgrader": {
     "grade": false,
     "locked": true,
     "solution": false
    },
    "tags": [
     "demo_data"
    ]
   },
   "outputs": [],
   "source": [
    "### Define demo inputs\n",
    "\n",
    "demo_vector_ex6_0 = {\n",
    "    'python': 4,\n",
    "    'jupyter': 3\n",
    "}\n",
    "\n",
    "demo_vector_ex6_1 = {\n",
    "    'python': 5,\n",
    "    'code': 12\n",
    "}"
   ]
  },
  {
   "cell_type": "markdown",
   "metadata": {
    "deletable": false,
    "editable": false,
    "nbgrader": {
     "grade": false,
     "locked": true,
     "solution": false
    },
    "tags": [
     "demo_output_md"
    ]
   },
   "source": [
    "# <!-- Expected demo output text block -->\n",
    "The demo included in the solution cell below should display the following output:\n",
    "```\n",
    "{'python': 0.8, 'jupyter': 0.6}\n",
    "{'python': 0.38461538461538464, 'code': 0.9230769230769231}\n",
    "```\n",
    "<!-- Include any shout outs here -->\n",
    "**Note** This demo runs `normalize_vector` twice on (once on each input).\n",
    "\n",
    "**Note** For this simplified example the intermediate values should be as follows: \n",
    "\n",
    "|input|`SS`|`magnitude`|  \n",
    "|---|---|---|  \n",
    "|demo_vector_ex6_0|`25`|`5.0`|  \n",
    "|demo_vector_ex6_1|`169`|`13.0`|  "
   ]
  },
  {
   "cell_type": "code",
   "execution_count": 24,
   "metadata": {
    "tags": [
     "exercise_solution"
    ]
   },
   "outputs": [
    {
     "name": "stdout",
     "output_type": "stream",
     "text": [
      "defaultdict(<class 'float'>, {'python': 0.8, 'jupyter': 0.6})\n",
      "defaultdict(<class 'float'>, {'python': 0.38461538461538464, 'code': 0.9230769230769231})\n"
     ]
    }
   ],
   "source": [
    "### Exercise 6 solution\n",
    "import math\n",
    "def normalize_vector(vector):\n",
    "    ###\n",
    "    SS = 0\n",
    "    ret_vec = defaultdict(float)\n",
    "    \n",
    "    for key in vector:\n",
    "        SS += vector[key]**2\n",
    "        \n",
    "    magnitude = math.sqrt(SS)\n",
    "    \n",
    "    for key in vector:\n",
    "        ret_vec[key] = vector[key]/magnitude\n",
    "        \n",
    "    return ret_vec\n",
    "    ###\n",
    "    \n",
    "### demo function call\n",
    "print(normalize_vector(demo_vector_ex6_0))\n",
    "print(normalize_vector(demo_vector_ex6_1))"
   ]
  },
  {
   "cell_type": "markdown",
   "metadata": {
    "deletable": false,
    "editable": false,
    "nbgrader": {
     "grade": false,
     "locked": true,
     "solution": false
    },
    "tags": [
     "test_data_boilerplate"
    ]
   },
   "source": [
    "<!-- Test Cell Boilerplate -->\n",
    "The cell below will test your solution for Exercise 6. The testing variables will be available for debugging under the following names in a dictionary format.\n",
    "- `input_vars` - Input variables for your solution. \n",
    "- `original_input_vars` - Copy of input variables from prior to running your solution. These _should_ be the same as `input_vars` - otherwise the inputs were modified by your solution.\n",
    "- `returned_output_vars` - Outputs returned by your solution.\n",
    "- `true_output_vars` - The expected output. This _should_ \"match\" `returned_output_vars` based on the question requirements - otherwise, your solution is not returning the correct output. "
   ]
  },
  {
   "cell_type": "code",
   "execution_count": 25,
   "metadata": {
    "deletable": false,
    "editable": false,
    "nbgrader": {
     "grade": true,
     "grade_id": "ex6",
     "locked": true,
     "points": "2",
     "solution": false
    },
    "tags": []
   },
   "outputs": [
    {
     "name": "stdout",
     "output_type": "stream",
     "text": [
      "Passed! Please submit.\n"
     ]
    }
   ],
   "source": [
    "### test_cell_ex6\n",
    "###\n",
    "### AUTOGRADER TEST - DO NOT REMOVE\n",
    "###\n",
    "from tester_fw.testers import Tester\n",
    "\n",
    "conf = {\n",
    "    'case_file':'tc_6', \n",
    "    'func': normalize_vector, # replace this with the function defined above\n",
    "    'inputs':{ # input config dict. keys are parameter names\n",
    "        'vector':{\n",
    "            'dtype':'dict', # data type of param.\n",
    "            'check_modified':True,\n",
    "        }\n",
    "    },\n",
    "    'outputs':{\n",
    "        'output_0':{\n",
    "            'index':0,\n",
    "            'dtype':'',\n",
    "            'check_dtype': True,\n",
    "            'check_col_dtypes': True, # Ignored if dtype is not df\n",
    "            'check_col_order': True, # Ignored if dtype is not df\n",
    "            'check_row_order': True, # Ignored if dtype is not df\n",
    "            'check_column_type': True, # Ignored if dtype is not df\n",
    "            'float_tolerance': 10 ** (-6)\n",
    "        }\n",
    "    }\n",
    "}\n",
    "tester = Tester(conf, key=b'S90rT5WLPFy08a82F6SXyiKoyeTi33DOHh7bxXASQw0=', path='resource/asnlib/publicdata/')\n",
    "for _ in range(20):\n",
    "    try:\n",
    "        tester.run_test()\n",
    "        (input_vars, original_input_vars, returned_output_vars, true_output_vars) = tester.get_test_vars()\n",
    "    except:\n",
    "        (input_vars, original_input_vars, returned_output_vars, true_output_vars) = tester.get_test_vars()\n",
    "        raise\n",
    "\n",
    "###\n",
    "### AUTOGRADER TEST - DO NOT REMOVE\n",
    "###\n",
    "print('Passed! Please submit.')"
   ]
  },
  {
   "cell_type": "markdown",
   "metadata": {
    "deletable": false,
    "editable": false,
    "nbgrader": {
     "grade": false,
     "locked": true,
     "solution": false
    }
   },
   "source": [
    "We used the following code to normalize all the vectors and save the result in `resource/asnlib/publicdata/normalized_children.json`\n",
    "\n",
    "```\n",
    "normalized_children = {id:normalize_vector(vector) for id, vector in vectorized_children.items()}\n",
    "with open('resource/asnlib/publicdata/normalized_children.json', 'w') as f:\n",
    "    json.dump(normalized_children, f, indent=4)\n",
    "```"
   ]
  },
  {
   "cell_type": "markdown",
   "metadata": {
    "deletable": false,
    "editable": false,
    "nbgrader": {
     "grade": false,
     "locked": true,
     "solution": false
    },
    "tags": [
     "exercise_text"
    ]
   },
   "source": [
    "## Exercise 7 - (**1** Points): \n",
    "**Motivation (don't dwell on this)**\n",
    "\n",
    "Now that we have normalized word vectors for each post, it's time to implement the similarity calculation.\n",
    "\n",
    "**Requirements**\n",
    "\n",
    "Define `calc_similarity(vector_0, vector_1)`. The inputs `vector_0` and `vector_1` will be `dict`s mapping `str` to `float`. Perform the following calculations and return the end result.\n",
    "- Calculate the product of `vector_0[k]` times `vector_1[k]` for each key `k` that is present in **both** `vector_0` and `vector_1`.\n",
    "- Compute the sum of all these products **and round to 5 decimal places**.\n",
    "- Return the **rounded** sum as a `float`."
   ]
  },
  {
   "cell_type": "code",
   "execution_count": 26,
   "metadata": {
    "collapsed": true,
    "deletable": false,
    "editable": false,
    "nbgrader": {
     "grade": false,
     "locked": true,
     "solution": false
    },
    "tags": [
     "demo_data"
    ]
   },
   "outputs": [],
   "source": [
    "### Define demo inputs\n",
    "with open('resource/asnlib/publicdata/normalized_children.json') as f:\n",
    "    normalized_children = json.load(f)\n",
    "demo_vector_0_ex7 = {'python': 0.8, 'jupyter': 0.6}\n",
    "demo_vector_1_ex7 = {'python': 0.38461538461538464, 'code': 0.9230769230769231}"
   ]
  },
  {
   "cell_type": "markdown",
   "metadata": {
    "deletable": false,
    "editable": false,
    "nbgrader": {
     "grade": false,
     "locked": true,
     "solution": false
    },
    "tags": [
     "demo_output_md"
    ]
   },
   "source": [
    "<!-- Expected demo output text block -->\n",
    "The demo included in the solution cell below should display the following output:\n",
    "```\n",
    "0.30769\n",
    "1.0\n",
    "```\n",
    "<!-- Include any shout outs here -->\n",
    "**Note** This simplified example contains two runs of `normalize_vector`. The first run uses both demo inputs. The second run uses `demo_vector_0_ex7` as both `vector_0` and `vector_1` to illustrate that comparing a vector to itself should always give the result of `1.0` since $cos(0) = 1$."
   ]
  },
  {
   "cell_type": "code",
   "execution_count": 27,
   "metadata": {
    "tags": [
     "exercise_solution"
    ]
   },
   "outputs": [
    {
     "name": "stdout",
     "output_type": "stream",
     "text": [
      "0.30769\n",
      "1.0\n"
     ]
    }
   ],
   "source": [
    "### Exercise 7 solution\n",
    "def calc_similarity(vector_0, vector_1):\n",
    "    ###\n",
    "    finalSum = 0\n",
    "    for i in vector_0:\n",
    "        for j in vector_1:\n",
    "            if i == j:\n",
    "                finalSum += vector_0[i]*vector_1[j]\n",
    "    finalSum = round(finalSum, 5)\n",
    "    return finalSum\n",
    "    ###\n",
    "    \n",
    "### demo function call\n",
    "print(calc_similarity(demo_vector_0_ex7, demo_vector_1_ex7))\n",
    "print(calc_similarity(demo_vector_0_ex7, demo_vector_0_ex7))"
   ]
  },
  {
   "cell_type": "markdown",
   "metadata": {
    "deletable": false,
    "editable": false,
    "nbgrader": {
     "grade": false,
     "locked": true,
     "solution": false
    },
    "tags": [
     "test_data_boilerplate"
    ]
   },
   "source": [
    "<!-- Test Cell Boilerplate -->\n",
    "The cell below will test your solution for Exercise 7. The testing variables will be available for debugging under the following names in a dictionary format.\n",
    "- `input_vars` - Input variables for your solution. \n",
    "- `original_input_vars` - Copy of input variables from prior to running your solution. These _should_ be the same as `input_vars` - otherwise the inputs were modified by your solution.\n",
    "- `returned_output_vars` - Outputs returned by your solution.\n",
    "- `true_output_vars` - The expected output. This _should_ \"match\" `returned_output_vars` based on the question requirements - otherwise, your solution is not returning the correct output. "
   ]
  },
  {
   "cell_type": "code",
   "execution_count": 28,
   "metadata": {
    "deletable": false,
    "editable": false,
    "nbgrader": {
     "grade": true,
     "grade_id": "ex7",
     "locked": true,
     "points": "1",
     "solution": false
    },
    "tags": []
   },
   "outputs": [
    {
     "name": "stdout",
     "output_type": "stream",
     "text": [
      "Passed! Please submit.\n"
     ]
    }
   ],
   "source": [
    "### test_cell_ex7\n",
    "###\n",
    "### AUTOGRADER TEST - DO NOT REMOVE\n",
    "###\n",
    "from tester_fw.testers import Tester\n",
    "\n",
    "conf = {\n",
    "    'case_file':'tc_7', \n",
    "    'func': calc_similarity, # replace this with the function defined above\n",
    "    'inputs':{ # input config dict. keys are parameter names\n",
    "        'vector_0':{\n",
    "            'dtype':'dict', # data type of param.\n",
    "            'check_modified':True,\n",
    "        },\n",
    "        'vector_1':{\n",
    "            'dtype':'dict', # data type of param.\n",
    "            'check_modified':True,\n",
    "        }\n",
    "    },\n",
    "    'outputs':{\n",
    "        'output_0':{\n",
    "            'index':0,\n",
    "            'dtype':'',\n",
    "            'check_dtype': True,\n",
    "            'check_col_dtypes': True, # Ignored if dtype is not df\n",
    "            'check_col_order': True, # Ignored if dtype is not df\n",
    "            'check_row_order': True, # Ignored if dtype is not df\n",
    "            'check_column_type': True, # Ignored if dtype is not df\n",
    "            'float_tolerance': 10 ** (-6)\n",
    "        }\n",
    "    }\n",
    "}\n",
    "tester = Tester(conf, key=b'S90rT5WLPFy08a82F6SXyiKoyeTi33DOHh7bxXASQw0=', path='resource/asnlib/publicdata/')\n",
    "for _ in range(20):\n",
    "    try:\n",
    "        tester.run_test()\n",
    "        (input_vars, original_input_vars, returned_output_vars, true_output_vars) = tester.get_test_vars()\n",
    "    except:\n",
    "        (input_vars, original_input_vars, returned_output_vars, true_output_vars) = tester.get_test_vars()\n",
    "        raise\n",
    "\n",
    "###\n",
    "### AUTOGRADER TEST - DO NOT REMOVE\n",
    "###\n",
    "print('Passed! Please submit.')"
   ]
  },
  {
   "cell_type": "markdown",
   "metadata": {
    "deletable": false,
    "editable": false,
    "nbgrader": {
     "grade": false,
     "locked": true,
     "solution": false
    }
   },
   "source": [
    "We ran the following code to create a similarity matrix `dict` mapping `str` to `dict` (inner `dict` maps `str` to `float`) and write the result to \n",
    "`resource/asnlib/publicdata/similarity_matrix.json`. The value stored in `similarity_matrix[a][b]` is the cosine similarity score between post id `a` and post id `b`. \n",
    "\n",
    "\n",
    "Based on how the matrix was constructed it is \"square\". In other words, if `similarity_matrix[a]` and `similarity_matrix[b]` exist then `similarity_matrix[a][b]` and `similarity_matrix[b][a]` are guaranteed to exist.\n",
    "\n",
    "```\n",
    "similarity_matrix = {\n",
    "    id: {other_id: calc_similarity(normalized_children[id], normalized_children[other_id]) for other_id in normalized_children} \\\n",
    "    for id in normalized_children\n",
    "    }\n",
    "with open('resource/asnlib/publicdata/similarity_matrix.json', 'w') as f:\n",
    "\tjson.dump(similarity_matrix, f, indent=4)\n",
    "```"
   ]
  },
  {
   "cell_type": "markdown",
   "metadata": {
    "deletable": false,
    "editable": false,
    "nbgrader": {
     "grade": false,
     "locked": true,
     "solution": false
    },
    "tags": [
     "exercise_text"
    ]
   },
   "source": [
    "## Exercise 8 - (**3** Points): \n",
    "\n",
    "**Motivation (don't dwell on this)** \n",
    "\n",
    "We are interested in identifying the posts which are most similar to a given post. We have already done all of the math to capture that information, but it's in yet another huge JSON. \n",
    "\n",
    "**Requirements**\n",
    "\n",
    "Define `n_most_similar(sim_matrix, post_id, n)`. The input `sim_matrix` will be a nested `dict` with the same structure as `similarity_matrix` described in the cell above. The input `post_id` will be the id of the post we are interested in and will be a key of `sim_matrix`. The function should do the following:\n",
    "\n",
    "- Get the \"similarity vector\" (`sim_matrix[post_id]`).\n",
    "- Sort the key/value pairs based on the similarity score. It is recommended but not required to have a `list` of `tuples` for this intermediate result. They should be sorted in *descending* order of similarity. If there are ties (2 or more posts with the same similarity to `post_id`) then break the ties by sorting them into alphabetical order.\n",
    "- Return a `list` of `tuples` of length `n+1` containing `post_id` and the `n` most similar posts. Tuples should be of the form (post id (`str`), similarity score (`float`)) \n",
    "\n",
    "**Note** the post associated with `post_id` will always be at the top of the list since it will have a similarity of `1.0` to itself."
   ]
  },
  {
   "cell_type": "code",
   "execution_count": 29,
   "metadata": {
    "collapsed": true,
    "deletable": false,
    "editable": false,
    "nbgrader": {
     "grade": false,
     "locked": true,
     "solution": false
    },
    "tags": [
     "demo_data"
    ]
   },
   "outputs": [],
   "source": [
    "### Define demo inputs\n",
    "\n",
    "with open('resource/asnlib/publicdata/similarity_matrix.json') as f:\n",
    "    similarity_matrix = json.load(f)\n",
    "\n",
    "demo_sim_matrix_ex8 = {\n",
    "  'post_0': {'post_0': 1.0,    'post_1': 0.79686,'post_2': 0.67635,'post_3': 0.52459,'post_4': 0.2334},\n",
    "  'post_1': {'post_0': 0.79686,'post_1': 1.0,    'post_2': 0.65699,'post_3': 0.45758,'post_4': 0.11308},\n",
    "  'post_2': {'post_0': 0.67635,'post_1': 0.65699,'post_2': 1.0,    'post_3': 0.51968,'post_4': 0.16411},\n",
    "  'post_3': {'post_0': 0.52459,'post_1': 0.45758,'post_2': 0.51968,'post_3': 1.0,    'post_4': 0.33981},\n",
    "  'post_4': {'post_0': 0.2334, 'post_1': 0.11308,'post_2': 0.16411,'post_3': 0.33981,'post_4': 1.0}}\n",
    "\n",
    "demo_n_ex8 = 2\n",
    "demo_post_id_0 = 'post_0'\n",
    "demo_post_id_1 = 'post_3'"
   ]
  },
  {
   "cell_type": "markdown",
   "metadata": {
    "deletable": false,
    "editable": false,
    "nbgrader": {
     "grade": false,
     "locked": true,
     "solution": false
    },
    "tags": [
     "demo_output_md"
    ]
   },
   "source": [
    "<!-- Expected demo output text block -->\n",
    "The demo included in the solution cell below should display the following output:\n",
    "```\n",
    "[('post_0', 1.0), ('post_1', 0.79686), ('post_2', 0.67635)]\n",
    "\n",
    "[('post_3', 1.0), ('post_0', 0.52459), ('post_2', 0.51968)]\n",
    "```\n",
    "**Note** This demo calls `n_most_similar` twice. The outputs are separated by a blank line. The first uses `demo_post_id_0` as `post_id`, and the second uses `demo_post_id_1` as `post_id`."
   ]
  },
  {
   "cell_type": "code",
   "execution_count": 30,
   "metadata": {
    "tags": [
     "exercise_solution"
    ]
   },
   "outputs": [
    {
     "name": "stdout",
     "output_type": "stream",
     "text": [
      "[('post_0', 1.0), ('post_1', 0.79686), ('post_2', 0.67635), ('post_3', 0.52459), ('post_4', 0.2334)]\n",
      "[('post_0', 1.0), ('post_1', 0.79686), ('post_2', 0.67635)]\n",
      "\n",
      "[('post_3', 1.0), ('post_0', 0.52459), ('post_2', 0.51968), ('post_1', 0.45758), ('post_4', 0.33981)]\n",
      "[('post_3', 1.0), ('post_0', 0.52459), ('post_2', 0.51968)]\n",
      "--------------------------------------------------------------------------\n",
      "0.01143\n",
      "--------------------------------------------------------------------------\n",
      "0.01143\n"
     ]
    }
   ],
   "source": [
    "### Exercise 8 solution\n",
    "def n_most_similar(sim_matrix, post_id, n):\n",
    "    ###\n",
    "    finalLst = []\n",
    "    dataDict = defaultdict(float)\n",
    "    for key in sim_matrix:\n",
    "        if key == post_id:\n",
    "            for newKey in sim_matrix[key]:\n",
    "                dataDict[newKey] = sim_matrix[key][newKey]\n",
    "                \n",
    "    sortedTuples = sorted(dataDict.items(), key=lambda x:x[1], reverse=True)\n",
    "    \n",
    "    \n",
    "    finalSortedTuples = sorted(sortedTuples, key=lambda x:(-x[1],x[0]))\n",
    "\n",
    "    print(finalSortedTuples)\n",
    "    \n",
    "    for i in range(n+1):\n",
    "        finalLst.append(finalSortedTuples[i])\n",
    "    return finalLst\n",
    "    ###\n",
    "    \n",
    "print(n_most_similar(demo_sim_matrix_ex8, demo_post_id_0, demo_n_ex8))\n",
    "print()\n",
    "print(n_most_similar(demo_sim_matrix_ex8, demo_post_id_1, demo_n_ex8))\n",
    "print(\"--------------------------------------------------------------------------\")\n",
    "print(returned_output_vars['output_0'])\n",
    "print(\"--------------------------------------------------------------------------\")\n",
    "print(true_output_vars['output_0'])"
   ]
  },
  {
   "cell_type": "markdown",
   "metadata": {
    "deletable": false,
    "editable": false,
    "nbgrader": {
     "grade": false,
     "locked": true,
     "solution": false
    },
    "tags": [
     "test_data_boilerplate"
    ]
   },
   "source": [
    "<!-- Test Cell Boilerplate -->\n",
    "The cell below will test your solution for Exercise 8. The testing variables will be available for debugging under the following names in a dictionary format.\n",
    "- `input_vars` - Input variables for your solution. \n",
    "- `original_input_vars` - Copy of input variables from prior to running your solution. These _should_ be the same as `input_vars` - otherwise the inputs were modified by your solution.\n",
    "- `returned_output_vars` - Outputs returned by your solution.\n",
    "- `true_output_vars` - The expected output. This _should_ \"match\" `returned_output_vars` based on the question requirements - otherwise, your solution is not returning the correct output. "
   ]
  },
  {
   "cell_type": "code",
   "execution_count": 31,
   "metadata": {
    "deletable": false,
    "editable": false,
    "nbgrader": {
     "grade": true,
     "grade_id": "ex8",
     "locked": true,
     "points": "3",
     "solution": false
    },
    "tags": []
   },
   "outputs": [
    {
     "name": "stdout",
     "output_type": "stream",
     "text": [
      "[('jgaflw', 1.0), ('l558rn', 0.22039), ('cfavw8', 0.14885), ('fjsafs', 0.13555), ('gwr14x', 0.11854), ('hv9r5u', 0.10405), ('gix1qt', 0.05844), ('dcvncc', 0.02075)]\n",
      "[('lmi2lg', 1.0), ('5honmq', 0.13709), ('lt3xhm', 0.12498), ('n2o629', 0.10351), ('iyd8fe', 0.10126), ('j9sv46', 0.09512), ('bdzedl', 0.08152), ('k7b25d', 0.07483), ('e3y7ym', 0.05222), ('gof0hh', 0.0141)]\n",
      "[('g8rvag', 1.0), ('en99wc', 0.10242), ('ek3h8y', 0.07995), ('g4h0t1', 0.05515), ('l0lyh2', 0.05129), ('3aa7s2', 0), ('7mvh9h', 0), ('hlii49', 0), ('j8immz', 0), ('lu9h5l', 0), ('o9aoy6', 0), ('szeekg', 0)]\n",
      "[('hmg1lo', 1.0), ('es593y', 0.28532), ('mez5jk', 0.26551), ('gcyxoq', 0.26189), ('nss766', 0.23309), ('gwr14x', 0.19798), ('ghln0h', 0.12235), ('glxpe4', 0.11298), ('mvq0ek', 0.0759), ('uylzhm', 0.05886), ('qquvp5', 0.00382)]\n",
      "[('lj2l0e', 1.0), ('fb9lj3', 0.07516), ('68jxc1', 0.07217), ('f3ol1r', 0), ('hbbzoa', 0), ('ifn5ti', 0), ('kl7lci', 0), ('klp9a6', 0)]\n",
      "[('ortsqp', 1.0), ('989qx7', 0.21446), ('oosibn', 0.18953), ('n171lw', 0.18236), ('ezhrnl', 0.10891), ('nbjfit', 0.10066), ('pxabxz', 0.08479), ('nj24hi', 0.08392), ('u2msbi', 0.06129), ('e4toc2', 0.05853), ('2we87d', 0.02488)]\n",
      "[('i4sbct', 1.0), ('kdt5c4', 0.07551), ('kbxpps', 0.06389), ('cfavw8', 0.04403), ('sfnvs6', 0.04061), ('en99wc', 0.03243), ('opog0i', 0.02252), ('jr5klc', 0.00827)]\n",
      "[('rfbqhh', 1.0), ('nw03lm', 0.13125), ('o2task', 0.0894), ('k4rxz6', 0.07982), ('fk08pk', 0.07367), ('bm2iw2', 0.05759), ('d5cojh', 0.03993), ('2we87d', 0.01281), ('ghln0h', 0.01129)]\n",
      "[('90zktj', 1.0), ('iskhni', 0.06299), ('l3md9b', 0.04103), ('ncrkt3', 0.03276), ('fz6hl0', 0.02237), ('hjgvgb', 0.02153), ('2we87d', 0.01427), ('jeagfe', 0)]\n",
      "[('n6yd44', 1.0), ('fo6lbo', 0.21411), ('fi8kyb', 0.20407), ('df265b', 0.19453), ('guu0nq', 0.17181), ('evzpbt', 0.17109), ('es593y', 0.16901), ('ogm2ta', 0.107), ('e4toc2', 0.10134), ('6u2opf', 0.07892), ('dr6jzi', 0.05931), ('c9jyze', 0)]\n",
      "[('n6yd44', 1.0), ('fo6lbo', 0.21411), ('fi8kyb', 0.20407), ('df265b', 0.19453), ('guu0nq', 0.17181), ('evzpbt', 0.17109), ('es593y', 0.16901), ('ogm2ta', 0.107), ('e4toc2', 0.10134), ('6u2opf', 0.07892), ('dr6jzi', 0.05931), ('c9jyze', 0)]\n",
      "[('diit3b', 1.0), ('6ghxgg', 0.08566), ('hp9ptz', 0.06734), ('mxwdpj', 0.0315), ('ald2ft', 0.0256), ('btfqr3', 0), ('fmcp30', 0), ('fz6hl0', 0), ('g0vamb', 0), ('g1aryx', 0)]\n",
      "[('lvwd6x', 1.0), ('lez7lg', 0.17639), ('k1yd6u', 0.12964), ('s3spq7', 0.12881), ('9il0x4', 0.12299), ('n8e1sk', 0.10324), ('m2c9h4', 0.0889), ('pqgien', 0.06748), ('eax9km', 0.06333), ('li9q2w', 0.04339), ('l1b8ju', 0.033), ('fpstob', 0)]\n",
      "[('k51frp', 1.0), ('n2668d', 0.27633), ('i1w07u', 0.19746), ('hcy7rt', 0.16093), ('ortsqp', 0.15506), ('icpt8d', 0.14008), ('kgu5i5', 0.10445), ('dptsly', 0.07884), ('hxzyua', 0.07423), ('60n6gh', 0.07313), ('ah1t7v', 0.06522)]\n",
      "[('lblfyz', 1.0), ('la98y1', 0.19432), ('p08piy', 0.18916), ('l8bkaw', 0.14872), ('ijno67', 0.13001), ('i2xpkq', 0.11127), ('n0cthw', 0.09734), ('k60zfu', 0.09559), ('fz6hl0', 0.0937)]\n",
      "[('hmg1lo', 1.0), ('es593y', 0.28532), ('mez5jk', 0.26551), ('gcyxoq', 0.26189), ('nss766', 0.23309), ('gwr14x', 0.19798), ('ghln0h', 0.12235), ('glxpe4', 0.11298), ('mvq0ek', 0.0759), ('uylzhm', 0.05886), ('qquvp5', 0.00382)]\n",
      "[('cfavw8', 1.0), ('o7kvjp', 0.21482), ('es593y', 0.17289), ('pqgien', 0.14814), ('nkr1t9', 0.13887), ('j8su3p', 0.12015), ('gxycd2', 0.08126), ('vm78c0', 0.05472), ('npt0pd', 0.0405)]\n",
      "[('hwp5we', 1.0), ('kgu5i5', 0.20772), ('pxabxz', 0.19125), ('ru0jbu', 0.13879), ('k6cu8c', 0.12784), ('kczpqb', 0.106), ('lc8h0z', 0.07821), ('4atn5f', 0.07542), ('k6thb1', 0.02498)]\n",
      "[('g8rvag', 1.0), ('en99wc', 0.10242), ('ek3h8y', 0.07995), ('g4h0t1', 0.05515), ('l0lyh2', 0.05129), ('3aa7s2', 0), ('7mvh9h', 0), ('hlii49', 0), ('j8immz', 0), ('lu9h5l', 0), ('o9aoy6', 0), ('szeekg', 0)]\n",
      "[('4atn5f', 1.0), ('k8i5as', 0.10381), ('ocvfzr', 0.08839), ('hc3scu', 0.06882), ('f77s7h', 0.05872), ('nh8klg', 0.05514), ('nipprl', 0.05508), ('npt0pd', 0.05303), ('6rrsdu', 0.02774)]\n",
      "[('j20gj2', 1.0), ('e8uo6c', 0.03172), ('bdn9f8', 0), ('dupy23', 0), ('ecf714', 0), ('fs1qi7', 0), ('j8immz', 0), ('jesnw7', 0), ('kbxpps', 0), ('khrrjo', 0), ('kyf3u1', 0), ('nipprl', 0)]\n",
      "[('jl25qw', 1.0), ('nw03lm', 0.16738), ('pfq2ak', 0.11535), ('eo6wne', 0.11357), ('s3spq7', 0.10055), ('i4sbct', 0.07381), ('fjsafs', 0.06612), ('jkcy74', 0.0626), ('av5c3o', 0.05573), ('brt8kx', 0.05175), ('gof0hh', 0.02024)]\n",
      "[('i76d6l', 1.0), ('g6g2dw', 0.1619), ('e0s4fw', 0.11041), ('lc8h0z', 0.07274), ('e1e5xz', 0.0504), ('gmcgvc', 0.04912), ('k9f4q7', 0.03624), ('2we87d', 0), ('kj5p6c', 0)]\n",
      "[('c5hiic', 0), ('dsm7og', 0), ('dupy23', 0), ('fxfb1k', 0), ('fy634p', 0), ('gbp0a1', 0), ('i0k9s8', 0), ('jxr209', 0), ('md23z9', 0), ('opog0i', 0), ('ru0jbu', 0), ('svk1ys', 0)]\n",
      "[('vm78c0', 1.0), ('hjgvgb', 0.1784), ('mivbxe', 0.17567), ('uylzhm', 0.09502), ('bm2iw2', 0.08392), ('gcnubf', 0.07414), ('jurjmr', 0.0323), ('it9049', 0.02741), ('fpstob', 0), ('gnyijt', 0), ('otcqs7', 0)]\n",
      "[('4atn5f', 1.0), ('k8i5as', 0.10381), ('ocvfzr', 0.08839), ('hc3scu', 0.06882), ('f77s7h', 0.05872), ('nh8klg', 0.05514), ('nipprl', 0.05508), ('npt0pd', 0.05303), ('6rrsdu', 0.02774)]\n",
      "[('4pj6ef', 1.0), ('ivddy4', 0.11541), ('hd9oaf', 0.11504), ('hrdssy', 0.06601), ('lssdg9', 0.05882), ('63sg43', 0.02662), ('li9q2w', 0.02505), ('u4qzai', 0)]\n",
      "[('5som5b', 1.0), ('g89tmh', 0.30288), ('ox10yd', 0.16894), ('uehc4u', 0.15174), ('ep2xb8', 0.13994), ('mtpedz', 0.1023), ('hnxb18', 0.05147), ('fvif1c', 0.05083), ('o2task', 0.05022), ('lyldtc', 0.04645), ('l1b8ju', 0.03594), ('fztytm', 0.0181)]\n",
      "[('i4sbct', 1.0), ('kdt5c4', 0.07551), ('kbxpps', 0.06389), ('cfavw8', 0.04403), ('sfnvs6', 0.04061), ('en99wc', 0.03243), ('opog0i', 0.02252), ('jr5klc', 0.00827)]\n",
      "[('c0d2xj', 1.0), ('hus0n0', 0.16706), ('i2g41g', 0.13048), ('ox10yd', 0.08472), ('kqyg7n', 0.0502), ('gxycd2', 0.04094), ('c2pofn', 0.02782), ('ta7qd5', 0.01656)]\n",
      "[('kwhlrj', 1.0), ('gsdczu', 0.21705), ('hwp5we', 0.11301), ('5814lw', 0.10839), ('lu9h5l', 0.05882), ('jbn4bo', 0.04541), ('e294r9', 0.03838), ('c7czwi', 0.03483), ('k60zfu', 0.03211), ('n5v69b', 0.02714)]\n",
      "[('htyr40', 1.0), ('kgu5i5', 0.08165), ('ok45gi', 0.0595), ('mxwdpj', 0.04167), ('hjegkc', 0.04003), ('snuyj3', 0.02877), ('k1yd6u', 0), ('kov957', 0), ('ppyek4', 0)]\n",
      "[('lj2l0e', 1.0), ('fb9lj3', 0.07516), ('68jxc1', 0.07217), ('f3ol1r', 0), ('hbbzoa', 0), ('ifn5ti', 0), ('kl7lci', 0), ('klp9a6', 0)]\n",
      "[('lj2l0e', 1.0), ('fb9lj3', 0.07516), ('68jxc1', 0.07217), ('f3ol1r', 0), ('hbbzoa', 0), ('ifn5ti', 0), ('kl7lci', 0), ('klp9a6', 0)]\n",
      "[('ortsqp', 1.0), ('989qx7', 0.21446), ('oosibn', 0.18953), ('n171lw', 0.18236), ('ezhrnl', 0.10891), ('nbjfit', 0.10066), ('pxabxz', 0.08479), ('nj24hi', 0.08392), ('u2msbi', 0.06129), ('e4toc2', 0.05853), ('2we87d', 0.02488)]\n",
      "[('g8rvag', 1.0), ('en99wc', 0.10242), ('ek3h8y', 0.07995), ('g4h0t1', 0.05515), ('l0lyh2', 0.05129), ('3aa7s2', 0), ('7mvh9h', 0), ('hlii49', 0), ('j8immz', 0), ('lu9h5l', 0), ('o9aoy6', 0), ('szeekg', 0)]\n",
      "[('6ghxgg', 1.0), ('n171lw', 0.17687), ('gk517f', 0.12371), ('g1pvu8', 0.11815), ('mi7lsq', 0.11475), ('8ln9ga', 0.08533), ('lg7940', 0.08255), ('o7kvjp', 0.08247), ('jjpq3t', 0.07709), ('5honmq', 0.0692), ('l2lloq', 0.03642), ('e73brb', 0)]\n",
      "[('kbk4yk', 1.0), ('m2c9h4', 0.17803), ('iioltu', 0.16354), ('hhu0zj', 0.12754), ('gmtcbs', 0.12254), ('ka73mu', 0.10557), ('fwultz', 0.10108), ('gx12zp', 0.07428), ('iq5qhl', 0.06126)]\n",
      "[('g8rvag', 1.0), ('en99wc', 0.10242), ('ek3h8y', 0.07995), ('g4h0t1', 0.05515), ('l0lyh2', 0.05129), ('3aa7s2', 0), ('7mvh9h', 0), ('hlii49', 0), ('j8immz', 0), ('lu9h5l', 0), ('o9aoy6', 0), ('szeekg', 0)]\n",
      "[('es593y', 1.0), ('eyvg46', 0.19951), ('cwkstg', 0.14466), ('k5k1h0', 0.14395), ('gugash', 0.12672), ('c8lit9', 0.12439), ('cggb25', 0.09978), ('exese6', 0.09742), ('qsfcsa', 0.08948), ('arocm9', 0.0231)]\n",
      "[('i76d6l', 1.0), ('g6g2dw', 0.1619), ('e0s4fw', 0.11041), ('lc8h0z', 0.07274), ('e1e5xz', 0.0504), ('gmcgvc', 0.04912), ('k9f4q7', 0.03624), ('2we87d', 0), ('kj5p6c', 0)]\n",
      "[('n6yd44', 1.0), ('fo6lbo', 0.21411), ('fi8kyb', 0.20407), ('df265b', 0.19453), ('guu0nq', 0.17181), ('evzpbt', 0.17109), ('es593y', 0.16901), ('ogm2ta', 0.107), ('e4toc2', 0.10134), ('6u2opf', 0.07892), ('dr6jzi', 0.05931), ('c9jyze', 0)]\n",
      "[('i7ly97', 1.0), ('6ioe5g', 0.17496), ('qtcpms', 0.16499), ('glxpe4', 0.15523), ('qo6172', 0.10541), ('kjfsb0', 0.07036), ('h0w15n', 0.06537), ('sfnvs6', 0.0401), ('6afs8z', 0)]\n",
      "[('fy634p', 1.0), ('fztytm', 0.10387), ('gontjy', 0.09003), ('iskhni', 0.09003), ('ru0jbu', 0.09003), ('ox10yd', 0.08977), ('ize2jn', 0.08422), ('9ykkcq', 0.0741), ('lt3xhm', 0.06649), ('vbjg65', 0.05864), ('qpnb6l', 0)]\n",
      "[('p0zoja', 1.0), ('j7rpfp', 0.08001), ('8bgawd', 0.06005), ('l6p9xp', 0.04775), ('gq6eec', 0.04746), ('re0076', 0.04394), ('ko19zk', 0.02537), ('fekwh0', 0.02442), ('dr6jzi', 0.01937), ('sat0l5', 0.01937), ('kfmwsx', 0.01719)]\n",
      "[('lvwd6x', 1.0), ('lez7lg', 0.17639), ('k1yd6u', 0.12964), ('s3spq7', 0.12881), ('9il0x4', 0.12299), ('n8e1sk', 0.10324), ('m2c9h4', 0.0889), ('pqgien', 0.06748), ('eax9km', 0.06333), ('li9q2w', 0.04339), ('l1b8ju', 0.033), ('fpstob', 0)]\n",
      "[('n8e1sk', 1.0), ('hywpbc', 0.18526), ('annc6w', 0.1814), ('7330vy', 0.1593), ('k39mfg', 0.15019), ('6ghxgg', 0.12412), ('ft8tv2', 0.11229), ('9xcfw3', 0.08992)]\n",
      "[('diit3b', 1.0), ('6ghxgg', 0.08566), ('hp9ptz', 0.06734), ('mxwdpj', 0.0315), ('ald2ft', 0.0256), ('btfqr3', 0), ('fmcp30', 0), ('fz6hl0', 0), ('g0vamb', 0), ('g1aryx', 0)]\n",
      "[('uylzhm', 1.0), ('hmvnt1', 0.1295), ('kv61rj', 0.08908), ('gjnkz4', 0.05706), ('ix5r84', 0.05439), ('eia22b', 0.05338), ('kczpqb', 0.04044), ('kjfsb0', 0.03187), ('itx9dn', 0.0238), ('jq17m3', 0.01601), ('jw6voj', 0)]\n",
      "[('hzc5oc', 1.0), ('cw9q6m', 0.16363), ('lenoq7', 0.06315), ('q8iyu7', 0.06231), ('dupy23', 0.04328), ('4atn5f', 0.04294), ('j86z7a', 0.0386), ('ize2jn', 0.03696), ('90zktj', 0.03485), ('gpk76m', 0.0242), ('c64hld', 0.01536)]\n",
      "[('uylzhm', 1.0), ('hmvnt1', 0.1295), ('kv61rj', 0.08908), ('gjnkz4', 0.05706), ('ix5r84', 0.05439), ('eia22b', 0.05338), ('kczpqb', 0.04044), ('kjfsb0', 0.03187), ('itx9dn', 0.0238), ('jq17m3', 0.01601), ('jw6voj', 0)]\n",
      "[('lvwd6x', 1.0), ('lez7lg', 0.17639), ('k1yd6u', 0.12964), ('s3spq7', 0.12881), ('9il0x4', 0.12299), ('n8e1sk', 0.10324), ('m2c9h4', 0.0889), ('pqgien', 0.06748), ('eax9km', 0.06333), ('li9q2w', 0.04339), ('l1b8ju', 0.033), ('fpstob', 0)]\n",
      "[('il9dt3', 1.0), ('bvptmy', 0.17903), ('ggu2mb', 0.11297), ('hbbzoa', 0.07354), ('hgua1s', 0.05489), ('gtccfs', 0.01981), ('li9q2w', 0), ('otcqs7', 0), ('rg6tgm', 0)]\n",
      "[('pm6jf4', 1.0), ('c0d2xj', 0.10749), ('r5r71l', 0.08896), ('oosibn', 0.08314), ('hnjbju', 0.08133), ('hah264', 0.07028), ('g1pvu8', 0.06463), ('nur6o9', 0.05206), ('qa5dj0', 0.04682), ('nf9920', 0.0072), ('gmtcbs', 0), ('svk1ys', 0)]\n",
      "[('bggkgs', 1.0), ('8bgawd', 0.19378), ('ly806c', 0.14715), ('ize2jn', 0.12962), ('he7vpy', 0.11562), ('m7cbsl', 0.11139), ('9hv1ra', 0.1071), ('co2udp', 0.07184), ('edq0wd', 0.07045), ('nss766', 0.06101), ('iy309k', 0.02021)]\n",
      "[('damw32', 1.0), ('la98y1', 0.21681), ('f0u0q8', 0.14548), ('eehscq', 0.09492), ('kdt5c4', 0.09366), ('qo6172', 0.06455), ('dptsly', 0.05661), ('k8i5as', 0.05361)]\n",
      "[('lgwfcw', 1.0), ('p08piy', 0.22336), ('lra4l2', 0.1541), ('uehc4u', 0.12333), ('mm7ygh', 0.10342), ('q6pc3j', 0.08427), ('t2m2g3', 0.07983), ('ha5r85', 0.02912)]\n",
      "[('qf5l1f', 1.0), ('qsfcsa', 0.15409), ('fe80x9', 0.15131), ('eku9dt', 0.1172), ('kzlr3r', 0.10722), ('j9sv46', 0.10336), ('ijasio', 0.09806), ('li9q2w', 0.02148), ('esttgm', 0), ('g0vamb', 0)]\n",
      "[('hbbzoa', 1.0), ('g1aryx', 0.20851), ('ijasio', 0.2), ('k4rxz6', 0.18385), ('n5a6fo', 0.1599), ('bhsk5k', 0.14595), ('fe80x9', 0.11573), ('i13byl', 0.08839), ('g0c8y1', 0.03402), ('fz6hl0', 0.02906), ('ia4wgi', 0)]\n",
      "[('n8e1sk', 1.0), ('hywpbc', 0.18526), ('annc6w', 0.1814), ('7330vy', 0.1593), ('k39mfg', 0.15019), ('6ghxgg', 0.12412), ('ft8tv2', 0.11229), ('9xcfw3', 0.08992)]\n",
      "[('d7o8qr', 1.0), ('maqihc', 0.16038), ('lez7lg', 0.15152), ('m2qe98', 0.11896), ('d4imc2', 0.09901), ('j8su3p', 0.09232), ('pxabxz', 0.08839), ('m07o4i', 0.07715), ('krs99p', 0.04604), ('eor5cw', 0)]\n",
      "[('mzef9s', 1.0), ('mv69n5', 0.07395), ('k9f4q7', 0.05599), ('6rcc6r', 0), ('da0eqv', 0), ('icpt8d', 0), ('kxu23q', 0), ('noyc35', 0)]\n",
      "[('nur6o9', 1.0), ('jgvdo3', 0.1537), ('hmg1lo', 0.13479), ('tf3929', 0.10665), ('l3xdve', 0.06173), ('arocm9', 0.06086), ('ovth0a', 0.05983), ('f6or4w', 0.0548), ('llztz3', 0)]\n",
      "[('acz07w', 1.0), ('owctf3', 0.18863), ('hxzyua', 0.11206), ('lvcqlf', 0.10981), ('lssdg9', 0.10036), ('naqwnk', 0.09598), ('paujkn', 0.06159), ('eor5cw', 0.04014), ('f02ver', 0.04014)]\n",
      "[('jxr209', 1.0), ('ng3nq0', 0.12708), ('gzf3b4', 0.08323), ('b2nhcd', 0.08257), ('i03210', 0.05072), ('ht49jv', 0.04738), ('e294r9', 0.0329)]\n",
      "[('90zktj', 1.0), ('iskhni', 0.06299), ('l3md9b', 0.04103), ('ncrkt3', 0.03276), ('fz6hl0', 0.02237), ('hjgvgb', 0.02153), ('2we87d', 0.01427), ('jeagfe', 0)]\n",
      "[('fy634p', 1.0), ('fztytm', 0.10387), ('gontjy', 0.09003), ('iskhni', 0.09003), ('ru0jbu', 0.09003), ('ox10yd', 0.08977), ('ize2jn', 0.08422), ('9ykkcq', 0.0741), ('lt3xhm', 0.06649), ('vbjg65', 0.05864), ('qpnb6l', 0)]\n",
      "[('n2o629', 1.0), ('rmt3s0', 0.19371), ('jp79vy', 0.16815), ('huezhd', 0.14297), ('jxr209', 0.13978), ('etwubn', 0.12835), ('cggb25', 0.08394), ('b2nhcd', 0.07255), ('9sfycs', 0.05735), ('gix1qt', 0.04307)]\n",
      "[('fy634p', 1.0), ('fztytm', 0.10387), ('gontjy', 0.09003), ('iskhni', 0.09003), ('ru0jbu', 0.09003), ('ox10yd', 0.08977), ('ize2jn', 0.08422), ('9ykkcq', 0.0741), ('lt3xhm', 0.06649), ('vbjg65', 0.05864), ('qpnb6l', 0)]\n",
      "[('c9yz68', 1.0), ('hhu0zj', 0.29637), ('6ioe5g', 0.19863), ('oosibn', 0.18085), ('hotb02', 0.16899), ('qwt2uj', 0.15306), ('f6or4w', 0.10922), ('ecf714', 0.06644), ('edq0wd', 0.06515), ('63sg43', 0.06381), ('7winkf', 0.0381)]\n",
      "[('aikoha', 1.0), ('pjsio2', 0.14114), ('8gojss', 0.13322), ('k8i5as', 0.08976), ('rqmuxl', 0.06183), ('sat0l5', 0.05581), ('n3yrpl', 0.04552), ('fy634p', 0.0423), ('d6upsu', 0.04221), ('hi73pj', 0.02656), ('k44u8o', 0)]\n",
      "[('acz07w', 1.0), ('owctf3', 0.18863), ('hxzyua', 0.11206), ('lvcqlf', 0.10981), ('lssdg9', 0.10036), ('naqwnk', 0.09598), ('paujkn', 0.06159), ('eor5cw', 0.04014), ('f02ver', 0.04014)]\n",
      "[('ortsqp', 1.0), ('989qx7', 0.21446), ('oosibn', 0.18953), ('n171lw', 0.18236), ('ezhrnl', 0.10891), ('nbjfit', 0.10066), ('pxabxz', 0.08479), ('nj24hi', 0.08392), ('u2msbi', 0.06129), ('e4toc2', 0.05853), ('2we87d', 0.02488)]\n",
      "[('n8e1sk', 1.0), ('hywpbc', 0.18526), ('annc6w', 0.1814), ('7330vy', 0.1593), ('k39mfg', 0.15019), ('6ghxgg', 0.12412), ('ft8tv2', 0.11229), ('9xcfw3', 0.08992)]\n",
      "[('boywle', 1.0), ('fztytm', 0.11599), ('hwp5we', 0.10073), ('9ykkcq', 0.06206), ('g7rpwu', 0.04792), ('kt0uij', 0.02396), ('h823cd', 0.01633), ('mtwjwy', 0.01618), ('jrjt03', 0.01165), ('8ttm2y', 0), ('i2xpkq', 0), ('o3acpo', 0)]\n",
      "[('qpnb6l', 1.0), ('gcyxoq', 0.13859), ('eim1x4', 0.12443), ('ibk0mo', 0.08607), ('axyjw3', 0.07852), ('d5r050', 0.06309), ('jr5klc', 0.05963), ('8etktr', 0.0527), ('78js5u', 0.023), ('ia4wgi', 0), ('im3jrj', 0), ('kgu5i5', 0)]\n",
      "[('j20gj2', 1.0), ('e8uo6c', 0.03172), ('bdn9f8', 0), ('dupy23', 0), ('ecf714', 0), ('fs1qi7', 0), ('j8immz', 0), ('jesnw7', 0), ('kbxpps', 0), ('khrrjo', 0), ('kyf3u1', 0), ('nipprl', 0)]\n",
      "[('a66wen', 1.0), ('78js5u', 0.0315), ('i03210', 0.02428), ('nrh5km', 0.01588), ('4atn5f', 0), ('g7rpwu', 0), ('gqre86', 0), ('iw1mvp', 0), ('k5k1h0', 0), ('mlcumi', 0)]\n",
      "[('g2a731', 1.0), ('iwdr8s', 0.18832), ('m6qkzj', 0.1688), ('hy73j8', 0.16627), ('gcbefd', 0.10177), ('6rrsdu', 0.06534), ('j9c9sl', 0.0553), ('hs5ypr', 0.01099)]\n",
      "[('jl25qw', 1.0), ('nw03lm', 0.16738), ('pfq2ak', 0.11535), ('eo6wne', 0.11357), ('s3spq7', 0.10055), ('i4sbct', 0.07381), ('fjsafs', 0.06612), ('jkcy74', 0.0626), ('av5c3o', 0.05573), ('brt8kx', 0.05175), ('gof0hh', 0.02024)]\n",
      "[('ht49jv', 1.0), ('68jxc1', 0.28868), ('ovth0a', 0.23489), ('cmz3ui', 0.22108), ('k51frp', 0.21276), ('c9yz68', 0.1758), ('r9tg47', 0.16102), ('ggd2lz', 0.1442), ('fekwh0', 0.11669), ('60n6gh', 0.09335), ('mi7lsq', 0.08422), ('injv1j', 0.08333)]\n",
      "[('iuhao3', 1.0), ('m42l42', 0.22822), ('kmgla7', 0.17678), ('imcuvx', 0.16933), ('nss766', 0.16179), ('en99wc', 0.15023), ('twff28', 0.12076), ('gcnubf', 0.10361), ('5814lw', 0.07704), ('c2pofn', 0)]\n",
      "[('pv8ayn', 1.0), ('eyvg46', 0.17916), ('qwt2uj', 0.09471), ('bbmhg2', 0.07235), ('oosibn', 0.03826), ('ao3zq2', 0.03536), ('aevgbi', 0.02795), ('gbbeug', 0.02795), ('cz24ru', 0.02617), ('jeagfe', 0)]\n",
      "[('hywpbc', 1.0), ('ix5r84', 0.22191), ('ds93q0', 0.18861), ('e3cpnm', 0.16283), ('iq5qhl', 0.15076), ('iioltu', 0.12544), ('4y06nq', 0.07933), ('g3qhlq', 0.06333)]\n",
      "[('nur6o9', 1.0), ('jgvdo3', 0.1537), ('hmg1lo', 0.13479), ('tf3929', 0.10665), ('l3xdve', 0.06173), ('arocm9', 0.06086), ('ovth0a', 0.05983), ('f6or4w', 0.0548), ('llztz3', 0)]\n",
      "[('jfbq4e', 1.0), ('hs5ypr', 0.21678), ('m07o4i', 0.20203), ('mybjj8', 0.13231), ('5cxnk6', 0.11396), ('gcnubf', 0.1033), ('gugash', 0.08964), ('kczpqb', 0.08591), ('ppyek4', 0.05976), ('fztytm', 0.04486), ('gx12zp', 0.02182)]\n",
      "[('he7vpy', 1.0), ('i3n7s2', 0.21216), ('53z5p4', 0.2077), ('cbzb8e', 0.19361), ('fj5lhd', 0.188), ('dvc5oh', 0.10004), ('9ivlpz', 0.09621), ('ix5r84', 0.09277), ('htgv26', 0.02869)]\n",
      "[('ntclle', 1.0), ('naqwnk', 0.10317), ('k6thb1', 0.05338), ('kforoq', 0.04484), ('gqre86', 0.04205), ('hnxb18', 0.03603), ('5jgbiq', 0.02974), ('h8uk9m', 0)]\n",
      "[('hywpbc', 1.0), ('ix5r84', 0.22191), ('ds93q0', 0.18861), ('e3cpnm', 0.16283), ('iq5qhl', 0.15076), ('iioltu', 0.12544), ('4y06nq', 0.07933), ('g3qhlq', 0.06333)]\n",
      "[('n2o629', 1.0), ('rmt3s0', 0.19371), ('jp79vy', 0.16815), ('huezhd', 0.14297), ('jxr209', 0.13978), ('etwubn', 0.12835), ('cggb25', 0.08394), ('b2nhcd', 0.07255), ('9sfycs', 0.05735), ('gix1qt', 0.04307)]\n",
      "[('uylzhm', 1.0), ('hmvnt1', 0.1295), ('kv61rj', 0.08908), ('gjnkz4', 0.05706), ('ix5r84', 0.05439), ('eia22b', 0.05338), ('kczpqb', 0.04044), ('kjfsb0', 0.03187), ('itx9dn', 0.0238), ('jq17m3', 0.01601), ('jw6voj', 0)]\n",
      "[('hwp5we', 1.0), ('kgu5i5', 0.20772), ('pxabxz', 0.19125), ('ru0jbu', 0.13879), ('k6cu8c', 0.12784), ('kczpqb', 0.106), ('lc8h0z', 0.07821), ('4atn5f', 0.07542), ('k6thb1', 0.02498)]\n",
      "[('k6cu8c', 1.0), ('lc8h0z', 0.25426), ('vbjg65', 0.17142), ('mez5jk', 0.14902), ('nur6o9', 0.14213), ('f2cveb', 0.14015), ('gqre86', 0.05599), ('d1gnw8', 0.02901), ('k78pjl', 0), ('m7cbsl', 0), ('oe700y', 0)]\n",
      "[('k51frp', 1.0), ('n2668d', 0.27633), ('i1w07u', 0.19746), ('hcy7rt', 0.16093), ('ortsqp', 0.15506), ('icpt8d', 0.14008), ('kgu5i5', 0.10445), ('dptsly', 0.07884), ('hxzyua', 0.07423), ('60n6gh', 0.07313), ('ah1t7v', 0.06522)]\n",
      "[('ntclle', 1.0), ('naqwnk', 0.10317), ('k6thb1', 0.05338), ('kforoq', 0.04484), ('gqre86', 0.04205), ('hnxb18', 0.03603), ('5jgbiq', 0.02974), ('h8uk9m', 0)]\n",
      "[('gzf3b4', 1.0), ('nm6gik', 0.19764), ('eq6co8', 0.16102), ('mv69n5', 0.13473), ('lvwd6x', 0.09468), ('7idif9', 0.06761), ('pnbogm', 0.04293), ('swsarl', 0)]\n",
      "[('hi73pj', 1.0), ('lc8h0z', 0.16381), ('hvwzi4', 0.11779), ('szeekg', 0.072), ('l1b8ju', 0.06475), ('boywle', 0.03356), ('i2g41g', 0.02467), ('poa2bs', 0), ('qpnb6l', 0)]\n",
      "[('brt8kx', 1.0), ('bvptmy', 0.1), ('n2o629', 0.08377), ('d4imc2', 0.06642), ('qa5dj0', 0.05806), ('lt3xhm', 0.04414), ('j7rpfp', 0.0171), ('60n6gh', 0.01566), ('f855tb', 0), ('ne4w3l', 0), ('q8iyu7', 0)]\n",
      "[('il9dt3', 1.0), ('bvptmy', 0.17903), ('ggu2mb', 0.11297), ('hbbzoa', 0.07354), ('hgua1s', 0.05489), ('gtccfs', 0.01981), ('li9q2w', 0), ('otcqs7', 0), ('rg6tgm', 0)]\n",
      "[('rfbqhh', 1.0), ('nw03lm', 0.13125), ('o2task', 0.0894), ('k4rxz6', 0.07982), ('fk08pk', 0.07367), ('bm2iw2', 0.05759), ('d5cojh', 0.03993), ('2we87d', 0.01281), ('ghln0h', 0.01129)]\n",
      "Passed! Please submit.\n"
     ]
    }
   ],
   "source": [
    "### test_cell_ex8\n",
    "###\n",
    "### AUTOGRADER TEST - DO NOT REMOVE\n",
    "###\n",
    "from tester_fw.testers import Tester\n",
    "\n",
    "conf = {\n",
    "    'case_file':'tc_8', \n",
    "    'func': n_most_similar, # replace this with the function defined above\n",
    "    'inputs':{ # input config dict. keys are parameter names\n",
    "        'sim_matrix':{\n",
    "            'dtype':'dict', # data type of param.\n",
    "            'check_modified':True,\n",
    "        },\n",
    "        'post_id':{\n",
    "            'dtype':'str', # data type of param.\n",
    "            'check_modified':True,\n",
    "        },\n",
    "        'n':{\n",
    "            'dtype':'int', # data type of param.\n",
    "            'check_modified':True,\n",
    "        }\n",
    "    },\n",
    "    'outputs':{\n",
    "        'output_0':{\n",
    "            'index':0,\n",
    "            'dtype':'',\n",
    "            'check_dtype': True,\n",
    "            'check_col_dtypes': True, # Ignored if dtype is not df\n",
    "            'check_col_order': True, # Ignored if dtype is not df\n",
    "            'check_row_order': True, # Ignored if dtype is not df\n",
    "            'check_column_type': True, # Ignored if dtype is not df\n",
    "            'float_tolerance': 10 ** (-6)\n",
    "        }\n",
    "    }\n",
    "}\n",
    "tester = Tester(conf, key=b'S90rT5WLPFy08a82F6SXyiKoyeTi33DOHh7bxXASQw0=', path='resource/asnlib/publicdata/')\n",
    "for _ in range(100):\n",
    "    try:\n",
    "        tester.run_test()\n",
    "        (input_vars, original_input_vars, returned_output_vars, true_output_vars) = tester.get_test_vars()\n",
    "    except:\n",
    "        (input_vars, original_input_vars, returned_output_vars, true_output_vars) = tester.get_test_vars()\n",
    "        raise\n",
    "\n",
    "###\n",
    "### AUTOGRADER TEST - DO NOT REMOVE\n",
    "###\n",
    "print('Passed! Please submit.')"
   ]
  },
  {
   "cell_type": "markdown",
   "metadata": {
    "deletable": false,
    "editable": false,
    "nbgrader": {
     "grade": false,
     "locked": true,
     "solution": false
    },
    "tags": [
     "fin"
    ]
   },
   "source": [
    "**Fin.** If you have made it this far, congratulations on completing the exam. **Don't forget to submit!**"
   ]
  }
 ],
 "metadata": {
  "kernelspec": {
   "display_name": "Python 3.8",
   "language": "python",
   "name": "python38"
  },
  "language_info": {
   "codemirror_mode": {
    "name": "ipython",
    "version": 3
   },
   "file_extension": ".py",
   "mimetype": "text/x-python",
   "name": "python",
   "nbconvert_exporter": "python",
   "pygments_lexer": "ipython3",
   "version": "3.8.7"
  },
  "toc": {
   "base_numbering": 1,
   "nav_menu": {},
   "number_sections": true,
   "sideBar": true,
   "skip_h1_title": false,
   "title_cell": "Table of Contents",
   "title_sidebar": "Contents",
   "toc_cell": false,
   "toc_position": {},
   "toc_section_display": true,
   "toc_window_display": false
  },
  "vscode": {
   "interpreter": {
    "hash": "916dbcbb3f70747c44a77c7bcd40155683ae19c65e1c03b4aa3499c5328201f1"
   }
  }
 },
 "nbformat": 4,
 "nbformat_minor": 5
}
