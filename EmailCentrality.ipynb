{
 "cells": [
  {
   "cell_type": "markdown",
   "metadata": {
    "deletable": false,
    "editable": false,
    "nbgrader": {
     "grade": false,
     "locked": true,
     "solution": false
    },
    "tags": [
     "notebook_header"
    ]
   },
   "source": [
    "# Midterm 1, Fall 2023: Email centrality #\n",
    "\n",
    "[Solution](https://gatech.instructure.com/courses/411942/files/52015265?wrap=1)\n",
    "\n",
    "_Version history:_\n",
    "- 1.0.5: Fixed bug in notebook code (no effect on exercises)\n",
    "- 1.0.4: Fixed another typo on Ex. 7 prompt\n",
    "- 1.0.3: Fixed small bug in ex3 test  \n",
    "- 1.0.2: Fixed typo on Ex.7 prompt  \n",
    "- 1.0.1: Fixed issue with Ex. 7 cell being read-only  \n",
    "- 1.0: Initial release  \n",
    "\n",
    "*All of the header information is important. Please read it.*\n",
    "\n",
    "**Topics, number of exercises:** This problem builds on your knowledge of the core Python data structures, strings, and ability to translate simple math into code. It has **8** exercises, numbered 0 to **7**. There are **13** available points. However, to earn 100% the threshold is **11** points. (Therefore, once you hit **11** points, you can stop. There is no extra credit for exceeding this threshold.)\n",
    "\n",
    "**Exercise ordering:** Each exercise builds logically on previous exercises, but you may solve them in any order. That is, if you can't solve an exercise, you can still move on and try the next one. Use this to your advantage, as the exercises are **not** necessarily ordered in terms of difficulty. Higher point values generally indicate more difficult exercises. \n",
    "\n",
    "**Demo cells:** Code cells starting with the comment `### define demo inputs` load results from prior exercises applied to the entire data set and use those to build demo inputs. These must be run for subsequent demos to work properly, but they do not affect the test cells. The data loaded in these cells may be rather large (at least in terms of human readability). You are free to print or otherwise use Python to explore them, but we did not print them in the starter code.\n",
    "\n",
    "**Debugging you code:** Right before each exercise test cell, there is a block of text explaining the variables available to you for debugging. You may use these to test your code and can print/display them as needed (careful when printing large objects, you may want to print the head or chunks of rows at a time).\n",
    "\n",
    "**Exercise point breakdown:**\n",
    "\n",
    "- Exercise 0: **1** point\n",
    "- Exercise 1: **2** points\n",
    "- Exercise 2: **1** point — **FREE** _(no coding, but you must submit to get this point)_\n",
    "- Exercise 3: **1** point\n",
    "- Exercise 4: **1** point\n",
    "- Exercise 5: **2** points\n",
    "- Exercise 6: **2** points\n",
    "- Exercise 7: **3** points\n",
    "\n",
    "**Final reminders:** \n",
    "\n",
    "- Submit after **every exercise** to maximize credit\n",
    "- Review the generated grade report after you submit to see what errors were returned\n",
    "- Stay calm, skip problems as needed, and take short breaks at your leisure"
   ]
  },
  {
   "cell_type": "markdown",
   "metadata": {
    "deletable": false,
    "editable": false,
    "nbgrader": {
     "grade": false,
     "locked": true,
     "solution": false
    },
    "tags": [
     "topic_intro"
    ]
   },
   "source": [
    "# Overview: Email Centrality #\n",
    "\n",
    "The US Government is investigating possible fraud committed by a company. The company has a large email archive, so the investigators are asking for your analytics help.\n",
    "\n",
    "Thankfully, a former CSE 6040 student created a neat analysis tool that, given a collection of objects and their relationships to one another, can rank the objects by the \"importance\" of their connections. But to use that tool, you need to take the raw email archive and convert it into the form that the tool expects.\n",
    "\n",
    "Here is your overall workflow for this problem:\n",
    "- **Part A**: Two warm-up exercises\n",
    "- **Part B**: The data: Enron emails and \"email objects\"\n",
    "- **Part C**: Data cleaning and preliminary analysis\n",
    "- **Part D**: Interfacing with the analysis tool\n",
    "\n",
    "Before beginning, run the following code, which will set up some of the environment and data you'll need."
   ]
  },
  {
   "cell_type": "code",
   "execution_count": 1,
   "metadata": {
    "ExecuteTime": {
     "end_time": "2023-09-29T08:53:52.788136Z",
     "start_time": "2023-09-29T08:53:52.442463Z"
    },
    "collapsed": true,
    "deletable": false,
    "editable": false,
    "nbgrader": {
     "grade": false,
     "locked": true,
     "solution": false
    },
    "tags": [
     "global_imports"
    ]
   },
   "outputs": [],
   "source": [
    "### Global Imports\n",
    "###\n",
    "### AUTOGRADER TEST - DO NOT REMOVE\n",
    "###\n",
    "\n",
    "# Some extra functions that this notebook needs:\n",
    "from pprint import pprint # Pretty-printer\n",
    "\n",
    "import cse6040\n",
    "from cse6040.utils import load_text_from_file, load_obj_from_file\n",
    "from cse6040.enron import load_emails\n",
    "from cse6040.ranker import rank_items"
   ]
  },
  {
   "cell_type": "markdown",
   "metadata": {
    "deletable": false,
    "editable": false,
    "nbgrader": {
     "grade": false,
     "locked": true,
     "solution": false
    }
   },
   "source": [
    "# **Part A: Warm-up Exercises** #\n",
    "\n",
    "Here are two basic Python exercises to help you \"warm up\" and, hopefully, build your confidence."
   ]
  },
  {
   "cell_type": "markdown",
   "metadata": {
    "deletable": false,
    "editable": false,
    "nbgrader": {
     "grade": false,
     "locked": true,
     "solution": false
    }
   },
   "source": [
    "## Recall: Python's `filter` function ##\n",
    "\n",
    "Recall the built-in Python function, `filter(fun, iterable)`, introduced in the Prymer from the first week of class: given an iterable sequence `iterable` and a function `fun`, `filter` calls `fun` on each element `e` of the sequence and returns a list of only those items where `fun(e)` is `True`. For example:"
   ]
  },
  {
   "cell_type": "code",
   "execution_count": 2,
   "metadata": {
    "ExecuteTime": {
     "end_time": "2023-09-29T08:53:52.801945Z",
     "start_time": "2023-09-29T08:53:52.789457Z"
    },
    "deletable": false,
    "editable": false,
    "nbgrader": {
     "grade": false,
     "locked": true,
     "solution": false
    }
   },
   "outputs": [
    {
     "name": "stdout",
     "output_type": "stream",
     "text": [
      "6 8 2 4 0 "
     ]
    }
   ],
   "source": [
    "def is_even(x): # Returns `True` only if `x` is an even integer\n",
    "    return (x % 2) == 0\n",
    "\n",
    "# Filter a sequence, keeping just the even values:\n",
    "for val in filter(is_even, [3, 6, 8, 2, 7, 1, 4, 9, 5, 0]):\n",
    "    print(val, end=' ')"
   ]
  },
  {
   "cell_type": "markdown",
   "metadata": {
    "deletable": false,
    "editable": false,
    "nbgrader": {
     "grade": false,
     "locked": true,
     "solution": false
    }
   },
   "source": [
    "Let's write a simple function to extend the functionality of `filter`."
   ]
  },
  {
   "cell_type": "markdown",
   "metadata": {
    "deletable": false,
    "editable": false,
    "nbgrader": {
     "grade": false,
     "locked": true,
     "solution": false
    },
    "tags": [
     "exercise_text"
    ]
   },
   "source": [
    "## **Ex. 0 (1 pt)**: `enum_filter` ##\n",
    "\n",
    "Suppose we want to filter a sequence but return **both** the items for which the function is `True` **and** the integer **position** of the item in the sequence, assuming the first item is at position 0. Complete the function,\n",
    "```python\n",
    "def enum_filter(fun, iterable):\n",
    "    ...\n",
    "```\n",
    "to perform this task.\n",
    "\n",
    "**Inputs:**\n",
    "- `fun`: A function that takes a single value and returns either `True` or `False`.\n",
    "- `iterable`: An iterable sequence of values that can be indexed by an integer starting from 0, like a `str` or a `list`.\n",
    "\n",
    "**Output:** Your function should return a Python list of `(position, value)` pairs where `fun(value)` is `True`. See the demo cell below for examples.\n",
    "\n",
    "**Additional notes:**\n",
    "- The tester only uses `iterable` objects that can be indexed with integers, like `str` and `list`.\n",
    "- The elements or values of the sequence may be strings, integers, or floats."
   ]
  },
  {
   "cell_type": "code",
   "execution_count": 3,
   "metadata": {
    "ExecuteTime": {
     "end_time": "2023-09-29T08:53:52.815479Z",
     "start_time": "2023-09-29T08:53:52.803088Z"
    },
    "collapsed": true,
    "deletable": false,
    "editable": false,
    "nbgrader": {
     "grade": false,
     "locked": true,
     "solution": false
    },
    "tags": [
     "demo_data"
    ]
   },
   "outputs": [],
   "source": [
    "### Define demo inputs ###\n",
    "\n",
    "# The function: Returns `True` if `e` is an all-lowercase string\n",
    "demo_fun_ex0 = lambda e: e == e.lower()\n",
    "\n",
    "# Three test cases: A string, a list of characters, and a set of characters\n",
    "demo_iterable_ex0A = 'The QuiCk broWN fOX jumPEd ovEr thE lAzY DOg'\n",
    "demo_iterable_ex0B = list('The QuiCk broWN fOX jumPEd ovEr thE lAzY DOg')"
   ]
  },
  {
   "cell_type": "markdown",
   "metadata": {
    "deletable": false,
    "editable": false,
    "nbgrader": {
     "grade": false,
     "locked": true,
     "solution": false
    },
    "tags": [
     "demo_output_md"
    ]
   },
   "source": [
    "The demo included in the solution cell below should display the following output:\n",
    "```\n",
    "=== Test case A ===\n",
    "[(1, 'h'), (2, 'e'), (3, ' '), (5, 'u'), (6, 'i'), (8, 'k'), (9, ' '), (10, 'b'), (11, 'r'), (12, 'o'), (15, ' '), (16, 'f'), (19, ' '), (20, 'j'), (21, 'u'), (22, 'm'), (25, 'd'), (26, ' '), (27, 'o'), (28, 'v'), (30, 'r'), (31, ' '), (32, 't'), (33, 'h'), (35, ' '), (36, 'l'), (38, 'z'), (40, ' '), (43, 'g')]\n",
    "\n",
    "=== Test case B ===\n",
    "[(1, 'h'), (2, 'e'), (3, ' '), (5, 'u'), (6, 'i'), (8, 'k'), (9, ' '), (10, 'b'), (11, 'r'), (12, 'o'), (15, ' '), (16, 'f'), (19, ' '), (20, 'j'), (21, 'u'), (22, 'm'), (25, 'd'), (26, ' '), (27, 'o'), (28, 'v'), (30, 'r'), (31, ' '), (32, 't'), (33, 'h'), (35, ' '), (36, 'l'), (38, 'z'), (40, ' '), (43, 'g')]\n",
    "```"
   ]
  },
  {
   "cell_type": "code",
   "execution_count": 4,
   "metadata": {
    "ExecuteTime": {
     "end_time": "2023-09-29T08:53:52.830973Z",
     "start_time": "2023-09-29T08:53:52.817669Z"
    },
    "scrolled": true,
    "tags": [
     "exercise_solution"
    ]
   },
   "outputs": [
    {
     "name": "stdout",
     "output_type": "stream",
     "text": [
      "=== Test case A ===\n",
      "[(1, 'h'), (2, 'e'), (3, ' '), (5, 'u'), (6, 'i'), (8, 'k'), (9, ' '), (10, 'b'), (11, 'r'), (12, 'o'), (15, ' '), (16, 'f'), (19, ' '), (20, 'j'), (21, 'u'), (22, 'm'), (25, 'd'), (26, ' '), (27, 'o'), (28, 'v'), (30, 'r'), (31, ' '), (32, 't'), (33, 'h'), (35, ' '), (36, 'l'), (38, 'z'), (40, ' '), (43, 'g')]\n",
      "\n",
      "=== Test case B ===\n",
      "[(1, 'h'), (2, 'e'), (3, ' '), (5, 'u'), (6, 'i'), (8, 'k'), (9, ' '), (10, 'b'), (11, 'r'), (12, 'o'), (15, ' '), (16, 'f'), (19, ' '), (20, 'j'), (21, 'u'), (22, 'm'), (25, 'd'), (26, ' '), (27, 'o'), (28, 'v'), (30, 'r'), (31, ' '), (32, 't'), (33, 'h'), (35, ' '), (36, 'l'), (38, 'z'), (40, ' '), (43, 'g')]\n",
      "\n"
     ]
    }
   ],
   "source": [
    "### Exercise 0 solution\n",
    "from collections import defaultdict\n",
    "def enum_filter(fun, iterable):\n",
    "    ###\n",
    "    storage = defaultdict(str)\n",
    "    for i in range(len(iterable)):\n",
    "        if fun(iterable[i]):\n",
    "            storage[i]=iterable[i]\n",
    "\n",
    "    sortedTuples = sorted(storage.items(), key=lambda x:x[0])\n",
    "    \n",
    "    return sortedTuples\n",
    "    ###\n",
    "    \n",
    "### demo function call\n",
    "print(\"=== Test case A ===\", enum_filter(demo_fun_ex0, demo_iterable_ex0A), '', sep=\"\\n\")\n",
    "print(\"=== Test case B ===\", enum_filter(demo_fun_ex0, demo_iterable_ex0B), '', sep=\"\\n\")"
   ]
  },
  {
   "cell_type": "markdown",
   "metadata": {
    "deletable": false,
    "editable": false,
    "nbgrader": {
     "grade": false,
     "locked": true,
     "solution": false
    },
    "tags": [
     "test_data_boilerplate"
    ]
   },
   "source": [
    "<!-- Test Cell Boilerplate -->\n",
    "The cell below will test your solution for Exercise 0. The testing variables will be available for debugging under the following names in a dictionary format.\n",
    "- `input_vars` - Input variables for your solution. \n",
    "- `original_input_vars` - Copy of input variables from prior to running your solution. These _should_ be the same as `input_vars` - otherwise the inputs were modified by your solution.\n",
    "- `returned_output_vars` - Outputs returned by your solution.\n",
    "- `true_output_vars` - The expected output. This _should_ \"match\" `returned_output_vars` based on the question requirements - otherwise, your solution is not returning the correct output. "
   ]
  },
  {
   "cell_type": "code",
   "execution_count": 5,
   "metadata": {
    "ExecuteTime": {
     "end_time": "2023-09-29T08:53:53.277755Z",
     "start_time": "2023-09-29T08:53:53.236710Z"
    },
    "deletable": false,
    "editable": false,
    "nbgrader": {
     "grade": true,
     "grade_id": "ex0",
     "locked": true,
     "points": "1",
     "solution": false
    },
    "tags": []
   },
   "outputs": [
    {
     "name": "stdout",
     "output_type": "stream",
     "text": [
      "Passed! Please submit.\n"
     ]
    }
   ],
   "source": [
    "### test_cell_ex0\n",
    "###\n",
    "### AUTOGRADER TEST - DO NOT REMOVE\n",
    "###\n",
    "from tester_fw.testers import Tester\n",
    "\n",
    "conf = {\n",
    "    'case_file':'tc_0', \n",
    "    'func': enum_filter, # replace this with the function defined above\n",
    "    'inputs':{ # input config dict. keys are parameter names\n",
    "        'fun':{\n",
    "            'dtype':'function', # data type of param.\n",
    "            'check_modified': False,\n",
    "        },\n",
    "        'iterable':{\n",
    "            'dtype':'', # data type of param.\n",
    "            'check_modified': True,\n",
    "        }\n",
    "    },\n",
    "    'outputs':{\n",
    "        'output_0':{\n",
    "            'index':0,\n",
    "            'dtype':'list',\n",
    "            'check_dtype': True,\n",
    "            'check_col_dtypes': True, # Ignored if dtype is not df\n",
    "            'check_col_order': True, # Ignored if dtype is not df\n",
    "            'check_row_order': True, # Ignored if dtype is not df\n",
    "            'check_column_type': True, # Ignored if dtype is not df\n",
    "            'float_tolerance': 10 ** (-6)\n",
    "        }\n",
    "    }\n",
    "}\n",
    "tester = Tester(conf, key=b'66lGoH4BeY6guYRngj0DTLf5PgS5u60_N0vVqGyXN7w=', path='resource/asnlib/publicdata/')\n",
    "for _ in range(70):\n",
    "    try:\n",
    "        tester.run_test()\n",
    "        (input_vars, original_input_vars, returned_output_vars, true_output_vars) = tester.get_test_vars()\n",
    "    except:\n",
    "        (input_vars, original_input_vars, returned_output_vars, true_output_vars) = tester.get_test_vars()\n",
    "        raise\n",
    "\n",
    "###\n",
    "### AUTOGRADER TEST - DO NOT REMOVE\n",
    "###\n",
    "print('Passed! Please submit.')"
   ]
  },
  {
   "cell_type": "markdown",
   "metadata": {
    "deletable": false,
    "editable": false,
    "nbgrader": {
     "grade": false,
     "locked": true,
     "solution": false
    },
    "tags": [
     "exercise_text"
    ]
   },
   "source": [
    "## **Ex. 1 (2 pt)**: `invert_dict` ##\n",
    "\n",
    "Later in this notebook, we will need to **invert** a Python dictionary. That means we want to construct a new dictionary where keys and values of the original dictionary have been swapped.\n",
    "\n",
    "Complete the function,\n",
    "```python\n",
    "def invert_dict(dictionary):\n",
    "    ...\n",
    "```\n",
    "to accomplish this task, as specified below.\n",
    "\n",
    "**Input:** The input `dictionary` is a Python dictionary.\n",
    "\n",
    "**Your task:** Build and return the \"inverse\" of `dictionary`. That is, suppose `(key, value)` is a key-value pair, meaning `dictionary[key] == value`. Then the `inverse_dictionary` will have the pair `inverse_dictionary[value] == key`.\n",
    "\n",
    "**Outputs:** A new Python dictionary that is the inverse of the input `dictionary`. **However**, if the input `dictionary` has any values that **repeat**, then your function should raise a `ValueError` exception.\n",
    "\n",
    "**Additional notes:**\n",
    "1. Similar to Notebook 5.1, there is a wrapper function, `eif_wrapper`, that can be used to detect exceptions without halting this notebook.\n",
    "2. The keys and values of the dictionary may be integers or strings."
   ]
  },
  {
   "cell_type": "code",
   "execution_count": 6,
   "metadata": {
    "ExecuteTime": {
     "end_time": "2023-09-29T08:53:53.296953Z",
     "start_time": "2023-09-29T08:53:53.278724Z"
    },
    "collapsed": true,
    "deletable": false,
    "editable": false,
    "nbgrader": {
     "grade": false,
     "locked": true,
     "solution": false
    }
   },
   "outputs": [],
   "source": [
    "# ValueError wrapper\n",
    "def eif_wrapper(s, func):\n",
    "    \"\"\"\n",
    "    Returns a (bool, function return) pair where the first element is True when a ValueError is raised \n",
    "    and False if a Value Error is not raised. The second output is the return value from calling `func(s)`.\n",
    "    \"\"\"\n",
    "    raised_value_error = False\n",
    "    result = None\n",
    "    try:\n",
    "        result = func(s)\n",
    "    except ValueError:\n",
    "        raised_value_error = True\n",
    "    finally:\n",
    "        return (raised_value_error, result)"
   ]
  },
  {
   "cell_type": "code",
   "execution_count": 7,
   "metadata": {
    "ExecuteTime": {
     "end_time": "2023-09-29T08:53:53.316301Z",
     "start_time": "2023-09-29T08:53:53.298091Z"
    },
    "collapsed": true,
    "deletable": false,
    "editable": false,
    "nbgrader": {
     "grade": false,
     "locked": true,
     "solution": false
    },
    "tags": [
     "demo_data"
    ]
   },
   "outputs": [],
   "source": [
    "### Define demo inputs ###\n",
    "\n",
    "demo_dictionary_ex1_okay = {1: 7, 'cat': 9, 3: False}\n",
    "demo_dictionary_ex1_bad = {1: 7, 'cat': 9, 3: 7}"
   ]
  },
  {
   "cell_type": "markdown",
   "metadata": {
    "deletable": false,
    "editable": false,
    "nbgrader": {
     "grade": false,
     "locked": true,
     "solution": false
    },
    "tags": [
     "demo_output_md"
    ]
   },
   "source": [
    "The demo cell calls your function via `eif_wrapper` and prints its returned value, which is a pair. You will see `(True, None)` if your function raised an exception, and otherwise `(False, ...)`, where `...` is the returned value. For the demo inputs, a correction solution will print the following:\n",
    "```\n",
    "    (False, {7: 1, 9: 'cat', False: 3})\n",
    "    (True, None)\n",
    "```"
   ]
  },
  {
   "cell_type": "code",
   "execution_count": 8,
   "metadata": {
    "ExecuteTime": {
     "end_time": "2023-09-29T08:53:53.339356Z",
     "start_time": "2023-09-29T08:53:53.317229Z"
    },
    "collapsed": true,
    "tags": [
     "exercise_solution"
    ]
   },
   "outputs": [],
   "source": [
    "### Exercise 1 solution\n",
    "def invert_dict(dictionary):\n",
    "    ###\n",
    "    valueSet = set()\n",
    "    lstDictValues = []\n",
    "    lstDictKeys = []\n",
    "    finalDict = dict()\n",
    "    \n",
    "    for key in dictionary:\n",
    "        valueSet.add(dictionary[key])\n",
    "        lstDictValues.append(dictionary[key])\n",
    "        lstDictKeys.append(key)\n",
    "    \n",
    "    if len(valueSet) != len(lstDictValues):\n",
    "        raise ValueError\n",
    "    \n",
    "    for i in range(len(lstDictKeys)):\n",
    "        finalDict[lstDictValues[i]] = lstDictKeys[i]\n",
    "    \n",
    "    return finalDict\n",
    "    ###\n"
   ]
  },
  {
   "cell_type": "markdown",
   "metadata": {
    "deletable": false,
    "editable": false,
    "nbgrader": {
     "grade": false,
     "locked": true,
     "solution": false
    },
    "tags": [
     "test_data_boilerplate"
    ]
   },
   "source": [
    "<!-- Test Cell Boilerplate -->\n",
    "The cell below will test your solution for Exercise 1. The testing variables will be available for debugging under the following names in a dictionary format.\n",
    "- `input_vars` - Input variables for your solution. \n",
    "- `original_input_vars` - Copy of input variables from prior to running your solution. These _should_ be the same as `input_vars` - otherwise the inputs were modified by your solution.\n",
    "- `returned_output_vars` - Outputs returned by your solution.\n",
    "- `true_output_vars` - The expected output. This _should_ \"match\" `returned_output_vars` based on the question requirements - otherwise, your solution is not returning the correct output. "
   ]
  },
  {
   "cell_type": "code",
   "execution_count": 9,
   "metadata": {
    "ExecuteTime": {
     "end_time": "2023-09-29T08:53:53.495517Z",
     "start_time": "2023-09-29T08:53:53.468088Z"
    },
    "deletable": false,
    "editable": false,
    "nbgrader": {
     "grade": true,
     "grade_id": "ex1",
     "locked": true,
     "points": "2",
     "solution": false
    },
    "tags": []
   },
   "outputs": [
    {
     "name": "stdout",
     "output_type": "stream",
     "text": [
      "Passed! Please submit.\n"
     ]
    }
   ],
   "source": [
    "### test_cell_ex1\n",
    "###\n",
    "### AUTOGRADER TEST - DO NOT REMOVE\n",
    "###\n",
    "from tester_fw.testers import Tester\n",
    "\n",
    "conf = {\n",
    "    'case_file':'tc_1', \n",
    "    'func': lambda dictionary: eif_wrapper(dictionary, invert_dict),\n",
    "    'inputs':{ # input config dict. keys are parameter names\n",
    "        'dictionary':{\n",
    "            'dtype':'dict', # data type of param.\n",
    "            'check_modified':True,\n",
    "        }\n",
    "    },\n",
    "    'outputs':{\n",
    "        'output_0':{\n",
    "            'index':0,\n",
    "            'dtype':'bool',\n",
    "            'check_dtype': True,\n",
    "            'check_col_dtypes': True, # Ignored if dtype is not df\n",
    "            'check_col_order': True, # Ignored if dtype is not df\n",
    "            'check_row_order': True, # Ignored if dtype is not df\n",
    "            'check_column_type': True, # Ignored if dtype is not df\n",
    "            'float_tolerance': 10 ** (-6)\n",
    "        },\n",
    "        'output_1':{\n",
    "            'index':0,\n",
    "            'dtype':'',\n",
    "            'check_dtype': False,\n",
    "            'check_col_dtypes': True, # Ignored if dtype is not df\n",
    "            'check_col_order': True, # Ignored if dtype is not df\n",
    "            'check_row_order': True, # Ignored if dtype is not df\n",
    "            'check_column_type': True, # Ignored if dtype is not df\n",
    "            'float_tolerance': 10 ** (-6)\n",
    "        }\n",
    "    }\n",
    "}\n",
    "tester = Tester(conf, key=b'66lGoH4BeY6guYRngj0DTLf5PgS5u60_N0vVqGyXN7w=', path='resource/asnlib/publicdata/')\n",
    "for _ in range(70):\n",
    "    try:\n",
    "        tester.run_test()\n",
    "        (input_vars, original_input_vars, returned_output_vars, true_output_vars) = tester.get_test_vars()\n",
    "    except:\n",
    "        (input_vars, original_input_vars, returned_output_vars, true_output_vars) = tester.get_test_vars()\n",
    "        raise\n",
    "\n",
    "###\n",
    "### AUTOGRADER TEST - DO NOT REMOVE\n",
    "###\n",
    "print('Passed! Please submit.')"
   ]
  },
  {
   "cell_type": "markdown",
   "metadata": {
    "deletable": false,
    "editable": false,
    "nbgrader": {
     "grade": false,
     "locked": true,
     "solution": false
    }
   },
   "source": [
    "# **Part B: Enron Data and `email` Objects** #\n",
    "\n",
    "The company under investigation is Enron Corporation. The following code will load a sample of Enron's email archives into a list of `email` objects, which is a special object for representing email messages.\n",
    "\n",
    "Let's explore the data _and_ learn about `email` objects with a **FREE** 1-point exercise!"
   ]
  },
  {
   "cell_type": "markdown",
   "metadata": {
    "deletable": false,
    "editable": false,
    "nbgrader": {
     "grade": false,
     "locked": true,
     "solution": false
    },
    "tags": [
     "exercise_text"
    ]
   },
   "source": [
    "## **Ex. 2 (1 pt - FREE)**: `email` Object Tutorial ##\n",
    "\n",
    "This next \"exercise\" requires no coding. All you have to do is read the tutorial on email objects, below. You'll need these concepts in subsequent exercises."
   ]
  },
  {
   "cell_type": "markdown",
   "metadata": {
    "deletable": false,
    "editable": false,
    "nbgrader": {
     "grade": false,
     "locked": true,
     "solution": false
    }
   },
   "source": [
    "The following cell loads the email archive into a list, with one element per email message:"
   ]
  },
  {
   "cell_type": "code",
   "execution_count": 10,
   "metadata": {
    "ExecuteTime": {
     "end_time": "2023-09-29T08:53:53.623311Z",
     "start_time": "2023-09-29T08:53:53.496566Z"
    },
    "deletable": false,
    "editable": false,
    "nbgrader": {
     "grade": false,
     "locked": true,
     "solution": false
    }
   },
   "outputs": [
    {
     "data": {
      "text/plain": [
       "(list, 516)"
      ]
     },
     "execution_count": 10,
     "metadata": {},
     "output_type": "execute_result"
    }
   ],
   "source": [
    "emails = load_emails()\n",
    "type(emails), len(emails)"
   ]
  },
  {
   "cell_type": "markdown",
   "metadata": {
    "deletable": false,
    "editable": false,
    "nbgrader": {
     "grade": false,
     "locked": true,
     "solution": false
    }
   },
   "source": [
    "Let's display one of these messages, first by inspecting its type:"
   ]
  },
  {
   "cell_type": "code",
   "execution_count": 11,
   "metadata": {
    "ExecuteTime": {
     "end_time": "2023-09-29T08:53:53.642433Z",
     "start_time": "2023-09-29T08:53:53.624250Z"
    },
    "deletable": false,
    "editable": false,
    "nbgrader": {
     "grade": false,
     "locked": true,
     "solution": false
    }
   },
   "outputs": [
    {
     "data": {
      "text/plain": [
       "email.message.Message"
      ]
     },
     "execution_count": 11,
     "metadata": {},
     "output_type": "execute_result"
    }
   ],
   "source": [
    "email_example = emails[5]\n",
    "type(email_example)"
   ]
  },
  {
   "cell_type": "markdown",
   "metadata": {
    "deletable": false,
    "editable": false,
    "nbgrader": {
     "grade": false,
     "locked": true,
     "solution": false
    }
   },
   "source": [
    "Next, let's ask for a visual representation of the email as a string:"
   ]
  },
  {
   "cell_type": "code",
   "execution_count": 12,
   "metadata": {
    "ExecuteTime": {
     "end_time": "2023-09-29T08:53:53.661895Z",
     "start_time": "2023-09-29T08:53:53.643529Z"
    },
    "deletable": false,
    "editable": false,
    "nbgrader": {
     "grade": false,
     "locked": true,
     "solution": false
    }
   },
   "outputs": [
    {
     "name": "stdout",
     "output_type": "stream",
     "text": [
      "Message-ID: <19094003.1072133231676.JavaMail.evans@thyme>\n",
      "Date: Wed, 20 Dec 2000 06:47:00 -0800 (PST)\n",
      "From: im-urlaub@t-online.de\n",
      "To: bdarter@coral-energy.com, onvacation@pdq.net, kimberly.s.olinger@enron.com,\n",
      "\tscott.hendrickson@enron.com, cnmfree@hrb.de, ddarter@webtv.net,\n",
      "\tvdaniels@imsday.com\n",
      "Subject: Morning!\n",
      "Mime-Version: 1.0\n",
      "Content-Type: text/plain; charset=us-ascii\n",
      "Content-Transfer-Encoding: 7bit\n",
      "\n",
      "Well we have had our first accident at the new building...But it really wasn't\n",
      "the building's fault...Armin and Lolo worked all evening installing the \n",
      "largest\n",
      "of our 3 garage doors on the warehouse.  It's a really tall and wide door, so\n",
      "that large trucks can pull all the way into the warehouse to unload.  Well, \n",
      "all\n",
      "went well with the installation, and it was time for them to go.   Lolo closed\n",
      "and locked the garage door while Armin loaded up his work truck to leave.\n",
      "When Armin slammed the sliding side door shut, he somehow forgot to let go\n",
      "with his left hand...so the door slammed shut with his fingers in it.  That's\n",
      "not the worst, Armin had locked the door before he slammed it shut!  It was\n",
      "locked with his fingers smashed inside!!!  That's STILL not the worst!  He had\n",
      "already cranked the truck, so the keys were in the ignition on the oposite \n",
      "side\n",
      "of the truck from where he was trapped!!!!\n",
      "\n",
      "Thank GOD LOLO HADN'T LEFT YET!!! He got the keys and unlocked the door, \n",
      "freeing\n",
      "Armin's smashed 3 middle fingers.  If he would've been alone there, as he\n",
      "normally is late at night, it would've been terrible!!!\n",
      "\n",
      "So he came home around 10:30 PM in shock with pain.  He took aspirin and was\n",
      "finally able to sleep about 1 AM.  This morning he could move them, but they \n",
      "are\n",
      "swollen and purple and very painful.  Of course, he won't go to the doctor, He\n",
      "says that they aren't broken ? ? ? But he is in a lot of pain.  He must have\n",
      "been terribly tired to do something so stupid.  He needs to take a break, but \n",
      "he\n",
      "won't...hopefully when Melissa and family get here he will slow down.\n",
      "\n",
      "Hope you all are having a safe week!\n",
      "\n",
      "Connie\n"
     ]
    }
   ],
   "source": [
    "print(email_example.as_string())"
   ]
  },
  {
   "cell_type": "markdown",
   "metadata": {
    "deletable": false,
    "editable": false,
    "nbgrader": {
     "grade": false,
     "locked": true,
     "solution": false
    }
   },
   "source": [
    "These `email` message objects allow simple queries. For example, the next few cells extract the contents of the `'From'` and `'Subject'` fields:"
   ]
  },
  {
   "cell_type": "code",
   "execution_count": 13,
   "metadata": {
    "ExecuteTime": {
     "end_time": "2023-09-29T08:53:53.680726Z",
     "start_time": "2023-09-29T08:53:53.663011Z"
    },
    "deletable": false,
    "editable": false,
    "nbgrader": {
     "grade": false,
     "locked": true,
     "solution": false
    }
   },
   "outputs": [
    {
     "data": {
      "text/plain": [
       "'im-urlaub@t-online.de'"
      ]
     },
     "execution_count": 13,
     "metadata": {},
     "output_type": "execute_result"
    }
   ],
   "source": [
    "email_example.get('From')"
   ]
  },
  {
   "cell_type": "code",
   "execution_count": 14,
   "metadata": {
    "ExecuteTime": {
     "end_time": "2023-09-29T08:53:53.698619Z",
     "start_time": "2023-09-29T08:53:53.681705Z"
    },
    "deletable": false,
    "editable": false,
    "nbgrader": {
     "grade": false,
     "locked": true,
     "solution": false
    }
   },
   "outputs": [
    {
     "data": {
      "text/plain": [
       "'Morning!'"
      ]
     },
     "execution_count": 14,
     "metadata": {},
     "output_type": "execute_result"
    }
   ],
   "source": [
    "email_example.get('Subject')"
   ]
  },
  {
   "cell_type": "markdown",
   "metadata": {
    "deletable": false,
    "editable": false,
    "nbgrader": {
     "grade": false,
     "locked": true,
     "solution": false
    }
   },
   "source": [
    "Neat! Of course, it's going to turn out that we'll still need to do a little cleaning to complete our task. For instance, take a look at the `'To'` field of this example:"
   ]
  },
  {
   "cell_type": "code",
   "execution_count": 15,
   "metadata": {
    "ExecuteTime": {
     "end_time": "2023-09-29T08:53:53.716088Z",
     "start_time": "2023-09-29T08:53:53.699688Z"
    },
    "deletable": false,
    "editable": false,
    "nbgrader": {
     "grade": false,
     "locked": true,
     "solution": false
    }
   },
   "outputs": [
    {
     "data": {
      "text/plain": [
       "'bdarter@coral-energy.com, onvacation@pdq.net, kimberly.s.olinger@enron.com, \\n\\tscott.hendrickson@enron.com, cnmfree@hrb.de, ddarter@webtv.net, \\n\\tvdaniels@imsday.com'"
      ]
     },
     "execution_count": 15,
     "metadata": {},
     "output_type": "execute_result"
    }
   ],
   "source": [
    "email_example.get('To')"
   ]
  },
  {
   "cell_type": "markdown",
   "metadata": {
    "deletable": false,
    "editable": false,
    "nbgrader": {
     "grade": false,
     "locked": true,
     "solution": false
    }
   },
   "source": [
    "You can see that it is a string, but one where the different addresses are separated by commas and whitespace, including newlines. That fact is more clear when you use `print`:"
   ]
  },
  {
   "cell_type": "code",
   "execution_count": 16,
   "metadata": {
    "ExecuteTime": {
     "end_time": "2023-09-29T08:53:53.735493Z",
     "start_time": "2023-09-29T08:53:53.717164Z"
    },
    "deletable": false,
    "editable": false,
    "nbgrader": {
     "grade": false,
     "locked": true,
     "solution": false
    }
   },
   "outputs": [
    {
     "name": "stdout",
     "output_type": "stream",
     "text": [
      "bdarter@coral-energy.com, onvacation@pdq.net, kimberly.s.olinger@enron.com, \n",
      "\tscott.hendrickson@enron.com, cnmfree@hrb.de, ddarter@webtv.net, \n",
      "\tvdaniels@imsday.com\n"
     ]
    }
   ],
   "source": [
    "print(email_example.get('To'))"
   ]
  },
  {
   "cell_type": "markdown",
   "metadata": {
    "deletable": false,
    "editable": false,
    "nbgrader": {
     "grade": false,
     "locked": true,
     "solution": false
    }
   },
   "source": [
    "Okay, that is enough information to get you started. Run the test cell below to get your **FREE** point!"
   ]
  },
  {
   "cell_type": "code",
   "execution_count": 17,
   "metadata": {
    "ExecuteTime": {
     "end_time": "2023-09-29T08:53:53.754883Z",
     "start_time": "2023-09-29T08:53:53.737314Z"
    },
    "deletable": false,
    "editable": false,
    "nbgrader": {
     "grade": true,
     "grade_id": "ex2",
     "locked": true,
     "points": "1",
     "solution": false
    },
    "tags": []
   },
   "outputs": [
    {
     "name": "stdout",
     "output_type": "stream",
     "text": [
      "Passed! Please submit.\n"
     ]
    }
   ],
   "source": [
    "### test_cell_ex2\n",
    "\n",
    "print('Passed! Please submit.')"
   ]
  },
  {
   "cell_type": "markdown",
   "metadata": {
    "deletable": false,
    "editable": false,
    "nbgrader": {
     "grade": false,
     "locked": true,
     "solution": false
    },
    "tags": [
     "exercise_text"
    ]
   },
   "source": [
    "## **Ex. 3 (1 pt)**: `gather_addresses_from_field` ##\n",
    "\n",
    "Let's write a function to collect the email _addresses_ from a specified field of the email object. By \"field\" we mean things like `'From'` and `'To'` from the previous \"exercise.\"\n",
    "\n",
    "Complete the function,\n",
    "```python\n",
    "def gather_addresses_from_field(email, field):\n",
    "    ...\n",
    "```\n",
    "so that it takes an email object, `email`, and a target field, `field`, and returns the set of emails stored in that field.\n",
    "\n",
    "**Inputs**:\n",
    "- `email`: An email object\n",
    "- `field`: A string naming the field to search, such as `'From'` and `'To'`.\n",
    "\n",
    "**Your task**: Extract all email addresses from the field.\n",
    "\n",
    "**Outputs**: Return a Python `set` of the email addresses.\n",
    "\n",
    "**Additional notes (IMPORTANT!)**:\n",
    "1. To help you out, the function below includes a predefined regular expression that _robustly_ matches a valid email. It is based on the RFC5322 standard, and you can [this demo on regex101](https://regex101.com/r/dJ9rWc/1).\n",
    "2. A field **might be empty**! In that case, querying the field might return an empty string **or** a `None` object. In these instances, **you should return an empty set**."
   ]
  },
  {
   "cell_type": "code",
   "execution_count": 18,
   "metadata": {
    "ExecuteTime": {
     "end_time": "2023-09-29T08:53:53.774892Z",
     "start_time": "2023-09-29T08:53:53.755933Z"
    },
    "collapsed": true,
    "deletable": false,
    "editable": false,
    "nbgrader": {
     "grade": false,
     "locked": true,
     "solution": false
    },
    "tags": [
     "demo_data"
    ]
   },
   "outputs": [],
   "source": [
    "### Define demo inputs ###\n",
    "\n",
    "demo_email_ex3 = email_example"
   ]
  },
  {
   "cell_type": "markdown",
   "metadata": {
    "deletable": false,
    "editable": false,
    "nbgrader": {
     "grade": false,
     "locked": true,
     "solution": false
    },
    "tags": [
     "demo_output_md"
    ]
   },
   "source": [
    "# The demo included in the solution cell checks four fields: `'From'`, `'To'`, `'Cc'`, and `'Bcc'`. A correct solution will display the following output:\n",
    "```\n",
    "'From' ==> {'im-urlaub@t-online.de'}\n",
    "\n",
    "'To' ==> {'onvacation@pdq.net', 'ddarter@webtv.net', 'kimberly.s.olinger@enron.com', 'scott.hendrickson@enron.com', 'bdarter@coral-energy.com', 'vdaniels@imsday.com', 'cnmfree@hrb.de'}\n",
    "\n",
    "'Cc' ==> set()\n",
    "\n",
    "'Bcc' ==> set()\n",
    "```"
   ]
  },
  {
   "cell_type": "code",
   "execution_count": 19,
   "metadata": {
    "ExecuteTime": {
     "end_time": "2023-09-29T08:53:53.794219Z",
     "start_time": "2023-09-29T08:53:53.775946Z"
    },
    "tags": [
     "exercise_solution"
    ]
   },
   "outputs": [
    {
     "name": "stdout",
     "output_type": "stream",
     "text": [
      "'From' ==> {'im-urlaub@t-online.de'}\n",
      "\n",
      "'To' ==> {'ddarter@webtv.net', 'onvacation@pdq.net', 'vdaniels@imsday.com', 'scott.hendrickson@enron.com', 'cnmfree@hrb.de', 'bdarter@coral-energy.com', 'kimberly.s.olinger@enron.com'}\n",
      "\n",
      "'Cc' ==> set()\n",
      "\n",
      "'Bcc' ==> set()\n",
      "\n"
     ]
    }
   ],
   "source": [
    "### Exercise 3 solution\n",
    "import re\n",
    "def gather_addresses_from_field(email, field):\n",
    "    pattern = r'''((?:[a-z0-9!#$%&'*+/=?^_`{|}~-]+(?:\\.[a-z0-9!#$%&'*+/=?^_`{|}~-]+)*|\\\"(?:[\\x01-\\x08\\x0b\\x0c\\x0e-\\x1f\\x21\\x23-\\x5b\\x5d-\\x7f]|\\\\[\\x01-\\x09\\x0b\\x0c\\x0e-\\x7f])*\\\")@(?:(?:[a-z0-9](?:[a-z0-9-]*[a-z0-9])?\\.)+[a-z0-9](?:[a-z0-9-]*[a-z0-9])?|\\[(?:(?:25[0-5]|2[0-4][0-9]|[01]?[0-9][0-9]?)\\.){3}(?:25[0-5]|2[0-4][0-9]|[01]?[0-9][0-9]?|[a-z0-9-]*[a-z0-9]:(?:[\\x01-\\x08\\x0b\\x0c\\x0e-\\x1f\\x21-\\x5a\\x53-\\x7f]|\\\\[\\x01-\\x09\\x0b\\x0c\\x0e-\\x7f])+)\\]))'''\n",
    "    \n",
    "    ###\n",
    "    finalSet = set()\n",
    "    txt = email.get(field)\n",
    "    if txt != None:\n",
    "        m = re.findall('{}'.format(pattern), txt)\n",
    "        if len(m) > 0:\n",
    "            for i in m:\n",
    "                finalSet.add(i)\n",
    "    return finalSet\n",
    "    ###\n",
    "    \n",
    "### demo function call ###\n",
    "for demo_field_ex3 in ['From', 'To', 'Cc', 'Bcc']:\n",
    "    demo_result_ex3 = gather_addresses_from_field(demo_email_ex3, demo_field_ex3)\n",
    "    print(f\"'{demo_field_ex3}' ==> {demo_result_ex3}\\n\")\n",
    "# print(\"--------------------------------------------------------------------------\")\n",
    "# print(returned_output_vars['output_0'])\n",
    "# print(\"--------------------------------------------------------------------------\")\n",
    "# print(true_output_vars['output_0'])"
   ]
  },
  {
   "cell_type": "markdown",
   "metadata": {
    "deletable": false,
    "editable": false,
    "nbgrader": {
     "grade": false,
     "locked": true,
     "solution": false
    },
    "tags": [
     "test_data_boilerplate"
    ]
   },
   "source": [
    "<!-- Test Cell Boilerplate -->\n",
    "The cell below will test your solution for Exercise 3. The testing variables will be available for debugging under the following names in a dictionary format.\n",
    "- `input_vars` - Input variables for your solution. \n",
    "- `original_input_vars` - Copy of input variables from prior to running your solution. These _should_ be the same as `input_vars` - otherwise the inputs were modified by your solution.\n",
    "- `returned_output_vars` - Outputs returned by your solution.\n",
    "- `true_output_vars` - The expected output. This _should_ \"match\" `returned_output_vars` based on the question requirements - otherwise, your solution is not returning the correct output. "
   ]
  },
  {
   "cell_type": "code",
   "execution_count": 20,
   "metadata": {
    "ExecuteTime": {
     "end_time": "2023-09-29T08:53:53.888975Z",
     "start_time": "2023-09-29T08:53:53.859327Z"
    },
    "deletable": false,
    "editable": false,
    "nbgrader": {
     "grade": true,
     "grade_id": "ex3",
     "locked": true,
     "points": "1",
     "solution": false
    },
    "tags": []
   },
   "outputs": [
    {
     "name": "stdout",
     "output_type": "stream",
     "text": [
      "Passed! Please submit.\n"
     ]
    }
   ],
   "source": [
    "### test_cell_ex3\n",
    "###\n",
    "### AUTOGRADER TEST - DO NOT REMOVE\n",
    "###\n",
    "from tester_fw.testers import Tester\n",
    "\n",
    "conf = {\n",
    "    'case_file':'tc_3', \n",
    "    'func': gather_addresses_from_field, # replace this with the function defined above\n",
    "    'inputs':{ # input config dict. keys are parameter names\n",
    "        'email':{\n",
    "            'dtype':'', # data type of param.\n",
    "            'check_modified':False,\n",
    "        },\n",
    "        'field':{\n",
    "            'dtype':'str',\n",
    "            'check_modified':False\n",
    "        }\n",
    "    },\n",
    "    'outputs':{\n",
    "        'output_0':{\n",
    "            'index':0,\n",
    "            'dtype':'set',\n",
    "            'check_dtype': True,\n",
    "            'check_col_dtypes': True, # Ignored if dtype is not df\n",
    "            'check_col_order': True, # Ignored if dtype is not df\n",
    "            'check_row_order': True, # Ignored if dtype is not df\n",
    "            'check_column_type': True, # Ignored if dtype is not df\n",
    "            'float_tolerance': 10 ** (-6)\n",
    "        }\n",
    "    }\n",
    "}\n",
    "tester = Tester(conf, key=b'66lGoH4BeY6guYRngj0DTLf5PgS5u60_N0vVqGyXN7w=', path='resource/asnlib/publicdata/')\n",
    "for _ in range(70):\n",
    "    try:\n",
    "        tester.run_test()\n",
    "        (input_vars, original_input_vars, returned_output_vars, true_output_vars) = tester.get_test_vars()\n",
    "    except:\n",
    "        (input_vars, original_input_vars, returned_output_vars, true_output_vars) = tester.get_test_vars()\n",
    "        raise\n",
    "\n",
    "###\n",
    "### AUTOGRADER TEST - DO NOT REMOVE\n",
    "###\n",
    "print('Passed! Please submit.')"
   ]
  },
  {
   "cell_type": "markdown",
   "metadata": {
    "deletable": false,
    "editable": false,
    "nbgrader": {
     "grade": false,
     "locked": true,
     "solution": false
    }
   },
   "source": [
    "### **RUN ME**: `all_addresses` ###\n",
    "\n",
    "Using a correct implementation of `gather_addresses_from_field`, we can sweep the entire email archive and gather all email addresses. The cell loads the results of such a sweep. **Run this cell whether or not your implementation is correct.**"
   ]
  },
  {
   "cell_type": "code",
   "execution_count": 21,
   "metadata": {
    "ExecuteTime": {
     "end_time": "2023-09-29T08:53:53.909647Z",
     "start_time": "2023-09-29T08:53:53.890253Z"
    },
    "deletable": false,
    "editable": false,
    "nbgrader": {
     "grade": false,
     "locked": true,
     "solution": false
    }
   },
   "outputs": [
    {
     "name": "stdout",
     "output_type": "stream",
     "text": [
      "There are 2,487 unique email addresses in the archive, considering the `'From'`, `'To'`, `'Cc'`, and `'Bcc'` fields.\n"
     ]
    }
   ],
   "source": [
    "all_addresses = load_obj_from_file('ex3_all_addresses.dill')\n",
    "\n",
    "print(f\"There are {len(all_addresses):,} unique email addresses in the archive, considering the `'From'`, `'To'`, `'Cc'`, and `'Bcc'` fields.\")"
   ]
  },
  {
   "cell_type": "markdown",
   "metadata": {
    "deletable": false,
    "editable": false,
    "nbgrader": {
     "grade": false,
     "locked": true,
     "solution": false
    },
    "tags": [
     "exercise_text"
    ]
   },
   "source": [
    "## **Ex. 4 (1 pt)**: `get_enron_addresses` ##\n",
    "\n",
    "The government wants us to focus on Enron employees. Complete the function,\n",
    "```python\n",
    "def get_enron_addresses(addresses):\n",
    "    ...\n",
    "```\n",
    "to find all of the Enron email addresses.\n",
    "\n",
    "**Inputs**: `addresses` is a set of string email addresses.\n",
    "\n",
    "**Outputs**: Return the subset of addresses belonging to Enron employees. These are the ones ending in `'@enron.com'`.\n",
    "\n",
    "**Additional notes**: The input `addresses` set could be the empty set. In this case, your function should also return an empty set."
   ]
  },
  {
   "cell_type": "code",
   "execution_count": 22,
   "metadata": {
    "ExecuteTime": {
     "end_time": "2023-09-29T08:53:53.926385Z",
     "start_time": "2023-09-29T08:53:53.910697Z"
    },
    "collapsed": true,
    "deletable": false,
    "editable": false,
    "nbgrader": {
     "grade": false,
     "locked": true,
     "solution": false
    },
    "tags": [
     "demo_data"
    ]
   },
   "outputs": [],
   "source": [
    "### Define demo inputs ###\n",
    "\n",
    "demo_addresses_ex4 = {\n",
    "    'grampus@sunbeach.net',\n",
    "    'petersm@energystore.net',\n",
    "    'knowak@wpo.org',\n",
    "    'lhgas@hoegh.no',\n",
    "    'llightfoot@coral-energy.com',\n",
    "    'sjohnsto@wutc.wa.gov',\n",
    "    'amitava.dhar@enron.com',\n",
    "    'jennifer.blay@enron.com',\n",
    "    'lburns@hotmail.com',\n",
    "    'steve.schneider@enron.com',\n",
    "    'amy.fitzpatrick@enron.com'\n",
    "}"
   ]
  },
  {
   "cell_type": "markdown",
   "metadata": {
    "deletable": false,
    "editable": false,
    "nbgrader": {
     "grade": false,
     "locked": true,
     "solution": false
    },
    "tags": [
     "demo_output_md"
    ]
   },
   "source": [
    "The demo included in the solution cell below should display the following output:\n",
    "```\n",
    "    {'amitava.dhar@enron.com',\n",
    "     'jennifer.blay@enron.com',\n",
    "     'steve.schneider@enron.com',\n",
    "     'amy.fitzpatrick@enron.com'}\n",
    "```\n",
    "> Since the return value is a set, it's possible the order when printed will differ from what you see above. However, the autograder will use set-comparison, so order should not matter."
   ]
  },
  {
   "cell_type": "code",
   "execution_count": 23,
   "metadata": {
    "ExecuteTime": {
     "end_time": "2023-09-29T08:53:53.944040Z",
     "start_time": "2023-09-29T08:53:53.927365Z"
    },
    "tags": [
     "exercise_solution"
    ]
   },
   "outputs": [
    {
     "data": {
      "text/plain": [
       "{'amitava.dhar@enron.com',\n",
       " 'amy.fitzpatrick@enron.com',\n",
       " 'jennifer.blay@enron.com',\n",
       " 'steve.schneider@enron.com'}"
      ]
     },
     "execution_count": 23,
     "metadata": {},
     "output_type": "execute_result"
    }
   ],
   "source": [
    "### Exercise 4 solution\n",
    "def get_enron_addresses(addresses):\n",
    "    ###\n",
    "    finalSet = set()\n",
    "    for i in addresses:\n",
    "        m = re.search('(@enron.com)', i)\n",
    "        if type(m) is re.Match:\n",
    "            finalSet.add(i)\n",
    "    return finalSet\n",
    "    ###\n",
    "    \n",
    "### demo function call ###\n",
    "get_enron_addresses(demo_addresses_ex4)"
   ]
  },
  {
   "cell_type": "markdown",
   "metadata": {
    "deletable": false,
    "editable": false,
    "nbgrader": {
     "grade": false,
     "locked": true,
     "solution": false
    },
    "tags": [
     "test_data_boilerplate"
    ]
   },
   "source": [
    "<!-- Test Cell Boilerplate -->\n",
    "The cell below will test your solution for Exercise 4. The testing variables will be available for debugging under the following names in a dictionary format.\n",
    "- `input_vars` - Input variables for your solution. \n",
    "- `original_input_vars` - Copy of input variables from prior to running your solution. These _should_ be the same as `input_vars` - otherwise the inputs were modified by your solution.\n",
    "- `returned_output_vars` - Outputs returned by your solution.\n",
    "- `true_output_vars` - The expected output. This _should_ \"match\" `returned_output_vars` based on the question requirements - otherwise, your solution is not returning the correct output. "
   ]
  },
  {
   "cell_type": "code",
   "execution_count": 24,
   "metadata": {
    "ExecuteTime": {
     "end_time": "2023-09-29T08:53:54.229912Z",
     "start_time": "2023-09-29T08:53:54.201904Z"
    },
    "deletable": false,
    "editable": false,
    "nbgrader": {
     "grade": true,
     "grade_id": "ex4",
     "locked": true,
     "points": "1",
     "solution": false
    },
    "tags": []
   },
   "outputs": [
    {
     "name": "stdout",
     "output_type": "stream",
     "text": [
      "Passed! Please submit.\n"
     ]
    }
   ],
   "source": [
    "### test_cell_ex4\n",
    "###\n",
    "### AUTOGRADER TEST - DO NOT REMOVE\n",
    "###\n",
    "from tester_fw.testers import Tester\n",
    "\n",
    "conf = {\n",
    "    'case_file':'tc_4', \n",
    "    'func': get_enron_addresses, # replace this with the function defined above\n",
    "    'inputs':{ # input config dict. keys are parameter names\n",
    "        'addresses':{\n",
    "            'dtype':'set', # data type of param.\n",
    "            'check_modified':True,\n",
    "        }\n",
    "    },\n",
    "    'outputs':{\n",
    "        'output_0':{\n",
    "            'index':0,\n",
    "            'dtype':'set',\n",
    "            'check_dtype': True,\n",
    "            'check_col_dtypes': True, # Ignored if dtype is not df\n",
    "            'check_col_order': True, # Ignored if dtype is not df\n",
    "            'check_row_order': True, # Ignored if dtype is not df\n",
    "            'check_column_type': True, # Ignored if dtype is not df\n",
    "            'float_tolerance': 10 ** (-6)\n",
    "        }\n",
    "    }\n",
    "}\n",
    "tester = Tester(conf, key=b'66lGoH4BeY6guYRngj0DTLf5PgS5u60_N0vVqGyXN7w=', path='resource/asnlib/publicdata/')\n",
    "for _ in range(70):\n",
    "    try:\n",
    "        tester.run_test()\n",
    "        (input_vars, original_input_vars, returned_output_vars, true_output_vars) = tester.get_test_vars()\n",
    "    except:\n",
    "        (input_vars, original_input_vars, returned_output_vars, true_output_vars) = tester.get_test_vars()\n",
    "        raise\n",
    "\n",
    "###\n",
    "### AUTOGRADER TEST - DO NOT REMOVE\n",
    "###\n",
    "print('Passed! Please submit.')"
   ]
  },
  {
   "cell_type": "markdown",
   "metadata": {
    "deletable": false,
    "editable": false,
    "nbgrader": {
     "grade": false,
     "locked": true,
     "solution": false
    }
   },
   "source": [
    "### **RUN ME**: `enron_addresses` ###\n",
    "\n",
    "Using a correct implementation of `get_enron_addresses`, we can sweep the full address list and identify just those associated with Enron. The cell below loads the results of such a sweep. **Run this cell whether or not your implementation is correct.**\n",
    "\n",
    "The object `enron_addresses` is a set of emails associated with Enron only. Each element is a pair `(msg_id, addr)`, "
   ]
  },
  {
   "cell_type": "code",
   "execution_count": 25,
   "metadata": {
    "ExecuteTime": {
     "end_time": "2023-09-29T08:53:54.247264Z",
     "start_time": "2023-09-29T08:53:54.230832Z"
    },
    "deletable": false,
    "editable": false,
    "nbgrader": {
     "grade": false,
     "locked": true,
     "solution": false
    }
   },
   "outputs": [
    {
     "name": "stdout",
     "output_type": "stream",
     "text": [
      "There are 1,468 unique `@enron.com` email addresses in the archive, considering the `'From'`, `'To'`, `'Cc'`, and `'Bcc'` fields.\n"
     ]
    }
   ],
   "source": [
    "enron_addresses = load_obj_from_file('ex4_enron_addresses.dill')\n",
    "\n",
    "print(f\"There are {len(enron_addresses):,} unique `@enron.com` email addresses in the archive, considering the `'From'`, `'To'`, `'Cc'`, and `'Bcc'` fields.\")"
   ]
  },
  {
   "cell_type": "markdown",
   "metadata": {
    "deletable": false,
    "editable": false,
    "nbgrader": {
     "grade": false,
     "locked": true,
     "solution": false
    }
   },
   "source": [
    "# **Part C: Data Cleaning and Preliminary Analysis** #\n",
    "\n",
    "Let's clean the data and do a simple analysis before trying your colleague's tool."
   ]
  },
  {
   "cell_type": "markdown",
   "metadata": {
    "deletable": false,
    "editable": false,
    "nbgrader": {
     "grade": false,
     "locked": true,
     "solution": false
    }
   },
   "source": [
    "## Address maps ##\n",
    "\n",
    "Using the functions developed above, suppose we convert the archive into the following abstract representation, called an **address map**.\n",
    "\n",
    "- Each email message is assigned a unique integer ID, starting from 0.\n",
    "- For each message, we record the unique Enron email addresses that appear in the `'From'`, `'To'`, `'Cc'`, and `'Bcc'` fields.\n",
    "\n",
    "The following data structure, called the `address_map`, captures this representation:"
   ]
  },
  {
   "cell_type": "code",
   "execution_count": 26,
   "metadata": {
    "ExecuteTime": {
     "end_time": "2023-09-29T08:53:54.268777Z",
     "start_time": "2023-09-29T08:53:54.248313Z"
    },
    "deletable": false,
    "editable": false,
    "nbgrader": {
     "grade": false,
     "locked": true,
     "solution": false
    }
   },
   "outputs": [
    {
     "name": "stdout",
     "output_type": "stream",
     "text": [
      "<class 'list'>\n"
     ]
    },
    {
     "data": {
      "text/plain": [
       "[{'From': {'chris.foster@enron.com'},\n",
       "  'To': {'kim.ward@enron.com'},\n",
       "  'Cc': set(),\n",
       "  'Bcc': set()},\n",
       " {'From': {'richard.sanders@enron.com'},\n",
       "  'To': {'james.derrick@enron.com'},\n",
       "  'Cc': set(),\n",
       "  'Bcc': set()},\n",
       " {'From': {'alan.chen@enron.com'},\n",
       "  'To': set(),\n",
       "  'Cc': {'clint.dean@enron.com',\n",
       "   'lloyd.will@enron.com',\n",
       "   'madhup.kumar@enron.com',\n",
       "   'smith.day@enron.com'},\n",
       "  'Bcc': {'clint.dean@enron.com',\n",
       "   'lloyd.will@enron.com',\n",
       "   'madhup.kumar@enron.com',\n",
       "   'smith.day@enron.com'}},\n",
       " {'From': {'kay.mann@enron.com'},\n",
       "  'To': {'roseann.engeldorf@enron.com'},\n",
       "  'Cc': set(),\n",
       "  'Bcc': set()},\n",
       " {'From': {'rick.buy@enron.com'},\n",
       "  'To': {'tracy.ngo@enron.com'},\n",
       "  'Cc': set(),\n",
       "  'Bcc': set()}]"
      ]
     },
     "execution_count": 26,
     "metadata": {},
     "output_type": "execute_result"
    }
   ],
   "source": [
    "address_map = load_obj_from_file('ex4_messages_to_address_fields.dill')\n",
    "\n",
    "print(type(address_map))\n",
    "address_map[:5]"
   ]
  },
  {
   "cell_type": "markdown",
   "metadata": {
    "deletable": false,
    "editable": false,
    "nbgrader": {
     "grade": false,
     "locked": true,
     "solution": false
    }
   },
   "source": [
    "Observe that `address_map` is a list of dictionaries of string-set pairs. (What a mouthful!)\n",
    "\n",
    "Specifically, each element of the `address_map` list represents an email message that is stored as a dictionary:\n",
    "- each key of this dictionary is a field, which is one of the four strings `'From'`, `'To'`, `'Cc'`, and `'Bcc'`;\n",
    "- the corresponding value is a Python set of email addresses.\n",
    "\n",
    "Only addresses at `enron.com` are included in this representation."
   ]
  },
  {
   "cell_type": "markdown",
   "metadata": {
    "deletable": false,
    "editable": false,
    "nbgrader": {
     "grade": false,
     "locked": true,
     "solution": false
    }
   },
   "source": [
    "## Duplicates ##\n",
    "\n",
    "Many of the email messages have some redundancy across their address fields. For example, consider the message at position 121 of the list:"
   ]
  },
  {
   "cell_type": "code",
   "execution_count": 27,
   "metadata": {
    "ExecuteTime": {
     "end_time": "2023-09-29T08:53:54.286936Z",
     "start_time": "2023-09-29T08:53:54.270094Z"
    },
    "deletable": false,
    "editable": false,
    "nbgrader": {
     "grade": false,
     "locked": true,
     "solution": false
    }
   },
   "outputs": [
    {
     "data": {
      "text/plain": [
       "{'From': {'john.lavorato@enron.com'},\n",
       " 'To': {'berney.aucoin@enron.com',\n",
       "  'chris.gaskill@enron.com',\n",
       "  'doug.gilbert-smith@enron.com',\n",
       "  'ed.mcmichael@enron.com',\n",
       "  'fletcher.sturm@enron.com',\n",
       "  'hunter.shively@enron.com',\n",
       "  'jim.schwieger@enron.com',\n",
       "  'john.arnold@enron.com',\n",
       "  'john.lavorato@enron.com',\n",
       "  'kevin.presto@enron.com',\n",
       "  'lloyd.will@enron.com',\n",
       "  'louise.kitchen@enron.com',\n",
       "  'mark.davis@enron.com',\n",
       "  'martin.thomas@enron.com',\n",
       "  'mike.grigsby@enron.com',\n",
       "  'phillip.allen@enron.com',\n",
       "  'rogers.herndon@enron.com',\n",
       "  'scott.neal@enron.com',\n",
       "  'thomas.martin@enron.com'},\n",
       " 'Cc': {'karen.buckley@enron.com', 'neil.davies@enron.com'},\n",
       " 'Bcc': {'karen.buckley@enron.com', 'neil.davies@enron.com'}}"
      ]
     },
     "execution_count": 27,
     "metadata": {},
     "output_type": "execute_result"
    }
   ],
   "source": [
    "address_map[121]"
   ]
  },
  {
   "cell_type": "markdown",
   "metadata": {
    "deletable": false,
    "editable": false,
    "nbgrader": {
     "grade": false,
     "locked": true,
     "solution": false
    }
   },
   "source": [
    "Notice that `john.lavorato@enron.com` appears in the `'From'` field and the `'To'` field. Furthermore, everyone in the `'Cc'` field appears _again_ in the `'Bcc'` field. In the next exercise, let's remove these duplicates."
   ]
  },
  {
   "cell_type": "markdown",
   "metadata": {
    "deletable": false,
    "editable": false,
    "nbgrader": {
     "grade": false,
     "locked": true,
     "solution": false
    },
    "tags": [
     "exercise_text"
    ]
   },
   "source": [
    "## **Ex 5 (2 pt)**: `remove_duplicates` ##\n",
    "\n",
    "Complete the function,\n",
    "```python\n",
    "def remove_duplicates(address_map):\n",
    "    ...\n",
    "```\n",
    "so that it removes duplicates according to the following precedence rules:\n",
    "\n",
    "1. If an address appears in `'Cc'`, then it should _not_ appear in `'Bcc'`.\n",
    "2. If an address appears in `'To'`, then it should _not_ appear in `'Cc'` _nor_ in `'Bcc'`.\n",
    "3. If an address appears in `'From'`, then it should _not_ appear in any of `'To'`, `'Cc'`, and `'Bcc'`.\n",
    "\n",
    "**Inputs**: The input `address_map` is a list of dictionaries, where each dictionary maps a field name (`'From'`, `'To'`, `'Cc'`, or `'Bcc'`) to a set of email addresses.\n",
    "\n",
    "**Your task**: Create a new list of dictionaries. It should have the same structure as the input, but all redundant addresses should be removed per the rules given above.\n",
    "\n",
    "**Outputs**: Return a **new** list of dictionaries of string-set pairs with duplicates removed.\n",
    "\n",
    "**Additional notes and hints (IMPORTANT!)**:\n",
    "1. You may assume every dictionary has all four fields. However, a field might be \"empty,\" meaning its value is an empty set.\n",
    "2. As with all exercises, be especially careful **NOT** to modify any of the input. You should return a new data structure. If you think an in-place solution is the most natural one to write, consider using [`copy.deepcopy()`](https://docs.python.org/3/library/copy.html) as a first step."
   ]
  },
  {
   "cell_type": "code",
   "execution_count": 28,
   "metadata": {
    "ExecuteTime": {
     "end_time": "2023-09-29T08:53:54.306508Z",
     "start_time": "2023-09-29T08:53:54.288121Z"
    },
    "collapsed": true,
    "deletable": false,
    "editable": false,
    "nbgrader": {
     "grade": false,
     "locked": true,
     "solution": false
    },
    "tags": [
     "demo_data"
    ]
   },
   "outputs": [],
   "source": [
    "### Define demo inputs ###\n",
    "\n",
    "demo_address_map_ex5 = [\n",
    "    {'From': {'jeffery.fawcett@enron.com'},\n",
    "     'To': {'drew.fossum@enron.com'},\n",
    "     'Cc': set(),\n",
    "     'Bcc': set()},\n",
    "    {'From': {'lloyd.will@enron.com'},\n",
    "     'To': {'smith.day@enron.com'},\n",
    "     'Cc': {'clint.dean@enron.com',\n",
    "            'jeffrey.miller@enron.com',\n",
    "            'jim.homco@enron.com',\n",
    "            'smith.day@enron.com',\n",
    "            'tom.may@enron.com'},\n",
    "     'Bcc': {'clint.dean@enron.com',\n",
    "             'jeffrey.miller@enron.com',\n",
    "             'jim.homco@enron.com',\n",
    "             'smith.day@enron.com',\n",
    "             'tom.may@enron.com'}}\n",
    "]"
   ]
  },
  {
   "cell_type": "markdown",
   "metadata": {
    "deletable": false,
    "editable": false,
    "nbgrader": {
     "grade": false,
     "locked": true,
     "solution": false
    },
    "tags": [
     "demo_output_md"
    ]
   },
   "source": [
    "The demo included in the solution cell below should display the following output:\n",
    "```\n",
    "[{'Bcc': set(),\n",
    "  'Cc': set(),\n",
    "  'From': {'jeffery.fawcett@enron.com'},\n",
    "  'To': {'drew.fossum@enron.com'}},\n",
    " {'Bcc': set(),\n",
    "  'Cc': {'clint.dean@enron.com',\n",
    "         'jeffrey.miller@enron.com',\n",
    "         'jim.homco@enron.com',\n",
    "         'tom.may@enron.com'},\n",
    "  'From': {'lloyd.will@enron.com'},\n",
    "  'To': {'smith.day@enron.com'}}]\n",
    "```"
   ]
  },
  {
   "cell_type": "code",
   "execution_count": 29,
   "metadata": {
    "ExecuteTime": {
     "end_time": "2023-09-29T08:53:54.350202Z",
     "start_time": "2023-09-29T08:53:54.307572Z"
    },
    "tags": [
     "exercise_solution"
    ]
   },
   "outputs": [
    {
     "name": "stdout",
     "output_type": "stream",
     "text": [
      "[{'Bcc': set(),\n",
      "  'Cc': set(),\n",
      "  'From': {'jeffery.fawcett@enron.com'},\n",
      "  'To': {'drew.fossum@enron.com'}},\n",
      " {'Bcc': set(),\n",
      "  'Cc': {'clint.dean@enron.com',\n",
      "         'jeffrey.miller@enron.com',\n",
      "         'jim.homco@enron.com',\n",
      "         'tom.may@enron.com'},\n",
      "  'From': {'lloyd.will@enron.com'},\n",
      "  'To': {'smith.day@enron.com'}}]\n"
     ]
    }
   ],
   "source": [
    "### Exercise 5 solution\n",
    "from collections import defaultdict\n",
    "def remove_duplicates(address_map):\n",
    "    ###\n",
    "    finalLst = []\n",
    "    for i in address_map:\n",
    "        tempDict = {\n",
    "            'From' : i['From'],\n",
    "            'To' : i['To'] - i['From'],\n",
    "            'Cc' : i['Cc'] - i['To'] - i['From'],\n",
    "            'Bcc' : i['Bcc'] - i['Cc'] - i['To'] - i['From']\n",
    "        }\n",
    "        finalLst.append(tempDict)\n",
    "    return finalLst\n",
    "    ###\n",
    "\n",
    "\n",
    "### demo function call ###\n",
    "demo_your_solution_ex5 = remove_duplicates(demo_address_map_ex5)\n",
    "pprint(demo_your_solution_ex5)"
   ]
  },
  {
   "cell_type": "markdown",
   "metadata": {
    "deletable": false,
    "editable": false,
    "nbgrader": {
     "grade": false,
     "locked": true,
     "solution": false
    },
    "tags": [
     "test_data_boilerplate"
    ]
   },
   "source": [
    "<!-- Test Cell Boilerplate -->\n",
    "The cell below will test your solution for Exercise 5. The testing variables will be available for debugging under the following names in a dictionary format.\n",
    "- `input_vars` - Input variables for your solution. \n",
    "- `original_input_vars` - Copy of input variables from prior to running your solution. These _should_ be the same as `input_vars` - otherwise the inputs were modified by your solution.\n",
    "- `returned_output_vars` - Outputs returned by your solution.\n",
    "- `true_output_vars` - The expected output. This _should_ \"match\" `returned_output_vars` based on the question requirements - otherwise, your solution is not returning the correct output. "
   ]
  },
  {
   "cell_type": "code",
   "execution_count": 30,
   "metadata": {
    "ExecuteTime": {
     "end_time": "2023-09-29T08:53:54.475592Z",
     "start_time": "2023-09-29T08:53:54.446355Z"
    },
    "deletable": false,
    "editable": false,
    "nbgrader": {
     "grade": true,
     "grade_id": "ex5",
     "locked": true,
     "points": "2",
     "solution": false
    },
    "tags": []
   },
   "outputs": [
    {
     "name": "stdout",
     "output_type": "stream",
     "text": [
      "Passed! Please submit.\n"
     ]
    }
   ],
   "source": [
    "### test_cell_ex5\n",
    "###\n",
    "### AUTOGRADER TEST - DO NOT REMOVE\n",
    "###\n",
    "from tester_fw.testers import Tester\n",
    "\n",
    "conf = {\n",
    "    'case_file':'tc_5', \n",
    "    'func': remove_duplicates, # replace this with the function defined above\n",
    "    'inputs':{ # input config dict. keys are parameter names\n",
    "        'address_map':{\n",
    "            'dtype':'list', # data type of param.\n",
    "            'check_modified':True,\n",
    "        }\n",
    "    },\n",
    "    'outputs':{\n",
    "        'output_0':{\n",
    "            'index':0,\n",
    "            'dtype':'list',\n",
    "            'check_dtype': True,\n",
    "            'check_col_dtypes': True, # Ignored if dtype is not df\n",
    "            'check_col_order': True, # Ignored if dtype is not df\n",
    "            'check_row_order': True, # Ignored if dtype is not df\n",
    "            'check_column_type': True, # Ignored if dtype is not df\n",
    "            'float_tolerance': 10 ** (-6)\n",
    "        }\n",
    "    }\n",
    "}\n",
    "tester = Tester(conf, key=b'66lGoH4BeY6guYRngj0DTLf5PgS5u60_N0vVqGyXN7w=', path='resource/asnlib/publicdata/')\n",
    "for _ in range(70):\n",
    "    try:\n",
    "        tester.run_test()\n",
    "        (input_vars, original_input_vars, returned_output_vars, true_output_vars) = tester.get_test_vars()\n",
    "    except:\n",
    "        (input_vars, original_input_vars, returned_output_vars, true_output_vars) = tester.get_test_vars()\n",
    "        raise\n",
    "\n",
    "###\n",
    "### AUTOGRADER TEST - DO NOT REMOVE\n",
    "###\n",
    "print('Passed! Please submit.')"
   ]
  },
  {
   "cell_type": "markdown",
   "metadata": {
    "deletable": false,
    "editable": false,
    "nbgrader": {
     "grade": false,
     "locked": true,
     "solution": false
    }
   },
   "source": [
    "### **RUN ME**: `clean_address_map` ###\n",
    "\n",
    "Using a correct implementation of `remove_duplicates`, we can sweep the address map and remove all duplicate addresses for each message. The cell below loads the results of such a sweep. **Run this cell whether or not your implementation is correct.**\n",
    "\n",
    "The object `clean_address_map` is the cleaned (de-duplicated) version of `address_map`."
   ]
  },
  {
   "cell_type": "code",
   "execution_count": 31,
   "metadata": {
    "ExecuteTime": {
     "end_time": "2023-09-29T08:53:54.496382Z",
     "start_time": "2023-09-29T08:53:54.476610Z"
    },
    "deletable": false,
    "editable": false,
    "nbgrader": {
     "grade": false,
     "locked": true,
     "solution": false
    }
   },
   "outputs": [
    {
     "name": "stdout",
     "output_type": "stream",
     "text": [
      "* Recall the 'dirty' `address_map[121]`:\n",
      "\n",
      "{'Bcc': {'karen.buckley@enron.com', 'neil.davies@enron.com'},\n",
      " 'Cc': {'karen.buckley@enron.com', 'neil.davies@enron.com'},\n",
      " 'From': {'john.lavorato@enron.com'},\n",
      " 'To': {'berney.aucoin@enron.com',\n",
      "        'chris.gaskill@enron.com',\n",
      "        'doug.gilbert-smith@enron.com',\n",
      "        'ed.mcmichael@enron.com',\n",
      "        'fletcher.sturm@enron.com',\n",
      "        'hunter.shively@enron.com',\n",
      "        'jim.schwieger@enron.com',\n",
      "        'john.arnold@enron.com',\n",
      "        'john.lavorato@enron.com',\n",
      "        'kevin.presto@enron.com',\n",
      "        'lloyd.will@enron.com',\n",
      "        'louise.kitchen@enron.com',\n",
      "        'mark.davis@enron.com',\n",
      "        'martin.thomas@enron.com',\n",
      "        'mike.grigsby@enron.com',\n",
      "        'phillip.allen@enron.com',\n",
      "        'rogers.herndon@enron.com',\n",
      "        'scott.neal@enron.com',\n",
      "        'thomas.martin@enron.com'}}\n",
      "\n",
      "* Here is `clean_address_map[121]`:\n",
      "\n",
      "{'Bcc': set(),\n",
      " 'Cc': {'karen.buckley@enron.com', 'neil.davies@enron.com'},\n",
      " 'From': {'john.lavorato@enron.com'},\n",
      " 'To': {'berney.aucoin@enron.com',\n",
      "        'chris.gaskill@enron.com',\n",
      "        'doug.gilbert-smith@enron.com',\n",
      "        'ed.mcmichael@enron.com',\n",
      "        'fletcher.sturm@enron.com',\n",
      "        'hunter.shively@enron.com',\n",
      "        'jim.schwieger@enron.com',\n",
      "        'john.arnold@enron.com',\n",
      "        'kevin.presto@enron.com',\n",
      "        'lloyd.will@enron.com',\n",
      "        'louise.kitchen@enron.com',\n",
      "        'mark.davis@enron.com',\n",
      "        'martin.thomas@enron.com',\n",
      "        'mike.grigsby@enron.com',\n",
      "        'phillip.allen@enron.com',\n",
      "        'rogers.herndon@enron.com',\n",
      "        'scott.neal@enron.com',\n",
      "        'thomas.martin@enron.com'}}\n"
     ]
    }
   ],
   "source": [
    "clean_address_map = load_obj_from_file('ex5_clean_address_map.dill')\n",
    "\n",
    "print(\"* Recall the 'dirty' `address_map[121]`:\\n\")\n",
    "pprint(address_map[121])\n",
    "\n",
    "print(\"\\n* Here is `clean_address_map[121]`:\\n\")\n",
    "pprint(clean_address_map[121])"
   ]
  },
  {
   "cell_type": "markdown",
   "metadata": {
    "deletable": false,
    "editable": false,
    "nbgrader": {
     "grade": false,
     "locked": true,
     "solution": false
    },
    "tags": [
     "exercise_text"
    ]
   },
   "source": [
    "## **Ex. 6 (2 pt)**: `count_addresses` ##\n",
    "\n",
    "Suppose you are given an `address_map`, which is already cleaned (duplicates are removed). Complete the function,\n",
    "```python\n",
    "def count_addresses(address_map):\n",
    "    ...\n",
    "```\n",
    "so that it counts how many times each unique address appears in an email message.\n",
    "\n",
    "**Inputs**: An `address_map`, i.e.,\n",
    "- it is a _list_ ...\n",
    "- where each element `address_map[k]` is a _dictionary_ ...\n",
    "- where each key is a field, one of `'From'`, `'To'`, `'Cc'`, and `'Bcc'`, ...\n",
    "- and each value is a _set_ of email addresses (as strings).\n",
    "\n",
    "**Your task**: For each unique email address, count how many messages it appears in.\n",
    "\n",
    "**Outputs**: Construct a dictionary. The key should be one of the unique email addresses, and the value should be an integer count of the number of times that address appeared in any field of any message."
   ]
  },
  {
   "cell_type": "code",
   "execution_count": 32,
   "metadata": {
    "ExecuteTime": {
     "end_time": "2023-09-29T08:53:54.515260Z",
     "start_time": "2023-09-29T08:53:54.497403Z"
    },
    "collapsed": true,
    "deletable": false,
    "editable": false,
    "nbgrader": {
     "grade": false,
     "locked": true,
     "solution": false
    },
    "tags": [
     "demo_data"
    ]
   },
   "outputs": [],
   "source": [
    "### Define demo inputs ###\n",
    "\n",
    "demo_address_map_ex6 = [\n",
    "    # Message 0:\n",
    "    {'From': {'a@enron.com'}, 'To': {'b@enron.com', 'c@enron.com'}, 'Cc': set(), 'Bcc': {'d@enron.com'}},\n",
    "    # Message 1:\n",
    "    {'From': {'b@enron.com'}, 'To': set(), 'Cc': set(), 'Bcc': {'d@enron.com'}},\n",
    "    # Message 2:\n",
    "    {'From': {'d@enron.com'}, 'To': {'a@enron.com'}, 'Cc': set(), 'Bcc': {'e@enron.com'}},\n",
    "]"
   ]
  },
  {
   "cell_type": "markdown",
   "metadata": {
    "deletable": false,
    "editable": false,
    "nbgrader": {
     "grade": false,
     "locked": true,
     "solution": false
    },
    "tags": [
     "demo_output_md"
    ]
   },
   "source": [
    "The demo included in the solution cell below should display the following output (the comments explain the counts and are _not_ part of your output):\n",
    "```\n",
    "{'a@enron.com': 2,     # Messages 0 and 2\n",
    " 'b@enron.com': 2,     # Messages 0 and 1\n",
    " 'c@enron.com': 1,     # Message 0\n",
    " 'd@enron.com': 3,     # Messages 0, 1, and 2\n",
    " 'e@enron.com': 1}     # Message 2\n",
    "```"
   ]
  },
  {
   "cell_type": "code",
   "execution_count": 33,
   "metadata": {
    "ExecuteTime": {
     "end_time": "2023-09-29T08:53:54.536630Z",
     "start_time": "2023-09-29T08:53:54.516145Z"
    },
    "tags": [
     "exercise_solution"
    ]
   },
   "outputs": [
    {
     "name": "stdout",
     "output_type": "stream",
     "text": [
      "--------------------------------------------------------------------------\n",
      "[]\n",
      "--------------------------------------------------------------------------\n",
      "[]\n"
     ]
    }
   ],
   "source": [
    "### Exercise 6 solution\n",
    "def count_addresses(address_map):\n",
    "    ###\n",
    "    import copy\n",
    "    copyMap = copy.deepcopy(address_map)\n",
    "    finalDict = defaultdict(int)\n",
    "    for dictionary in copyMap:\n",
    "        for key in dictionary:\n",
    "            if len(dictionary[key]) > 0:\n",
    "                for i in range(len(dictionary[key])):\n",
    "                    finalDict[dictionary[key].pop()] +=1\n",
    "    return finalDict\n",
    "    ###\n",
    "\n",
    "\n",
    "### demo function call ###\n",
    "count_addresses(demo_address_map_ex6)\n",
    "print(\"--------------------------------------------------------------------------\")\n",
    "print(returned_output_vars['output_0'])\n",
    "print(\"--------------------------------------------------------------------------\")\n",
    "print(true_output_vars['output_0'])"
   ]
  },
  {
   "cell_type": "markdown",
   "metadata": {
    "deletable": false,
    "editable": false,
    "nbgrader": {
     "grade": false,
     "locked": true,
     "solution": false
    },
    "tags": [
     "test_data_boilerplate"
    ]
   },
   "source": [
    "<!-- Test Cell Boilerplate -->\n",
    "The cell below will test your solution for Exercise 6. The testing variables will be available for debugging under the following names in a dictionary format.\n",
    "- `input_vars` - Input variables for your solution. \n",
    "- `original_input_vars` - Copy of input variables from prior to running your solution. These _should_ be the same as `input_vars` - otherwise the inputs were modified by your solution.\n",
    "- `returned_output_vars` - Outputs returned by your solution.\n",
    "- `true_output_vars` - The expected output. This _should_ \"match\" `returned_output_vars` based on the question requirements - otherwise, your solution is not returning the correct output. "
   ]
  },
  {
   "cell_type": "code",
   "execution_count": 34,
   "metadata": {
    "ExecuteTime": {
     "end_time": "2023-09-29T08:53:54.627188Z",
     "start_time": "2023-09-29T08:53:54.588760Z"
    },
    "deletable": false,
    "editable": false,
    "nbgrader": {
     "grade": true,
     "grade_id": "ex6",
     "locked": true,
     "points": "2",
     "solution": false
    },
    "tags": []
   },
   "outputs": [
    {
     "name": "stdout",
     "output_type": "stream",
     "text": [
      "Passed! Please submit.\n"
     ]
    }
   ],
   "source": [
    "### test_cell_ex6\n",
    "###\n",
    "### AUTOGRADER TEST - DO NOT REMOVE\n",
    "###\n",
    "from tester_fw.testers import Tester\n",
    "\n",
    "conf = {\n",
    "    'case_file':'tc_6', \n",
    "    'func': count_addresses, # replace this with the function defined above\n",
    "    'inputs':{ # input config dict. keys are parameter names\n",
    "        'address_map':{\n",
    "            'dtype':'list', # data type of param.\n",
    "            'check_modified':True,\n",
    "        }\n",
    "    },\n",
    "    'outputs':{\n",
    "        'output_0':{\n",
    "            'index':0,\n",
    "            'dtype':'dict',\n",
    "            'check_dtype': True,\n",
    "            'check_col_dtypes': True, # Ignored if dtype is not df\n",
    "            'check_col_order': True, # Ignored if dtype is not df\n",
    "            'check_row_order': True, # Ignored if dtype is not df\n",
    "            'check_column_type': True, # Ignored if dtype is not df\n",
    "            'float_tolerance': 10 ** (-6)\n",
    "        }\n",
    "    }\n",
    "}\n",
    "tester = Tester(conf, key=b'66lGoH4BeY6guYRngj0DTLf5PgS5u60_N0vVqGyXN7w=', path='resource/asnlib/publicdata/')\n",
    "for _ in range(70):\n",
    "    try:\n",
    "        tester.run_test()\n",
    "        (input_vars, original_input_vars, returned_output_vars, true_output_vars) = tester.get_test_vars()\n",
    "    except:\n",
    "        (input_vars, original_input_vars, returned_output_vars, true_output_vars) = tester.get_test_vars()\n",
    "        raise\n",
    "\n",
    "###\n",
    "### AUTOGRADER TEST - DO NOT REMOVE\n",
    "###\n",
    "print('Passed! Please submit.')"
   ]
  },
  {
   "cell_type": "markdown",
   "metadata": {
    "deletable": false,
    "editable": false,
    "nbgrader": {
     "grade": false,
     "locked": true,
     "solution": false
    }
   },
   "source": [
    "### **RUN ME**: `enron_address_counts` ###\n",
    "\n",
    "Using a correct implementation of `count_addresses`, we can sweep the (cleaned) address map and tally the number of messages containing each email address. The cell below loads the results of such a sweep. **Run this cell whether or not your implementation is correct.**\n",
    "\n",
    "The object `enron_address_counts` is the cleaned version of `address_map`."
   ]
  },
  {
   "cell_type": "code",
   "execution_count": 35,
   "metadata": {
    "ExecuteTime": {
     "end_time": "2023-09-29T08:53:54.645841Z",
     "start_time": "2023-09-29T08:53:54.628242Z"
    },
    "deletable": false,
    "editable": false,
    "nbgrader": {
     "grade": false,
     "locked": true,
     "solution": false
    }
   },
   "outputs": [
    {
     "name": "stdout",
     "output_type": "stream",
     "text": [
      "* A sample of counts:\n",
      "\n",
      "{'alan.chen@enron.com': 1,\n",
      " 'chris.foster@enron.com': 1,\n",
      " 'james.derrick@enron.com': 10,\n",
      " 'kim.ward@enron.com': 5,\n",
      " 'richard.sanders@enron.com': 9}\n"
     ]
    }
   ],
   "source": [
    "enron_address_counts = load_obj_from_file('ex6_address_counts.dill')\n",
    "\n",
    "print(\"* A sample of counts:\\n\")\n",
    "pprint(dict(list(enron_address_counts.items())[:5]))"
   ]
  },
  {
   "cell_type": "markdown",
   "metadata": {
    "deletable": false,
    "editable": false,
    "nbgrader": {
     "grade": false,
     "locked": true,
     "solution": false
    }
   },
   "source": [
    "# **Part D: Interfacing with the Analysis Tool** #\n",
    "\n",
    "From the address counts of Exercise 6, here are the most frequently occurring email addresses:"
   ]
  },
  {
   "cell_type": "code",
   "execution_count": 36,
   "metadata": {
    "ExecuteTime": {
     "end_time": "2023-09-29T08:53:54.666367Z",
     "start_time": "2023-09-29T08:53:54.647021Z"
    },
    "deletable": false,
    "editable": false,
    "nbgrader": {
     "grade": false,
     "locked": true,
     "solution": false
    }
   },
   "outputs": [
    {
     "name": "stdout",
     "output_type": "stream",
     "text": [
      "Here are the Enron emails that occurred most commonly across messages:\n"
     ]
    },
    {
     "data": {
      "text/plain": [
       "[('phillip.allen@enron.com', 19),\n",
       " ('mark.taylor@enron.com', 17),\n",
       " ('enron.announcements@enron.com', 16),\n",
       " ('hunter.shively@enron.com', 15),\n",
       " ('mike.grigsby@enron.com', 15),\n",
       " ('tana.jones@enron.com', 13),\n",
       " ('steven.kean@enron.com', 12),\n",
       " ('mark.haedicke@enron.com', 12),\n",
       " ('john.lavorato@enron.com', 12),\n",
       " ('louise.kitchen@enron.com', 12)]"
      ]
     },
     "execution_count": 36,
     "metadata": {},
     "output_type": "execute_result"
    }
   ],
   "source": [
    "print(\"Here are the Enron emails that occurred most commonly across messages:\")\n",
    "sorted(enron_address_counts.items(), key=lambda ac: ac[1], reverse=True)[:10]"
   ]
  },
  {
   "cell_type": "code",
   "execution_count": 37,
   "metadata": {
    "ExecuteTime": {
     "end_time": "2023-09-29T08:53:54.685404Z",
     "start_time": "2023-09-29T08:53:54.667353Z"
    },
    "deletable": false,
    "editable": false,
    "nbgrader": {
     "grade": false,
     "locked": true,
     "solution": false
    }
   },
   "outputs": [
    {
     "data": {
      "text/plain": [
       "[(95, ('kenneth.lay@enron.com', 6))]"
      ]
     },
     "execution_count": 37,
     "metadata": {},
     "output_type": "execute_result"
    }
   ],
   "source": [
    "enum_filter(lambda e: e[0] == 'kenneth.lay@enron.com', list(enron_address_counts.items()))"
   ]
  },
  {
   "cell_type": "markdown",
   "metadata": {
    "deletable": false,
    "editable": false,
    "nbgrader": {
     "grade": false,
     "locked": true,
     "solution": false
    }
   },
   "source": [
    "If you know anything about the Enron case, you'll might notice these email addresses do not necessarily correspond with any notion of \"importance\" we might have.\n",
    "\n",
    "For example, `enron.announcements@enron.com` is tied for second place, having appeared 16 times; however, it does not seem like it would be an important email address. And two people who later turned out to be major figures in the Enron controversy—`jeff.skilling@enron.com` and `kenneth.lay@enron.com`—appear nowhere near the top 10 (they are around 400). So mining for important figures based on email counts, at least in this sample, does not seem especially meaningful.\n",
    "\n",
    "Can we do better? It's time to try your colleague's tool."
   ]
  },
  {
   "cell_type": "markdown",
   "metadata": {
    "deletable": false,
    "editable": false,
    "nbgrader": {
     "grade": false,
     "locked": true,
     "solution": false
    }
   },
   "source": [
    "## Preliminaries: A \"coordinate\" representation ##\n",
    "\n",
    "To use this tool, you need to convert your data into a particular \"coordinate\" representation:\n",
    "\n",
    "1. Start with the email message-to-address representation, such as `clean_address_map` (Ex. 5)\n",
    "2. Assign each message an integer ID, starting from 0. Since the address map is a list, a natural ID for a message is simply its index-position in the list.\n",
    "3. Assign each email address an integer ID, starting from 0. We will do this for you.\n",
    "4. For each (message ID, address ID) pair, assign a \"score.\" You will do that in the next (and last) exercise, Ex. 7."
   ]
  },
  {
   "cell_type": "markdown",
   "metadata": {
    "deletable": false,
    "editable": false,
    "nbgrader": {
     "grade": false,
     "locked": true,
     "solution": false
    }
   },
   "source": [
    "For address IDs (item 3 just above), the dictionary `enron_addr_to_id` maps every Enron email address to an integer ID. The dictionary `enron_id_to_addr` is the inverse computed from a correct Ex. 1: it maps the integer ID back to an address."
   ]
  },
  {
   "cell_type": "code",
   "execution_count": 38,
   "metadata": {
    "ExecuteTime": {
     "end_time": "2023-09-29T08:56:56.011652Z",
     "start_time": "2023-09-29T08:56:55.980992Z"
    },
    "deletable": false,
    "editable": false,
    "nbgrader": {
     "grade": false,
     "locked": true,
     "solution": false
    }
   },
   "outputs": [
    {
     "name": "stdout",
     "output_type": "stream",
     "text": [
      "987 <==> mike.coleman@enron.com\n",
      "865 <==> jeff.skilling@enron.com\n"
     ]
    }
   ],
   "source": [
    "enron_addr_to_id = cse6040.utils.load_obj_from_file('ex4_enron_addr_to_id.dill')\n",
    "enron_id_to_addr = cse6040.utils.load_obj_from_file('ex4_enron_id_to_addr.dill')\n",
    "\n",
    "\n",
    "print(enron_addr_to_id['mike.coleman@enron.com'], \"<==>\", enron_id_to_addr[987])\n",
    "print(enron_addr_to_id['jeff.skilling@enron.com'], \"<==>\", enron_id_to_addr[865])"
   ]
  },
  {
   "cell_type": "markdown",
   "metadata": {
    "deletable": false,
    "editable": false,
    "nbgrader": {
     "grade": false,
     "locked": true,
     "solution": false
    }
   },
   "source": [
    "Lastly, each (message ID, address ID) pair is called a \"coordinate,\" and its score is its \"weight.\" To plug these into the analysis tool, we need to store these coordinates as a dictionary keyed on `(message ID, address ID)` pairs mapping to the score (weight)."
   ]
  },
  {
   "cell_type": "markdown",
   "metadata": {
    "deletable": false,
    "editable": false,
    "nbgrader": {
     "grade": false,
     "locked": true,
     "solution": false
    },
    "tags": [
     "exercise_text"
    ]
   },
   "source": [
    "## **Ex. 7 (3 pts)**: `gen_coords` ##\n",
    "\n",
    "Complete the function,\n",
    "```python\n",
    "def gen_coords(address_map, address_to_id, address_counts):\n",
    "    ...\n",
    "```\n",
    "so that it generates and returns the coordinate representation.\n",
    "\n",
    "**Inputs**:\n",
    "- `address_map`: A (clean) address map, stored as a list of dictionaries whose keys are strings (e.g., `'From'`, `'To'`) and values are sets of email addresses. (See Ex. 5)\n",
    "- `address_to_id`: A dictionary whose key is an email address and whose value is its unique integer ID.\n",
    "- `address_counts`: A dictionary that maps each address (key) to a count (the number of messages in which it appears).\n",
    "\n",
    "**Your task**:\n",
    "- Start with an empty output dictionary, which will hold the coordinate representation.\n",
    "- Visit each message of the address map, and for each message, visit each address.\n",
    "- Assign the address a score, computed as described below.\n",
    "- Add the coordinate and score, `(message ID, address ID, score)`, to the output dictionary using `(message ID, address ID)` as a key and `score` as the value.\n",
    "\n",
    "To compute the score for an address, call it $a$, use the following scheme:\n",
    "- Let $M$ be the total number of messages.\n",
    "- Let $n_a$ be the total number of messages in which address $a$ appears, obtainable from `address_counts`.\n",
    "- Let $\\beta$ be a field-specific weight. If address $a$ is in the `'From'` field, use a weight of $\\beta=1.0$. For the `'To'` field, use $\\beta=0.5$. For the `'Cc'` field, use $\\beta=0.25$. And for the `'Bcc'` field, use $\\beta=0.75$.\n",
    "- If $n_a > 0$, then calculate the score as $\\dfrac{1}{\\log \\left( \\dfrac{M+1}{\\beta \\cdot n_a} \\right)}.$\n",
    "\n",
    "**Outputs**: Your function will return a list of triples, constructed as sketched above.\n",
    "\n",
    "**Additional notes**:\n",
    "- You may assume the address map is \"clean,\" meaning an address can only appear in one field of a given message.\n",
    "- The $\\log$ function is the natural logarithm."
   ]
  },
  {
   "cell_type": "code",
   "execution_count": 39,
   "metadata": {
    "ExecuteTime": {
     "end_time": "2023-09-29T08:57:54.791005Z",
     "start_time": "2023-09-29T08:57:54.759619Z"
    },
    "collapsed": true,
    "deletable": false,
    "editable": false,
    "nbgrader": {
     "grade": false,
     "locked": true,
     "solution": false
    },
    "tags": [
     "demo_data"
    ]
   },
   "outputs": [],
   "source": [
    "### Define demo inputs ###\n",
    "\n",
    "demo_address_map_ex7 = [\n",
    "    {'From': set(), 'To': {'judy.hernandez@enron.com'}, 'Cc': set(), 'Bcc': set()},\n",
    "    {'From': {'juan.hernandez@enron.com'}, 'To': {'rudy.acevedo@enron.com'}, 'Cc': set(), 'Bcc': set()},\n",
    "    {'From': {'pete.davis@enron.com'}, 'To': set(), 'Cc': {'bert.meyers@enron.com',\n",
    "                                                           'bill.williams.iii@enron.com',\n",
    "                                                           'craig.dean@enron.com',\n",
    "                                                           'dporter3@enron.com',\n",
    "                                                           'eric.linder@enron.com',\n",
    "                                                           'geir.solberg@enron.com',\n",
    "                                                           'jbryson@enron.com',\n",
    "                                                           'leaf.harasin@enron.com',\n",
    "                                                           'mark.guzman@enron.com',\n",
    "                                                           'monika.causholli@enron.com',\n",
    "                                                           'ryan.slinger@enron.com',\n",
    "                                                           'steven.merris@enron.com'}, 'Bcc': set()}\n",
    "]\n",
    "demo_address_to_id_ex7 = enron_addr_to_id.copy()\n",
    "demo_address_counts_ex7 = enron_address_counts.copy()"
   ]
  },
  {
   "cell_type": "markdown",
   "metadata": {
    "deletable": false,
    "editable": false,
    "nbgrader": {
     "grade": false,
     "locked": true,
     "solution": false
    },
    "tags": [
     "demo_output_md"
    ]
   },
   "source": [
    "The demo included in the solution cell below should display the following output:\n",
    "```\n",
    "{(0, 53): 2.127643145234443,\n",
    " (1, 828): -2.4663034623764313,\n",
    " (1, 548): 2.127643145234443,\n",
    " (2, 238): -2.4663034623764313,\n",
    " (2, 602): 1.0195454478232662,\n",
    " (2, 549): 1.0195454478232662,\n",
    " (2, 399): 1.0195454478232662,\n",
    " (2, 1364): 1.0195454478232662,\n",
    " (2, 362): 0.8597337435263985,\n",
    " (2, 1075): 1.0195454478232662,\n",
    " (2, 1050): 1.2096599965665937,\n",
    " (2, 956): 1.0195454478232662,\n",
    " (2, 810): 1.4426950408889634,\n",
    " (2, 689): 1.0195454478232662,\n",
    " (2, 1065): 1.0195454478232662,\n",
    " (2, 1053): 1.0195454478232662}\n",
    "```"
   ]
  },
  {
   "cell_type": "code",
   "execution_count": 40,
   "metadata": {
    "ExecuteTime": {
     "end_time": "2023-09-29T08:58:16.012491Z",
     "start_time": "2023-09-29T08:58:15.980290Z"
    },
    "nbgrader": {
     "grade": false,
     "locked": false,
     "solution": false
    },
    "tags": [
     "exercise_solution"
    ]
   },
   "outputs": [
    {
     "data": {
      "text/plain": [
       "defaultdict(float,\n",
       "            {(0, 53): 2.127643145234443,\n",
       "             (1, 828): -2.4663034623764313,\n",
       "             (1, 548): 2.127643145234443,\n",
       "             (2, 238): -2.4663034623764313,\n",
       "             (2, 362): 0.8597337435263985,\n",
       "             (2, 399): 1.0195454478232662,\n",
       "             (2, 1364): 1.0195454478232662,\n",
       "             (2, 1050): 1.2096599965665937,\n",
       "             (2, 1075): 1.0195454478232662,\n",
       "             (2, 956): 1.0195454478232662,\n",
       "             (2, 1065): 1.0195454478232662,\n",
       "             (2, 549): 1.0195454478232662,\n",
       "             (2, 602): 1.0195454478232662,\n",
       "             (2, 1053): 1.0195454478232662,\n",
       "             (2, 810): 1.4426950408889634,\n",
       "             (2, 689): 1.0195454478232662})"
      ]
     },
     "execution_count": 40,
     "metadata": {},
     "output_type": "execute_result"
    }
   ],
   "source": [
    "### Exercise 7 solution\n",
    "def gen_coords(address_map, address_to_id, address_counts):\n",
    "    from math import log\n",
    "    import copy\n",
    "    from collections import defaultdict\n",
    "    ###\n",
    "    def scoreGenerator(totalMessages, numMessages, beta):\n",
    "        score = 1/log((totalMessages + 1)/(beta*numMessages))\n",
    "        return score\n",
    "    \n",
    "    copyMap = copy.deepcopy(address_map)\n",
    "    output = defaultdict(float)\n",
    "\n",
    "    for index in range(len(copyMap)):\n",
    "        for keys in copyMap[index]:\n",
    "            if len(copyMap[index][keys]) > 0:\n",
    "                if keys == 'From':\n",
    "                    for i in range(len(copyMap[index][keys])):\n",
    "                        emailAddy = copyMap[index][keys].pop()\n",
    "                        output[tuple((index, address_to_id[emailAddy]))] = scoreGenerator(len(address_map), address_counts[emailAddy], 1.0)\n",
    "                elif keys == 'To':\n",
    "                    for i in range(len(copyMap[index][keys])):\n",
    "                        emailAddy = copyMap[index][keys].pop()\n",
    "                        output[tuple((index, address_to_id[emailAddy]))] = scoreGenerator(len(address_map), address_counts[emailAddy], 0.5)\n",
    "                elif keys == 'Cc':\n",
    "                    for i in range(len(copyMap[index][keys])):\n",
    "                        emailAddy = copyMap[index][keys].pop()\n",
    "                        output[tuple((index, address_to_id[emailAddy]))] = scoreGenerator(len(address_map), address_counts[emailAddy], 0.25)\n",
    "                elif keys == 'Bcc':\n",
    "                    for i in range(len(copyMap[index][keys])):\n",
    "                        emailAddy = copyMap[index][keys].pop()\n",
    "                        output[tuple((index, address_to_id[emailAddy]))] = scoreGenerator(len(address_map), address_counts[emailAddy], 0.75)\n",
    "    return output\n",
    "                \n",
    "    ###\n",
    "    \n",
    "### demo function call ###\n",
    "gen_coords(demo_address_map_ex7, demo_address_to_id_ex7, demo_address_counts_ex7)"
   ]
  },
  {
   "cell_type": "markdown",
   "metadata": {
    "deletable": false,
    "editable": false,
    "nbgrader": {
     "grade": false,
     "locked": true,
     "solution": false
    },
    "tags": [
     "test_data_boilerplate"
    ]
   },
   "source": [
    "<!-- Test Cell Boilerplate -->\n",
    "The cell below will test your solution for Exercise 7. The testing variables will be available for debugging under the following names in a dictionary format.\n",
    "- `input_vars` - Input variables for your solution. \n",
    "- `original_input_vars` - Copy of input variables from prior to running your solution. These _should_ be the same as `input_vars` - otherwise the inputs were modified by your solution.\n",
    "- `returned_output_vars` - Outputs returned by your solution.\n",
    "- `true_output_vars` - The expected output. This _should_ \"match\" `returned_output_vars` based on the question requirements - otherwise, your solution is not returning the correct output. "
   ]
  },
  {
   "cell_type": "code",
   "execution_count": 41,
   "metadata": {
    "ExecuteTime": {
     "end_time": "2023-09-29T08:58:20.347890Z",
     "start_time": "2023-09-29T08:58:20.204441Z"
    },
    "deletable": false,
    "editable": false,
    "nbgrader": {
     "grade": true,
     "grade_id": "ex7",
     "locked": true,
     "points": "3",
     "solution": false
    },
    "tags": []
   },
   "outputs": [
    {
     "name": "stdout",
     "output_type": "stream",
     "text": [
      "Passed! Please submit.\n"
     ]
    }
   ],
   "source": [
    "### test_cell_ex7\n",
    "###\n",
    "### AUTOGRADER TEST - DO NOT REMOVE\n",
    "###\n",
    "from tester_fw.testers import Tester\n",
    "\n",
    "conf = {\n",
    "    'case_file':'tc_7', \n",
    "    'func': gen_coords, # replace this with the function defined above\n",
    "    'inputs':{ # input config dict. keys are parameter names\n",
    "        'address_map':{\n",
    "            'dtype':'list', # data type of param.\n",
    "            'check_modified':True,\n",
    "        },\n",
    "        'address_to_id':{\n",
    "            'dtype':'list',\n",
    "            'check_modified': True\n",
    "        },\n",
    "        'address_counts':{\n",
    "            'dtype':'list',\n",
    "            'check_modified': True\n",
    "        }\n",
    "    },\n",
    "    'outputs':{\n",
    "        'output_0':{\n",
    "            'index':0,\n",
    "            'dtype':'dict',\n",
    "            'check_dtype': True,\n",
    "            'check_col_dtypes': True, # Ignored if dtype is not df\n",
    "            'check_col_order': True, # Ignored if dtype is not df\n",
    "            'check_row_order': True, # Ignored if dtype is not df\n",
    "            'check_column_type': True, # Ignored if dtype is not df\n",
    "            'float_tolerance': 10 ** (-6)\n",
    "        }\n",
    "    }\n",
    "}\n",
    "tester = Tester(conf, key=b'66lGoH4BeY6guYRngj0DTLf5PgS5u60_N0vVqGyXN7w=', path='resource/asnlib/publicdata/')\n",
    "for _ in range(70):\n",
    "    try:\n",
    "        tester.run_test()\n",
    "        (input_vars, original_input_vars, returned_output_vars, true_output_vars) = tester.get_test_vars()\n",
    "    except:\n",
    "        (input_vars, original_input_vars, returned_output_vars, true_output_vars) = tester.get_test_vars()\n",
    "        raise\n",
    "\n",
    "###\n",
    "### AUTOGRADER TEST - DO NOT REMOVE\n",
    "###\n",
    "print('Passed! Please submit.')"
   ]
  },
  {
   "cell_type": "markdown",
   "metadata": {
    "deletable": false,
    "editable": false,
    "nbgrader": {
     "grade": false,
     "locked": true,
     "solution": false
    },
    "tags": [
     "exercise_text"
    ]
   },
   "source": [
    "# **Fin!** _(End of Exam)_ #\n",
    "\n",
    "Congratulations, you have reached the end of this exam. **Do not forget to submit your work!**\n",
    "\n",
    "Indeed, if all your exericses are working, then you've successfully translated the raw input data into a form that your colleague's tool can analyze!"
   ]
  },
  {
   "cell_type": "markdown",
   "metadata": {
    "deletable": false,
    "editable": false,
    "nbgrader": {
     "grade": false,
     "locked": true,
     "solution": false
    }
   },
   "source": [
    "**Epilogue.** Indeed, if all your exericses are working, then you've successfully translated the raw input data into a form that your colleague's tool can analyze!\n",
    "\n",
    "While we will discuss the method later in the semester, as a preview, observe plugging a correct coordinate represenation into this tool produces the following \"top e-mail addresses\" shown in descending order of some kind of abstract score:"
   ]
  },
  {
   "cell_type": "code",
   "execution_count": null,
   "metadata": {
    "ExecuteTime": {
     "end_time": "2023-09-29T08:58:23.372327Z",
     "start_time": "2023-09-29T08:58:23.202047Z"
    },
    "deletable": false,
    "editable": false,
    "nbgrader": {
     "grade": false,
     "locked": true,
     "solution": false
    }
   },
   "outputs": [
    {
     "data": {
      "text/plain": [
       "[(0.1702110137889411, 143, 'steven.kean@enron.com', 12),\n",
       " (0.16412831536087077, 1277, 'greg.whalley@enron.com', 10),\n",
       " (0.14942162590078975, 1390, 'david.delainey@enron.com', 10),\n",
       " (0.14575474377639647, 350, 'mike.mcconnell@enron.com', 9),\n",
       " (0.14399667612704933, 948, 'james.derrick@enron.com', 10),\n",
       " (0.14055280162463268, 75, 'mark.frevert@enron.com', 6),\n",
       " (0.1398664544520541, 36, 'rick.buy@enron.com', 9),\n",
       " (0.13817009733629695, 1289, 'louise.kitchen@enron.com', 12),\n",
       " (0.13621876676328445, 614, 'kenneth.lay@enron.com', 6),\n",
       " (0.13201874489894233, 341, 'kay.chapman@enron.com', 7)]"
      ]
     },
     "execution_count": 42,
     "metadata": {},
     "output_type": "execute_result"
    }
   ],
   "source": [
    "enron_coords = load_obj_from_file('ex7_enron_coords.dill')\n",
    "rows = [i for i, _ in enron_coords.keys()]\n",
    "cols = [j for _, j in enron_coords.keys()]\n",
    "vals = list(enron_coords.values())\n",
    "#viz_coords(rows, cols, vals, title='Address ID', ylabel='Message ID')\n",
    "\n",
    "_, aidrs = rank_items(rows, cols, vals, m=len(clean_address_map), n=len(enron_addr_to_id))\n",
    "[(score, aid, enron_id_to_addr[aid], enron_address_counts[enron_id_to_addr[aid]]) for aid, score in aidrs[:10]]"
   ]
  },
  {
   "cell_type": "markdown",
   "metadata": {
    "deletable": false,
    "editable": false,
    "nbgrader": {
     "grade": false,
     "locked": true,
     "solution": false
    }
   },
   "source": [
    "You can read about the first three individuals below. Indeed, it seems they turned out to be central figures of the investigation. And Kenneth Lay now appears in our top 10. (What might be surprising is that their addresses bubbled up even though we discarded the _content_ of the messages.)\n",
    "\n",
    "* Steven Kean, Chief of Staff: https://www.nbcnews.com/id/wbna3606477\n",
    "* Greg Whalley, President & COO: https://www.bloomberg.com/news/articles/2001-09-10/greg-whalley-in-the-line-of-fire\n",
    "* David Delainey, Former CEO, ended up cooperating with government investigation: https://www.sec.gov/litigation/litreleases/lr-18435\n",
    "* James Derrick, Executive Vice President & General Counsel: https://utlsf.org/trustee/james-derrick/\n",
    "* Mike McConnel, Vice Chairman & COO: https://enroncorp.com/corp/pressroom/bios/mikemcconnell.html"
   ]
  }
 ],
 "metadata": {
  "interpreter": {
   "hash": "f2b38b6e01547e8f771d473ea2b8718fd0728eea782e4c924ed8783f739d4a6c"
  },
  "kernelspec": {
   "display_name": "Python 3.8",
   "language": "python",
   "name": "python38"
  },
  "language_info": {
   "codemirror_mode": {
    "name": "ipython",
    "version": 3
   },
   "file_extension": ".py",
   "mimetype": "text/x-python",
   "name": "python",
   "nbconvert_exporter": "python",
   "pygments_lexer": "ipython3",
   "version": "3.8.7"
  },
  "toc": {
   "base_numbering": 1,
   "nav_menu": [],
   "number_sections": true,
   "sideBar": true,
   "skip_h1_title": false,
   "title_cell": "Table of Contents",
   "title_sidebar": "Contents",
   "toc_cell": false,
   "toc_position": {
    "height": "calc(100% - 180px)",
    "left": "10px",
    "top": "150px",
    "width": "294px"
   },
   "toc_section_display": true,
   "toc_window_display": false
  }
 },
 "nbformat": 4,
 "nbformat_minor": 5
}
